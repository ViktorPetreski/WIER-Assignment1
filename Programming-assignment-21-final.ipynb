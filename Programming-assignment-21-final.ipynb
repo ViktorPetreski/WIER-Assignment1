{
 "cells": [
  {
   "cell_type": "code",
   "execution_count": 1,
   "metadata": {
    "ExecuteTime": {
     "end_time": "2020-03-24T19:36:18.529166Z",
     "start_time": "2020-03-24T19:36:18.306037Z"
    },
    "hide_input": false
   },
   "outputs": [],
   "source": [
    "# from urllib.request import Request, urlopen\n",
    "from urllib.parse import urlparse\n",
    "import urllib.robotparser\n",
    "import time\n",
    "from datetime import datetime\n",
    "from selenium import webdriver\n",
    "from selenium.webdriver.firefox.options import Options as fOptions\n",
    "from selenium.webdriver.common.by import By\n",
    "import re\n",
    "import random\n",
    "from bs4 import BeautifulSoup\n",
    "from datetime import datetime\n",
    "import requests\n",
    "import psycopg2\n",
    "import psycopg2.errorcodes as errorcodes\n",
    "import concurrent.futures\n",
    "import threading\n",
    "import logging\n",
    "# new packages\n",
    "import mmh3\n",
    "from ordered_set import OrderedSet\n",
    "# http = urllib.PoolManager(num_pools=50)"
   ]
  },
  {
   "cell_type": "code",
   "execution_count": 2,
   "metadata": {
    "ExecuteTime": {
     "end_time": "2020-03-24T19:36:18.536765Z",
     "start_time": "2020-03-24T19:36:18.531134Z"
    },
    "code_folding": [
     0
    ],
    "hide_input": false
   },
   "outputs": [],
   "source": [
    "def driver_info(name):\n",
    "    if name == \"Lodi\":\n",
    "#         WEB_DRIVER_LOCATION = \"D:/FRI/Summer Semester 2020/Web information extraction and retrieval/Assignment 1/geckodriver-v0.26.0-win64/geckodriver.exe\"\n",
    "#         options = fOptions()\n",
    "#         driver = webdriver.Firefox(executable_path=WEB_DRIVER_LOCATION,options=options)\n",
    "        WEB_DRIVER_LOCATION = \"D:/FRI/Summer Semester 2020/Web information extraction and retrieval/Assignment 1/geckodriver-v0.26.0-win64/geckodriver.exe\"\n",
    "        options = fOptions()\n",
    "        # If you comment the following line, a browser will show ...\n",
    "        options.add_argument(\"--headless\")\n",
    "        #Adding a specific user agent\n",
    "        options.add_argument(\"user-agent=fri-ieps-26\")\n",
    "        driver = webdriver.Firefox(executable_path=WEB_DRIVER_LOCATION,options=options)        \n",
    "        \n",
    "        \n",
    "    elif name == \"Viktor\":\n",
    "        WEB_DRIVER_LOCATION = \"/home/viktor/Documents/FRI/WIER/Assignments/geckodriver\"\n",
    "        options = fOptions()\n",
    "        # If you comment the following line, a browser will show ...\n",
    "        options.add_argument(\"--headless\")\n",
    "        #Adding a specific user agent\n",
    "        options.add_argument(\"user-agent=fri-ieps-26\")\n",
    "        driver = webdriver.Firefox(executable_path=WEB_DRIVER_LOCATION,\n",
    "                               options=options)\n",
    "          \n",
    "    return driver"
   ]
  },
  {
   "cell_type": "code",
   "execution_count": 3,
   "metadata": {
    "ExecuteTime": {
     "end_time": "2020-03-24T19:36:18.568108Z",
     "start_time": "2020-03-24T19:36:18.539473Z"
    },
    "code_folding": [
     0
    ]
   },
   "outputs": [],
   "source": [
    "def pickRandomCoeffs(k):\n",
    "    randList = []\n",
    "    \n",
    "    while k > 0:\n",
    "        randIndex = random.randint(0, maxShingleID) \n",
    "\n",
    "        while randIndex in randList:\n",
    "            randIndex = random.randint(0, maxShingleID) \n",
    "\n",
    "        randList.append(randIndex)\n",
    "        k = k - 1\n",
    "\n",
    "    return randList\n",
    "\n",
    "# For each of the 'numHashes' hash functions, generate a different coefficient 'a' and 'b'.   "
   ]
  },
  {
   "cell_type": "code",
   "execution_count": 4,
   "metadata": {
    "ExecuteTime": {
     "end_time": "2020-03-24T19:36:18.576913Z",
     "start_time": "2020-03-24T19:36:18.570169Z"
    }
   },
   "outputs": [],
   "source": [
    "TIMEOUT = 5\n",
    "num_sites = 0\n",
    "numHashes = 10\n",
    "maxShingleID = 2**64-1\n",
    "nextPrime = 1.8446844e+19\n",
    "coeffA = pickRandomCoeffs(numHashes)\n",
    "coeffB = pickRandomCoeffs(numHashes)\n",
    "seed_sites_ids = {}\n",
    "duplicate_urls = []\n",
    "lock = threading.Lock()\n",
    "seed_sites = set([\"https://gov.si\", \"https://evem.gov.si\", \"https://e-uprava.gov.si\", \"https://e-prostor.gov.si\"])\n",
    "frontier = OrderedSet() | (seed_sites)\n",
    "signatures = []\n",
    "signatureForLink = {}\n",
    "disallowed_urls = set()\n",
    "robot_parser = {}\n",
    "duplicate_binaries = set()\n",
    "# driver = driver_info(\"Viktor\")\n",
    "# driver.close()"
   ]
  },
  {
   "cell_type": "code",
   "execution_count": 5,
   "metadata": {
    "ExecuteTime": {
     "end_time": "2020-03-24T19:36:18.584180Z",
     "start_time": "2020-03-24T19:36:18.578789Z"
    },
    "code_folding": []
   },
   "outputs": [],
   "source": [
    "def connect(user, password, db, host, port):\n",
    "    conn = psycopg2.connect(host=host, port=port, user=user, password=password, database=db)\n",
    "    conn.autocommit = True\n",
    "    return conn"
   ]
  },
  {
   "cell_type": "code",
   "execution_count": 6,
   "metadata": {
    "ExecuteTime": {
     "end_time": "2020-03-24T19:36:18.592527Z",
     "start_time": "2020-03-24T19:36:18.585830Z"
    },
    "code_folding": []
   },
   "outputs": [],
   "source": [
    "def parse_robots(url):\n",
    "    print(f\"Retrieving robots.txt from '{url}'\")\n",
    "    rp = urllib.robotparser.RobotFileParser()\n",
    "    rp.set_url(url)\n",
    "    rp.read()\n",
    "    robots = None\n",
    "    try:\n",
    "        response = requests.get(url, verify=False)\n",
    "    except Exception as e:\n",
    "        print(e)\n",
    "    sitemap_url = None\n",
    "    if response.status_code == 200:\n",
    "        robots = response.text.strip()\n",
    "        reg_sitemap = re.compile(\"Sitemap:\\s(.*)\")\n",
    "        sitemap_url = reg_sitemap.search(robots)\n",
    "        if(sitemap_url):\n",
    "            sitemap_url = sitemap_url.group(1)\n",
    "    return robots, rp, sitemap_url\n",
    "        "
   ]
  },
  {
   "cell_type": "code",
   "execution_count": 7,
   "metadata": {
    "ExecuteTime": {
     "end_time": "2020-03-24T19:36:18.599923Z",
     "start_time": "2020-03-24T19:36:18.594780Z"
    },
    "code_folding": []
   },
   "outputs": [],
   "source": [
    "def get_sitemap(url):\n",
    "    sitemap = None\n",
    "    logging.info(\"Get sitemap %s\", url)\n",
    "    if url:\n",
    "        try:\n",
    "            response = requests.get(url, verify=False)\n",
    "            sitemap = response.text.strip()\n",
    "        except Exception as e:\n",
    "            print(f\"SITEMAP: {e}\")\n",
    "    return sitemap"
   ]
  },
  {
   "cell_type": "code",
   "execution_count": 81,
   "metadata": {
    "ExecuteTime": {
     "end_time": "2020-03-25T00:14:54.755762Z",
     "start_time": "2020-03-25T00:14:54.750106Z"
    },
    "code_folding": []
   },
   "outputs": [],
   "source": [
    "def get_response_code(url):\n",
    "    if \"mailto:\" in url:\n",
    "        print(\"skipping: e-mail\")\n",
    "        return 503, None, []\n",
    "    try:\n",
    "        response = requests.head(url, verify=False, allow_redirects=True, timeout=1) \n",
    "        return response.status_code, response.url, response.history\n",
    "    except Exception:\n",
    "        print(\"Timeout exception for url: \", url)\n",
    "        return 503, url, []"
   ]
  },
  {
   "cell_type": "code",
   "execution_count": 9,
   "metadata": {
    "ExecuteTime": {
     "end_time": "2020-03-24T19:36:18.616620Z",
     "start_time": "2020-03-24T19:36:18.612289Z"
    },
    "code_folding": [
     0
    ]
   },
   "outputs": [],
   "source": [
    "def check_absolute_url(url):\n",
    "    return (url.index('://') > 0 or url.index('//') == 0)"
   ]
  },
  {
   "cell_type": "code",
   "execution_count": 10,
   "metadata": {
    "ExecuteTime": {
     "end_time": "2020-03-24T19:36:18.625025Z",
     "start_time": "2020-03-24T19:36:18.618717Z"
    },
    "code_folding": [
     0,
     7
    ]
   },
   "outputs": [],
   "source": [
    "data_types_dict = {\n",
    "    'doc':'DOC',\n",
    "    'docx':'DOCX',\n",
    "    'pdf':'PDF',\n",
    "    'ppt':'PPT',\n",
    "    'pptx':'PPTX',\n",
    "}\n",
    "img_types_dict = {\n",
    "    'jpg': 'JPG',\n",
    "    'jpeg': 'JPEG',\n",
    "    'gif': 'GIF',\n",
    "    'png': 'PNG'\n",
    "}"
   ]
  },
  {
   "cell_type": "code",
   "execution_count": 11,
   "metadata": {
    "ExecuteTime": {
     "end_time": "2020-03-24T19:36:18.635787Z",
     "start_time": "2020-03-24T19:36:18.627855Z"
    },
    "code_folding": [
     0,
     6
    ],
    "hide_input": false
   },
   "outputs": [],
   "source": [
    "def preprocess(text):\n",
    "    text = re.sub(r'[^\\w\\s]','',text)\n",
    "    tokens = text.lower()\n",
    "    tokens = tokens.split()\n",
    "    return tokens\n",
    "\n",
    "def generate_shingles(tokens):\n",
    "    shinglesInHTML = set()\n",
    "    for index in range(0, len(tokens) - 2):\n",
    "        shingle = \"{} {} {}\".format(tokens[index], tokens[index + 1], tokens[index + 2])\n",
    "        hashed_shingle = mmh3.hash64(shingle)[0] & 0xffffffffffffffff\n",
    "        shinglesInHTML.add(hashed_shingle)\n",
    "#     print(shinglesInHTML)\n",
    "    return shinglesInHTML"
   ]
  },
  {
   "cell_type": "code",
   "execution_count": 12,
   "metadata": {
    "ExecuteTime": {
     "end_time": "2020-03-24T19:36:18.645050Z",
     "start_time": "2020-03-24T19:36:18.638214Z"
    },
    "code_folding": [
     0
    ]
   },
   "outputs": [],
   "source": [
    "def minhash(shingleIDSet):\n",
    "\n",
    "    # The resulting minhash signature for this document. \n",
    "    signature = []\n",
    "\n",
    "    # For each of the random hash functions...\n",
    "    for i in range(0, numHashes):\n",
    "\n",
    "        # For each of the shingles actually in the document, calculate its hash code\n",
    "        # using hash function 'i'. \n",
    "\n",
    "        # Track the lowest hash ID seen. Initialize 'minHashCode' to be greater than\n",
    "        # the maximum possible value output by the hash.\n",
    "        minHashCode = nextPrime + 1\n",
    "\n",
    "        # For each shingle in the document...\n",
    "        for shingleID in shingleIDSet:\n",
    "            # Evaluate the hash function.\n",
    "#             print(shingleID.bit_length())\n",
    "            hashCode = (coeffA[i] * shingleID + coeffB[i]) % nextPrime \n",
    "\n",
    "            # Track the lowest hash code seen.\n",
    "            if hashCode < minHashCode:\n",
    "                minHashCode = hashCode\n",
    "\n",
    "        # Add the smallest hash code value as component number 'i' of the signature.\n",
    "        signature.append(minHashCode)\n",
    "\n",
    "    # Store the MinHash signature for this document.\n",
    "    return signature"
   ]
  },
  {
   "cell_type": "code",
   "execution_count": 13,
   "metadata": {
    "ExecuteTime": {
     "end_time": "2020-03-24T19:36:18.654525Z",
     "start_time": "2020-03-24T19:36:18.647290Z"
    },
    "code_folding": []
   },
   "outputs": [],
   "source": [
    "def compare_signatures(signature):\n",
    "    t0 = time.time()\n",
    "    duplicate_signature = None\n",
    "    count = 0\n",
    "    # For each of the test documents...\n",
    "    for signature2 in signatures:\n",
    "        count = 0\n",
    "        for k in range(0, numHashes):\n",
    "            count += (signature[k] == signature2[k])\n",
    "        if count/numHashes > 0.7:\n",
    "            break\n",
    "    print(f\"HASH: {count/numHashes}\")\n",
    "    # Calculate the elapsed time (in seconds)\n",
    "    elapsed = (time.time() - t0)\n",
    "\n",
    "    print (\"Comparing MinHash signatures took %.2fsec\" % elapsed)\n",
    "    return signature2 if count/numHashes > 0.7 else None"
   ]
  },
  {
   "cell_type": "code",
   "execution_count": 14,
   "metadata": {
    "ExecuteTime": {
     "end_time": "2020-03-24T19:36:18.662821Z",
     "start_time": "2020-03-24T19:36:18.657167Z"
    }
   },
   "outputs": [],
   "source": [
    "site_insert_query = '''INSERT INTO crawldb.site(domain, robots_content, sitemap_content) VALUES (%s,%s,%s) RETURNING id'''\n",
    "page_insert_query = '''INSERT INTO crawldb.page(site_id, page_type_code, url, html_content, http_status_code, accessed_time) VALUES (%s,%s,%s,%s,%s,%s) RETURNING id'''\n",
    "page_data_insert_query = ''' INSERT INTO crawldb.page_data(page_id, data_type_code, data) VALUES (%s,%s,%s)'''\n",
    "image_insert_query = ''' INSERT INTO crawldb.image(page_id, filename, content_type, accessed_time,data) VALUES (%s,%s,%s,%s,%s) RETURNING id'''\n",
    "link_insert_query = ''' INSERT INTO crawldb.link(from_page, to_page) VALUES (%s,%s)'''\n",
    "\n",
    "find_page_id_query = '''SELECT id FROM crawldb.page WHERE url = %s'''\n",
    "update_page_query = ''' UPDATE crawldb.page SET page_type_code=%s, html_content=%s, http_status_code=%s,accessed_time=%s WHERE id=%s'''"
   ]
  },
  {
   "cell_type": "code",
   "execution_count": 82,
   "metadata": {
    "ExecuteTime": {
     "end_time": "2020-03-25T00:17:34.899168Z",
     "start_time": "2020-03-25T00:17:34.855083Z"
    },
    "code_folding": []
   },
   "outputs": [],
   "source": [
    "def extract_page_info(parent_url):\n",
    "    \n",
    "    if re.match(\"(http|https)://(.*)\\.?gov\\.si(.*)\",parent_url) is None:\n",
    "        return\n",
    "    conn = psycopg2.connect(host=\"localhost\", user=\"postgres\", password=\"postgres\")\n",
    "    conn.autocommit = True\n",
    "    global frontier;\n",
    "#     conn =  connect(user=\"postgres\", password=\"postgres\", db=\"crawldb\", host=\"127.0.0.1\", port=\"5432\")\n",
    "    \n",
    "    driver = driver_info(\"Viktor\")\n",
    "    \n",
    "    accessed_time_parent_url = datetime.now()\n",
    "\n",
    "    print(f\"Retrieving web page URL '{parent_url}'\")\n",
    "    \n",
    "    driver.get(parent_url)\n",
    "    \n",
    "     # Timeout needed for Web page to render (read more about it)\n",
    "    time.sleep(TIMEOUT)\n",
    "    \n",
    "    parsed_url = urlparse(parent_url)\n",
    "    site_id = seed_sites_ids[parsed_url.netloc]     # DB ID of the current seed site\n",
    "    html_content_binary = None \n",
    "    page_id_parent = None # the value will be set after the parent page is added into DB/updated\n",
    "    \n",
    "    # Check if this page is already added to DB\n",
    "    with lock:\n",
    "        try:\n",
    "            cursor = conn.cursor()\n",
    "            cursor.execute(find_page_id_query,(parent_url,))\n",
    "            page_id_parent = cursor.fetchone()[0]\n",
    "            cursor.close()\n",
    "        except (Exception, psycopg2.DatabaseError) as error :\n",
    "            print (\"Error while trying to fetch page id of: \", parent_url, \": \", error)\n",
    "    \n",
    "#     ONLY SEED PAGES\n",
    "    if page_id_parent is None:\n",
    "        print(\"Adding page \", parent_url, \" to DB\")\n",
    "       # We need to add the page in the DB\n",
    "        try:\n",
    "            http_status_code, http_redirect_url, res_history = get_response_code(parent_url)\n",
    "            with lock:\n",
    "                cursor = conn.cursor()\n",
    "                cursor.execute(page_insert_query, (site_id, \"FRONTIER\", parent_url, html_content_binary, http_status_code, accessed_time_parent_url))\n",
    "                page_id_parent = cursor.fetchone()[0]\n",
    "                cursor.close()\n",
    "                conn.commit()\n",
    "        except (Exception, psycopg2.DatabaseError) as error :\n",
    "            print (\"Error while writing page\", parent_url, \" to DB: \", error)\n",
    "    \n",
    "    potential_links = []\n",
    "\n",
    "    # find all html a tags\n",
    "    a_tags = driver.find_elements_by_tag_name(\"a\")\n",
    "\n",
    "    # find all onclick events in every html tag\n",
    "    onclicks = driver.find_elements(\n",
    "        By.XPATH,\n",
    "        \"//*[contains(@onclick, 'location.href') or contains(@onclick, 'document.location')]\"\n",
    "    )\n",
    "\n",
    "    images = driver.find_elements_by_tag_name(\"img\")\n",
    "\n",
    "    # set of all child links and images\n",
    "    hrefs = []\n",
    "    duplicates = []\n",
    "    image_sources = set()\n",
    "    binary_urls = set()\n",
    "\n",
    "    # not needed for now\n",
    "    parsed_uri = urlparse(parent_url)\n",
    "    hostname = '{uri.netloc}'.format(uri=parsed_uri)\n",
    "\n",
    "    # matches the binary files\n",
    "    binary_file_matcher = re.compile(\"(\\.doc|\\.docx|\\.pdf|\\.pptx|\\.ppt|\\.png|\\.jpg\\\\.jpeg|\\.gif)$\")\n",
    "\n",
    "    for a_tag in a_tags:\n",
    "        url = a_tag.get_attribute(\"href\")\n",
    "        with lock:\n",
    "            potential_links.append(url)\n",
    "        \n",
    "\n",
    "    for onclick in onclicks:\n",
    "        url_elem = onclick.get_attribute(\"onclick\")\n",
    "        reg_url = re.compile(\"(document.location|location.href)\\s*=\\s*[\\\"|'](.*)[\\\"|']\")\n",
    "        url = reg_url.search(url_elem).group(1)\n",
    "        with lock:\n",
    "            potential_links.append(url)\n",
    "\n",
    "    for url in potential_links:\n",
    "        \n",
    "        accessed_time = datetime.now()\n",
    "        page_id = None\n",
    "        add_link_flag = False\n",
    "        \n",
    "        if url:\n",
    "            url = url.replace(\"http://\",\"https://\")\n",
    "            if url[-1] == \"/\":\n",
    "                url = url[:-1]\n",
    "\n",
    "            gov_si_matcher = re.match(\"(http|https)://(.*)\\.?gov\\.si(.*)\",url)\n",
    "            if gov_si_matcher is not None and \"mailto:\" not in url:\n",
    "                file_name = url.rsplit(\"/\", 1)[-1]\n",
    "\n",
    "                # check if the url has hostname, add if not\n",
    "                if not check_absolute_url(url):\n",
    "                    if url.startswith(\"/\"):\n",
    "                        url = \"{}{}\".format(parent_url, url)\n",
    "                    else:\n",
    "                        url = \"{}/{}\".format(parent_url, url)\n",
    "                \n",
    "                # if the url points to binary file add it to the binary files list\n",
    "                if binary_file_matcher.search(file_name):\n",
    "                    if url not in duplicate_binaries:\n",
    "                        binary_urls.add(url)\n",
    "                        duplicate_binaries.add(url)\n",
    "                        http_status_code, http_redirect_url, res_history = get_response_code(url)\n",
    "                        time.sleep(TIMEOUT)\n",
    "                        # ADD CURRENT BINARY PAGE TO DB\n",
    "                        try:\n",
    "                            with lock:\n",
    "                                cursor = conn.cursor()\n",
    "                                cursor.execute(page_insert_query, (site_id, \"BINARY\", url, html_content_binary, http_status_code, accessed_time))\n",
    "                                page_id = cursor.fetchone()[0]\n",
    "                                conn.commit()\n",
    "                                add_link_flag = True\n",
    "                                cursor.close()\n",
    "\n",
    "                        except (Exception, psycopg2.DatabaseError) as error :\n",
    "                            print (\"Error while writing binary page\", url, \" to DB: \", error)\n",
    "\n",
    "                        # find file extension\n",
    "                        data_type = file_name.split('.')[-1]\n",
    "\n",
    "                        # check whether the binary file should be added to images or page_data table\n",
    "                        if data_type.lower() in data_types_dict and page_id is not None:\n",
    "\n",
    "                            # ADD CURRENT BINARY PAGE_DATA TO DB\n",
    "                            data_type_code = data_types_dict[data_type.lower()]\n",
    "\n",
    "                            try:\n",
    "                                with lock:\n",
    "                                    cursor = conn.cursor()\n",
    "                                    cursor.execute(page_data_insert_query, (page_id, data_type_code, html_content_binary))\n",
    "                                    conn.commit()\n",
    "                                    cursor.close()\n",
    "\n",
    "                            except (Exception, psycopg2.DatabaseError) as error :\n",
    "                                if error.pgcode == errorcodes.UNIQUE_VIOLATION or error.pgcode == \"23505\" or \"duplicate\" in error:\n",
    "                                        pass\n",
    "                                else:\n",
    "                                    print (\"Error while writing binary page data\", url, \" to DB: \", error)\n",
    "\n",
    "                        if data_type.lower() in img_types_dict and page_id is not None:\n",
    "\n",
    "                            # ADD CURRENT BINARY IMAGE TO DB\n",
    "                            content_type = img_types_dict[data_type.lower()]\n",
    "                            filename= file_name.split('.')[0]\n",
    "\n",
    "                            try:\n",
    "                                with lock:\n",
    "                                    cursor = conn.cursor()\n",
    "                                    cursor.execute(image_insert_query, (page_id, filename, content_type, accessed_time, html_content_binary))\n",
    "                                    conn.commit()\n",
    "                                    cursor.close()\n",
    "\n",
    "                            except (Exception, psycopg2.DatabaseError) as error :\n",
    "                                print (\"Error while writing image \", url, \" to DB: \", error)\n",
    "                else:\n",
    "                    if url not in hrefs or url not in frontier:\n",
    "                        hrefs.append(url)\n",
    "                        duplicates.append(url)\n",
    "                        # ADD CURRENT PAGE TO DB\n",
    "                        try:\n",
    "                            # This is a non-visited page. The information will be updated once it's visited.\n",
    "                            content_none = None\n",
    "                            status_code = None\n",
    "                            ac_time = None\n",
    "                            with lock:\n",
    "                                cursor = conn.cursor()\n",
    "                                cursor.execute(page_insert_query, (site_id, \"FRONTIER\", url, content_none, status_code, ac_time))\n",
    "                                # PROVERI DALI TREBA OBRATNO (COMMIT -> FETCH)\n",
    "                                page_id = cursor.fetchone()[0]\n",
    "                                conn.commit()\n",
    "                                cursor.close()\n",
    "                                add_link_flag = True\n",
    "                                \n",
    "                        except (Exception, psycopg2.DatabaseError) as error :\n",
    "                            if error.pgcode == \"23505\":\n",
    "                                pass\n",
    "                            else:\n",
    "                                print (\"Error while writing non-visited page \", url, \" to DB: \", error)\n",
    "                    else:\n",
    "                        if url not in duplicates and url not in duplicate_urls:\n",
    "                            http_status_code, http_redirect_url, res_history = get_response_code(url)\n",
    "                            time.sleep(TIMEOUT)\n",
    "                              # ADD DUPLICATE PAGE TO DB\n",
    "                            try:\n",
    "                                with lock:\n",
    "                                    cursor = conn.cursor()\n",
    "                                    cursor.execute(page_insert_query, (site_id, \"DUPLICATE\", url, html_content_binary, http_status_code, accessed_time))\n",
    "                                    page_id = cursor.fetchone()[0]\n",
    "                                    conn.commit()\n",
    "                                    cursor.close()\n",
    "                                    add_link_flag = True\n",
    "                                    \n",
    "                            except (Exception, psycopg2.DatabaseError) as error :\n",
    "#                                 if error.pgcode == 23505:\n",
    "                                if error.pgcode == errorcodes.UNIQUE_VIOLATION:\n",
    "                                    pass\n",
    "                                else:\n",
    "                                    print (\"Error while writing duplicate page\", url, \" to DB: \", error.pgcode)\n",
    "                            with lock:\n",
    "                                duplicates.append(url)\n",
    "                    \n",
    "            if add_link_flag and page_id_parent is not None and page_id is not None:\n",
    "                # ADD LINKS TO DB\n",
    "                try:\n",
    "                    with lock:\n",
    "                        cursor = conn.cursor()\n",
    "                        cursor.execute(link_insert_query, (page_id_parent, page_id))\n",
    "                        conn.commit()\n",
    "                        cursor.close()\n",
    "\n",
    "                        \n",
    "                except (Exception, psycopg2.DatabaseError) as error :\n",
    "                    print (\"Error while writing links\", parent_url, \" and \", url, \" to DB: \", error)\n",
    "                    \n",
    "    for image in images:\n",
    "        src = image.get_attribute(\"src\")\n",
    "        img_id = None\n",
    "        page_id = None\n",
    "        add_link_flag = False\n",
    "        if src:\n",
    "            gov_si_matcher = re.match(\"(http|https)://(.*)\\.?gov\\.si(.*)\",src)\n",
    "            if gov_si_matcher:\n",
    "                if src not in duplicate_binaries:\n",
    "                    image_sources.add(src)\n",
    "                    duplicate_binaries.add(src)\n",
    "                    accessed_time = datetime.now()\n",
    "                    http_status_code, http_redirect_url, res_history = get_response_code(url)\n",
    "                    time.sleep(TIMEOUT)\n",
    "\n",
    "                     # ADD CURRENT IMAGE TO PAGE DB\n",
    "                    try:\n",
    "                        with lock:\n",
    "                            cursor = conn.cursor()\n",
    "                            cursor.execute(page_insert_query, (site_id, \"BINARY\", src, html_content_binary, http_status_code, accessed_time))\n",
    "                            page_id = cursor.fetchone()[0]\n",
    "                            conn.commit()\n",
    "                            add_link_flag = True\n",
    "                            cursor.close()\n",
    "\n",
    "                    except (Exception, psycopg2.DatabaseError) as error :\n",
    "                        if error.pgcode == errorcodes.UNIQUE_VIOLATION or error.pgcode == \"23505\" or \"duplicate\" in error:\n",
    "                            pass\n",
    "                        else:\n",
    "                            print (\"Error while writing binary page\", src, \" to DB: \", error)\n",
    "                \n",
    "                if page_id is not None:\n",
    "\n",
    "                    # ADD CURRENT IMAGE TO IMAGE DB\n",
    "                    file_name = src.rsplit(\"/\", 1)[-1]\n",
    "                    filename= file_name.split('.')[0]\n",
    "                    content_type = file_name.split('.')[-1].lower()\n",
    "                    if content_type in img_types_dict:\n",
    "                        content_type = img_types_dict[content_type]\n",
    "                    else:\n",
    "                        content_type = None\n",
    "                    try:\n",
    "                        with lock:\n",
    "                            cursor = conn.cursor()\n",
    "                            cursor.execute(image_insert_query, (page_id, filename, content_type, accessed_time, html_content_binary))\n",
    "                            img_id = cursor.fetchone()[0]\n",
    "                            conn.commit()\n",
    "                            cursor.close()\n",
    "                            \n",
    "                    except (Exception, psycopg2.DatabaseError) as error :\n",
    "                        print (\"Error while writing image \", src, \" to DB: \", error)\n",
    "\n",
    "                    if add_link_flag and page_id_parent is not None:\n",
    "                    # ADD LINKS TO DB\n",
    "                        try:\n",
    "                            with lock:\n",
    "                                cursor = conn.cursor()\n",
    "                                cursor.execute(link_insert_query, (page_id_parent, page_id))\n",
    "                                conn.commit()\n",
    "                                cursor.close()\n",
    "                        except (Exception, psycopg2.DatabaseError) as error :\n",
    "                            print (\"Error while writing link from : \", parent_url, \" to \",src,\" :\", error)\n",
    "\n",
    "                            \n",
    "    # FINALLY :)\n",
    "    # Update the content of the parent_url page \n",
    "    \n",
    "    html = driver.page_source\n",
    "    \n",
    "    # extract the text from the raw html (everything below)\n",
    "    soup = BeautifulSoup(html, \"html.parser\")\n",
    "    [\n",
    "        s.extract()\n",
    "        for s in soup(['style', 'script', '[document]', 'head', 'title'])\n",
    "    ]\n",
    "    text = soup.getText()\n",
    "    # break into lines and remove leading and trailing space on each\n",
    "    lines = (line.strip() for line in text.splitlines())\n",
    "    # break multi-headlines into a line each\n",
    "    chunks = (phrase.strip() for line in lines for phrase in line.split(\"  \"))\n",
    "    # drop blank lines\n",
    "    content = '\\n'.join(chunk for chunk in chunks if chunk)\n",
    "    tokens = preprocess(content)\n",
    "    shingles_in_html = generate_shingles(tokens)\n",
    "    signature = minhash(shingles_in_html)\n",
    "    original_signature = compare_signatures(signature)\n",
    "    code = \"HTML\"\n",
    "    \n",
    "    if original_signature is not None:\n",
    "        code = \"DUPLICATE\"\n",
    "        content = None\n",
    "        original_signature.sort()\n",
    "        mapped_sorted_os = map(str, original_signature)\n",
    "        string_sorted_os = \",\".join(mapped_sorted_os)\n",
    "        original_url = signatureForLink[string_sorted_os]\n",
    "        try:\n",
    "            with lock:\n",
    "                cursor = conn.cursor()\n",
    "                cursor.execute(find_page_id_query,(original_url,))\n",
    "                original_parent_id = cursor.fetchone()[0]\n",
    "                cursor.close()\n",
    "        except (Exception, psycopg2.DatabaseError) as error :\n",
    "            print (\"Error while trying to fetch page id of: \", original_url, \": \", error)\n",
    "        try:\n",
    "            with lock:\n",
    "                cursor = conn.cursor()\n",
    "                cursor.execute(link_insert_query, (original_parent_id, page_id_parent))\n",
    "                conn.commit()\n",
    "                cursor.close()\n",
    "        except (Exception, psycopg2.DatabaseError) as error :\n",
    "            print (\"Error while writing duplicate link from : \", original_parent_id, \" to \",page_id_parent,\" :\", error)\n",
    "    else:\n",
    "        signatures.append(signature)\n",
    "        signature_copy = signature.copy()\n",
    "        signature_copy.sort()\n",
    "        mapped_sorted_os = map(str, signature_copy)\n",
    "        string_sorted_os = \",\".join(mapped_sorted_os)\n",
    "        signatureForLink[string_sorted_os] = parent_url \n",
    "        \n",
    "    \n",
    "    if page_id_parent is not None:\n",
    "        # The page is already in the DB. We need to update the information.\n",
    "        \n",
    "        print(\"UPDATING PARENT: \", parent_url)\n",
    "        \n",
    "        http_status_code, http_redirect_url, res_history = get_response_code(parent_url)\n",
    "        time.sleep(TIMEOUT)\n",
    "        try:\n",
    "            with lock:\n",
    "                cursor = conn.cursor()\n",
    "                cursor.execute(update_page_query,(code,content,http_status_code,accessed_time_parent_url,page_id_parent))\n",
    "                cursor.close()\n",
    "                conn.commit()\n",
    "                \n",
    "        except (Exception, psycopg2.DatabaseError) as error :\n",
    "            print (\"ERROR WHILE UPDATING PAGE \", parent_url,\" : \", error)\n",
    "    driver.close()\n",
    "    conn.close()\n",
    "    return hrefs, image_sources, binary_urls, duplicates, html, content"
   ]
  },
  {
   "cell_type": "code",
   "execution_count": 16,
   "metadata": {
    "ExecuteTime": {
     "end_time": "2020-03-24T19:36:18.777675Z",
     "start_time": "2020-03-24T19:36:18.759474Z"
    },
    "scrolled": true
   },
   "outputs": [],
   "source": [
    "def start(url):\n",
    "    if re.match(\"(http|https)://(.*)\\.?gov\\.si(.*)\", url) is None or \"mailto:\" in url:\n",
    "        return\n",
    "    conn = psycopg2.connect(host=\"localhost\", user=\"postgres\", password=\"postgres\")\n",
    "    conn.autocommit = True\n",
    "    url = url.replace(\"www.\", \"\")\n",
    "    parsed_url = urlparse(url)\n",
    "    pt = set([\"{uri.scheme}://{uri.netloc}\".format(uri=parsed_url),\\\n",
    "              \"{uri.scheme}s://{uri.netloc}\".format(uri=(parsed_url)),\\\n",
    "              \"{uri.scheme}s://www.{uri.netloc}\".format(uri=(parsed_url)),\\\n",
    "              \"{uri.scheme}://www.{uri.netloc}\".format(uri=(parsed_url))])\n",
    "\n",
    "    intersec = pt & seed_sites\n",
    "    \n",
    "    global num_sites\n",
    "    global frontier\n",
    "    if len(intersec) == 0 or num_sites < 4:\n",
    "        try:\n",
    "            robots_content, rp, sitemap_url = parse_robots(\"{uri.scheme}://{uri.netloc}/robots.txt\".format(uri=(parsed_url)))\n",
    "            robot_parser[parsed_url.netloc] = rp\n",
    "            if len(intersec) == 0:\n",
    "                seed_sites.add(url)\n",
    "                  # ADD SITE TO DB\n",
    "            time.sleep(4)\n",
    "            sitemap_content = get_sitemap(sitemap_url)\n",
    "            with lock:\n",
    "                try:\n",
    "                    cursor = conn.cursor()\n",
    "                    cursor.execute(site_insert_query, (url, robots_content, sitemap_content))\n",
    "                    id_of_new_row = cursor.fetchone()[0]\n",
    "                    conn.commit()\n",
    "                    cursor.close()\n",
    "                    # Add the auto-generated ID to the dictionary with seed sites IDs\n",
    "                    seed_sites_ids[parsed_url.netloc] = id_of_new_row\n",
    "                except (Exception, psycopg2.DatabaseError) as error :\n",
    "                    print (\"Error while writing site \", url, \" to DB: \", error)\n",
    "        except Exception as e:\n",
    "            print(f\"Seed: {e}\")\n",
    "            return\n",
    "    else:\n",
    "        rp = robot_parser[parsed_url.netloc] if robot_parser[parsed_url.netloc] else None\n",
    "        \n",
    "    if (rp is not None and rp.can_fetch(\"fri-ieps-26\",url)) or rp is None:\n",
    "        time.sleep(4)\n",
    "        try:\n",
    "            next_links, image_sources, binary_urls, duplicates, http_content, content = extract_page_info(url)\n",
    "            duplicate_urls.extend(duplicates)\n",
    "            num_sites += 1\n",
    "            frontier.update(next_links)\n",
    "#                 frontier = list(set(frontier))\n",
    "        except Exception as e:\n",
    "            print(f\"wrong link: {e}\")\n",
    "            return\n",
    "    else:\n",
    "        print(\"rejected\", url)\n",
    "    print(f\"Frontier len {len(frontier)}\")\n",
    "    conn.close()\n",
    "#     print(f\"SEEDS:{seed_sites}\")"
   ]
  },
  {
   "cell_type": "code",
   "execution_count": 90,
   "metadata": {
    "ExecuteTime": {
     "end_time": "2020-03-25T11:25:28.631687Z",
     "start_time": "2020-03-25T11:04:50.370125Z"
    },
    "hide_input": false,
    "scrolled": true
   },
   "outputs": [
    {
     "name": "stdout",
     "output_type": "stream",
     "text": [
      "\n",
      " ... executing workers ...\n",
      "\n",
      "Num sites: 7513, i: 7888\n",
      "Retrieving web page URL 'https://e-uprava.gov.si/drzava-in-druzba/javni-sektor/podrobnosti-institucije.html?id=13741'\n",
      "Retrieving web page URL 'https://e-uprava.gov.si/drzava-in-druzba/javni-sektor/podrobnosti-institucije.html?id=13632'\n",
      "Retrieving web page URL 'https://e-uprava.gov.si/drzava-in-druzba/javni-sektor/podrobnosti-institucije.html?id=13715'\n",
      "Retrieving web page URL 'https://e-uprava.gov.si/drzava-in-druzba/javni-sektor/podrobnosti-institucije.html?id=13720'\n",
      "Retrieving web page URL 'https://e-uprava.gov.si/drzava-in-druzba/javni-sektor/podrobnosti-institucije.html?id=13777'\n",
      "Retrieving web page URL 'https://e-uprava.gov.si/drzava-in-druzba/javni-sektor/podrobnosti-institucije.html?id=13733'\n",
      "Retrieving web page URL 'https://e-uprava.gov.si/drzava-in-druzba/javni-sektor/podrobnosti-institucije.html?id=13649'\n",
      "Retrieving web page URL 'https://e-uprava.gov.si/drzava-in-druzba/javni-sektor/podrobnosti-institucije.html?id=13642'\n",
      "Retrieving web page URL 'https://e-uprava.gov.si/drzava-in-druzba/javni-sektor/podrobnosti-institucije.html?id=13691'\n",
      "Retrieving web page URL 'https://e-uprava.gov.si/drzava-in-druzba/javni-sektor/podrobnosti-institucije.html?id=13826'\n",
      "Retrieving web page URL 'https://e-uprava.gov.si/drzava-in-druzba/javni-sektor/podrobnosti-institucije.html?id=13620'\n",
      "Retrieving web page URL 'https://e-uprava.gov.si/drzava-in-druzba/javni-sektor/podrobnosti-institucije.html?id=13689'\n",
      "HASH: 0.5\n",
      "Comparing MinHash signatures took 0.00sec\n",
      "UPDATING PARENT:  https://e-uprava.gov.si/drzava-in-druzba/javni-sektor/podrobnosti-institucije.html?id=13715\n",
      "HASH: 0.8\n",
      "Comparing MinHash signatures took 0.00sec\n",
      "UPDATING PARENT:  https://e-uprava.gov.si/drzava-in-druzba/javni-sektor/podrobnosti-institucije.html?id=13649\n"
     ]
    },
    {
     "name": "stderr",
     "output_type": "stream",
     "text": [
      "/home/viktor/anaconda3/envs/wier/lib/python3.6/site-packages/urllib3/connectionpool.py:1004: InsecureRequestWarning: Unverified HTTPS request is being made to host 'e-uprava.gov.si'. Adding certificate verification is strongly advised. See: https://urllib3.readthedocs.io/en/latest/advanced-usage.html#ssl-warnings\n",
      "  InsecureRequestWarning,\n",
      "/home/viktor/anaconda3/envs/wier/lib/python3.6/site-packages/urllib3/connectionpool.py:1004: InsecureRequestWarning: Unverified HTTPS request is being made to host 'e-uprava.gov.si'. Adding certificate verification is strongly advised. See: https://urllib3.readthedocs.io/en/latest/advanced-usage.html#ssl-warnings\n",
      "  InsecureRequestWarning,\n",
      "/home/viktor/anaconda3/envs/wier/lib/python3.6/site-packages/urllib3/connectionpool.py:1004: InsecureRequestWarning: Unverified HTTPS request is being made to host 'e-uprava.gov.si'. Adding certificate verification is strongly advised. See: https://urllib3.readthedocs.io/en/latest/advanced-usage.html#ssl-warnings\n",
      "  InsecureRequestWarning,\n"
     ]
    },
    {
     "name": "stdout",
     "output_type": "stream",
     "text": [
      "HASH: 0.0\n",
      "Comparing MinHash signatures took 0.01sec\n",
      "UPDATING PARENT:  https://e-uprava.gov.si/drzava-in-druzba/javni-sektor/podrobnosti-institucije.html?id=13777\n",
      "HASH: 0.7\n",
      "Comparing MinHash signatures took 0.02sec\n",
      "UPDATING PARENT:  https://e-uprava.gov.si/drzava-in-druzba/javni-sektor/podrobnosti-institucije.html?id=13741\n",
      "HASH: 0.9\n",
      "Comparing MinHash signatures took 0.01sec\n",
      "UPDATING PARENT:  https://e-uprava.gov.si/drzava-in-druzba/javni-sektor/podrobnosti-institucije.html?id=13689\n"
     ]
    },
    {
     "name": "stderr",
     "output_type": "stream",
     "text": [
      "/home/viktor/anaconda3/envs/wier/lib/python3.6/site-packages/urllib3/connectionpool.py:1004: InsecureRequestWarning: Unverified HTTPS request is being made to host 'e-uprava.gov.si'. Adding certificate verification is strongly advised. See: https://urllib3.readthedocs.io/en/latest/advanced-usage.html#ssl-warnings\n",
      "  InsecureRequestWarning,\n",
      "/home/viktor/anaconda3/envs/wier/lib/python3.6/site-packages/urllib3/connectionpool.py:1004: InsecureRequestWarning: Unverified HTTPS request is being made to host 'e-uprava.gov.si'. Adding certificate verification is strongly advised. See: https://urllib3.readthedocs.io/en/latest/advanced-usage.html#ssl-warnings\n",
      "  InsecureRequestWarning,\n"
     ]
    },
    {
     "name": "stdout",
     "output_type": "stream",
     "text": [
      "HASH: 0.6\n",
      "Comparing MinHash signatures took 0.01sec\n",
      "UPDATING PARENT:  https://e-uprava.gov.si/drzava-in-druzba/javni-sektor/podrobnosti-institucije.html?id=13642\n",
      "HASH: 0.8\n",
      "Comparing MinHash signatures took 0.01sec\n",
      "HASH: 0.1\n",
      "Comparing MinHash signatures took 0.01sec\n",
      "UPDATING PARENT:  https://e-uprava.gov.si/drzava-in-druzba/javni-sektor/podrobnosti-institucije.html?id=13826\n",
      "HASH: 0.8\n",
      "Comparing MinHash signatures took 0.00sec\n",
      "UPDATING PARENT:  https://e-uprava.gov.si/drzava-in-druzba/javni-sektor/podrobnosti-institucije.html?id=13720\n",
      "UPDATING PARENT:  https://e-uprava.gov.si/drzava-in-druzba/javni-sektor/podrobnosti-institucije.html?id=13733\n"
     ]
    },
    {
     "name": "stderr",
     "output_type": "stream",
     "text": [
      "/home/viktor/anaconda3/envs/wier/lib/python3.6/site-packages/urllib3/connectionpool.py:1004: InsecureRequestWarning: Unverified HTTPS request is being made to host 'e-uprava.gov.si'. Adding certificate verification is strongly advised. See: https://urllib3.readthedocs.io/en/latest/advanced-usage.html#ssl-warnings\n",
      "  InsecureRequestWarning,\n",
      "/home/viktor/anaconda3/envs/wier/lib/python3.6/site-packages/urllib3/connectionpool.py:1004: InsecureRequestWarning: Unverified HTTPS request is being made to host 'e-uprava.gov.si'. Adding certificate verification is strongly advised. See: https://urllib3.readthedocs.io/en/latest/advanced-usage.html#ssl-warnings\n",
      "  InsecureRequestWarning,\n",
      "/home/viktor/anaconda3/envs/wier/lib/python3.6/site-packages/urllib3/connectionpool.py:1004: InsecureRequestWarning: Unverified HTTPS request is being made to host 'e-uprava.gov.si'. Adding certificate verification is strongly advised. See: https://urllib3.readthedocs.io/en/latest/advanced-usage.html#ssl-warnings\n",
      "  InsecureRequestWarning,\n",
      "/home/viktor/anaconda3/envs/wier/lib/python3.6/site-packages/urllib3/connectionpool.py:1004: InsecureRequestWarning: Unverified HTTPS request is being made to host 'e-uprava.gov.si'. Adding certificate verification is strongly advised. See: https://urllib3.readthedocs.io/en/latest/advanced-usage.html#ssl-warnings\n",
      "  InsecureRequestWarning,\n"
     ]
    },
    {
     "name": "stdout",
     "output_type": "stream",
     "text": [
      "HASH: 0.1HASH: 0.1\n",
      "Comparing MinHash signatures took 0.00sec\n",
      "UPDATING PARENT:  https://e-uprava.gov.si/drzava-in-druzba/javni-sektor/podrobnosti-institucije.html?id=13632\n",
      "\n",
      "Comparing MinHash signatures took 0.02sec\n",
      "UPDATING PARENT:  https://e-uprava.gov.si/drzava-in-druzba/javni-sektor/podrobnosti-institucije.html?id=13620\n",
      "HASH: 0.8\n",
      "Comparing MinHash signatures took 0.00sec\n",
      "UPDATING PARENT:  https://e-uprava.gov.si/drzava-in-druzba/javni-sektor/podrobnosti-institucije.html?id=13691\n"
     ]
    },
    {
     "name": "stderr",
     "output_type": "stream",
     "text": [
      "/home/viktor/anaconda3/envs/wier/lib/python3.6/site-packages/urllib3/connectionpool.py:1004: InsecureRequestWarning: Unverified HTTPS request is being made to host 'e-uprava.gov.si'. Adding certificate verification is strongly advised. See: https://urllib3.readthedocs.io/en/latest/advanced-usage.html#ssl-warnings\n",
      "  InsecureRequestWarning,\n",
      "/home/viktor/anaconda3/envs/wier/lib/python3.6/site-packages/urllib3/connectionpool.py:1004: InsecureRequestWarning: Unverified HTTPS request is being made to host 'e-uprava.gov.si'. Adding certificate verification is strongly advised. See: https://urllib3.readthedocs.io/en/latest/advanced-usage.html#ssl-warnings\n",
      "  InsecureRequestWarning,\n",
      "/home/viktor/anaconda3/envs/wier/lib/python3.6/site-packages/urllib3/connectionpool.py:1004: InsecureRequestWarning: Unverified HTTPS request is being made to host 'e-uprava.gov.si'. Adding certificate verification is strongly advised. See: https://urllib3.readthedocs.io/en/latest/advanced-usage.html#ssl-warnings\n",
      "  InsecureRequestWarning,\n"
     ]
    },
    {
     "name": "stdout",
     "output_type": "stream",
     "text": [
      "Frontier len 55033\n",
      "Frontier len 55042\n",
      "Frontier len 55052\n",
      "Frontier len 55061\n",
      "Frontier len 55070\n",
      "Frontier len 55079\n",
      "Frontier len 55089\n",
      "Frontier len 55098\n",
      "Frontier len 55107\n",
      "Frontier len 55119\n",
      "Frontier len 55128\n",
      "Frontier len 55141\n",
      "\n",
      " ... executing workers ...\n",
      "\n",
      "Num sites: 7525, i: 7900\n",
      "Retrieving web page URL 'https://e-uprava.gov.si/drzava-in-druzba/javni-sektor/podrobnosti-institucije.html?id=13682'\n",
      "Retrieving web page URL 'https://e-uprava.gov.si/drzava-in-druzba/javni-sektor/podrobnosti-institucije.html?id=13659'\n",
      "Retrieving web page URL 'https://e-uprava.gov.si/drzava-in-druzba/javni-sektor/podrobnosti-institucije.html?id=13786'\n",
      "Retrieving web page URL 'https://e-uprava.gov.si/drzava-in-druzba/javni-sektor/podrobnosti-institucije.html?id=13637'\n",
      "Retrieving web page URL 'https://e-uprava.gov.si/drzava-in-druzba/javni-sektor/podrobnosti-institucije.html?id=13630'\n",
      "Retrieving web page URL 'https://e-uprava.gov.si/drzava-in-druzba/javni-sektor/podrobnosti-institucije.html?id=13801'\n",
      "Retrieving web page URL 'https://e-uprava.gov.si/drzava-in-druzba/javni-sektor/podrobnosti-institucije.html?id=13717'\n",
      "Retrieving web page URL 'https://e-uprava.gov.si/drzava-in-druzba/javni-sektor/podrobnosti-institucije.html?id=13798'\n",
      "Retrieving web page URL 'https://e-uprava.gov.si/drzava-in-druzba/javni-sektor/podrobnosti-institucije.html?id=13669'\n",
      "Retrieving web page URL 'https://e-uprava.gov.si/drzava-in-druzba/javni-sektor/podrobnosti-institucije.html?id=13681'\n",
      "Retrieving web page URL 'https://e-uprava.gov.si/drzava-in-druzba/javni-sektor/podrobnosti-institucije.html?id=13737'\n",
      "Retrieving web page URL 'https://e-uprava.gov.si/drzava-in-druzba/javni-sektor/podrobnosti-institucije.html?id=13698'\n",
      "HASH: 0.8\n",
      "Comparing MinHash signatures took 0.07sec\n",
      "UPDATING PARENT:  https://e-uprava.gov.si/drzava-in-druzba/javni-sektor/podrobnosti-institucije.html?id=13798\n",
      "HASH: 0.7\n",
      "Comparing MinHash signatures took 0.00sec\n",
      "UPDATING PARENT:  https://e-uprava.gov.si/drzava-in-druzba/javni-sektor/podrobnosti-institucije.html?id=13786\n",
      "HASH: 0.9\n",
      "Comparing MinHash signatures took 0.00sec\n"
     ]
    },
    {
     "name": "stderr",
     "output_type": "stream",
     "text": [
      "/home/viktor/anaconda3/envs/wier/lib/python3.6/site-packages/urllib3/connectionpool.py:1004: InsecureRequestWarning: Unverified HTTPS request is being made to host 'e-uprava.gov.si'. Adding certificate verification is strongly advised. See: https://urllib3.readthedocs.io/en/latest/advanced-usage.html#ssl-warnings\n",
      "  InsecureRequestWarning,\n",
      "/home/viktor/anaconda3/envs/wier/lib/python3.6/site-packages/urllib3/connectionpool.py:1004: InsecureRequestWarning: Unverified HTTPS request is being made to host 'e-uprava.gov.si'. Adding certificate verification is strongly advised. See: https://urllib3.readthedocs.io/en/latest/advanced-usage.html#ssl-warnings\n",
      "  InsecureRequestWarning,\n"
     ]
    },
    {
     "name": "stdout",
     "output_type": "stream",
     "text": [
      "HASH: 0.8\n",
      "Comparing MinHash signatures took 0.01sec\n",
      "HASH: 0.7\n",
      "Comparing MinHash signatures took 0.00sec\n",
      "UPDATING PARENT:  https://e-uprava.gov.si/drzava-in-druzba/javni-sektor/podrobnosti-institucije.html?id=13659\n",
      "UPDATING PARENT:  https://e-uprava.gov.si/drzava-in-druzba/javni-sektor/podrobnosti-institucije.html?id=13630\n",
      "UPDATING PARENT:  https://e-uprava.gov.si/drzava-in-druzba/javni-sektor/podrobnosti-institucije.html?id=13698\n",
      "HASH: 0.8\n",
      "Comparing MinHash signatures took 0.00sec\n",
      "UPDATING PARENT:  https://e-uprava.gov.si/drzava-in-druzba/javni-sektor/podrobnosti-institucije.html?id=13717\n"
     ]
    },
    {
     "name": "stderr",
     "output_type": "stream",
     "text": [
      "/home/viktor/anaconda3/envs/wier/lib/python3.6/site-packages/urllib3/connectionpool.py:1004: InsecureRequestWarning: Unverified HTTPS request is being made to host 'e-uprava.gov.si'. Adding certificate verification is strongly advised. See: https://urllib3.readthedocs.io/en/latest/advanced-usage.html#ssl-warnings\n",
      "  InsecureRequestWarning,\n",
      "/home/viktor/anaconda3/envs/wier/lib/python3.6/site-packages/urllib3/connectionpool.py:1004: InsecureRequestWarning: Unverified HTTPS request is being made to host 'e-uprava.gov.si'. Adding certificate verification is strongly advised. See: https://urllib3.readthedocs.io/en/latest/advanced-usage.html#ssl-warnings\n",
      "  InsecureRequestWarning,\n",
      "/home/viktor/anaconda3/envs/wier/lib/python3.6/site-packages/urllib3/connectionpool.py:1004: InsecureRequestWarning: Unverified HTTPS request is being made to host 'e-uprava.gov.si'. Adding certificate verification is strongly advised. See: https://urllib3.readthedocs.io/en/latest/advanced-usage.html#ssl-warnings\n",
      "  InsecureRequestWarning,\n",
      "/home/viktor/anaconda3/envs/wier/lib/python3.6/site-packages/urllib3/connectionpool.py:1004: InsecureRequestWarning: Unverified HTTPS request is being made to host 'e-uprava.gov.si'. Adding certificate verification is strongly advised. See: https://urllib3.readthedocs.io/en/latest/advanced-usage.html#ssl-warnings\n",
      "  InsecureRequestWarning,\n"
     ]
    },
    {
     "name": "stdout",
     "output_type": "stream",
     "text": [
      "HASH: 0.5\n",
      "Comparing MinHash signatures took 0.01sec\n",
      "UPDATING PARENT:  https://e-uprava.gov.si/drzava-in-druzba/javni-sektor/podrobnosti-institucije.html?id=13637\n",
      "HASH: 0.7\n",
      "Comparing MinHash signatures took 0.00sec\n",
      "UPDATING PARENT:  https://e-uprava.gov.si/drzava-in-druzba/javni-sektor/podrobnosti-institucije.html?id=13737\n"
     ]
    },
    {
     "name": "stderr",
     "output_type": "stream",
     "text": [
      "/home/viktor/anaconda3/envs/wier/lib/python3.6/site-packages/urllib3/connectionpool.py:1004: InsecureRequestWarning: Unverified HTTPS request is being made to host 'e-uprava.gov.si'. Adding certificate verification is strongly advised. See: https://urllib3.readthedocs.io/en/latest/advanced-usage.html#ssl-warnings\n",
      "  InsecureRequestWarning,\n",
      "/home/viktor/anaconda3/envs/wier/lib/python3.6/site-packages/urllib3/connectionpool.py:1004: InsecureRequestWarning: Unverified HTTPS request is being made to host 'e-uprava.gov.si'. Adding certificate verification is strongly advised. See: https://urllib3.readthedocs.io/en/latest/advanced-usage.html#ssl-warnings\n",
      "  InsecureRequestWarning,\n"
     ]
    },
    {
     "name": "stdout",
     "output_type": "stream",
     "text": [
      "HASH: 0.8\n",
      "Comparing MinHash signatures took 0.00sec\n",
      "UPDATING PARENT:  https://e-uprava.gov.si/drzava-in-druzba/javni-sektor/podrobnosti-institucije.html?id=13669\n",
      "HASH: 0.8\n",
      "Comparing MinHash signatures took 0.00sec\n",
      "UPDATING PARENT:  https://e-uprava.gov.si/drzava-in-druzba/javni-sektor/podrobnosti-institucije.html?id=13681\n"
     ]
    },
    {
     "name": "stderr",
     "output_type": "stream",
     "text": [
      "/home/viktor/anaconda3/envs/wier/lib/python3.6/site-packages/urllib3/connectionpool.py:1004: InsecureRequestWarning: Unverified HTTPS request is being made to host 'e-uprava.gov.si'. Adding certificate verification is strongly advised. See: https://urllib3.readthedocs.io/en/latest/advanced-usage.html#ssl-warnings\n",
      "  InsecureRequestWarning,\n",
      "/home/viktor/anaconda3/envs/wier/lib/python3.6/site-packages/urllib3/connectionpool.py:1004: InsecureRequestWarning: Unverified HTTPS request is being made to host 'e-uprava.gov.si'. Adding certificate verification is strongly advised. See: https://urllib3.readthedocs.io/en/latest/advanced-usage.html#ssl-warnings\n",
      "  InsecureRequestWarning,\n"
     ]
    },
    {
     "name": "stdout",
     "output_type": "stream",
     "text": [
      "HASH: 0.8\n",
      "Comparing MinHash signatures took 0.01sec\n",
      "UPDATING PARENT:  https://e-uprava.gov.si/drzava-in-druzba/javni-sektor/podrobnosti-institucije.html?id=13682\n"
     ]
    },
    {
     "name": "stderr",
     "output_type": "stream",
     "text": [
      "/home/viktor/anaconda3/envs/wier/lib/python3.6/site-packages/urllib3/connectionpool.py:1004: InsecureRequestWarning: Unverified HTTPS request is being made to host 'e-uprava.gov.si'. Adding certificate verification is strongly advised. See: https://urllib3.readthedocs.io/en/latest/advanced-usage.html#ssl-warnings\n",
      "  InsecureRequestWarning,\n"
     ]
    },
    {
     "name": "stdout",
     "output_type": "stream",
     "text": [
      "Frontier len 55151\n",
      "Frontier len 55160\n",
      "Frontier len 55169\n",
      "Frontier len 55178\n",
      "Frontier len 55186\n",
      "Frontier len 55196\n",
      "Frontier len 55205\n",
      "Frontier len 55215\n",
      "Frontier len 55226\n",
      "Frontier len 55239\n",
      "Frontier len 55248\n",
      "HASH: 0.0\n",
      "Comparing MinHash signatures took 0.00sec\n",
      "UPDATING PARENT:  https://e-uprava.gov.si/drzava-in-druzba/javni-sektor/podrobnosti-institucije.html?id=13801\n"
     ]
    },
    {
     "name": "stderr",
     "output_type": "stream",
     "text": [
      "/home/viktor/anaconda3/envs/wier/lib/python3.6/site-packages/urllib3/connectionpool.py:1004: InsecureRequestWarning: Unverified HTTPS request is being made to host 'e-uprava.gov.si'. Adding certificate verification is strongly advised. See: https://urllib3.readthedocs.io/en/latest/advanced-usage.html#ssl-warnings\n",
      "  InsecureRequestWarning,\n"
     ]
    },
    {
     "name": "stdout",
     "output_type": "stream",
     "text": [
      "Frontier len 55258\n",
      "\n",
      " ... executing workers ...\n",
      "\n",
      "Num sites: 7537, i: 7912\n",
      "Retrieving web page URL 'https://e-uprava.gov.si/drzava-in-druzba/javni-sektor/podrobnosti-institucije.html?id=1994'\n",
      "Retrieving web page URL 'https://e-uprava.gov.si/drzava-in-druzba/javni-sektor/podrobnosti-institucije.html?id=13855'\n",
      "Retrieving web page URL 'https://e-uprava.gov.si/drzava-in-druzba/javni-sektor/podrobnosti-institucije.html?id=1512'\n",
      "Retrieving web page URL 'https://e-uprava.gov.si/drzava-in-druzba/javni-sektor/podrobnosti-institucije.html?id=13687'\n",
      "Retrieving web page URL 'https://e-uprava.gov.si/drzava-in-druzba/javni-sektor/podrobnosti-institucije.html?id=13683'\n",
      "Retrieving web page URL 'https://e-uprava.gov.si/drzava-in-druzba/javni-sektor/podrobnosti-institucije.html?id=1042'\n",
      "Retrieving web page URL 'https://e-uprava.gov.si/drzava-in-druzba/javni-sektor/podrobnosti-institucije.html?id=12973'\n",
      "Retrieving web page URL 'https://e-uprava.gov.si/drzava-in-druzba/javni-sektor/podrobnosti-institucije.html?id=13740'\n",
      "Retrieving web page URL 'https://e-uprava.gov.si/drzava-in-druzba/javni-sektor/podrobnosti-institucije.html?id=13752'\n",
      "Retrieving web page URL 'https://e-uprava.gov.si/drzava-in-druzba/javni-sektor/podrobnosti-institucije.html?id=1099'\n",
      "Retrieving web page URL 'https://e-uprava.gov.si/drzava-in-druzba/javni-sektor/podrobnosti-institucije.html?id=13655'\n",
      "Retrieving web page URL 'https://e-uprava.gov.si/drzava-in-druzba/javni-sektor/podrobnosti-institucije.html?id=1513'\n",
      "HASH: 0.8\n",
      "Comparing MinHash signatures took 0.01sec\n",
      "UPDATING PARENT:  https://e-uprava.gov.si/drzava-in-druzba/javni-sektor/podrobnosti-institucije.html?id=13687\n",
      "HASH: 0.7\n",
      "Comparing MinHash signatures took 0.00sec\n",
      "UPDATING PARENT:  https://e-uprava.gov.si/drzava-in-druzba/javni-sektor/podrobnosti-institucije.html?id=1994\n"
     ]
    },
    {
     "name": "stderr",
     "output_type": "stream",
     "text": [
      "/home/viktor/anaconda3/envs/wier/lib/python3.6/site-packages/urllib3/connectionpool.py:1004: InsecureRequestWarning: Unverified HTTPS request is being made to host 'e-uprava.gov.si'. Adding certificate verification is strongly advised. See: https://urllib3.readthedocs.io/en/latest/advanced-usage.html#ssl-warnings\n",
      "  InsecureRequestWarning,\n",
      "/home/viktor/anaconda3/envs/wier/lib/python3.6/site-packages/urllib3/connectionpool.py:1004: InsecureRequestWarning: Unverified HTTPS request is being made to host 'e-uprava.gov.si'. Adding certificate verification is strongly advised. See: https://urllib3.readthedocs.io/en/latest/advanced-usage.html#ssl-warnings\n",
      "  InsecureRequestWarning,\n"
     ]
    },
    {
     "name": "stdout",
     "output_type": "stream",
     "text": [
      "HASH: 0.7\n",
      "Comparing MinHash signatures took 0.03sec\n",
      "UPDATING PARENT:  https://e-uprava.gov.si/drzava-in-druzba/javni-sektor/podrobnosti-institucije.html?id=13655\n",
      "HASH: 0.8\n",
      "Comparing MinHash signatures took 0.01sec\n",
      "HASH: 0.6\n",
      "Comparing MinHash signatures took 0.00sec\n",
      "UPDATING PARENT:  https://e-uprava.gov.si/drzava-in-druzba/javni-sektor/podrobnosti-institucije.html?id=13752\n",
      "UPDATING PARENT:  https://e-uprava.gov.si/drzava-in-druzba/javni-sektor/podrobnosti-institucije.html?id=13855\n",
      "HASH: 0.8\n",
      "Comparing MinHash signatures took 0.00sec\n",
      "UPDATING PARENT:  https://e-uprava.gov.si/drzava-in-druzba/javni-sektor/podrobnosti-institucije.html?id=13683\n"
     ]
    },
    {
     "name": "stderr",
     "output_type": "stream",
     "text": [
      "/home/viktor/anaconda3/envs/wier/lib/python3.6/site-packages/urllib3/connectionpool.py:1004: InsecureRequestWarning: Unverified HTTPS request is being made to host 'e-uprava.gov.si'. Adding certificate verification is strongly advised. See: https://urllib3.readthedocs.io/en/latest/advanced-usage.html#ssl-warnings\n",
      "  InsecureRequestWarning,\n",
      "/home/viktor/anaconda3/envs/wier/lib/python3.6/site-packages/urllib3/connectionpool.py:1004: InsecureRequestWarning: Unverified HTTPS request is being made to host 'e-uprava.gov.si'. Adding certificate verification is strongly advised. See: https://urllib3.readthedocs.io/en/latest/advanced-usage.html#ssl-warnings\n",
      "  InsecureRequestWarning,\n",
      "/home/viktor/anaconda3/envs/wier/lib/python3.6/site-packages/urllib3/connectionpool.py:1004: InsecureRequestWarning: Unverified HTTPS request is being made to host 'e-uprava.gov.si'. Adding certificate verification is strongly advised. See: https://urllib3.readthedocs.io/en/latest/advanced-usage.html#ssl-warnings\n",
      "  InsecureRequestWarning,\n",
      "/home/viktor/anaconda3/envs/wier/lib/python3.6/site-packages/urllib3/connectionpool.py:1004: InsecureRequestWarning: Unverified HTTPS request is being made to host 'e-uprava.gov.si'. Adding certificate verification is strongly advised. See: https://urllib3.readthedocs.io/en/latest/advanced-usage.html#ssl-warnings\n",
      "  InsecureRequestWarning,\n"
     ]
    },
    {
     "name": "stdout",
     "output_type": "stream",
     "text": [
      "HASH: 0.8\n",
      "Comparing MinHash signatures took 0.01sec\n",
      "HASH: 0.4\n",
      "Comparing MinHash signatures took 0.02secUPDATING PARENT: \n",
      "UPDATING PARENT:  https://e-uprava.gov.si/drzava-in-druzba/javni-sektor/podrobnosti-institucije.html?id=1513\n",
      " https://e-uprava.gov.si/drzava-in-druzba/javni-sektor/podrobnosti-institucije.html?id=13740\n",
      "HASH: 0.6\n",
      "Comparing MinHash signatures took 0.01sec\n",
      "UPDATING PARENT:  https://e-uprava.gov.si/drzava-in-druzba/javni-sektor/podrobnosti-institucije.html?id=1512\n",
      "HASH: 0.9\n",
      "Comparing MinHash signatures took 0.01sec\n"
     ]
    },
    {
     "name": "stderr",
     "output_type": "stream",
     "text": [
      "/home/viktor/anaconda3/envs/wier/lib/python3.6/site-packages/urllib3/connectionpool.py:1004: InsecureRequestWarning: Unverified HTTPS request is being made to host 'e-uprava.gov.si'. Adding certificate verification is strongly advised. See: https://urllib3.readthedocs.io/en/latest/advanced-usage.html#ssl-warnings\n",
      "  InsecureRequestWarning,\n",
      "/home/viktor/anaconda3/envs/wier/lib/python3.6/site-packages/urllib3/connectionpool.py:1004: InsecureRequestWarning: Unverified HTTPS request is being made to host 'e-uprava.gov.si'. Adding certificate verification is strongly advised. See: https://urllib3.readthedocs.io/en/latest/advanced-usage.html#ssl-warnings\n",
      "  InsecureRequestWarning,\n",
      "/home/viktor/anaconda3/envs/wier/lib/python3.6/site-packages/urllib3/connectionpool.py:1004: InsecureRequestWarning: Unverified HTTPS request is being made to host 'e-uprava.gov.si'. Adding certificate verification is strongly advised. See: https://urllib3.readthedocs.io/en/latest/advanced-usage.html#ssl-warnings\n",
      "  InsecureRequestWarning,\n",
      "/home/viktor/anaconda3/envs/wier/lib/python3.6/site-packages/urllib3/connectionpool.py:1004: InsecureRequestWarning: Unverified HTTPS request is being made to host 'e-uprava.gov.si'. Adding certificate verification is strongly advised. See: https://urllib3.readthedocs.io/en/latest/advanced-usage.html#ssl-warnings\n",
      "  InsecureRequestWarning,\n"
     ]
    },
    {
     "name": "stdout",
     "output_type": "stream",
     "text": [
      "UPDATING PARENT:  https://e-uprava.gov.si/drzava-in-druzba/javni-sektor/podrobnosti-institucije.html?id=1099\n",
      "HASH: 0.0\n",
      "Comparing MinHash signatures took 0.01sec\n",
      "UPDATING PARENT:  https://e-uprava.gov.si/drzava-in-druzba/javni-sektor/podrobnosti-institucije.html?id=12973\n"
     ]
    },
    {
     "name": "stderr",
     "output_type": "stream",
     "text": [
      "/home/viktor/anaconda3/envs/wier/lib/python3.6/site-packages/urllib3/connectionpool.py:1004: InsecureRequestWarning: Unverified HTTPS request is being made to host 'e-uprava.gov.si'. Adding certificate verification is strongly advised. See: https://urllib3.readthedocs.io/en/latest/advanced-usage.html#ssl-warnings\n",
      "  InsecureRequestWarning,\n"
     ]
    },
    {
     "name": "stdout",
     "output_type": "stream",
     "text": [
      "HASH: 0.2\n",
      "Comparing MinHash signatures took 0.00sec\n",
      "UPDATING PARENT:  https://e-uprava.gov.si/drzava-in-druzba/javni-sektor/podrobnosti-institucije.html?id=1042\n"
     ]
    },
    {
     "name": "stderr",
     "output_type": "stream",
     "text": [
      "/home/viktor/anaconda3/envs/wier/lib/python3.6/site-packages/urllib3/connectionpool.py:1004: InsecureRequestWarning: Unverified HTTPS request is being made to host 'e-uprava.gov.si'. Adding certificate verification is strongly advised. See: https://urllib3.readthedocs.io/en/latest/advanced-usage.html#ssl-warnings\n",
      "  InsecureRequestWarning,\n"
     ]
    },
    {
     "name": "stdout",
     "output_type": "stream",
     "text": [
      "Frontier len 55268\n",
      "Frontier len 55278\n",
      "Frontier len 55287\n",
      "Frontier len 55296\n",
      "Frontier len 55305\n",
      "Frontier len 55315\n",
      "Frontier len 55325\n",
      "Frontier len 55334\n",
      "Frontier len 55343\n",
      "Frontier len 55352\n",
      "Frontier len 55361\n",
      "Frontier len 55371\n",
      "\n",
      " ... executing workers ...\n",
      "\n",
      "Num sites: 7549, i: 7924\n",
      "Retrieving web page URL 'https://e-uprava.gov.si/drzava-in-druzba/javni-sektor/podrobnosti-institucije.html?id=1906'\n",
      "Retrieving web page URL 'https://e-uprava.gov.si/drzava-in-druzba/javni-sektor/podrobnosti-institucije.html?id=1443'\n",
      "Retrieving web page URL 'https://e-uprava.gov.si/drzava-in-druzba/javni-sektor/podrobnosti-institucije.html?id=1115'\n",
      "Retrieving web page URL 'https://e-uprava.gov.si/drzava-in-druzba/javni-sektor/podrobnosti-institucije.html?id=1043'\n",
      "Retrieving web page URL 'https://e-uprava.gov.si/drzava-in-druzba/javni-sektor/podrobnosti-institucije.html?id=1409'\n",
      "Retrieving web page URL 'https://e-uprava.gov.si/drzava-in-druzba/javni-sektor/podrobnosti-institucije.html?id=1383'\n",
      "Retrieving web page URL 'https://e-uprava.gov.si/drzava-in-druzba/javni-sektor/podrobnosti-institucije.html?id=1228'\n",
      "Retrieving web page URL 'https://e-uprava.gov.si/drzava-in-druzba/javni-sektor/podrobnosti-institucije.html?id=1444'\n",
      "Retrieving web page URL 'https://e-uprava.gov.si/drzava-in-druzba/javni-sektor/podrobnosti-institucije.html?id=2373'\n",
      "Retrieving web page URL 'https://e-uprava.gov.si/drzava-in-druzba/javni-sektor/podrobnosti-institucije.html?id=1045'\n",
      "Retrieving web page URL 'https://e-uprava.gov.si/drzava-in-druzba/javni-sektor/podrobnosti-institucije.html?id=1374'\n",
      "Retrieving web page URL 'https://e-uprava.gov.si/drzava-in-druzba/javni-sektor/podrobnosti-institucije.html?id=1410'\n",
      "HASH: 0.8\n",
      "Comparing MinHash signatures took 0.01sec\n",
      "UPDATING PARENT:  https://e-uprava.gov.si/drzava-in-druzba/javni-sektor/podrobnosti-institucije.html?id=1906\n",
      "HASH: 0.0\n",
      "Comparing MinHash signatures took 0.01sec\n",
      "UPDATING PARENT:  https://e-uprava.gov.si/drzava-in-druzba/javni-sektor/podrobnosti-institucije.html?id=1228\n"
     ]
    },
    {
     "name": "stderr",
     "output_type": "stream",
     "text": [
      "/home/viktor/anaconda3/envs/wier/lib/python3.6/site-packages/urllib3/connectionpool.py:1004: InsecureRequestWarning: Unverified HTTPS request is being made to host 'e-uprava.gov.si'. Adding certificate verification is strongly advised. See: https://urllib3.readthedocs.io/en/latest/advanced-usage.html#ssl-warnings\n",
      "  InsecureRequestWarning,\n",
      "/home/viktor/anaconda3/envs/wier/lib/python3.6/site-packages/urllib3/connectionpool.py:1004: InsecureRequestWarning: Unverified HTTPS request is being made to host 'e-uprava.gov.si'. Adding certificate verification is strongly advised. See: https://urllib3.readthedocs.io/en/latest/advanced-usage.html#ssl-warnings\n",
      "  InsecureRequestWarning,\n"
     ]
    },
    {
     "name": "stdout",
     "output_type": "stream",
     "text": [
      "HASH: 0.7\n",
      "Comparing MinHash signatures took 0.00sec\n",
      "UPDATING PARENT:  https://e-uprava.gov.si/drzava-in-druzba/javni-sektor/podrobnosti-institucije.html?id=1374\n",
      "HASH: 0.7\n",
      "Comparing MinHash signatures took 0.00sec\n",
      "UPDATING PARENT:  https://e-uprava.gov.si/drzava-in-druzba/javni-sektor/podrobnosti-institucije.html?id=1045\n"
     ]
    },
    {
     "name": "stderr",
     "output_type": "stream",
     "text": [
      "/home/viktor/anaconda3/envs/wier/lib/python3.6/site-packages/urllib3/connectionpool.py:1004: InsecureRequestWarning: Unverified HTTPS request is being made to host 'e-uprava.gov.si'. Adding certificate verification is strongly advised. See: https://urllib3.readthedocs.io/en/latest/advanced-usage.html#ssl-warnings\n",
      "  InsecureRequestWarning,\n",
      "/home/viktor/anaconda3/envs/wier/lib/python3.6/site-packages/urllib3/connectionpool.py:1004: InsecureRequestWarning: Unverified HTTPS request is being made to host 'e-uprava.gov.si'. Adding certificate verification is strongly advised. See: https://urllib3.readthedocs.io/en/latest/advanced-usage.html#ssl-warnings\n",
      "  InsecureRequestWarning,\n",
      "/home/viktor/anaconda3/envs/wier/lib/python3.6/site-packages/urllib3/connectionpool.py:1004: InsecureRequestWarning: Unverified HTTPS request is being made to host 'e-uprava.gov.si'. Adding certificate verification is strongly advised. See: https://urllib3.readthedocs.io/en/latest/advanced-usage.html#ssl-warnings\n",
      "  InsecureRequestWarning,\n"
     ]
    },
    {
     "name": "stdout",
     "output_type": "stream",
     "text": [
      "HASH: 0.9\n",
      "Comparing MinHash signatures took 0.00sec\n",
      "UPDATING PARENT:  https://e-uprava.gov.si/drzava-in-druzba/javni-sektor/podrobnosti-institucije.html?id=1115\n",
      "HASH: 0.6\n",
      "Comparing MinHash signatures took 0.01sec\n",
      "UPDATING PARENT:  https://e-uprava.gov.si/drzava-in-druzba/javni-sektor/podrobnosti-institucije.html?id=1383\n",
      "HASH: 0.8\n",
      "Comparing MinHash signatures took 0.00sec\n",
      "UPDATING PARENT:  https://e-uprava.gov.si/drzava-in-druzba/javni-sektor/podrobnosti-institucije.html?id=1409\n",
      "HASH: 0.8\n",
      "Comparing MinHash signatures took 0.03sec\n",
      "HASH: 0.7\n",
      "Comparing MinHash signatures took 0.00sec\n",
      "UPDATING PARENT:  https://e-uprava.gov.si/drzava-in-druzba/javni-sektor/podrobnosti-institucije.html?id=1043\n",
      "UPDATING PARENT:  https://e-uprava.gov.si/drzava-in-druzba/javni-sektor/podrobnosti-institucije.html?id=1444\n"
     ]
    },
    {
     "name": "stderr",
     "output_type": "stream",
     "text": [
      "/home/viktor/anaconda3/envs/wier/lib/python3.6/site-packages/urllib3/connectionpool.py:1004: InsecureRequestWarning: Unverified HTTPS request is being made to host 'e-uprava.gov.si'. Adding certificate verification is strongly advised. See: https://urllib3.readthedocs.io/en/latest/advanced-usage.html#ssl-warnings\n",
      "  InsecureRequestWarning,\n",
      "/home/viktor/anaconda3/envs/wier/lib/python3.6/site-packages/urllib3/connectionpool.py:1004: InsecureRequestWarning: Unverified HTTPS request is being made to host 'e-uprava.gov.si'. Adding certificate verification is strongly advised. See: https://urllib3.readthedocs.io/en/latest/advanced-usage.html#ssl-warnings\n",
      "  InsecureRequestWarning,\n",
      "/home/viktor/anaconda3/envs/wier/lib/python3.6/site-packages/urllib3/connectionpool.py:1004: InsecureRequestWarning: Unverified HTTPS request is being made to host 'e-uprava.gov.si'. Adding certificate verification is strongly advised. See: https://urllib3.readthedocs.io/en/latest/advanced-usage.html#ssl-warnings\n",
      "  InsecureRequestWarning,\n",
      "/home/viktor/anaconda3/envs/wier/lib/python3.6/site-packages/urllib3/connectionpool.py:1004: InsecureRequestWarning: Unverified HTTPS request is being made to host 'e-uprava.gov.si'. Adding certificate verification is strongly advised. See: https://urllib3.readthedocs.io/en/latest/advanced-usage.html#ssl-warnings\n",
      "  InsecureRequestWarning,\n",
      "/home/viktor/anaconda3/envs/wier/lib/python3.6/site-packages/urllib3/connectionpool.py:1004: InsecureRequestWarning: Unverified HTTPS request is being made to host 'e-uprava.gov.si'. Adding certificate verification is strongly advised. See: https://urllib3.readthedocs.io/en/latest/advanced-usage.html#ssl-warnings\n",
      "  InsecureRequestWarning,\n"
     ]
    },
    {
     "name": "stdout",
     "output_type": "stream",
     "text": [
      "HASH: 0.8\n",
      "Comparing MinHash signatures took 0.01sec\n",
      "UPDATING PARENT:  https://e-uprava.gov.si/drzava-in-druzba/javni-sektor/podrobnosti-institucije.html?id=2373\n",
      "HASH: 0.0\n",
      "Comparing MinHash signatures took 0.01sec\n",
      "UPDATING PARENT:  https://e-uprava.gov.si/drzava-in-druzba/javni-sektor/podrobnosti-institucije.html?id=1410\n"
     ]
    },
    {
     "name": "stderr",
     "output_type": "stream",
     "text": [
      "/home/viktor/anaconda3/envs/wier/lib/python3.6/site-packages/urllib3/connectionpool.py:1004: InsecureRequestWarning: Unverified HTTPS request is being made to host 'e-uprava.gov.si'. Adding certificate verification is strongly advised. See: https://urllib3.readthedocs.io/en/latest/advanced-usage.html#ssl-warnings\n",
      "  InsecureRequestWarning,\n"
     ]
    },
    {
     "name": "stdout",
     "output_type": "stream",
     "text": [
      "HASH: 0.8\n",
      "Comparing MinHash signatures took 0.00sec\n",
      "UPDATING PARENT:  https://e-uprava.gov.si/drzava-in-druzba/javni-sektor/podrobnosti-institucije.html?id=1443\n"
     ]
    },
    {
     "name": "stderr",
     "output_type": "stream",
     "text": [
      "/home/viktor/anaconda3/envs/wier/lib/python3.6/site-packages/urllib3/connectionpool.py:1004: InsecureRequestWarning: Unverified HTTPS request is being made to host 'e-uprava.gov.si'. Adding certificate verification is strongly advised. See: https://urllib3.readthedocs.io/en/latest/advanced-usage.html#ssl-warnings\n",
      "  InsecureRequestWarning,\n"
     ]
    },
    {
     "name": "stdout",
     "output_type": "stream",
     "text": [
      "Frontier len 55383\n",
      "Frontier len 55392\n",
      "Frontier len 55405\n",
      "Frontier len 55414\n",
      "Frontier len 55423\n",
      "Frontier len 55432\n",
      "Frontier len 55441\n",
      "Frontier len 55451\n",
      "Frontier len 55460\n",
      "Frontier len 55469\n",
      "Frontier len 55480\n",
      "Frontier len 55489\n",
      "\n",
      " ... executing workers ...\n",
      "\n",
      "Num sites: 7561, i: 7936\n",
      "Retrieving web page URL 'https://e-uprava.gov.si/drzava-in-druzba/javni-sektor/podrobnosti-institucije.html?id=1253'\n",
      "Retrieving web page URL 'https://e-uprava.gov.si/drzava-in-druzba/javni-sektor/podrobnosti-institucije.html?id=1531'\n",
      "Retrieving web page URL 'https://e-uprava.gov.si/drzava-in-druzba/javni-sektor/podrobnosti-institucije.html?id=1376'\n",
      "Retrieving web page URL 'https://e-uprava.gov.si/drzava-in-druzba/javni-sektor/podrobnosti-institucije.html?id=1428'\n",
      "Retrieving web page URL 'https://e-uprava.gov.si/drzava-in-druzba/javni-sektor/podrobnosti-institucije.html?id=2814'\n",
      "Retrieving web page URL 'https://e-uprava.gov.si/drzava-in-druzba/javni-sektor/podrobnosti-institucije.html?id=1934'\n",
      "Retrieving web page URL 'https://e-uprava.gov.si/drzava-in-druzba/javni-sektor/podrobnosti-institucije.html?id=2115'\n",
      "Retrieving web page URL 'https://e-uprava.gov.si/drzava-in-druzba/javni-sektor/podrobnosti-institucije.html?id=1526'\n",
      "Retrieving web page URL 'https://e-uprava.gov.si/drzava-in-druzba/javni-sektor/podrobnosti-institucije.html?id=1191'\n",
      "Retrieving web page URL 'https://e-uprava.gov.si/drzava-in-druzba/javni-sektor/podrobnosti-institucije.html?id=1358'\n",
      "Retrieving web page URL 'https://e-uprava.gov.si/drzava-in-druzba/javni-sektor/podrobnosti-institucije.html?id=1815'\n",
      "Retrieving web page URL 'https://e-uprava.gov.si/drzava-in-druzba/javni-sektor/podrobnosti-institucije.html?id=2576'\n",
      "HASH: 0.0\n",
      "Comparing MinHash signatures took 0.01sec\n",
      "UPDATING PARENT:  https://e-uprava.gov.si/drzava-in-druzba/javni-sektor/podrobnosti-institucije.html?id=1428\n"
     ]
    },
    {
     "name": "stderr",
     "output_type": "stream",
     "text": [
      "/home/viktor/anaconda3/envs/wier/lib/python3.6/site-packages/urllib3/connectionpool.py:1004: InsecureRequestWarning: Unverified HTTPS request is being made to host 'e-uprava.gov.si'. Adding certificate verification is strongly advised. See: https://urllib3.readthedocs.io/en/latest/advanced-usage.html#ssl-warnings\n",
      "  InsecureRequestWarning,\n"
     ]
    },
    {
     "name": "stdout",
     "output_type": "stream",
     "text": [
      "HASH: 0.8\n",
      "Comparing MinHash signatures took 0.00sec\n",
      "HASH: 0.2\n",
      "Comparing MinHash signatures took 0.00sec\n",
      "UPDATING PARENT:  https://e-uprava.gov.si/drzava-in-druzba/javni-sektor/podrobnosti-institucije.html?id=2814\n",
      "UPDATING PARENT:  https://e-uprava.gov.si/drzava-in-druzba/javni-sektor/podrobnosti-institucije.html?id=1531\n"
     ]
    },
    {
     "name": "stderr",
     "output_type": "stream",
     "text": [
      "/home/viktor/anaconda3/envs/wier/lib/python3.6/site-packages/urllib3/connectionpool.py:1004: InsecureRequestWarning: Unverified HTTPS request is being made to host 'e-uprava.gov.si'. Adding certificate verification is strongly advised. See: https://urllib3.readthedocs.io/en/latest/advanced-usage.html#ssl-warnings\n",
      "  InsecureRequestWarning,\n",
      "/home/viktor/anaconda3/envs/wier/lib/python3.6/site-packages/urllib3/connectionpool.py:1004: InsecureRequestWarning: Unverified HTTPS request is being made to host 'e-uprava.gov.si'. Adding certificate verification is strongly advised. See: https://urllib3.readthedocs.io/en/latest/advanced-usage.html#ssl-warnings\n",
      "  InsecureRequestWarning,\n"
     ]
    },
    {
     "name": "stdout",
     "output_type": "stream",
     "text": [
      "HASH: 0.6\n",
      "Comparing MinHash signatures took 0.04sec\n",
      "UPDATING PARENT:  https://e-uprava.gov.si/drzava-in-druzba/javni-sektor/podrobnosti-institucije.html?id=1526HASH: 0.6\n",
      "\n",
      "Comparing MinHash signatures took 0.00sec\n",
      "UPDATING PARENT:  https://e-uprava.gov.si/drzava-in-druzba/javni-sektor/podrobnosti-institucije.html?id=2115\n",
      "HASH: 0.5\n",
      "Comparing MinHash signatures took 0.02sec\n",
      "UPDATING PARENT:  https://e-uprava.gov.si/drzava-in-druzba/javni-sektor/podrobnosti-institucije.html?id=1253\n",
      "HASH: 0.5"
     ]
    },
    {
     "name": "stderr",
     "output_type": "stream",
     "text": [
      "/home/viktor/anaconda3/envs/wier/lib/python3.6/site-packages/urllib3/connectionpool.py:1004: InsecureRequestWarning: Unverified HTTPS request is being made to host 'e-uprava.gov.si'. Adding certificate verification is strongly advised. See: https://urllib3.readthedocs.io/en/latest/advanced-usage.html#ssl-warnings\n",
      "  InsecureRequestWarning,\n",
      "/home/viktor/anaconda3/envs/wier/lib/python3.6/site-packages/urllib3/connectionpool.py:1004: InsecureRequestWarning: Unverified HTTPS request is being made to host 'e-uprava.gov.si'. Adding certificate verification is strongly advised. See: https://urllib3.readthedocs.io/en/latest/advanced-usage.html#ssl-warnings\n",
      "  InsecureRequestWarning,\n",
      "/home/viktor/anaconda3/envs/wier/lib/python3.6/site-packages/urllib3/connectionpool.py:1004: InsecureRequestWarning: Unverified HTTPS request is being made to host 'e-uprava.gov.si'. Adding certificate verification is strongly advised. See: https://urllib3.readthedocs.io/en/latest/advanced-usage.html#ssl-warnings\n",
      "  InsecureRequestWarning,\n",
      "/home/viktor/anaconda3/envs/wier/lib/python3.6/site-packages/urllib3/connectionpool.py:1004: InsecureRequestWarning: Unverified HTTPS request is being made to host 'e-uprava.gov.si'. Adding certificate verification is strongly advised. See: https://urllib3.readthedocs.io/en/latest/advanced-usage.html#ssl-warnings\n",
      "  InsecureRequestWarning,\n"
     ]
    },
    {
     "name": "stdout",
     "output_type": "stream",
     "text": [
      "\n",
      "Comparing MinHash signatures took 0.01sec\n",
      "UPDATING PARENT:  https://e-uprava.gov.si/drzava-in-druzba/javni-sektor/podrobnosti-institucije.html?id=1376\n",
      "HASH: 0.8\n",
      "Comparing MinHash signatures took 0.00sec\n",
      "UPDATING PARENT:  https://e-uprava.gov.si/drzava-in-druzba/javni-sektor/podrobnosti-institucije.html?id=1191\n",
      "HASH: 0.6\n",
      "Comparing MinHash signatures took 0.00sec\n",
      "UPDATING PARENT:  https://e-uprava.gov.si/drzava-in-druzba/javni-sektor/podrobnosti-institucije.html?id=1934\n",
      "HASH: 0.6\n",
      "Comparing MinHash signatures took 0.00sec\n",
      "UPDATING PARENT:  https://e-uprava.gov.si/drzava-in-druzba/javni-sektor/podrobnosti-institucije.html?id=2576\n"
     ]
    },
    {
     "name": "stderr",
     "output_type": "stream",
     "text": [
      "/home/viktor/anaconda3/envs/wier/lib/python3.6/site-packages/urllib3/connectionpool.py:1004: InsecureRequestWarning: Unverified HTTPS request is being made to host 'e-uprava.gov.si'. Adding certificate verification is strongly advised. See: https://urllib3.readthedocs.io/en/latest/advanced-usage.html#ssl-warnings\n",
      "  InsecureRequestWarning,\n",
      "/home/viktor/anaconda3/envs/wier/lib/python3.6/site-packages/urllib3/connectionpool.py:1004: InsecureRequestWarning: Unverified HTTPS request is being made to host 'e-uprava.gov.si'. Adding certificate verification is strongly advised. See: https://urllib3.readthedocs.io/en/latest/advanced-usage.html#ssl-warnings\n",
      "  InsecureRequestWarning,\n",
      "/home/viktor/anaconda3/envs/wier/lib/python3.6/site-packages/urllib3/connectionpool.py:1004: InsecureRequestWarning: Unverified HTTPS request is being made to host 'e-uprava.gov.si'. Adding certificate verification is strongly advised. See: https://urllib3.readthedocs.io/en/latest/advanced-usage.html#ssl-warnings\n",
      "  InsecureRequestWarning,\n",
      "/home/viktor/anaconda3/envs/wier/lib/python3.6/site-packages/urllib3/connectionpool.py:1004: InsecureRequestWarning: Unverified HTTPS request is being made to host 'e-uprava.gov.si'. Adding certificate verification is strongly advised. See: https://urllib3.readthedocs.io/en/latest/advanced-usage.html#ssl-warnings\n",
      "  InsecureRequestWarning,\n"
     ]
    },
    {
     "name": "stdout",
     "output_type": "stream",
     "text": [
      "HASH: 0.9\n",
      "Comparing MinHash signatures took 0.00sec\n",
      "UPDATING PARENT:  https://e-uprava.gov.si/drzava-in-druzba/javni-sektor/podrobnosti-institucije.html?id=1358\n",
      "HASH: 0.8\n",
      "Comparing MinHash signatures took 0.00sec\n",
      "UPDATING PARENT:  https://e-uprava.gov.si/drzava-in-druzba/javni-sektor/podrobnosti-institucije.html?id=1815\n"
     ]
    },
    {
     "name": "stderr",
     "output_type": "stream",
     "text": [
      "/home/viktor/anaconda3/envs/wier/lib/python3.6/site-packages/urllib3/connectionpool.py:1004: InsecureRequestWarning: Unverified HTTPS request is being made to host 'e-uprava.gov.si'. Adding certificate verification is strongly advised. See: https://urllib3.readthedocs.io/en/latest/advanced-usage.html#ssl-warnings\n",
      "  InsecureRequestWarning,\n"
     ]
    },
    {
     "name": "stdout",
     "output_type": "stream",
     "text": [
      "Frontier len 55499\n",
      "Frontier len 55508\n",
      "Frontier len 55517\n",
      "Frontier len 55528\n",
      "Frontier len 55537\n",
      "Frontier len 55547\n",
      "Frontier len 55557\n",
      "Frontier len 55566\n",
      "Frontier len 55578\n",
      "Frontier len 55588\n",
      "Frontier len 55599\n",
      "Frontier len 55608\n",
      "\n",
      " ... executing workers ...\n",
      "\n",
      "Num sites: 7573, i: 7948\n",
      "Retrieving web page URL 'https://e-uprava.gov.si/drzava-in-druzba/javni-sektor/podrobnosti-institucije.html?id=1180'\n",
      "Retrieving web page URL 'https://e-uprava.gov.si/drzava-in-druzba/javni-sektor/podrobnosti-institucije.html?id=1219'\n",
      "Retrieving web page URL 'https://e-uprava.gov.si/drzava-in-druzba/javni-sektor/podrobnosti-institucije.html?id=1509'\n",
      "Retrieving web page URL 'https://e-uprava.gov.si/drzava-in-druzba/javni-sektor/podrobnosti-institucije.html?id=1732'\n",
      "Retrieving web page URL 'https://e-uprava.gov.si/drzava-in-druzba/javni-sektor/podrobnosti-institucije.html?id=1394'\n",
      "Retrieving web page URL 'https://e-uprava.gov.si/drzava-in-druzba/javni-sektor/podrobnosti-institucije.html?id=1470'\n",
      "Retrieving web page URL 'https://e-uprava.gov.si/drzava-in-druzba/javni-sektor/podrobnosti-institucije.html?id=1985'\n",
      "Retrieving web page URL 'https://e-uprava.gov.si/drzava-in-druzba/javni-sektor/podrobnosti-institucije.html?id=1421'\n",
      "Retrieving web page URL 'https://e-uprava.gov.si/drzava-in-druzba/javni-sektor/podrobnosti-institucije.html?id=1345'\n",
      "Retrieving web page URL 'https://e-uprava.gov.si/drzava-in-druzba/javni-sektor/podrobnosti-institucije.html?id=1222'\n",
      "Retrieving web page URL 'https://e-uprava.gov.si/drzava-in-druzba/javni-sektor/podrobnosti-institucije.html?id=5329'\n",
      "Retrieving web page URL 'https://e-uprava.gov.si/drzava-in-druzba/javni-sektor/podrobnosti-institucije.html?id=1369'\n",
      "HASH: 0.9\n",
      "Comparing MinHash signatures took 0.01sec\n",
      "UPDATING PARENT:  https://e-uprava.gov.si/drzava-in-druzba/javni-sektor/podrobnosti-institucije.html?id=1345\n"
     ]
    },
    {
     "name": "stderr",
     "output_type": "stream",
     "text": [
      "/home/viktor/anaconda3/envs/wier/lib/python3.6/site-packages/urllib3/connectionpool.py:1004: InsecureRequestWarning: Unverified HTTPS request is being made to host 'e-uprava.gov.si'. Adding certificate verification is strongly advised. See: https://urllib3.readthedocs.io/en/latest/advanced-usage.html#ssl-warnings\n",
      "  InsecureRequestWarning,\n"
     ]
    },
    {
     "name": "stdout",
     "output_type": "stream",
     "text": [
      "HASH: 0.0\n",
      "Comparing MinHash signatures took 0.00sec\n",
      "UPDATING PARENT:  https://e-uprava.gov.si/drzava-in-druzba/javni-sektor/podrobnosti-institucije.html?id=1394\n"
     ]
    },
    {
     "name": "stderr",
     "output_type": "stream",
     "text": [
      "/home/viktor/anaconda3/envs/wier/lib/python3.6/site-packages/urllib3/connectionpool.py:1004: InsecureRequestWarning: Unverified HTTPS request is being made to host 'e-uprava.gov.si'. Adding certificate verification is strongly advised. See: https://urllib3.readthedocs.io/en/latest/advanced-usage.html#ssl-warnings\n",
      "  InsecureRequestWarning,\n"
     ]
    },
    {
     "name": "stdout",
     "output_type": "stream",
     "text": [
      "HASH: 1.0\n",
      "Comparing MinHash signatures took 0.01sec\n",
      "HASH: 0.0\n",
      "Comparing MinHash signatures took 0.01sec\n",
      "UPDATING PARENT:  https://e-uprava.gov.si/drzava-in-druzba/javni-sektor/podrobnosti-institucije.html?id=5329\n",
      "UPDATING PARENT:  https://e-uprava.gov.si/drzava-in-druzba/javni-sektor/podrobnosti-institucije.html?id=1219\n",
      "HASH: 0.9\n",
      "Comparing MinHash signatures took 0.00sec\n",
      "UPDATING PARENT:  https://e-uprava.gov.si/drzava-in-druzba/javni-sektor/podrobnosti-institucije.html?id=1421\n"
     ]
    },
    {
     "name": "stderr",
     "output_type": "stream",
     "text": [
      "/home/viktor/anaconda3/envs/wier/lib/python3.6/site-packages/urllib3/connectionpool.py:1004: InsecureRequestWarning: Unverified HTTPS request is being made to host 'e-uprava.gov.si'. Adding certificate verification is strongly advised. See: https://urllib3.readthedocs.io/en/latest/advanced-usage.html#ssl-warnings\n",
      "  InsecureRequestWarning,\n",
      "/home/viktor/anaconda3/envs/wier/lib/python3.6/site-packages/urllib3/connectionpool.py:1004: InsecureRequestWarning: Unverified HTTPS request is being made to host 'e-uprava.gov.si'. Adding certificate verification is strongly advised. See: https://urllib3.readthedocs.io/en/latest/advanced-usage.html#ssl-warnings\n",
      "  InsecureRequestWarning,\n",
      "/home/viktor/anaconda3/envs/wier/lib/python3.6/site-packages/urllib3/connectionpool.py:1004: InsecureRequestWarning: Unverified HTTPS request is being made to host 'e-uprava.gov.si'. Adding certificate verification is strongly advised. See: https://urllib3.readthedocs.io/en/latest/advanced-usage.html#ssl-warnings\n",
      "  InsecureRequestWarning,\n"
     ]
    },
    {
     "name": "stdout",
     "output_type": "stream",
     "text": [
      "HASH: 0.0\n",
      "Comparing MinHash signatures took 0.02sec\n",
      "UPDATING PARENT:  https://e-uprava.gov.si/drzava-in-druzba/javni-sektor/podrobnosti-institucije.html?id=1470\n",
      "HASH: 0.8\n",
      "Comparing MinHash signatures took 0.00sec\n",
      "UPDATING PARENT:  https://e-uprava.gov.si/drzava-in-druzba/javni-sektor/podrobnosti-institucije.html?id=1509\n",
      "HASH: 0.1\n",
      "Comparing MinHash signatures took 0.00sec\n",
      "UPDATING PARENT:  https://e-uprava.gov.si/drzava-in-druzba/javni-sektor/podrobnosti-institucije.html?id=1732\n"
     ]
    },
    {
     "name": "stderr",
     "output_type": "stream",
     "text": [
      "/home/viktor/anaconda3/envs/wier/lib/python3.6/site-packages/urllib3/connectionpool.py:1004: InsecureRequestWarning: Unverified HTTPS request is being made to host 'e-uprava.gov.si'. Adding certificate verification is strongly advised. See: https://urllib3.readthedocs.io/en/latest/advanced-usage.html#ssl-warnings\n",
      "  InsecureRequestWarning,\n",
      "/home/viktor/anaconda3/envs/wier/lib/python3.6/site-packages/urllib3/connectionpool.py:1004: InsecureRequestWarning: Unverified HTTPS request is being made to host 'e-uprava.gov.si'. Adding certificate verification is strongly advised. See: https://urllib3.readthedocs.io/en/latest/advanced-usage.html#ssl-warnings\n",
      "  InsecureRequestWarning,\n",
      "/home/viktor/anaconda3/envs/wier/lib/python3.6/site-packages/urllib3/connectionpool.py:1004: InsecureRequestWarning: Unverified HTTPS request is being made to host 'e-uprava.gov.si'. Adding certificate verification is strongly advised. See: https://urllib3.readthedocs.io/en/latest/advanced-usage.html#ssl-warnings\n",
      "  InsecureRequestWarning,\n"
     ]
    },
    {
     "name": "stdout",
     "output_type": "stream",
     "text": [
      "HASH: 0.8\n",
      "Comparing MinHash signatures took 0.02sec\n",
      "UPDATING PARENT:  https://e-uprava.gov.si/drzava-in-druzba/javni-sektor/podrobnosti-institucije.html?id=1180\n",
      "HASH: 0.1\n",
      "Comparing MinHash signatures took 0.00sec\n",
      "UPDATING PARENT:  https://e-uprava.gov.si/drzava-in-druzba/javni-sektor/podrobnosti-institucije.html?id=1369\n",
      "HASH: 0.9\n",
      "Comparing MinHash signatures took 0.00sec\n",
      "UPDATING PARENT:  https://e-uprava.gov.si/drzava-in-druzba/javni-sektor/podrobnosti-institucije.html?id=1222\n"
     ]
    },
    {
     "name": "stderr",
     "output_type": "stream",
     "text": [
      "/home/viktor/anaconda3/envs/wier/lib/python3.6/site-packages/urllib3/connectionpool.py:1004: InsecureRequestWarning: Unverified HTTPS request is being made to host 'e-uprava.gov.si'. Adding certificate verification is strongly advised. See: https://urllib3.readthedocs.io/en/latest/advanced-usage.html#ssl-warnings\n",
      "  InsecureRequestWarning,\n",
      "/home/viktor/anaconda3/envs/wier/lib/python3.6/site-packages/urllib3/connectionpool.py:1004: InsecureRequestWarning: Unverified HTTPS request is being made to host 'e-uprava.gov.si'. Adding certificate verification is strongly advised. See: https://urllib3.readthedocs.io/en/latest/advanced-usage.html#ssl-warnings\n",
      "  InsecureRequestWarning,\n",
      "/home/viktor/anaconda3/envs/wier/lib/python3.6/site-packages/urllib3/connectionpool.py:1004: InsecureRequestWarning: Unverified HTTPS request is being made to host 'e-uprava.gov.si'. Adding certificate verification is strongly advised. See: https://urllib3.readthedocs.io/en/latest/advanced-usage.html#ssl-warnings\n",
      "  InsecureRequestWarning,\n"
     ]
    },
    {
     "name": "stdout",
     "output_type": "stream",
     "text": [
      "HASH: 0.0\n",
      "Comparing MinHash signatures took 0.00sec\n",
      "UPDATING PARENT:  https://e-uprava.gov.si/drzava-in-druzba/javni-sektor/podrobnosti-institucije.html?id=1985\n"
     ]
    },
    {
     "name": "stderr",
     "output_type": "stream",
     "text": [
      "/home/viktor/anaconda3/envs/wier/lib/python3.6/site-packages/urllib3/connectionpool.py:1004: InsecureRequestWarning: Unverified HTTPS request is being made to host 'e-uprava.gov.si'. Adding certificate verification is strongly advised. See: https://urllib3.readthedocs.io/en/latest/advanced-usage.html#ssl-warnings\n",
      "  InsecureRequestWarning,\n"
     ]
    },
    {
     "name": "stdout",
     "output_type": "stream",
     "text": [
      "Frontier len 55617\n",
      "Frontier len 55626\n",
      "Frontier len 55635\n",
      "Frontier len 55644\n",
      "Frontier len 55654\n",
      "Frontier len 55663\n",
      "Frontier len 55673\n",
      "Frontier len 55682\n",
      "Frontier len 55691\n",
      "Frontier len 55700\n",
      "Frontier len 55710\n",
      "Frontier len 55720\n",
      "\n",
      " ... executing workers ...\n",
      "\n",
      "Num sites: 7585, i: 7960\n",
      "Retrieving web page URL 'https://e-uprava.gov.si/drzava-in-druzba/javni-sektor/podrobnosti-institucije.html?id=1194'\n",
      "Retrieving web page URL 'https://e-uprava.gov.si/drzava-in-druzba/javni-sektor/podrobnosti-institucije.html?id=1322'\n",
      "Retrieving web page URL 'https://e-uprava.gov.si/drzava-in-druzba/javni-sektor/podrobnosti-institucije.html?id=1398'\n",
      "Retrieving web page URL 'https://e-uprava.gov.si/drzava-in-druzba/javni-sektor/podrobnosti-institucije.html?id=1037'\n",
      "Retrieving web page URL 'https://e-uprava.gov.si/drzava-in-druzba/javni-sektor/podrobnosti-institucije.html?id=1273'\n",
      "Retrieving web page URL 'https://e-uprava.gov.si/drzava-in-druzba/javni-sektor/podrobnosti-institucije.html?id=1072'\n",
      "Retrieving web page URL 'https://e-uprava.gov.si/drzava-in-druzba/javni-sektor/podrobnosti-institucije.html?id=1533'\n",
      "Retrieving web page URL 'https://e-uprava.gov.si/drzava-in-druzba/javni-sektor/podrobnosti-institucije.html?id=1060'\n",
      "Retrieving web page URL 'https://e-uprava.gov.si/drzava-in-druzba/javni-sektor/podrobnosti-institucije.html?id=1035'\n",
      "Retrieving web page URL 'https://e-uprava.gov.si/drzava-in-druzba/javni-sektor/podrobnosti-institucije.html?id=1326'\n",
      "Retrieving web page URL 'https://e-uprava.gov.si/drzava-in-druzba/javni-sektor/podrobnosti-institucije.html?id=1272'\n",
      "Retrieving web page URL 'https://e-uprava.gov.si/drzava-in-druzba/javni-sektor/podrobnosti-institucije.html?id=2626'\n",
      "HASH: 0.7\n",
      "Comparing MinHash signatures took 0.01sec\n",
      "UPDATING PARENT:  https://e-uprava.gov.si/drzava-in-druzba/javni-sektor/podrobnosti-institucije.html?id=1273\n"
     ]
    },
    {
     "name": "stderr",
     "output_type": "stream",
     "text": [
      "/home/viktor/anaconda3/envs/wier/lib/python3.6/site-packages/urllib3/connectionpool.py:1004: InsecureRequestWarning: Unverified HTTPS request is being made to host 'e-uprava.gov.si'. Adding certificate verification is strongly advised. See: https://urllib3.readthedocs.io/en/latest/advanced-usage.html#ssl-warnings\n",
      "  InsecureRequestWarning,\n"
     ]
    },
    {
     "name": "stdout",
     "output_type": "stream",
     "text": [
      "HASH: 0.7\n",
      "Comparing MinHash signatures took 0.00sec\n",
      "UPDATING PARENT:  https://e-uprava.gov.si/drzava-in-druzba/javni-sektor/podrobnosti-institucije.html?id=1322\n",
      "HASH: 0.9\n",
      "Comparing MinHash signatures took 0.01sec\n",
      "UPDATING PARENT:  https://e-uprava.gov.si/drzava-in-druzba/javni-sektor/podrobnosti-institucije.html?id=1194\n"
     ]
    },
    {
     "name": "stderr",
     "output_type": "stream",
     "text": [
      "/home/viktor/anaconda3/envs/wier/lib/python3.6/site-packages/urllib3/connectionpool.py:1004: InsecureRequestWarning: Unverified HTTPS request is being made to host 'e-uprava.gov.si'. Adding certificate verification is strongly advised. See: https://urllib3.readthedocs.io/en/latest/advanced-usage.html#ssl-warnings\n",
      "  InsecureRequestWarning,\n",
      "/home/viktor/anaconda3/envs/wier/lib/python3.6/site-packages/urllib3/connectionpool.py:1004: InsecureRequestWarning: Unverified HTTPS request is being made to host 'e-uprava.gov.si'. Adding certificate verification is strongly advised. See: https://urllib3.readthedocs.io/en/latest/advanced-usage.html#ssl-warnings\n",
      "  InsecureRequestWarning,\n"
     ]
    },
    {
     "name": "stdout",
     "output_type": "stream",
     "text": [
      "HASH: 0.7\n",
      "Comparing MinHash signatures took 0.00sec\n",
      "UPDATING PARENT:  https://e-uprava.gov.si/drzava-in-druzba/javni-sektor/podrobnosti-institucije.html?id=1072\n"
     ]
    },
    {
     "name": "stderr",
     "output_type": "stream",
     "text": [
      "/home/viktor/anaconda3/envs/wier/lib/python3.6/site-packages/urllib3/connectionpool.py:1004: InsecureRequestWarning: Unverified HTTPS request is being made to host 'e-uprava.gov.si'. Adding certificate verification is strongly advised. See: https://urllib3.readthedocs.io/en/latest/advanced-usage.html#ssl-warnings\n",
      "  InsecureRequestWarning,\n"
     ]
    },
    {
     "name": "stdout",
     "output_type": "stream",
     "text": [
      "HASH: 0.9\n",
      "Comparing MinHash signatures took 0.03sec\n",
      "HASH: 0.8\n",
      "Comparing MinHash signatures took 0.01sec\n",
      "HASH: 0.8\n",
      "Comparing MinHash signatures took 0.00sec\n",
      "UPDATING PARENT:  https://e-uprava.gov.si/drzava-in-druzba/javni-sektor/podrobnosti-institucije.html?id=1035\n",
      "UPDATING PARENT:  https://e-uprava.gov.si/drzava-in-druzba/javni-sektor/podrobnosti-institucije.html?id=1037\n",
      "UPDATING PARENT:  https://e-uprava.gov.si/drzava-in-druzba/javni-sektor/podrobnosti-institucije.html?id=1398\n",
      "HASH: 0.1\n",
      "Comparing MinHash signatures took 0.01sec\n",
      "UPDATING PARENT:  https://e-uprava.gov.si/drzava-in-druzba/javni-sektor/podrobnosti-institucije.html?id=1272\n"
     ]
    },
    {
     "name": "stderr",
     "output_type": "stream",
     "text": [
      "/home/viktor/anaconda3/envs/wier/lib/python3.6/site-packages/urllib3/connectionpool.py:1004: InsecureRequestWarning: Unverified HTTPS request is being made to host 'e-uprava.gov.si'. Adding certificate verification is strongly advised. See: https://urllib3.readthedocs.io/en/latest/advanced-usage.html#ssl-warnings\n",
      "  InsecureRequestWarning,\n",
      "/home/viktor/anaconda3/envs/wier/lib/python3.6/site-packages/urllib3/connectionpool.py:1004: InsecureRequestWarning: Unverified HTTPS request is being made to host 'e-uprava.gov.si'. Adding certificate verification is strongly advised. See: https://urllib3.readthedocs.io/en/latest/advanced-usage.html#ssl-warnings\n",
      "  InsecureRequestWarning,\n",
      "/home/viktor/anaconda3/envs/wier/lib/python3.6/site-packages/urllib3/connectionpool.py:1004: InsecureRequestWarning: Unverified HTTPS request is being made to host 'e-uprava.gov.si'. Adding certificate verification is strongly advised. See: https://urllib3.readthedocs.io/en/latest/advanced-usage.html#ssl-warnings\n",
      "  InsecureRequestWarning,\n"
     ]
    },
    {
     "name": "stdout",
     "output_type": "stream",
     "text": [
      "HASH: 0.9\n",
      "Comparing MinHash signatures took 0.01sec\n",
      "HASH: 0.0\n",
      "Comparing MinHash signatures took 0.00sec\n",
      "UPDATING PARENT:  https://e-uprava.gov.si/drzava-in-druzba/javni-sektor/podrobnosti-institucije.html?id=2626\n",
      "UPDATING PARENT:  https://e-uprava.gov.si/drzava-in-druzba/javni-sektor/podrobnosti-institucije.html?id=1060\n",
      "HASH: 0.7\n",
      "Comparing MinHash signatures took 0.10sec\n",
      "UPDATING PARENT:  https://e-uprava.gov.si/drzava-in-druzba/javni-sektor/podrobnosti-institucije.html?id=1533\n"
     ]
    },
    {
     "name": "stderr",
     "output_type": "stream",
     "text": [
      "/home/viktor/anaconda3/envs/wier/lib/python3.6/site-packages/urllib3/connectionpool.py:1004: InsecureRequestWarning: Unverified HTTPS request is being made to host 'e-uprava.gov.si'. Adding certificate verification is strongly advised. See: https://urllib3.readthedocs.io/en/latest/advanced-usage.html#ssl-warnings\n",
      "  InsecureRequestWarning,\n",
      "/home/viktor/anaconda3/envs/wier/lib/python3.6/site-packages/urllib3/connectionpool.py:1004: InsecureRequestWarning: Unverified HTTPS request is being made to host 'e-uprava.gov.si'. Adding certificate verification is strongly advised. See: https://urllib3.readthedocs.io/en/latest/advanced-usage.html#ssl-warnings\n",
      "  InsecureRequestWarning,\n",
      "/home/viktor/anaconda3/envs/wier/lib/python3.6/site-packages/urllib3/connectionpool.py:1004: InsecureRequestWarning: Unverified HTTPS request is being made to host 'e-uprava.gov.si'. Adding certificate verification is strongly advised. See: https://urllib3.readthedocs.io/en/latest/advanced-usage.html#ssl-warnings\n",
      "  InsecureRequestWarning,\n",
      "/home/viktor/anaconda3/envs/wier/lib/python3.6/site-packages/urllib3/connectionpool.py:1004: InsecureRequestWarning: Unverified HTTPS request is being made to host 'e-uprava.gov.si'. Adding certificate verification is strongly advised. See: https://urllib3.readthedocs.io/en/latest/advanced-usage.html#ssl-warnings\n",
      "  InsecureRequestWarning,\n",
      "/home/viktor/anaconda3/envs/wier/lib/python3.6/site-packages/urllib3/connectionpool.py:1004: InsecureRequestWarning: Unverified HTTPS request is being made to host 'e-uprava.gov.si'. Adding certificate verification is strongly advised. See: https://urllib3.readthedocs.io/en/latest/advanced-usage.html#ssl-warnings\n",
      "  InsecureRequestWarning,\n"
     ]
    },
    {
     "name": "stdout",
     "output_type": "stream",
     "text": [
      "HASH: 0.9\n",
      "Comparing MinHash signatures took 0.00sec\n",
      "UPDATING PARENT:  https://e-uprava.gov.si/drzava-in-druzba/javni-sektor/podrobnosti-institucije.html?id=1326\n",
      "Frontier len 55731\n",
      "Frontier len 55741\n",
      "Frontier len 55752\n",
      "Frontier len 55761\n",
      "Frontier len 55770\n",
      "Frontier len 55781\n",
      "Frontier len 55790\n",
      "Frontier len 55800\n",
      "Frontier len 55809\n",
      "Frontier len 55819\n",
      "Frontier len 55829\n",
      "Frontier len 55838\n",
      "\n",
      " ... executing workers ...\n",
      "\n",
      "Num sites: 7597, i: 7972\n",
      "Retrieving web page URL 'https://e-uprava.gov.si/drzava-in-druzba/javni-sektor/podrobnosti-institucije.html?id=1067'\n",
      "Retrieving web page URL 'https://e-uprava.gov.si/drzava-in-druzba/javni-sektor/podrobnosti-institucije.html?id=1495'\n",
      "Retrieving web page URL 'https://e-uprava.gov.si/drzava-in-druzba/javni-sektor/podrobnosti-institucije.html?id=1110'\n",
      "Retrieving web page URL 'https://e-uprava.gov.si/drzava-in-druzba/javni-sektor/podrobnosti-institucije.html?id=1103'\n",
      "Retrieving web page URL 'https://e-uprava.gov.si/drzava-in-druzba/javni-sektor/podrobnosti-institucije.html?id=1436'\n",
      "Retrieving web page URL 'https://e-uprava.gov.si/drzava-in-druzba/javni-sektor/podrobnosti-institucije.html?id=1348'\n",
      "Retrieving web page URL 'https://e-uprava.gov.si/drzava-in-druzba/javni-sektor/podrobnosti-institucije.html?id=13492'\n",
      "Retrieving web page URL 'https://e-uprava.gov.si/drzava-in-druzba/javni-sektor/podrobnosti-institucije.html?id=1098'\n",
      "Retrieving web page URL 'https://e-uprava.gov.si/drzava-in-druzba/javni-sektor/podrobnosti-institucije.html?id=1492'Retrieving web page URL 'https://e-uprava.gov.si/drzava-in-druzba/javni-sektor/podrobnosti-institucije.html?id=1453'\n",
      "\n",
      "Retrieving web page URL 'https://e-uprava.gov.si/drzava-in-druzba/javni-sektor/podrobnosti-institucije.html?id=1366'\n",
      "Retrieving web page URL 'https://e-uprava.gov.si/drzava-in-druzba/javni-sektor/podrobnosti-institucije.html?id=1235'\n",
      "HASH: 0.7\n",
      "Comparing MinHash signatures took 0.01sec\n",
      "UPDATING PARENT:  https://e-uprava.gov.si/drzava-in-druzba/javni-sektor/podrobnosti-institucije.html?id=1067\n"
     ]
    },
    {
     "name": "stderr",
     "output_type": "stream",
     "text": [
      "/home/viktor/anaconda3/envs/wier/lib/python3.6/site-packages/urllib3/connectionpool.py:1004: InsecureRequestWarning: Unverified HTTPS request is being made to host 'e-uprava.gov.si'. Adding certificate verification is strongly advised. See: https://urllib3.readthedocs.io/en/latest/advanced-usage.html#ssl-warnings\n",
      "  InsecureRequestWarning,\n"
     ]
    },
    {
     "name": "stdout",
     "output_type": "stream",
     "text": [
      "HASH: 0.8\n",
      "Comparing MinHash signatures took 0.00sec\n",
      "UPDATING PARENT:  https://e-uprava.gov.si/drzava-in-druzba/javni-sektor/podrobnosti-institucije.html?id=13492\n"
     ]
    },
    {
     "name": "stderr",
     "output_type": "stream",
     "text": [
      "/home/viktor/anaconda3/envs/wier/lib/python3.6/site-packages/urllib3/connectionpool.py:1004: InsecureRequestWarning: Unverified HTTPS request is being made to host 'e-uprava.gov.si'. Adding certificate verification is strongly advised. See: https://urllib3.readthedocs.io/en/latest/advanced-usage.html#ssl-warnings\n",
      "  InsecureRequestWarning,\n"
     ]
    },
    {
     "name": "stdout",
     "output_type": "stream",
     "text": [
      "HASH: 0.0\n",
      "Comparing MinHash signatures took 0.00sec\n",
      "UPDATING PARENT:  https://e-uprava.gov.si/drzava-in-druzba/javni-sektor/podrobnosti-institucije.html?id=1436\n",
      "HASH: 0.7\n",
      "Comparing MinHash signatures took 0.00sec\n",
      "UPDATING PARENT:  https://e-uprava.gov.si/drzava-in-druzba/javni-sektor/podrobnosti-institucije.html?id=1098\n"
     ]
    },
    {
     "name": "stderr",
     "output_type": "stream",
     "text": [
      "/home/viktor/anaconda3/envs/wier/lib/python3.6/site-packages/urllib3/connectionpool.py:1004: InsecureRequestWarning: Unverified HTTPS request is being made to host 'e-uprava.gov.si'. Adding certificate verification is strongly advised. See: https://urllib3.readthedocs.io/en/latest/advanced-usage.html#ssl-warnings\n",
      "  InsecureRequestWarning,\n",
      "/home/viktor/anaconda3/envs/wier/lib/python3.6/site-packages/urllib3/connectionpool.py:1004: InsecureRequestWarning: Unverified HTTPS request is being made to host 'e-uprava.gov.si'. Adding certificate verification is strongly advised. See: https://urllib3.readthedocs.io/en/latest/advanced-usage.html#ssl-warnings\n",
      "  InsecureRequestWarning,\n"
     ]
    },
    {
     "name": "stdout",
     "output_type": "stream",
     "text": [
      "HASH: 0.8\n",
      "Comparing MinHash signatures took 0.00sec\n",
      "UPDATING PARENT:  https://e-uprava.gov.si/drzava-in-druzba/javni-sektor/podrobnosti-institucije.html?id=1103\n"
     ]
    },
    {
     "name": "stderr",
     "output_type": "stream",
     "text": [
      "/home/viktor/anaconda3/envs/wier/lib/python3.6/site-packages/urllib3/connectionpool.py:1004: InsecureRequestWarning: Unverified HTTPS request is being made to host 'e-uprava.gov.si'. Adding certificate verification is strongly advised. See: https://urllib3.readthedocs.io/en/latest/advanced-usage.html#ssl-warnings\n",
      "  InsecureRequestWarning,\n"
     ]
    },
    {
     "name": "stdout",
     "output_type": "stream",
     "text": [
      "HASH: 0.8\n",
      "Comparing MinHash signatures took 0.01sec\n",
      "HASH: 0.0\n",
      "Comparing MinHash signatures took 0.00sec\n",
      "UPDATING PARENT:  https://e-uprava.gov.si/drzava-in-druzba/javni-sektor/podrobnosti-institucije.html?id=1453\n",
      "HASH: 0.8\n",
      "Comparing MinHash signatures took 0.00sec\n",
      "UPDATING PARENT:  https://e-uprava.gov.si/drzava-in-druzba/javni-sektor/podrobnosti-institucije.html?id=1348\n",
      "UPDATING PARENT:  https://e-uprava.gov.si/drzava-in-druzba/javni-sektor/podrobnosti-institucije.html?id=1492\n"
     ]
    },
    {
     "name": "stderr",
     "output_type": "stream",
     "text": [
      "/home/viktor/anaconda3/envs/wier/lib/python3.6/site-packages/urllib3/connectionpool.py:1004: InsecureRequestWarning: Unverified HTTPS request is being made to host 'e-uprava.gov.si'. Adding certificate verification is strongly advised. See: https://urllib3.readthedocs.io/en/latest/advanced-usage.html#ssl-warnings\n",
      "  InsecureRequestWarning,\n",
      "/home/viktor/anaconda3/envs/wier/lib/python3.6/site-packages/urllib3/connectionpool.py:1004: InsecureRequestWarning: Unverified HTTPS request is being made to host 'e-uprava.gov.si'. Adding certificate verification is strongly advised. See: https://urllib3.readthedocs.io/en/latest/advanced-usage.html#ssl-warnings\n",
      "  InsecureRequestWarning,\n",
      "/home/viktor/anaconda3/envs/wier/lib/python3.6/site-packages/urllib3/connectionpool.py:1004: InsecureRequestWarning: Unverified HTTPS request is being made to host 'e-uprava.gov.si'. Adding certificate verification is strongly advised. See: https://urllib3.readthedocs.io/en/latest/advanced-usage.html#ssl-warnings\n",
      "  InsecureRequestWarning,\n"
     ]
    },
    {
     "name": "stdout",
     "output_type": "stream",
     "text": [
      "HASH: 0.8HASH: 0.1\n",
      "Comparing MinHash signatures took 0.00sec\n",
      "UPDATING PARENT:  https://e-uprava.gov.si/drzava-in-druzba/javni-sektor/podrobnosti-institucije.html?id=1366\n",
      "\n",
      "Comparing MinHash signatures took 0.04sec\n",
      "HASH: 0.7\n",
      "Comparing MinHash signatures took 0.02sec\n",
      "UPDATING PARENT:  https://e-uprava.gov.si/drzava-in-druzba/javni-sektor/podrobnosti-institucije.html?id=1495\n",
      "UPDATING PARENT:  https://e-uprava.gov.si/drzava-in-druzba/javni-sektor/podrobnosti-institucije.html?id=1110\n"
     ]
    },
    {
     "name": "stderr",
     "output_type": "stream",
     "text": [
      "/home/viktor/anaconda3/envs/wier/lib/python3.6/site-packages/urllib3/connectionpool.py:1004: InsecureRequestWarning: Unverified HTTPS request is being made to host 'e-uprava.gov.si'. Adding certificate verification is strongly advised. See: https://urllib3.readthedocs.io/en/latest/advanced-usage.html#ssl-warnings\n",
      "  InsecureRequestWarning,\n",
      "/home/viktor/anaconda3/envs/wier/lib/python3.6/site-packages/urllib3/connectionpool.py:1004: InsecureRequestWarning: Unverified HTTPS request is being made to host 'e-uprava.gov.si'. Adding certificate verification is strongly advised. See: https://urllib3.readthedocs.io/en/latest/advanced-usage.html#ssl-warnings\n",
      "  InsecureRequestWarning,\n",
      "/home/viktor/anaconda3/envs/wier/lib/python3.6/site-packages/urllib3/connectionpool.py:1004: InsecureRequestWarning: Unverified HTTPS request is being made to host 'e-uprava.gov.si'. Adding certificate verification is strongly advised. See: https://urllib3.readthedocs.io/en/latest/advanced-usage.html#ssl-warnings\n",
      "  InsecureRequestWarning,\n"
     ]
    },
    {
     "name": "stdout",
     "output_type": "stream",
     "text": [
      "HASH: 0.7\n",
      "Comparing MinHash signatures took 0.00sec\n",
      "UPDATING PARENT:  https://e-uprava.gov.si/drzava-in-druzba/javni-sektor/podrobnosti-institucije.html?id=1235\n"
     ]
    },
    {
     "name": "stderr",
     "output_type": "stream",
     "text": [
      "/home/viktor/anaconda3/envs/wier/lib/python3.6/site-packages/urllib3/connectionpool.py:1004: InsecureRequestWarning: Unverified HTTPS request is being made to host 'e-uprava.gov.si'. Adding certificate verification is strongly advised. See: https://urllib3.readthedocs.io/en/latest/advanced-usage.html#ssl-warnings\n",
      "  InsecureRequestWarning,\n"
     ]
    },
    {
     "name": "stdout",
     "output_type": "stream",
     "text": [
      "Frontier len 55847\n",
      "Frontier len 55856\n",
      "Frontier len 55865\n",
      "Frontier len 55874\n",
      "Frontier len 55883\n",
      "Frontier len 55892\n",
      "Frontier len 55903\n",
      "Frontier len 55914\n",
      "Frontier len 55923\n",
      "Frontier len 55936\n",
      "Frontier len 55945\n",
      "Frontier len 55955\n",
      "\n",
      " ... executing workers ...\n",
      "\n",
      "Num sites: 7609, i: 7984\n",
      "Retrieving web page URL 'https://e-uprava.gov.si/drzava-in-druzba/javni-sektor/podrobnosti-institucije.html?id=1301'\n",
      "Retrieving web page URL 'https://e-uprava.gov.si/drzava-in-druzba/javni-sektor/podrobnosti-institucije.html?id=1375'\n",
      "Retrieving web page URL 'https://e-uprava.gov.si/drzava-in-druzba/javni-sektor/podrobnosti-institucije.html?id=1087'\n",
      "Retrieving web page URL 'https://e-uprava.gov.si/drzava-in-druzba/javni-sektor/podrobnosti-institucije.html?id=1257'\n",
      "Retrieving web page URL 'https://e-uprava.gov.si/drzava-in-druzba/javni-sektor/podrobnosti-institucije.html?id=1077'\n",
      "Retrieving web page URL 'https://e-uprava.gov.si/drzava-in-druzba/javni-sektor/podrobnosti-institucije.html?id=1771'\n",
      "Retrieving web page URL 'https://e-uprava.gov.si/drzava-in-druzba/javni-sektor/podrobnosti-institucije.html?id=1987'\n",
      "Retrieving web page URL 'https://e-uprava.gov.si/drzava-in-druzba/javni-sektor/podrobnosti-institucije.html?id=1243'\n",
      "Retrieving web page URL 'https://e-uprava.gov.si/drzava-in-druzba/javni-sektor/podrobnosti-institucije.html?id=2902'\n",
      "Retrieving web page URL 'https://e-uprava.gov.si/drzava-in-druzba/javni-sektor/podrobnosti-institucije.html?id=2531'\n",
      "Retrieving web page URL 'https://e-uprava.gov.si/drzava-in-druzba/javni-sektor/podrobnosti-institucije.html?id=1085'\n",
      "Retrieving web page URL 'https://e-uprava.gov.si/drzava-in-druzba/javni-sektor/podrobnosti-institucije.html?id=1393'\n",
      "HASH: 0.8\n",
      "Comparing MinHash signatures took 0.01sec\n",
      "UPDATING PARENT:  https://e-uprava.gov.si/drzava-in-druzba/javni-sektor/podrobnosti-institucije.html?id=1301\n"
     ]
    },
    {
     "name": "stderr",
     "output_type": "stream",
     "text": [
      "/home/viktor/anaconda3/envs/wier/lib/python3.6/site-packages/urllib3/connectionpool.py:1004: InsecureRequestWarning: Unverified HTTPS request is being made to host 'e-uprava.gov.si'. Adding certificate verification is strongly advised. See: https://urllib3.readthedocs.io/en/latest/advanced-usage.html#ssl-warnings\n",
      "  InsecureRequestWarning,\n"
     ]
    },
    {
     "name": "stdout",
     "output_type": "stream",
     "text": [
      "HASH: 0.8\n",
      "Comparing MinHash signatures took 0.00sec\n",
      "UPDATING PARENT:  https://e-uprava.gov.si/drzava-in-druzba/javni-sektor/podrobnosti-institucije.html?id=1257\n"
     ]
    },
    {
     "name": "stderr",
     "output_type": "stream",
     "text": [
      "/home/viktor/anaconda3/envs/wier/lib/python3.6/site-packages/urllib3/connectionpool.py:1004: InsecureRequestWarning: Unverified HTTPS request is being made to host 'e-uprava.gov.si'. Adding certificate verification is strongly advised. See: https://urllib3.readthedocs.io/en/latest/advanced-usage.html#ssl-warnings\n",
      "  InsecureRequestWarning,\n"
     ]
    },
    {
     "name": "stdout",
     "output_type": "stream",
     "text": [
      "HASH: 0.7\n",
      "Comparing MinHash signatures took 0.00sec\n",
      "UPDATING PARENT:  https://e-uprava.gov.si/drzava-in-druzba/javni-sektor/podrobnosti-institucije.html?id=1375\n",
      "HASH: 0.8\n",
      "Comparing MinHash signatures took 0.00sec\n"
     ]
    },
    {
     "name": "stderr",
     "output_type": "stream",
     "text": [
      "/home/viktor/anaconda3/envs/wier/lib/python3.6/site-packages/urllib3/connectionpool.py:1004: InsecureRequestWarning: Unverified HTTPS request is being made to host 'e-uprava.gov.si'. Adding certificate verification is strongly advised. See: https://urllib3.readthedocs.io/en/latest/advanced-usage.html#ssl-warnings\n",
      "  InsecureRequestWarning,\n"
     ]
    },
    {
     "name": "stdout",
     "output_type": "stream",
     "text": [
      "UPDATING PARENT:  https://e-uprava.gov.si/drzava-in-druzba/javni-sektor/podrobnosti-institucije.html?id=1771\n",
      "HASH: 0.8\n",
      "Comparing MinHash signatures took 0.00sec\n",
      "UPDATING PARENT:  https://e-uprava.gov.si/drzava-in-druzba/javni-sektor/podrobnosti-institucije.html?id=1085\n"
     ]
    },
    {
     "name": "stderr",
     "output_type": "stream",
     "text": [
      "/home/viktor/anaconda3/envs/wier/lib/python3.6/site-packages/urllib3/connectionpool.py:1004: InsecureRequestWarning: Unverified HTTPS request is being made to host 'e-uprava.gov.si'. Adding certificate verification is strongly advised. See: https://urllib3.readthedocs.io/en/latest/advanced-usage.html#ssl-warnings\n",
      "  InsecureRequestWarning,\n",
      "/home/viktor/anaconda3/envs/wier/lib/python3.6/site-packages/urllib3/connectionpool.py:1004: InsecureRequestWarning: Unverified HTTPS request is being made to host 'e-uprava.gov.si'. Adding certificate verification is strongly advised. See: https://urllib3.readthedocs.io/en/latest/advanced-usage.html#ssl-warnings\n",
      "  InsecureRequestWarning,\n"
     ]
    },
    {
     "name": "stdout",
     "output_type": "stream",
     "text": [
      "HASH: 0.6\n",
      "Comparing MinHash signatures took 0.00sec\n",
      "UPDATING PARENT:  https://e-uprava.gov.si/drzava-in-druzba/javni-sektor/podrobnosti-institucije.html?id=1987\n",
      "HASH: 0.9\n",
      "Comparing MinHash signatures took 0.03sec\n",
      "HASH: 0.7\n",
      "Comparing MinHash signatures took 0.00sec\n",
      "UPDATING PARENT:  https://e-uprava.gov.si/drzava-in-druzba/javni-sektor/podrobnosti-institucije.html?id=1077\n",
      "UPDATING PARENT:  https://e-uprava.gov.si/drzava-in-druzba/javni-sektor/podrobnosti-institucije.html?id=2902\n"
     ]
    },
    {
     "name": "stderr",
     "output_type": "stream",
     "text": [
      "/home/viktor/anaconda3/envs/wier/lib/python3.6/site-packages/urllib3/connectionpool.py:1004: InsecureRequestWarning: Unverified HTTPS request is being made to host 'e-uprava.gov.si'. Adding certificate verification is strongly advised. See: https://urllib3.readthedocs.io/en/latest/advanced-usage.html#ssl-warnings\n",
      "  InsecureRequestWarning,\n",
      "/home/viktor/anaconda3/envs/wier/lib/python3.6/site-packages/urllib3/connectionpool.py:1004: InsecureRequestWarning: Unverified HTTPS request is being made to host 'e-uprava.gov.si'. Adding certificate verification is strongly advised. See: https://urllib3.readthedocs.io/en/latest/advanced-usage.html#ssl-warnings\n",
      "  InsecureRequestWarning,\n",
      "/home/viktor/anaconda3/envs/wier/lib/python3.6/site-packages/urllib3/connectionpool.py:1004: InsecureRequestWarning: Unverified HTTPS request is being made to host 'e-uprava.gov.si'. Adding certificate verification is strongly advised. See: https://urllib3.readthedocs.io/en/latest/advanced-usage.html#ssl-warnings\n",
      "  InsecureRequestWarning,\n"
     ]
    },
    {
     "name": "stdout",
     "output_type": "stream",
     "text": [
      "HASH: 0.8\n",
      "Comparing MinHash signatures took 0.02sec\n",
      "HASH: 0.0\n",
      "Comparing MinHash signatures took 0.01sec\n",
      "UPDATING PARENT:  https://e-uprava.gov.si/drzava-in-druzba/javni-sektor/podrobnosti-institucije.html?id=2531\n",
      "UPDATING PARENT:  https://e-uprava.gov.si/drzava-in-druzba/javni-sektor/podrobnosti-institucije.html?id=1243\n",
      "HASH: 0.9\n",
      "Comparing MinHash signatures took 0.01sec\n",
      "UPDATING PARENT:  https://e-uprava.gov.si/drzava-in-druzba/javni-sektor/podrobnosti-institucije.html?id=1393\n"
     ]
    },
    {
     "name": "stderr",
     "output_type": "stream",
     "text": [
      "/home/viktor/anaconda3/envs/wier/lib/python3.6/site-packages/urllib3/connectionpool.py:1004: InsecureRequestWarning: Unverified HTTPS request is being made to host 'e-uprava.gov.si'. Adding certificate verification is strongly advised. See: https://urllib3.readthedocs.io/en/latest/advanced-usage.html#ssl-warnings\n",
      "  InsecureRequestWarning,\n",
      "/home/viktor/anaconda3/envs/wier/lib/python3.6/site-packages/urllib3/connectionpool.py:1004: InsecureRequestWarning: Unverified HTTPS request is being made to host 'e-uprava.gov.si'. Adding certificate verification is strongly advised. See: https://urllib3.readthedocs.io/en/latest/advanced-usage.html#ssl-warnings\n",
      "  InsecureRequestWarning,\n",
      "/home/viktor/anaconda3/envs/wier/lib/python3.6/site-packages/urllib3/connectionpool.py:1004: InsecureRequestWarning: Unverified HTTPS request is being made to host 'e-uprava.gov.si'. Adding certificate verification is strongly advised. See: https://urllib3.readthedocs.io/en/latest/advanced-usage.html#ssl-warnings\n",
      "  InsecureRequestWarning,\n"
     ]
    },
    {
     "name": "stdout",
     "output_type": "stream",
     "text": [
      "HASH: 0.0\n",
      "Comparing MinHash signatures took 0.00sec\n",
      "UPDATING PARENT:  https://e-uprava.gov.si/drzava-in-druzba/javni-sektor/podrobnosti-institucije.html?id=1087\n"
     ]
    },
    {
     "name": "stderr",
     "output_type": "stream",
     "text": [
      "/home/viktor/anaconda3/envs/wier/lib/python3.6/site-packages/urllib3/connectionpool.py:1004: InsecureRequestWarning: Unverified HTTPS request is being made to host 'e-uprava.gov.si'. Adding certificate verification is strongly advised. See: https://urllib3.readthedocs.io/en/latest/advanced-usage.html#ssl-warnings\n",
      "  InsecureRequestWarning,\n"
     ]
    },
    {
     "name": "stdout",
     "output_type": "stream",
     "text": [
      "Frontier len 55964\n",
      "Frontier len 55973\n",
      "Frontier len 55982\n",
      "Frontier len 55991\n",
      "Frontier len 56001\n",
      "Frontier len 56010\n",
      "Frontier len 56019\n",
      "Frontier len 56032\n",
      "Frontier len 56041\n",
      "Frontier len 56052\n",
      "Frontier len 56061\n",
      "Frontier len 56071\n",
      "\n",
      " ... executing workers ...\n",
      "\n",
      "Num sites: 7621, i: 7996\n",
      "Retrieving web page URL 'https://e-uprava.gov.si/drzava-in-druzba/javni-sektor/podrobnosti-institucije.html?id=1040'\n",
      "Retrieving web page URL 'https://e-uprava.gov.si/drzava-in-druzba/javni-sektor/podrobnosti-institucije.html?id=1104'\n",
      "Retrieving web page URL 'https://e-uprava.gov.si/drzava-in-druzba/javni-sektor/podrobnosti-institucije.html?id=1396'\n",
      "Retrieving web page URL 'https://e-uprava.gov.si/drzava-in-druzba/javni-sektor/podrobnosti-institucije.html?id=1770'\n",
      "Retrieving web page URL 'https://e-uprava.gov.si/drzava-in-druzba/javni-sektor/podrobnosti-institucije.html?id=1356'\n",
      "Retrieving web page URL 'https://e-uprava.gov.si/drzava-in-druzba/javni-sektor/podrobnosti-institucije.html?id=1269'\n",
      "Retrieving web page URL 'https://e-uprava.gov.si/drzava-in-druzba/javni-sektor/podrobnosti-institucije.html?id=1120'\n",
      "Retrieving web page URL 'https://e-uprava.gov.si/drzava-in-druzba/javni-sektor/podrobnosti-institucije.html?id=1895'\n",
      "Retrieving web page URL 'https://e-uprava.gov.si/drzava-in-druzba/javni-sektor/podrobnosti-institucije.html?id=1229'\n",
      "Retrieving web page URL 'https://e-uprava.gov.si/drzava-in-druzba/javni-sektor/podrobnosti-institucije.html?id=1315'\n",
      "Retrieving web page URL 'https://e-uprava.gov.si/drzava-in-druzba/javni-sektor/podrobnosti-institucije.html?id=1046'\n",
      "Retrieving web page URL 'https://e-uprava.gov.si/drzava-in-druzba/javni-sektor/podrobnosti-institucije.html?id=1726'\n",
      "HASH: 0.7\n",
      "Comparing MinHash signatures took 0.01sec\n",
      "UPDATING PARENT:  https://e-uprava.gov.si/drzava-in-druzba/javni-sektor/podrobnosti-institucije.html?id=1040\n",
      "HASH: 0.7\n",
      "Comparing MinHash signatures took 0.00sec\n",
      "UPDATING PARENT:  https://e-uprava.gov.si/drzava-in-druzba/javni-sektor/podrobnosti-institucije.html?id=1396\n",
      "HASH: 0.7\n",
      "Comparing MinHash signatures took 0.01sec\n",
      "UPDATING PARENT:  https://e-uprava.gov.si/drzava-in-druzba/javni-sektor/podrobnosti-institucije.html?id=1104\n"
     ]
    },
    {
     "name": "stderr",
     "output_type": "stream",
     "text": [
      "/home/viktor/anaconda3/envs/wier/lib/python3.6/site-packages/urllib3/connectionpool.py:1004: InsecureRequestWarning: Unverified HTTPS request is being made to host 'e-uprava.gov.si'. Adding certificate verification is strongly advised. See: https://urllib3.readthedocs.io/en/latest/advanced-usage.html#ssl-warnings\n",
      "  InsecureRequestWarning,\n",
      "/home/viktor/anaconda3/envs/wier/lib/python3.6/site-packages/urllib3/connectionpool.py:1004: InsecureRequestWarning: Unverified HTTPS request is being made to host 'e-uprava.gov.si'. Adding certificate verification is strongly advised. See: https://urllib3.readthedocs.io/en/latest/advanced-usage.html#ssl-warnings\n",
      "  InsecureRequestWarning,\n",
      "/home/viktor/anaconda3/envs/wier/lib/python3.6/site-packages/urllib3/connectionpool.py:1004: InsecureRequestWarning: Unverified HTTPS request is being made to host 'e-uprava.gov.si'. Adding certificate verification is strongly advised. See: https://urllib3.readthedocs.io/en/latest/advanced-usage.html#ssl-warnings\n",
      "  InsecureRequestWarning,\n"
     ]
    },
    {
     "name": "stdout",
     "output_type": "stream",
     "text": [
      "HASH: 0.9\n",
      "Comparing MinHash signatures took 0.00sec\n",
      "UPDATING PARENT:  https://e-uprava.gov.si/drzava-in-druzba/javni-sektor/podrobnosti-institucije.html?id=1269\n",
      "HASH: 0.7\n",
      "Comparing MinHash signatures took 0.01sec\n",
      "UPDATING PARENT:  https://e-uprava.gov.si/drzava-in-druzba/javni-sektor/podrobnosti-institucije.html?id=1315\n"
     ]
    },
    {
     "name": "stderr",
     "output_type": "stream",
     "text": [
      "/home/viktor/anaconda3/envs/wier/lib/python3.6/site-packages/urllib3/connectionpool.py:1004: InsecureRequestWarning: Unverified HTTPS request is being made to host 'e-uprava.gov.si'. Adding certificate verification is strongly advised. See: https://urllib3.readthedocs.io/en/latest/advanced-usage.html#ssl-warnings\n",
      "  InsecureRequestWarning,\n"
     ]
    },
    {
     "name": "stdout",
     "output_type": "stream",
     "text": [
      "HASH: 0.8\n",
      "Comparing MinHash signatures took 0.01sec\n",
      "HASH: 0.6\n",
      "Comparing MinHash signatures took 0.00sec\n",
      "UPDATING PARENT:  https://e-uprava.gov.si/drzava-in-druzba/javni-sektor/podrobnosti-institucije.html?id=1770\n",
      "UPDATING PARENT:  https://e-uprava.gov.si/drzava-in-druzba/javni-sektor/podrobnosti-institucije.html?id=1120\n",
      "HASH: 0.7\n",
      "Comparing MinHash signatures took 0.01sec\n",
      "UPDATING PARENT:  https://e-uprava.gov.si/drzava-in-druzba/javni-sektor/podrobnosti-institucije.html?id=1046\n"
     ]
    },
    {
     "name": "stderr",
     "output_type": "stream",
     "text": [
      "/home/viktor/anaconda3/envs/wier/lib/python3.6/site-packages/urllib3/connectionpool.py:1004: InsecureRequestWarning: Unverified HTTPS request is being made to host 'e-uprava.gov.si'. Adding certificate verification is strongly advised. See: https://urllib3.readthedocs.io/en/latest/advanced-usage.html#ssl-warnings\n",
      "  InsecureRequestWarning,\n",
      "/home/viktor/anaconda3/envs/wier/lib/python3.6/site-packages/urllib3/connectionpool.py:1004: InsecureRequestWarning: Unverified HTTPS request is being made to host 'e-uprava.gov.si'. Adding certificate verification is strongly advised. See: https://urllib3.readthedocs.io/en/latest/advanced-usage.html#ssl-warnings\n",
      "  InsecureRequestWarning,\n",
      "/home/viktor/anaconda3/envs/wier/lib/python3.6/site-packages/urllib3/connectionpool.py:1004: InsecureRequestWarning: Unverified HTTPS request is being made to host 'e-uprava.gov.si'. Adding certificate verification is strongly advised. See: https://urllib3.readthedocs.io/en/latest/advanced-usage.html#ssl-warnings\n",
      "  InsecureRequestWarning,\n",
      "/home/viktor/anaconda3/envs/wier/lib/python3.6/site-packages/urllib3/connectionpool.py:1004: InsecureRequestWarning: Unverified HTTPS request is being made to host 'e-uprava.gov.si'. Adding certificate verification is strongly advised. See: https://urllib3.readthedocs.io/en/latest/advanced-usage.html#ssl-warnings\n",
      "  InsecureRequestWarning,\n"
     ]
    },
    {
     "name": "stdout",
     "output_type": "stream",
     "text": [
      "HASH: 0.7\n",
      "Comparing MinHash signatures took 0.01sec\n",
      "UPDATING PARENT:  https://e-uprava.gov.si/drzava-in-druzba/javni-sektor/podrobnosti-institucije.html?id=1356\n",
      "HASH: 0.8\n",
      "Comparing MinHash signatures took 0.01sec\n",
      "UPDATING PARENT:  https://e-uprava.gov.si/drzava-in-druzba/javni-sektor/podrobnosti-institucije.html?id=1895\n"
     ]
    },
    {
     "name": "stderr",
     "output_type": "stream",
     "text": [
      "/home/viktor/anaconda3/envs/wier/lib/python3.6/site-packages/urllib3/connectionpool.py:1004: InsecureRequestWarning: Unverified HTTPS request is being made to host 'e-uprava.gov.si'. Adding certificate verification is strongly advised. See: https://urllib3.readthedocs.io/en/latest/advanced-usage.html#ssl-warnings\n",
      "  InsecureRequestWarning,\n",
      "/home/viktor/anaconda3/envs/wier/lib/python3.6/site-packages/urllib3/connectionpool.py:1004: InsecureRequestWarning: Unverified HTTPS request is being made to host 'e-uprava.gov.si'. Adding certificate verification is strongly advised. See: https://urllib3.readthedocs.io/en/latest/advanced-usage.html#ssl-warnings\n",
      "  InsecureRequestWarning,\n"
     ]
    },
    {
     "name": "stdout",
     "output_type": "stream",
     "text": [
      "HASH: 0.8\n",
      "Comparing MinHash signatures took 0.00sec\n",
      "UPDATING PARENT:  https://e-uprava.gov.si/drzava-in-druzba/javni-sektor/podrobnosti-institucije.html?id=1726\n",
      "HASH: 0.5\n",
      "Comparing MinHash signatures took 0.00sec\n",
      "UPDATING PARENT:  https://e-uprava.gov.si/drzava-in-druzba/javni-sektor/podrobnosti-institucije.html?id=1229\n"
     ]
    },
    {
     "name": "stderr",
     "output_type": "stream",
     "text": [
      "/home/viktor/anaconda3/envs/wier/lib/python3.6/site-packages/urllib3/connectionpool.py:1004: InsecureRequestWarning: Unverified HTTPS request is being made to host 'e-uprava.gov.si'. Adding certificate verification is strongly advised. See: https://urllib3.readthedocs.io/en/latest/advanced-usage.html#ssl-warnings\n",
      "  InsecureRequestWarning,\n",
      "/home/viktor/anaconda3/envs/wier/lib/python3.6/site-packages/urllib3/connectionpool.py:1004: InsecureRequestWarning: Unverified HTTPS request is being made to host 'e-uprava.gov.si'. Adding certificate verification is strongly advised. See: https://urllib3.readthedocs.io/en/latest/advanced-usage.html#ssl-warnings\n",
      "  InsecureRequestWarning,\n"
     ]
    },
    {
     "name": "stdout",
     "output_type": "stream",
     "text": [
      "Frontier len 56081\n",
      "Frontier len 56090\n",
      "Frontier len 56101\n",
      "Frontier len 56110\n",
      "Frontier len 56120\n",
      "Frontier len 56129\n",
      "Frontier len 56138\n",
      "Frontier len 56147\n",
      "Frontier len 56156\n",
      "Frontier len 56165\n",
      "Frontier len 56174\n",
      "Frontier len 56184\n",
      "\n",
      " ... executing workers ...\n",
      "\n",
      "Num sites: 7633, i: 8008\n",
      "Retrieving web page URL 'https://e-uprava.gov.si/drzava-in-druzba/javni-sektor/podrobnosti-institucije.html?id=1123'\n",
      "Retrieving web page URL 'https://e-uprava.gov.si/drzava-in-druzba/javni-sektor/podrobnosti-institucije.html?id=1174'\n",
      "Retrieving web page URL 'https://e-uprava.gov.si/drzava-in-druzba/javni-sektor/podrobnosti-institucije.html?id=2351'\n",
      "Retrieving web page URL 'https://e-uprava.gov.si/drzava-in-druzba/javni-sektor/podrobnosti-institucije.html?id=2025'\n",
      "Retrieving web page URL 'https://e-uprava.gov.si/drzava-in-druzba/javni-sektor/podrobnosti-institucije.html?id=1998'\n",
      "Retrieving web page URL 'https://e-uprava.gov.si/drzava-in-druzba/javni-sektor/podrobnosti-institucije.html?id=1325'\n",
      "Retrieving web page URL 'https://e-uprava.gov.si/drzava-in-druzba/javni-sektor/podrobnosti-institucije.html?id=1532'\n",
      "Retrieving web page URL 'https://e-uprava.gov.si/drzava-in-druzba/javni-sektor/podrobnosti-institucije.html?id=1426'\n",
      "Retrieving web page URL 'https://e-uprava.gov.si/drzava-in-druzba/javni-sektor/podrobnosti-institucije.html?id=1134'\n",
      "Retrieving web page URL 'https://e-uprava.gov.si/drzava-in-druzba/javni-sektor/podrobnosti-institucije.html?id=1047'\n",
      "Retrieving web page URL 'https://e-uprava.gov.si/drzava-in-druzba/javni-sektor/podrobnosti-institucije.html?id=1073'\n",
      "Retrieving web page URL 'https://e-uprava.gov.si/drzava-in-druzba/javni-sektor/podrobnosti-institucije.html?id=1167'\n",
      "HASH: 0.8\n",
      "Comparing MinHash signatures took 0.01sec\n",
      "UPDATING PARENT:  https://e-uprava.gov.si/drzava-in-druzba/javni-sektor/podrobnosti-institucije.html?id=1123\n",
      "HASH: 0.8\n",
      "Comparing MinHash signatures took 0.00sec\n",
      "UPDATING PARENT:  https://e-uprava.gov.si/drzava-in-druzba/javni-sektor/podrobnosti-institucije.html?id=1174\n"
     ]
    },
    {
     "name": "stderr",
     "output_type": "stream",
     "text": [
      "/home/viktor/anaconda3/envs/wier/lib/python3.6/site-packages/urllib3/connectionpool.py:1004: InsecureRequestWarning: Unverified HTTPS request is being made to host 'e-uprava.gov.si'. Adding certificate verification is strongly advised. See: https://urllib3.readthedocs.io/en/latest/advanced-usage.html#ssl-warnings\n",
      "  InsecureRequestWarning,\n",
      "/home/viktor/anaconda3/envs/wier/lib/python3.6/site-packages/urllib3/connectionpool.py:1004: InsecureRequestWarning: Unverified HTTPS request is being made to host 'e-uprava.gov.si'. Adding certificate verification is strongly advised. See: https://urllib3.readthedocs.io/en/latest/advanced-usage.html#ssl-warnings\n",
      "  InsecureRequestWarning,\n",
      "/home/viktor/anaconda3/envs/wier/lib/python3.6/site-packages/urllib3/connectionpool.py:1004: InsecureRequestWarning: Unverified HTTPS request is being made to host 'e-uprava.gov.si'. Adding certificate verification is strongly advised. See: https://urllib3.readthedocs.io/en/latest/advanced-usage.html#ssl-warnings\n",
      "  InsecureRequestWarning,\n"
     ]
    },
    {
     "name": "stdout",
     "output_type": "stream",
     "text": [
      "HASH: 0.6\n",
      "Comparing MinHash signatures took 0.00sec\n",
      "UPDATING PARENT:  https://e-uprava.gov.si/drzava-in-druzba/javni-sektor/podrobnosti-institucije.html?id=2025\n",
      "HASH: 0.7\n",
      "Comparing MinHash signatures took 0.00sec\n",
      "UPDATING PARENT:  https://e-uprava.gov.si/drzava-in-druzba/javni-sektor/podrobnosti-institucije.html?id=1325\n"
     ]
    },
    {
     "name": "stderr",
     "output_type": "stream",
     "text": [
      "/home/viktor/anaconda3/envs/wier/lib/python3.6/site-packages/urllib3/connectionpool.py:1004: InsecureRequestWarning: Unverified HTTPS request is being made to host 'e-uprava.gov.si'. Adding certificate verification is strongly advised. See: https://urllib3.readthedocs.io/en/latest/advanced-usage.html#ssl-warnings\n",
      "  InsecureRequestWarning,\n"
     ]
    },
    {
     "name": "stdout",
     "output_type": "stream",
     "text": [
      "HASH: 0.8\n",
      "Comparing MinHash signatures took 0.00sec\n",
      "UPDATING PARENT:  https://e-uprava.gov.si/drzava-in-druzba/javni-sektor/podrobnosti-institucije.html?id=1998\n"
     ]
    },
    {
     "name": "stderr",
     "output_type": "stream",
     "text": [
      "/home/viktor/anaconda3/envs/wier/lib/python3.6/site-packages/urllib3/connectionpool.py:1004: InsecureRequestWarning: Unverified HTTPS request is being made to host 'e-uprava.gov.si'. Adding certificate verification is strongly advised. See: https://urllib3.readthedocs.io/en/latest/advanced-usage.html#ssl-warnings\n",
      "  InsecureRequestWarning,\n"
     ]
    },
    {
     "name": "stdout",
     "output_type": "stream",
     "text": [
      "HASH: 0.7\n",
      "Comparing MinHash signatures took 0.02sec\n",
      "UPDATING PARENT:  https://e-uprava.gov.si/drzava-in-druzba/javni-sektor/podrobnosti-institucije.html?id=1532\n",
      "HASH: 0.8\n",
      "Comparing MinHash signatures took 0.01sec\n",
      "UPDATING PARENT:  https://e-uprava.gov.si/drzava-in-druzba/javni-sektor/podrobnosti-institucije.html?id=1047\n",
      "HASH: 0.7\n",
      "Comparing MinHash signatures took 0.00sec\n",
      "UPDATING PARENT:  https://e-uprava.gov.si/drzava-in-druzba/javni-sektor/podrobnosti-institucije.html?id=1073\n"
     ]
    },
    {
     "name": "stderr",
     "output_type": "stream",
     "text": [
      "/home/viktor/anaconda3/envs/wier/lib/python3.6/site-packages/urllib3/connectionpool.py:1004: InsecureRequestWarning: Unverified HTTPS request is being made to host 'e-uprava.gov.si'. Adding certificate verification is strongly advised. See: https://urllib3.readthedocs.io/en/latest/advanced-usage.html#ssl-warnings\n",
      "  InsecureRequestWarning,\n",
      "/home/viktor/anaconda3/envs/wier/lib/python3.6/site-packages/urllib3/connectionpool.py:1004: InsecureRequestWarning: Unverified HTTPS request is being made to host 'e-uprava.gov.si'. Adding certificate verification is strongly advised. See: https://urllib3.readthedocs.io/en/latest/advanced-usage.html#ssl-warnings\n",
      "  InsecureRequestWarning,\n"
     ]
    },
    {
     "name": "stdout",
     "output_type": "stream",
     "text": [
      "HASH: 0.8\n",
      "Comparing MinHash signatures took 0.00sec\n",
      "HASH: 0.7\n",
      "Comparing MinHash signatures took 0.01sec\n",
      "UPDATING PARENT:  https://e-uprava.gov.si/drzava-in-druzba/javni-sektor/podrobnosti-institucije.html?id=1167\n",
      "UPDATING PARENT:  https://e-uprava.gov.si/drzava-in-druzba/javni-sektor/podrobnosti-institucije.html?id=2351\n",
      "HASH: 0.8\n",
      "Comparing MinHash signatures took 0.00sec\n",
      "UPDATING PARENT:  https://e-uprava.gov.si/drzava-in-druzba/javni-sektor/podrobnosti-institucije.html?id=1134\n",
      "HASH: 0.8\n",
      "Comparing MinHash signatures took 0.00sec\n",
      "UPDATING PARENT:  https://e-uprava.gov.si/drzava-in-druzba/javni-sektor/podrobnosti-institucije.html?id=1426\n"
     ]
    },
    {
     "name": "stderr",
     "output_type": "stream",
     "text": [
      "/home/viktor/anaconda3/envs/wier/lib/python3.6/site-packages/urllib3/connectionpool.py:1004: InsecureRequestWarning: Unverified HTTPS request is being made to host 'e-uprava.gov.si'. Adding certificate verification is strongly advised. See: https://urllib3.readthedocs.io/en/latest/advanced-usage.html#ssl-warnings\n",
      "  InsecureRequestWarning,\n",
      "/home/viktor/anaconda3/envs/wier/lib/python3.6/site-packages/urllib3/connectionpool.py:1004: InsecureRequestWarning: Unverified HTTPS request is being made to host 'e-uprava.gov.si'. Adding certificate verification is strongly advised. See: https://urllib3.readthedocs.io/en/latest/advanced-usage.html#ssl-warnings\n",
      "  InsecureRequestWarning,\n",
      "/home/viktor/anaconda3/envs/wier/lib/python3.6/site-packages/urllib3/connectionpool.py:1004: InsecureRequestWarning: Unverified HTTPS request is being made to host 'e-uprava.gov.si'. Adding certificate verification is strongly advised. See: https://urllib3.readthedocs.io/en/latest/advanced-usage.html#ssl-warnings\n",
      "  InsecureRequestWarning,\n",
      "/home/viktor/anaconda3/envs/wier/lib/python3.6/site-packages/urllib3/connectionpool.py:1004: InsecureRequestWarning: Unverified HTTPS request is being made to host 'e-uprava.gov.si'. Adding certificate verification is strongly advised. See: https://urllib3.readthedocs.io/en/latest/advanced-usage.html#ssl-warnings\n",
      "  InsecureRequestWarning,\n",
      "/home/viktor/anaconda3/envs/wier/lib/python3.6/site-packages/urllib3/connectionpool.py:1004: InsecureRequestWarning: Unverified HTTPS request is being made to host 'e-uprava.gov.si'. Adding certificate verification is strongly advised. See: https://urllib3.readthedocs.io/en/latest/advanced-usage.html#ssl-warnings\n",
      "  InsecureRequestWarning,\n"
     ]
    },
    {
     "name": "stdout",
     "output_type": "stream",
     "text": [
      "Frontier len 56193\n",
      "Frontier len 56206\n",
      "Frontier len 56215\n",
      "Frontier len 56224\n",
      "Frontier len 56234\n",
      "Frontier len 56244\n",
      "Frontier len 56254\n",
      "Frontier len 56267\n",
      "Frontier len 56276\n",
      "Frontier len 56288\n",
      "Frontier len 56297\n",
      "Frontier len 56307\n",
      "\n",
      " ... executing workers ...\n",
      "\n",
      "Num sites: 7645, i: 8020\n",
      "Retrieving web page URL 'https://e-uprava.gov.si/drzava-in-druzba/javni-sektor/podrobnosti-institucije.html?id=1231'\n",
      "Retrieving web page URL 'https://e-uprava.gov.si/drzava-in-druzba/javni-sektor/podrobnosti-institucije.html?id=1433'\n",
      "Retrieving web page URL 'https://e-uprava.gov.si/drzava-in-druzba/javni-sektor/podrobnosti-institucije.html?id=1737'\n",
      "Retrieving web page URL 'https://e-uprava.gov.si/drzava-in-druzba/javni-sektor/podrobnosti-institucije.html?id=1881'\n",
      "Retrieving web page URL 'https://e-uprava.gov.si/drzava-in-druzba/javni-sektor/podrobnosti-institucije.html?id=2337'\n",
      "Retrieving web page URL 'https://e-uprava.gov.si/drzava-in-druzba/javni-sektor/podrobnosti-institucije.html?id=1999'\n",
      "Retrieving web page URL 'https://e-uprava.gov.si/drzava-in-druzba/javni-sektor/podrobnosti-institucije.html?id=2000'\n",
      "Retrieving web page URL 'https://e-uprava.gov.si/drzava-in-druzba/javni-sektor/podrobnosti-institucije.html?id=1055'\n",
      "Retrieving web page URL 'https://e-uprava.gov.si/drzava-in-druzba/javni-sektor/podrobnosti-institucije.html?id=1435'\n",
      "Retrieving web page URL 'https://e-uprava.gov.si/drzava-in-druzba/javni-sektor/podrobnosti-institucije.html?id=1432'\n",
      "Retrieving web page URL 'https://e-uprava.gov.si/drzava-in-druzba/javni-sektor/podrobnosti-institucije.html?id=2001'\n",
      "Retrieving web page URL 'https://e-uprava.gov.si/drzava-in-druzba/javni-sektor/podrobnosti-institucije.html?id=1400'\n",
      "HASH: 0.8\n",
      "Comparing MinHash signatures took 0.01sec\n",
      "UPDATING PARENT:  https://e-uprava.gov.si/drzava-in-druzba/javni-sektor/podrobnosti-institucije.html?id=1231\n"
     ]
    },
    {
     "name": "stderr",
     "output_type": "stream",
     "text": [
      "/home/viktor/anaconda3/envs/wier/lib/python3.6/site-packages/urllib3/connectionpool.py:1004: InsecureRequestWarning: Unverified HTTPS request is being made to host 'e-uprava.gov.si'. Adding certificate verification is strongly advised. See: https://urllib3.readthedocs.io/en/latest/advanced-usage.html#ssl-warnings\n",
      "  InsecureRequestWarning,\n"
     ]
    },
    {
     "name": "stdout",
     "output_type": "stream",
     "text": [
      "HASH: 0.9\n",
      "Comparing MinHash signatures took 0.01sec\n",
      "HASH: 0.0\n",
      "Comparing MinHash signatures took 0.00sec\n",
      "UPDATING PARENT:  https://e-uprava.gov.si/drzava-in-druzba/javni-sektor/podrobnosti-institucije.html?id=2000\n",
      "UPDATING PARENT:  https://e-uprava.gov.si/drzava-in-druzba/javni-sektor/podrobnosti-institucije.html?id=1999\n"
     ]
    },
    {
     "name": "stderr",
     "output_type": "stream",
     "text": [
      "/home/viktor/anaconda3/envs/wier/lib/python3.6/site-packages/urllib3/connectionpool.py:1004: InsecureRequestWarning: Unverified HTTPS request is being made to host 'e-uprava.gov.si'. Adding certificate verification is strongly advised. See: https://urllib3.readthedocs.io/en/latest/advanced-usage.html#ssl-warnings\n",
      "  InsecureRequestWarning,\n",
      "/home/viktor/anaconda3/envs/wier/lib/python3.6/site-packages/urllib3/connectionpool.py:1004: InsecureRequestWarning: Unverified HTTPS request is being made to host 'e-uprava.gov.si'. Adding certificate verification is strongly advised. See: https://urllib3.readthedocs.io/en/latest/advanced-usage.html#ssl-warnings\n",
      "  InsecureRequestWarning,\n"
     ]
    },
    {
     "name": "stdout",
     "output_type": "stream",
     "text": [
      "HASH: 0.7\n",
      "Comparing MinHash signatures took 0.01sec\n",
      "UPDATING PARENT:  https://e-uprava.gov.si/drzava-in-druzba/javni-sektor/podrobnosti-institucije.html?id=1737\n",
      "HASH: 0.8\n",
      "Comparing MinHash signatures took 0.00sec\n",
      "UPDATING PARENT:  https://e-uprava.gov.si/drzava-in-druzba/javni-sektor/podrobnosti-institucije.html?id=1881\n",
      "HASH: 0.7\n",
      "Comparing MinHash signatures took 0.01sec\n",
      "UPDATING PARENT:  https://e-uprava.gov.si/drzava-in-druzba/javni-sektor/podrobnosti-institucije.html?id=1433\n"
     ]
    },
    {
     "name": "stderr",
     "output_type": "stream",
     "text": [
      "/home/viktor/anaconda3/envs/wier/lib/python3.6/site-packages/urllib3/connectionpool.py:1004: InsecureRequestWarning: Unverified HTTPS request is being made to host 'e-uprava.gov.si'. Adding certificate verification is strongly advised. See: https://urllib3.readthedocs.io/en/latest/advanced-usage.html#ssl-warnings\n",
      "  InsecureRequestWarning,\n",
      "/home/viktor/anaconda3/envs/wier/lib/python3.6/site-packages/urllib3/connectionpool.py:1004: InsecureRequestWarning: Unverified HTTPS request is being made to host 'e-uprava.gov.si'. Adding certificate verification is strongly advised. See: https://urllib3.readthedocs.io/en/latest/advanced-usage.html#ssl-warnings\n",
      "  InsecureRequestWarning,\n",
      "/home/viktor/anaconda3/envs/wier/lib/python3.6/site-packages/urllib3/connectionpool.py:1004: InsecureRequestWarning: Unverified HTTPS request is being made to host 'e-uprava.gov.si'. Adding certificate verification is strongly advised. See: https://urllib3.readthedocs.io/en/latest/advanced-usage.html#ssl-warnings\n",
      "  InsecureRequestWarning,\n"
     ]
    },
    {
     "name": "stdout",
     "output_type": "stream",
     "text": [
      "HASH: 0.9\n",
      "Comparing MinHash signatures took 0.00sec\n",
      "UPDATING PARENT:  https://e-uprava.gov.si/drzava-in-druzba/javni-sektor/podrobnosti-institucije.html?id=2337\n",
      "HASH: 0.0\n",
      "Comparing MinHash signatures took 0.01sec\n",
      "UPDATING PARENT:  https://e-uprava.gov.si/drzava-in-druzba/javni-sektor/podrobnosti-institucije.html?id=1055\n"
     ]
    },
    {
     "name": "stderr",
     "output_type": "stream",
     "text": [
      "/home/viktor/anaconda3/envs/wier/lib/python3.6/site-packages/urllib3/connectionpool.py:1004: InsecureRequestWarning: Unverified HTTPS request is being made to host 'e-uprava.gov.si'. Adding certificate verification is strongly advised. See: https://urllib3.readthedocs.io/en/latest/advanced-usage.html#ssl-warnings\n",
      "  InsecureRequestWarning,\n"
     ]
    },
    {
     "name": "stdout",
     "output_type": "stream",
     "text": [
      "HASH: 0.5\n",
      "Comparing MinHash signatures took 0.01sec\n",
      "UPDATING PARENT:  https://e-uprava.gov.si/drzava-in-druzba/javni-sektor/podrobnosti-institucije.html?id=1435\n",
      "HASH: 0.7\n",
      "Comparing MinHash signatures took 0.02sec\n",
      "UPDATING PARENT:  https://e-uprava.gov.si/drzava-in-druzba/javni-sektor/podrobnosti-institucije.html?id=1432\n",
      "HASH: 0.6\n",
      "Comparing MinHash signatures took 0.01sec\n",
      "UPDATING PARENT:  https://e-uprava.gov.si/drzava-in-druzba/javni-sektor/podrobnosti-institucije.html?id=2001\n",
      "HASH: 0.8\n",
      "Comparing MinHash signatures took 0.00sec\n",
      "UPDATING PARENT:  https://e-uprava.gov.si/drzava-in-druzba/javni-sektor/podrobnosti-institucije.html?id=1400\n"
     ]
    },
    {
     "name": "stderr",
     "output_type": "stream",
     "text": [
      "/home/viktor/anaconda3/envs/wier/lib/python3.6/site-packages/urllib3/connectionpool.py:1004: InsecureRequestWarning: Unverified HTTPS request is being made to host 'e-uprava.gov.si'. Adding certificate verification is strongly advised. See: https://urllib3.readthedocs.io/en/latest/advanced-usage.html#ssl-warnings\n",
      "  InsecureRequestWarning,\n",
      "/home/viktor/anaconda3/envs/wier/lib/python3.6/site-packages/urllib3/connectionpool.py:1004: InsecureRequestWarning: Unverified HTTPS request is being made to host 'e-uprava.gov.si'. Adding certificate verification is strongly advised. See: https://urllib3.readthedocs.io/en/latest/advanced-usage.html#ssl-warnings\n",
      "  InsecureRequestWarning,\n",
      "/home/viktor/anaconda3/envs/wier/lib/python3.6/site-packages/urllib3/connectionpool.py:1004: InsecureRequestWarning: Unverified HTTPS request is being made to host 'e-uprava.gov.si'. Adding certificate verification is strongly advised. See: https://urllib3.readthedocs.io/en/latest/advanced-usage.html#ssl-warnings\n",
      "  InsecureRequestWarning,\n",
      "/home/viktor/anaconda3/envs/wier/lib/python3.6/site-packages/urllib3/connectionpool.py:1004: InsecureRequestWarning: Unverified HTTPS request is being made to host 'e-uprava.gov.si'. Adding certificate verification is strongly advised. See: https://urllib3.readthedocs.io/en/latest/advanced-usage.html#ssl-warnings\n",
      "  InsecureRequestWarning,\n",
      "/home/viktor/anaconda3/envs/wier/lib/python3.6/site-packages/urllib3/connectionpool.py:1004: InsecureRequestWarning: Unverified HTTPS request is being made to host 'e-uprava.gov.si'. Adding certificate verification is strongly advised. See: https://urllib3.readthedocs.io/en/latest/advanced-usage.html#ssl-warnings\n",
      "  InsecureRequestWarning,\n"
     ]
    },
    {
     "name": "stdout",
     "output_type": "stream",
     "text": [
      "Frontier len 56316\n",
      "Frontier len 56326\n",
      "Frontier len 56335\n",
      "Frontier len 56344\n",
      "Frontier len 56356\n",
      "Frontier len 56365\n",
      "Frontier len 56374\n",
      "Frontier len 56384\n",
      "Frontier len 56395\n",
      "Frontier len 56404\n",
      "Frontier len 56415\n",
      "Frontier len 56424\n",
      "\n",
      " ... executing workers ...\n",
      "\n",
      "Num sites: 7657, i: 8032\n",
      "Retrieving web page URL 'https://e-uprava.gov.si/drzava-in-druzba/javni-sektor/podrobnosti-institucije.html?id=13497'\n",
      "Retrieving web page URL 'https://e-uprava.gov.si/drzava-in-druzba/javni-sektor/podrobnosti-institucije.html?id=1141'\n",
      "Retrieving web page URL 'https://e-uprava.gov.si/drzava-in-druzba/javni-sektor/podrobnosti-institucije.html?id=1313'\n",
      "Retrieving web page URL 'https://e-uprava.gov.si/drzava-in-druzba/javni-sektor/podrobnosti-institucije.html?id=1159'\n",
      "Retrieving web page URL 'https://e-uprava.gov.si/drzava-in-druzba/javni-sektor/podrobnosti-institucije.html?id=13507'\n",
      "Retrieving web page URL 'https://e-uprava.gov.si/drzava-in-druzba/javni-sektor/podrobnosti-institucije.html?id=1198'\n",
      "Retrieving web page URL 'https://e-uprava.gov.si/drzava-in-druzba/javni-sektor/podrobnosti-institucije.html?id=1364'\n",
      "Retrieving web page URL 'https://e-uprava.gov.si/drzava-in-druzba/javni-sektor/podrobnosti-institucije.html?id=1316'\n",
      "Retrieving web page URL 'https://e-uprava.gov.si/drzava-in-druzba/javni-sektor/podrobnosti-institucije.html?id=1209'\n",
      "Retrieving web page URL 'https://e-uprava.gov.si/drzava-in-druzba/javni-sektor/podrobnosti-institucije.html?id=13493'\n",
      "Retrieving web page URL 'https://e-uprava.gov.si/drzava-in-druzba/javni-sektor/podrobnosti-institucije.html?id=2036'\n",
      "Retrieving web page URL 'https://e-uprava.gov.si/drzava-in-druzba/javni-sektor/podrobnosti-institucije.html?id=1930'\n",
      "HASH: 0.8\n",
      "Comparing MinHash signatures took 0.01sec\n",
      "UPDATING PARENT:  https://e-uprava.gov.si/drzava-in-druzba/javni-sektor/podrobnosti-institucije.html?id=1141\n"
     ]
    },
    {
     "name": "stderr",
     "output_type": "stream",
     "text": [
      "/home/viktor/anaconda3/envs/wier/lib/python3.6/site-packages/urllib3/connectionpool.py:1004: InsecureRequestWarning: Unverified HTTPS request is being made to host 'e-uprava.gov.si'. Adding certificate verification is strongly advised. See: https://urllib3.readthedocs.io/en/latest/advanced-usage.html#ssl-warnings\n",
      "  InsecureRequestWarning,\n",
      "/home/viktor/anaconda3/envs/wier/lib/python3.6/site-packages/urllib3/connectionpool.py:1004: InsecureRequestWarning: Unverified HTTPS request is being made to host 'e-uprava.gov.si'. Adding certificate verification is strongly advised. See: https://urllib3.readthedocs.io/en/latest/advanced-usage.html#ssl-warnings\n",
      "  InsecureRequestWarning,\n"
     ]
    },
    {
     "name": "stdout",
     "output_type": "stream",
     "text": [
      "HASH: 0.8\n",
      "Comparing MinHash signatures took 0.00sec\n",
      "UPDATING PARENT:  https://e-uprava.gov.si/drzava-in-druzba/javni-sektor/podrobnosti-institucije.html?id=1313\n",
      "HASH: 0.1\n",
      "Comparing MinHash signatures took 0.00sec\n",
      "UPDATING PARENT:  https://e-uprava.gov.si/drzava-in-druzba/javni-sektor/podrobnosti-institucije.html?id=1159\n",
      "HASH: 0.8\n",
      "Comparing MinHash signatures took 0.00sec\n"
     ]
    },
    {
     "name": "stderr",
     "output_type": "stream",
     "text": [
      "/home/viktor/anaconda3/envs/wier/lib/python3.6/site-packages/urllib3/connectionpool.py:1004: InsecureRequestWarning: Unverified HTTPS request is being made to host 'e-uprava.gov.si'. Adding certificate verification is strongly advised. See: https://urllib3.readthedocs.io/en/latest/advanced-usage.html#ssl-warnings\n",
      "  InsecureRequestWarning,\n"
     ]
    },
    {
     "name": "stdout",
     "output_type": "stream",
     "text": [
      "UPDATING PARENT:  https://e-uprava.gov.si/drzava-in-druzba/javni-sektor/podrobnosti-institucije.html?id=13507\n",
      "HASH: 0.0\n",
      "Comparing MinHash signatures took 0.00sec\n",
      "UPDATING PARENT:  https://e-uprava.gov.si/drzava-in-druzba/javni-sektor/podrobnosti-institucije.html?id=2036\n"
     ]
    },
    {
     "name": "stderr",
     "output_type": "stream",
     "text": [
      "/home/viktor/anaconda3/envs/wier/lib/python3.6/site-packages/urllib3/connectionpool.py:1004: InsecureRequestWarning: Unverified HTTPS request is being made to host 'e-uprava.gov.si'. Adding certificate verification is strongly advised. See: https://urllib3.readthedocs.io/en/latest/advanced-usage.html#ssl-warnings\n",
      "  InsecureRequestWarning,\n",
      "/home/viktor/anaconda3/envs/wier/lib/python3.6/site-packages/urllib3/connectionpool.py:1004: InsecureRequestWarning: Unverified HTTPS request is being made to host 'e-uprava.gov.si'. Adding certificate verification is strongly advised. See: https://urllib3.readthedocs.io/en/latest/advanced-usage.html#ssl-warnings\n",
      "  InsecureRequestWarning,\n"
     ]
    },
    {
     "name": "stdout",
     "output_type": "stream",
     "text": [
      "HASH: 0.8\n",
      "Comparing MinHash signatures took 0.00sec\n",
      "UPDATING PARENT:  https://e-uprava.gov.si/drzava-in-druzba/javni-sektor/podrobnosti-institucije.html?id=1316\n"
     ]
    },
    {
     "name": "stderr",
     "output_type": "stream",
     "text": [
      "/home/viktor/anaconda3/envs/wier/lib/python3.6/site-packages/urllib3/connectionpool.py:1004: InsecureRequestWarning: Unverified HTTPS request is being made to host 'e-uprava.gov.si'. Adding certificate verification is strongly advised. See: https://urllib3.readthedocs.io/en/latest/advanced-usage.html#ssl-warnings\n",
      "  InsecureRequestWarning,\n"
     ]
    },
    {
     "name": "stdout",
     "output_type": "stream",
     "text": [
      "HASH: 0.0\n",
      "Comparing MinHash signatures took 0.00sec\n",
      "UPDATING PARENT:  https://e-uprava.gov.si/drzava-in-druzba/javni-sektor/podrobnosti-institucije.html?id=13493\n",
      "HASH: 0.6\n",
      "Comparing MinHash signatures took 0.00sec\n",
      "UPDATING PARENT:  https://e-uprava.gov.si/drzava-in-druzba/javni-sektor/podrobnosti-institucije.html?id=1930\n"
     ]
    },
    {
     "name": "stderr",
     "output_type": "stream",
     "text": [
      "/home/viktor/anaconda3/envs/wier/lib/python3.6/site-packages/urllib3/connectionpool.py:1004: InsecureRequestWarning: Unverified HTTPS request is being made to host 'e-uprava.gov.si'. Adding certificate verification is strongly advised. See: https://urllib3.readthedocs.io/en/latest/advanced-usage.html#ssl-warnings\n",
      "  InsecureRequestWarning,\n",
      "/home/viktor/anaconda3/envs/wier/lib/python3.6/site-packages/urllib3/connectionpool.py:1004: InsecureRequestWarning: Unverified HTTPS request is being made to host 'e-uprava.gov.si'. Adding certificate verification is strongly advised. See: https://urllib3.readthedocs.io/en/latest/advanced-usage.html#ssl-warnings\n",
      "  InsecureRequestWarning,\n"
     ]
    },
    {
     "name": "stdout",
     "output_type": "stream",
     "text": [
      "HASH: 0.6\n",
      "Comparing MinHash signatures took 0.01sec\n",
      "UPDATING PARENT:  https://e-uprava.gov.si/drzava-in-druzba/javni-sektor/podrobnosti-institucije.html?id=1209\n",
      "HASH: 0.7\n",
      "Comparing MinHash signatures took 0.03secHASH: 0.8\n",
      "Comparing MinHash signatures took 0.01sec\n",
      "\n",
      "UPDATING PARENT:  https://e-uprava.gov.si/drzava-in-druzba/javni-sektor/podrobnosti-institucije.html?id=1364\n",
      "UPDATING PARENT:  https://e-uprava.gov.si/drzava-in-druzba/javni-sektor/podrobnosti-institucije.html?id=1198\n"
     ]
    },
    {
     "name": "stderr",
     "output_type": "stream",
     "text": [
      "/home/viktor/anaconda3/envs/wier/lib/python3.6/site-packages/urllib3/connectionpool.py:1004: InsecureRequestWarning: Unverified HTTPS request is being made to host 'e-uprava.gov.si'. Adding certificate verification is strongly advised. See: https://urllib3.readthedocs.io/en/latest/advanced-usage.html#ssl-warnings\n",
      "  InsecureRequestWarning,\n",
      "/home/viktor/anaconda3/envs/wier/lib/python3.6/site-packages/urllib3/connectionpool.py:1004: InsecureRequestWarning: Unverified HTTPS request is being made to host 'e-uprava.gov.si'. Adding certificate verification is strongly advised. See: https://urllib3.readthedocs.io/en/latest/advanced-usage.html#ssl-warnings\n",
      "  InsecureRequestWarning,\n",
      "/home/viktor/anaconda3/envs/wier/lib/python3.6/site-packages/urllib3/connectionpool.py:1004: InsecureRequestWarning: Unverified HTTPS request is being made to host 'e-uprava.gov.si'. Adding certificate verification is strongly advised. See: https://urllib3.readthedocs.io/en/latest/advanced-usage.html#ssl-warnings\n",
      "  InsecureRequestWarning,\n"
     ]
    },
    {
     "name": "stdout",
     "output_type": "stream",
     "text": [
      "HASH: 0.8\n",
      "Comparing MinHash signatures took 0.00sec\n",
      "UPDATING PARENT:  https://e-uprava.gov.si/drzava-in-druzba/javni-sektor/podrobnosti-institucije.html?id=13497\n"
     ]
    },
    {
     "name": "stderr",
     "output_type": "stream",
     "text": [
      "/home/viktor/anaconda3/envs/wier/lib/python3.6/site-packages/urllib3/connectionpool.py:1004: InsecureRequestWarning: Unverified HTTPS request is being made to host 'e-uprava.gov.si'. Adding certificate verification is strongly advised. See: https://urllib3.readthedocs.io/en/latest/advanced-usage.html#ssl-warnings\n",
      "  InsecureRequestWarning,\n"
     ]
    },
    {
     "name": "stdout",
     "output_type": "stream",
     "text": [
      "Frontier len 56434\n",
      "Frontier len 56443\n",
      "Frontier len 56452\n",
      "Frontier len 56464\n",
      "Frontier len 56474\n",
      "Frontier len 56484\n",
      "Frontier len 56493\n",
      "Frontier len 56502\n",
      "Frontier len 56511\n",
      "Frontier len 56520\n",
      "Frontier len 56529\n",
      "Frontier len 56538\n",
      "\n",
      " ... executing workers ...\n",
      "\n",
      "Num sites: 7669, i: 8044\n",
      "Retrieving web page URL 'https://e-uprava.gov.si/drzava-in-druzba/javni-sektor/podrobnosti-institucije.html?id=1407'\n",
      "Retrieving web page URL 'https://e-uprava.gov.si/drzava-in-druzba/javni-sektor/podrobnosti-institucije.html?id=1420'\n",
      "Retrieving web page URL 'https://e-uprava.gov.si/drzava-in-druzba/javni-sektor/podrobnosti-institucije.html?id=1976'\n",
      "Retrieving web page URL 'https://e-uprava.gov.si/drzava-in-druzba/javni-sektor/podrobnosti-institucije.html?id=1152'\n",
      "Retrieving web page URL 'https://e-uprava.gov.si/drzava-in-druzba/javni-sektor/podrobnosti-institucije.html?id=1719'\n",
      "Retrieving web page URL 'https://e-uprava.gov.si/drzava-in-druzba/javni-sektor/podrobnosti-institucije.html?id=1017'\n",
      "Retrieving web page URL 'https://e-uprava.gov.si/drzava-in-druzba/javni-sektor/podrobnosti-institucije.html?id=1291'\n",
      "Retrieving web page URL 'https://e-uprava.gov.si/drzava-in-druzba/javni-sektor/podrobnosti-institucije.html?id=2523'\n",
      "Retrieving web page URL 'https://e-uprava.gov.si/drzava-in-druzba/javni-sektor/podrobnosti-institucije.html?id=1034'\n",
      "Retrieving web page URL 'https://e-uprava.gov.si/drzava-in-druzba/javni-sektor/podrobnosti-institucije.html?id=2109'\n",
      "Retrieving web page URL 'https://e-uprava.gov.si/drzava-in-druzba/javni-sektor/podrobnosti-institucije.html?id=1018'\n",
      "Retrieving web page URL 'https://e-uprava.gov.si/drzava-in-druzba/javni-sektor/podrobnosti-institucije.html?id=2532'\n",
      "HASH: 0.8\n",
      "Comparing MinHash signatures took 0.01sec\n",
      "UPDATING PARENT:  https://e-uprava.gov.si/drzava-in-druzba/javni-sektor/podrobnosti-institucije.html?id=1420\n",
      "HASH: 0.8\n",
      "Comparing MinHash signatures took 0.00sec\n",
      "UPDATING PARENT:  https://e-uprava.gov.si/drzava-in-druzba/javni-sektor/podrobnosti-institucije.html?id=1976\n"
     ]
    },
    {
     "name": "stderr",
     "output_type": "stream",
     "text": [
      "/home/viktor/anaconda3/envs/wier/lib/python3.6/site-packages/urllib3/connectionpool.py:1004: InsecureRequestWarning: Unverified HTTPS request is being made to host 'e-uprava.gov.si'. Adding certificate verification is strongly advised. See: https://urllib3.readthedocs.io/en/latest/advanced-usage.html#ssl-warnings\n",
      "  InsecureRequestWarning,\n",
      "/home/viktor/anaconda3/envs/wier/lib/python3.6/site-packages/urllib3/connectionpool.py:1004: InsecureRequestWarning: Unverified HTTPS request is being made to host 'e-uprava.gov.si'. Adding certificate verification is strongly advised. See: https://urllib3.readthedocs.io/en/latest/advanced-usage.html#ssl-warnings\n",
      "  InsecureRequestWarning,\n"
     ]
    },
    {
     "name": "stdout",
     "output_type": "stream",
     "text": [
      "HASH: 0.1\n",
      "Comparing MinHash signatures took 0.00sec\n",
      "UPDATING PARENT:  https://e-uprava.gov.si/drzava-in-druzba/javni-sektor/podrobnosti-institucije.html?id=1152\n",
      "HASH: 0.7\n",
      "Comparing MinHash signatures took 0.00sec\n",
      "UPDATING PARENT:  https://e-uprava.gov.si/drzava-in-druzba/javni-sektor/podrobnosti-institucije.html?id=1017\n"
     ]
    },
    {
     "name": "stderr",
     "output_type": "stream",
     "text": [
      "/home/viktor/anaconda3/envs/wier/lib/python3.6/site-packages/urllib3/connectionpool.py:1004: InsecureRequestWarning: Unverified HTTPS request is being made to host 'e-uprava.gov.si'. Adding certificate verification is strongly advised. See: https://urllib3.readthedocs.io/en/latest/advanced-usage.html#ssl-warnings\n",
      "  InsecureRequestWarning,\n",
      "/home/viktor/anaconda3/envs/wier/lib/python3.6/site-packages/urllib3/connectionpool.py:1004: InsecureRequestWarning: Unverified HTTPS request is being made to host 'e-uprava.gov.si'. Adding certificate verification is strongly advised. See: https://urllib3.readthedocs.io/en/latest/advanced-usage.html#ssl-warnings\n",
      "  InsecureRequestWarning,\n"
     ]
    },
    {
     "name": "stdout",
     "output_type": "stream",
     "text": [
      "HASH: 0.8\n",
      "Comparing MinHash signatures took 0.00sec\n",
      "UPDATING PARENT:  https://e-uprava.gov.si/drzava-in-druzba/javni-sektor/podrobnosti-institucije.html?id=2523\n",
      "HASH: 0.8\n",
      "Comparing MinHash signatures took 0.00sec\n",
      "UPDATING PARENT:  https://e-uprava.gov.si/drzava-in-druzba/javni-sektor/podrobnosti-institucije.html?id=1407\n",
      "HASH: 0.0\n",
      "Comparing MinHash signatures took 0.02sec\n",
      "UPDATING PARENT:  https://e-uprava.gov.si/drzava-in-druzba/javni-sektor/podrobnosti-institucije.html?id=2532\n",
      "HASH: 1.0\n",
      "Comparing MinHash signatures took 0.01sec\n",
      "UPDATING PARENT:  https://e-uprava.gov.si/drzava-in-druzba/javni-sektor/podrobnosti-institucije.html?id=1018\n"
     ]
    },
    {
     "name": "stderr",
     "output_type": "stream",
     "text": [
      "/home/viktor/anaconda3/envs/wier/lib/python3.6/site-packages/urllib3/connectionpool.py:1004: InsecureRequestWarning: Unverified HTTPS request is being made to host 'e-uprava.gov.si'. Adding certificate verification is strongly advised. See: https://urllib3.readthedocs.io/en/latest/advanced-usage.html#ssl-warnings\n",
      "  InsecureRequestWarning,\n",
      "/home/viktor/anaconda3/envs/wier/lib/python3.6/site-packages/urllib3/connectionpool.py:1004: InsecureRequestWarning: Unverified HTTPS request is being made to host 'e-uprava.gov.si'. Adding certificate verification is strongly advised. See: https://urllib3.readthedocs.io/en/latest/advanced-usage.html#ssl-warnings\n",
      "  InsecureRequestWarning,\n",
      "/home/viktor/anaconda3/envs/wier/lib/python3.6/site-packages/urllib3/connectionpool.py:1004: InsecureRequestWarning: Unverified HTTPS request is being made to host 'e-uprava.gov.si'. Adding certificate verification is strongly advised. See: https://urllib3.readthedocs.io/en/latest/advanced-usage.html#ssl-warnings\n",
      "  InsecureRequestWarning,\n"
     ]
    },
    {
     "name": "stdout",
     "output_type": "stream",
     "text": [
      "HASH: 0.0\n",
      "Comparing MinHash signatures took 0.01sec\n",
      "UPDATING PARENT:  https://e-uprava.gov.si/drzava-in-druzba/javni-sektor/podrobnosti-institucije.html?id=2109\n",
      "HASH: 0.8\n",
      "Comparing MinHash signatures took 0.00sec\n",
      "UPDATING PARENT:  https://e-uprava.gov.si/drzava-in-druzba/javni-sektor/podrobnosti-institucije.html?id=1291\n"
     ]
    },
    {
     "name": "stderr",
     "output_type": "stream",
     "text": [
      "/home/viktor/anaconda3/envs/wier/lib/python3.6/site-packages/urllib3/connectionpool.py:1004: InsecureRequestWarning: Unverified HTTPS request is being made to host 'e-uprava.gov.si'. Adding certificate verification is strongly advised. See: https://urllib3.readthedocs.io/en/latest/advanced-usage.html#ssl-warnings\n",
      "  InsecureRequestWarning,\n",
      "/home/viktor/anaconda3/envs/wier/lib/python3.6/site-packages/urllib3/connectionpool.py:1004: InsecureRequestWarning: Unverified HTTPS request is being made to host 'e-uprava.gov.si'. Adding certificate verification is strongly advised. See: https://urllib3.readthedocs.io/en/latest/advanced-usage.html#ssl-warnings\n",
      "  InsecureRequestWarning,\n",
      "/home/viktor/anaconda3/envs/wier/lib/python3.6/site-packages/urllib3/connectionpool.py:1004: InsecureRequestWarning: Unverified HTTPS request is being made to host 'e-uprava.gov.si'. Adding certificate verification is strongly advised. See: https://urllib3.readthedocs.io/en/latest/advanced-usage.html#ssl-warnings\n",
      "  InsecureRequestWarning,\n"
     ]
    },
    {
     "name": "stdout",
     "output_type": "stream",
     "text": [
      "HASH: 0.1\n",
      "Comparing MinHash signatures took 0.01sec\n",
      "HASH: 0.1\n",
      "Comparing MinHash signatures took 0.01sec\n",
      "UPDATING PARENT: UPDATING PARENT:  https://e-uprava.gov.si/drzava-in-druzba/javni-sektor/podrobnosti-institucije.html?id=1034\n",
      " https://e-uprava.gov.si/drzava-in-druzba/javni-sektor/podrobnosti-institucije.html?id=1719\n"
     ]
    },
    {
     "name": "stderr",
     "output_type": "stream",
     "text": [
      "/home/viktor/anaconda3/envs/wier/lib/python3.6/site-packages/urllib3/connectionpool.py:1004: InsecureRequestWarning: Unverified HTTPS request is being made to host 'e-uprava.gov.si'. Adding certificate verification is strongly advised. See: https://urllib3.readthedocs.io/en/latest/advanced-usage.html#ssl-warnings\n",
      "  InsecureRequestWarning,\n",
      "/home/viktor/anaconda3/envs/wier/lib/python3.6/site-packages/urllib3/connectionpool.py:1004: InsecureRequestWarning: Unverified HTTPS request is being made to host 'e-uprava.gov.si'. Adding certificate verification is strongly advised. See: https://urllib3.readthedocs.io/en/latest/advanced-usage.html#ssl-warnings\n",
      "  InsecureRequestWarning,\n"
     ]
    },
    {
     "name": "stdout",
     "output_type": "stream",
     "text": [
      "Frontier len 56548\n",
      "Frontier len 56557\n",
      "Frontier len 56566\n",
      "Frontier len 56575\n",
      "Frontier len 56584\n",
      "Frontier len 56593\n",
      "Frontier len 56602\n",
      "Frontier len 56611\n",
      "Frontier len 56620\n",
      "Frontier len 56631\n",
      "Frontier len 56640\n",
      "Frontier len 56650\n",
      "\n",
      " ... executing workers ...\n",
      "\n",
      "Num sites: 7681, i: 8056\n",
      "Retrieving web page URL 'https://e-uprava.gov.si/drzava-in-druzba/javni-sektor/podrobnosti-institucije.html?id=1919'\n",
      "Retrieving web page URL 'https://e-uprava.gov.si/drzava-in-druzba/javni-sektor/podrobnosti-institucije.html?id=1230'\n",
      "Retrieving web page URL 'https://e-uprava.gov.si/drzava-in-druzba/javni-sektor/podrobnosti-institucije.html?id=1500'\n",
      "Retrieving web page URL 'https://e-uprava.gov.si/drzava-in-druzba/javni-sektor/podrobnosti-institucije.html?id=1344'\n",
      "Retrieving web page URL 'https://e-uprava.gov.si/drzava-in-druzba/javni-sektor/podrobnosti-institucije.html?id=1108'\n",
      "Retrieving web page URL 'https://e-uprava.gov.si/drzava-in-druzba/javni-sektor/podrobnosti-institucije.html?id=2686'\n",
      "Retrieving web page URL 'https://e-uprava.gov.si/drzava-in-druzba/javni-sektor/podrobnosti-institucije.html?id=1317'\n",
      "Retrieving web page URL 'https://e-uprava.gov.si/drzava-in-druzba/javni-sektor/podrobnosti-institucije.html?id=1484'\n",
      "Retrieving web page URL 'https://e-uprava.gov.si/drzava-in-druzba/javni-sektor/podrobnosti-institucije.html?id=1083'\n",
      "Retrieving web page URL 'https://e-uprava.gov.si/drzava-in-druzba/javni-sektor/podrobnosti-institucije.html?id=1884'\n",
      "Retrieving web page URL 'https://e-uprava.gov.si/drzava-in-druzba/javni-sektor/podrobnosti-institucije.html?id=1744'\n",
      "Retrieving web page URL 'https://e-uprava.gov.si/drzava-in-druzba/javni-sektor/podrobnosti-institucije.html?id=1279'\n",
      "HASH: 0.8\n",
      "Comparing MinHash signatures took 0.01sec\n",
      "UPDATING PARENT:  https://e-uprava.gov.si/drzava-in-druzba/javni-sektor/podrobnosti-institucije.html?id=1919\n"
     ]
    },
    {
     "name": "stderr",
     "output_type": "stream",
     "text": [
      "/home/viktor/anaconda3/envs/wier/lib/python3.6/site-packages/urllib3/connectionpool.py:1004: InsecureRequestWarning: Unverified HTTPS request is being made to host 'e-uprava.gov.si'. Adding certificate verification is strongly advised. See: https://urllib3.readthedocs.io/en/latest/advanced-usage.html#ssl-warnings\n",
      "  InsecureRequestWarning,\n"
     ]
    },
    {
     "name": "stdout",
     "output_type": "stream",
     "text": [
      "HASH: 0.0\n",
      "Comparing MinHash signatures took 0.01sec\n",
      "UPDATING PARENT:  https://e-uprava.gov.si/drzava-in-druzba/javni-sektor/podrobnosti-institucije.html?id=1344\n",
      "HASH: 1.0\n",
      "Comparing MinHash signatures took 0.00sec\n",
      "UPDATING PARENT:  https://e-uprava.gov.si/drzava-in-druzba/javni-sektor/podrobnosti-institucije.html?id=1230\n"
     ]
    },
    {
     "name": "stderr",
     "output_type": "stream",
     "text": [
      "/home/viktor/anaconda3/envs/wier/lib/python3.6/site-packages/urllib3/connectionpool.py:1004: InsecureRequestWarning: Unverified HTTPS request is being made to host 'e-uprava.gov.si'. Adding certificate verification is strongly advised. See: https://urllib3.readthedocs.io/en/latest/advanced-usage.html#ssl-warnings\n",
      "  InsecureRequestWarning,\n",
      "/home/viktor/anaconda3/envs/wier/lib/python3.6/site-packages/urllib3/connectionpool.py:1004: InsecureRequestWarning: Unverified HTTPS request is being made to host 'e-uprava.gov.si'. Adding certificate verification is strongly advised. See: https://urllib3.readthedocs.io/en/latest/advanced-usage.html#ssl-warnings\n",
      "  InsecureRequestWarning,\n",
      "/home/viktor/anaconda3/envs/wier/lib/python3.6/site-packages/urllib3/connectionpool.py:1004: InsecureRequestWarning: Unverified HTTPS request is being made to host 'e-uprava.gov.si'. Adding certificate verification is strongly advised. See: https://urllib3.readthedocs.io/en/latest/advanced-usage.html#ssl-warnings\n",
      "  InsecureRequestWarning,\n"
     ]
    },
    {
     "name": "stdout",
     "output_type": "stream",
     "text": [
      "HASH: 0.0\n",
      "Comparing MinHash signatures took 0.00sec\n",
      "UPDATING PARENT:  https://e-uprava.gov.si/drzava-in-druzba/javni-sektor/podrobnosti-institucije.html?id=2686\n",
      "HASH: 0.8\n",
      "Comparing MinHash signatures took 0.00sec\n",
      "UPDATING PARENT:  https://e-uprava.gov.si/drzava-in-druzba/javni-sektor/podrobnosti-institucije.html?id=1108\n",
      "HASH: 0.1\n",
      "Comparing MinHash signatures took 0.01sec\n",
      "UPDATING PARENT:  https://e-uprava.gov.si/drzava-in-druzba/javni-sektor/podrobnosti-institucije.html?id=1484\n"
     ]
    },
    {
     "name": "stderr",
     "output_type": "stream",
     "text": [
      "/home/viktor/anaconda3/envs/wier/lib/python3.6/site-packages/urllib3/connectionpool.py:1004: InsecureRequestWarning: Unverified HTTPS request is being made to host 'e-uprava.gov.si'. Adding certificate verification is strongly advised. See: https://urllib3.readthedocs.io/en/latest/advanced-usage.html#ssl-warnings\n",
      "  InsecureRequestWarning,\n",
      "/home/viktor/anaconda3/envs/wier/lib/python3.6/site-packages/urllib3/connectionpool.py:1004: InsecureRequestWarning: Unverified HTTPS request is being made to host 'e-uprava.gov.si'. Adding certificate verification is strongly advised. See: https://urllib3.readthedocs.io/en/latest/advanced-usage.html#ssl-warnings\n",
      "  InsecureRequestWarning,\n",
      "/home/viktor/anaconda3/envs/wier/lib/python3.6/site-packages/urllib3/connectionpool.py:1004: InsecureRequestWarning: Unverified HTTPS request is being made to host 'e-uprava.gov.si'. Adding certificate verification is strongly advised. See: https://urllib3.readthedocs.io/en/latest/advanced-usage.html#ssl-warnings\n",
      "  InsecureRequestWarning,\n"
     ]
    },
    {
     "name": "stdout",
     "output_type": "stream",
     "text": [
      "HASH: 0.8\n",
      "Comparing MinHash signatures took 0.01sec\n",
      "UPDATING PARENT:  https://e-uprava.gov.si/drzava-in-druzba/javni-sektor/podrobnosti-institucije.html?id=1744\n",
      "HASH: 0.1\n",
      "Comparing MinHash signatures took 0.01sec\n",
      "UPDATING PARENT:  https://e-uprava.gov.si/drzava-in-druzba/javni-sektor/podrobnosti-institucije.html?id=1317\n"
     ]
    },
    {
     "name": "stderr",
     "output_type": "stream",
     "text": [
      "/home/viktor/anaconda3/envs/wier/lib/python3.6/site-packages/urllib3/connectionpool.py:1004: InsecureRequestWarning: Unverified HTTPS request is being made to host 'e-uprava.gov.si'. Adding certificate verification is strongly advised. See: https://urllib3.readthedocs.io/en/latest/advanced-usage.html#ssl-warnings\n",
      "  InsecureRequestWarning,\n"
     ]
    },
    {
     "name": "stdout",
     "output_type": "stream",
     "text": [
      "HASH: 0.9\n",
      "Comparing MinHash signatures took 0.01sec\n",
      "UPDATING PARENT:  https://e-uprava.gov.si/drzava-in-druzba/javni-sektor/podrobnosti-institucije.html?id=1279HASH: 0.0\n",
      "\n",
      "Comparing MinHash signatures took 0.01sec\n",
      "UPDATING PARENT:  https://e-uprava.gov.si/drzava-in-druzba/javni-sektor/podrobnosti-institucije.html?id=1884\n"
     ]
    },
    {
     "name": "stderr",
     "output_type": "stream",
     "text": [
      "/home/viktor/anaconda3/envs/wier/lib/python3.6/site-packages/urllib3/connectionpool.py:1004: InsecureRequestWarning: Unverified HTTPS request is being made to host 'e-uprava.gov.si'. Adding certificate verification is strongly advised. See: https://urllib3.readthedocs.io/en/latest/advanced-usage.html#ssl-warnings\n",
      "  InsecureRequestWarning,\n",
      "/home/viktor/anaconda3/envs/wier/lib/python3.6/site-packages/urllib3/connectionpool.py:1004: InsecureRequestWarning: Unverified HTTPS request is being made to host 'e-uprava.gov.si'. Adding certificate verification is strongly advised. See: https://urllib3.readthedocs.io/en/latest/advanced-usage.html#ssl-warnings\n",
      "  InsecureRequestWarning,\n"
     ]
    },
    {
     "name": "stdout",
     "output_type": "stream",
     "text": [
      "HASH: 0.9\n",
      "Comparing MinHash signatures took 0.02sec\n",
      "UPDATING PARENT:  https://e-uprava.gov.si/drzava-in-druzba/javni-sektor/podrobnosti-institucije.html?id=1083\n",
      "HASH: 0.0\n",
      "Comparing MinHash signatures took 0.01sec\n",
      "UPDATING PARENT:  https://e-uprava.gov.si/drzava-in-druzba/javni-sektor/podrobnosti-institucije.html?id=1500\n"
     ]
    },
    {
     "name": "stderr",
     "output_type": "stream",
     "text": [
      "/home/viktor/anaconda3/envs/wier/lib/python3.6/site-packages/urllib3/connectionpool.py:1004: InsecureRequestWarning: Unverified HTTPS request is being made to host 'e-uprava.gov.si'. Adding certificate verification is strongly advised. See: https://urllib3.readthedocs.io/en/latest/advanced-usage.html#ssl-warnings\n",
      "  InsecureRequestWarning,\n",
      "/home/viktor/anaconda3/envs/wier/lib/python3.6/site-packages/urllib3/connectionpool.py:1004: InsecureRequestWarning: Unverified HTTPS request is being made to host 'e-uprava.gov.si'. Adding certificate verification is strongly advised. See: https://urllib3.readthedocs.io/en/latest/advanced-usage.html#ssl-warnings\n",
      "  InsecureRequestWarning,\n"
     ]
    },
    {
     "name": "stdout",
     "output_type": "stream",
     "text": [
      "Frontier len 56659\n",
      "Frontier len 56669\n",
      "Frontier len 56680Frontier len 56689\n",
      "\n",
      "Frontier len 56699\n",
      "Frontier len 56708\n",
      "Frontier len 56717\n",
      "Frontier len 56726\n",
      "Frontier len 56740\n",
      "Frontier len 56749\n",
      "Frontier len 56758\n",
      "Frontier len 56769\n",
      "\n",
      " ... executing workers ...\n",
      "\n",
      "Num sites: 7693, i: 8068\n",
      "Retrieving web page URL 'https://e-uprava.gov.si/drzava-in-druzba/javni-sektor/podrobnosti-institucije.html?id=1910'\n",
      "Retrieving web page URL 'https://e-uprava.gov.si/drzava-in-druzba/javni-sektor/podrobnosti-institucije.html?id=1236'Retrieving web page URL 'https://e-uprava.gov.si/drzava-in-druzba/javni-sektor/podrobnosti-institucije.html?id=1427'\n",
      "\n",
      "Retrieving web page URL 'https://e-uprava.gov.si/drzava-in-druzba/javni-sektor/podrobnosti-institucije.html?id=1736'\n",
      "Retrieving web page URL 'https://e-uprava.gov.si/drzava-in-druzba/javni-sektor/podrobnosti-institucije.html?id=1466'\n",
      "Retrieving web page URL 'https://e-uprava.gov.si/drzava-in-druzba/javni-sektor/podrobnosti-institucije.html?id=1822'\n",
      "Retrieving web page URL 'https://e-uprava.gov.si/drzava-in-druzba/javni-sektor/podrobnosti-institucije.html?id=1387'\n",
      "Retrieving web page URL 'https://e-uprava.gov.si/drzava-in-druzba/javni-sektor/podrobnosti-institucije.html?id=1783'\n",
      "Retrieving web page URL 'https://e-uprava.gov.si/drzava-in-druzba/javni-sektor/podrobnosti-institucije.html?id=1122'Retrieving web page URL 'https://e-uprava.gov.si/drzava-in-druzba/javni-sektor/podrobnosti-institucije.html?id=1062'\n",
      "\n",
      "Retrieving web page URL 'https://e-uprava.gov.si/drzava-in-druzba/javni-sektor/podrobnosti-institucije.html?id=1494'\n",
      "wrong link: Message: Session already running\n",
      "\n",
      "HASH: 1.0\n",
      "Comparing MinHash signatures took 0.01sec\n",
      "UPDATING PARENT:  https://e-uprava.gov.si/drzava-in-druzba/javni-sektor/podrobnosti-institucije.html?id=1736\n"
     ]
    },
    {
     "name": "stderr",
     "output_type": "stream",
     "text": [
      "/home/viktor/anaconda3/envs/wier/lib/python3.6/site-packages/urllib3/connectionpool.py:1004: InsecureRequestWarning: Unverified HTTPS request is being made to host 'e-uprava.gov.si'. Adding certificate verification is strongly advised. See: https://urllib3.readthedocs.io/en/latest/advanced-usage.html#ssl-warnings\n",
      "  InsecureRequestWarning,\n"
     ]
    },
    {
     "name": "stdout",
     "output_type": "stream",
     "text": [
      "HASH: 0.0\n",
      "Comparing MinHash signatures took 0.01sec\n",
      "UPDATING PARENT:  https://e-uprava.gov.si/drzava-in-druzba/javni-sektor/podrobnosti-institucije.html?id=1427\n"
     ]
    },
    {
     "name": "stderr",
     "output_type": "stream",
     "text": [
      "/home/viktor/anaconda3/envs/wier/lib/python3.6/site-packages/urllib3/connectionpool.py:1004: InsecureRequestWarning: Unverified HTTPS request is being made to host 'e-uprava.gov.si'. Adding certificate verification is strongly advised. See: https://urllib3.readthedocs.io/en/latest/advanced-usage.html#ssl-warnings\n",
      "  InsecureRequestWarning,\n"
     ]
    },
    {
     "name": "stdout",
     "output_type": "stream",
     "text": [
      "HASH: 0.7\n",
      "Comparing MinHash signatures took 0.00sec\n",
      "UPDATING PARENT:  https://e-uprava.gov.si/drzava-in-druzba/javni-sektor/podrobnosti-institucije.html?id=1122\n",
      "HASH: 0.7\n",
      "Comparing MinHash signatures took 0.00sec\n",
      "UPDATING PARENT:  https://e-uprava.gov.si/drzava-in-druzba/javni-sektor/podrobnosti-institucije.html?id=1783\n"
     ]
    },
    {
     "name": "stderr",
     "output_type": "stream",
     "text": [
      "/home/viktor/anaconda3/envs/wier/lib/python3.6/site-packages/urllib3/connectionpool.py:1004: InsecureRequestWarning: Unverified HTTPS request is being made to host 'e-uprava.gov.si'. Adding certificate verification is strongly advised. See: https://urllib3.readthedocs.io/en/latest/advanced-usage.html#ssl-warnings\n",
      "  InsecureRequestWarning,\n",
      "/home/viktor/anaconda3/envs/wier/lib/python3.6/site-packages/urllib3/connectionpool.py:1004: InsecureRequestWarning: Unverified HTTPS request is being made to host 'e-uprava.gov.si'. Adding certificate verification is strongly advised. See: https://urllib3.readthedocs.io/en/latest/advanced-usage.html#ssl-warnings\n",
      "  InsecureRequestWarning,\n"
     ]
    },
    {
     "name": "stdout",
     "output_type": "stream",
     "text": [
      "HASH: 0.8\n",
      "Comparing MinHash signatures took 0.01sec\n",
      "HASH: 0.9\n",
      "Comparing MinHash signatures took 0.01sec\n",
      "UPDATING PARENT:  https://e-uprava.gov.si/drzava-in-druzba/javni-sektor/podrobnosti-institucije.html?id=1466\n",
      "HASH: 0.1\n",
      "Comparing MinHash signatures took 0.01sec\n",
      "UPDATING PARENT:  https://e-uprava.gov.si/drzava-in-druzba/javni-sektor/podrobnosti-institucije.html?id=1910\n",
      "UPDATING PARENT:  https://e-uprava.gov.si/drzava-in-druzba/javni-sektor/podrobnosti-institucije.html?id=1062\n"
     ]
    },
    {
     "name": "stderr",
     "output_type": "stream",
     "text": [
      "/home/viktor/anaconda3/envs/wier/lib/python3.6/site-packages/urllib3/connectionpool.py:1004: InsecureRequestWarning: Unverified HTTPS request is being made to host 'e-uprava.gov.si'. Adding certificate verification is strongly advised. See: https://urllib3.readthedocs.io/en/latest/advanced-usage.html#ssl-warnings\n",
      "  InsecureRequestWarning,\n",
      "/home/viktor/anaconda3/envs/wier/lib/python3.6/site-packages/urllib3/connectionpool.py:1004: InsecureRequestWarning: Unverified HTTPS request is being made to host 'e-uprava.gov.si'. Adding certificate verification is strongly advised. See: https://urllib3.readthedocs.io/en/latest/advanced-usage.html#ssl-warnings\n",
      "  InsecureRequestWarning,\n",
      "/home/viktor/anaconda3/envs/wier/lib/python3.6/site-packages/urllib3/connectionpool.py:1004: InsecureRequestWarning: Unverified HTTPS request is being made to host 'e-uprava.gov.si'. Adding certificate verification is strongly advised. See: https://urllib3.readthedocs.io/en/latest/advanced-usage.html#ssl-warnings\n",
      "  InsecureRequestWarning,\n"
     ]
    },
    {
     "name": "stdout",
     "output_type": "stream",
     "text": [
      "HASH: 0.8\n",
      "Comparing MinHash signatures took 0.00sec\n",
      "UPDATING PARENT:  https://e-uprava.gov.si/drzava-in-druzba/javni-sektor/podrobnosti-institucije.html?id=1387\n",
      "HASH: 0.0\n",
      "Comparing MinHash signatures took 0.00sec\n",
      "UPDATING PARENT:  https://e-uprava.gov.si/drzava-in-druzba/javni-sektor/podrobnosti-institucije.html?id=1236\n",
      "HASH: 0.7\n",
      "Comparing MinHash signatures took 0.02sec\n",
      "UPDATING PARENT:  https://e-uprava.gov.si/drzava-in-druzba/javni-sektor/podrobnosti-institucije.html?id=1822\n"
     ]
    },
    {
     "name": "stderr",
     "output_type": "stream",
     "text": [
      "/home/viktor/anaconda3/envs/wier/lib/python3.6/site-packages/urllib3/connectionpool.py:1004: InsecureRequestWarning: Unverified HTTPS request is being made to host 'e-uprava.gov.si'. Adding certificate verification is strongly advised. See: https://urllib3.readthedocs.io/en/latest/advanced-usage.html#ssl-warnings\n",
      "  InsecureRequestWarning,\n",
      "/home/viktor/anaconda3/envs/wier/lib/python3.6/site-packages/urllib3/connectionpool.py:1004: InsecureRequestWarning: Unverified HTTPS request is being made to host 'e-uprava.gov.si'. Adding certificate verification is strongly advised. See: https://urllib3.readthedocs.io/en/latest/advanced-usage.html#ssl-warnings\n",
      "  InsecureRequestWarning,\n",
      "/home/viktor/anaconda3/envs/wier/lib/python3.6/site-packages/urllib3/connectionpool.py:1004: InsecureRequestWarning: Unverified HTTPS request is being made to host 'e-uprava.gov.si'. Adding certificate verification is strongly advised. See: https://urllib3.readthedocs.io/en/latest/advanced-usage.html#ssl-warnings\n",
      "  InsecureRequestWarning,\n",
      "/home/viktor/anaconda3/envs/wier/lib/python3.6/site-packages/urllib3/connectionpool.py:1004: InsecureRequestWarning: Unverified HTTPS request is being made to host 'e-uprava.gov.si'. Adding certificate verification is strongly advised. See: https://urllib3.readthedocs.io/en/latest/advanced-usage.html#ssl-warnings\n",
      "  InsecureRequestWarning,\n"
     ]
    },
    {
     "name": "stdout",
     "output_type": "stream",
     "text": [
      "HASH: 0.5\n",
      "Comparing MinHash signatures took 0.01sec\n",
      "UPDATING PARENT:  https://e-uprava.gov.si/drzava-in-druzba/javni-sektor/podrobnosti-institucije.html?id=1494\n",
      "Frontier len 56779\n",
      "Frontier len 56788\n",
      "Frontier len 56797\n",
      "Frontier len 56807\n",
      "Frontier len 56816\n",
      "Frontier len 56825\n",
      "Frontier len 56835\n",
      "Frontier len 56844\n",
      "Frontier len 56853\n",
      "Frontier len 56862\n",
      "Frontier len 56871\n",
      "\n",
      " ... executing workers ...\n",
      "\n",
      "Num sites: 7704, i: 8080\n",
      "Retrieving web page URL 'https://e-uprava.gov.si/drzava-in-druzba/javni-sektor/podrobnosti-institucije.html?id=1149'\n",
      "Retrieving web page URL 'https://e-uprava.gov.si/drzava-in-druzba/javni-sektor/podrobnosti-institucije.html?id=1911'\n",
      "Retrieving web page URL 'https://e-uprava.gov.si/drzava-in-druzba/javni-sektor/podrobnosti-institucije.html?id=1469'\n",
      "Retrieving web page URL 'https://e-uprava.gov.si/drzava-in-druzba/javni-sektor/podrobnosti-institucije.html?id=1150'\n",
      "Retrieving web page URL 'https://e-uprava.gov.si/drzava-in-druzba/javni-sektor/podrobnosti-institucije.html?id=1525'\n",
      "Retrieving web page URL 'https://e-uprava.gov.si/drzava-in-druzba/javni-sektor/podrobnosti-institucije.html?id=1066'\n",
      "Retrieving web page URL 'https://e-uprava.gov.si/drzava-in-druzba/javni-sektor/podrobnosti-institucije.html?id=1053'\n",
      "Retrieving web page URL 'https://e-uprava.gov.si/drzava-in-druzba/javni-sektor/podrobnosti-institucije.html?id=1056'\n",
      "Retrieving web page URL 'https://e-uprava.gov.si/drzava-in-druzba/javni-sektor/podrobnosti-institucije.html?id=1346'\n",
      "Retrieving web page URL 'https://e-uprava.gov.si/drzava-in-druzba/javni-sektor/podrobnosti-institucije.html?id=1377'\n",
      "Retrieving web page URL 'https://e-uprava.gov.si/drzava-in-druzba/javni-sektor/podrobnosti-institucije.html?id=1935'\n",
      "Retrieving web page URL 'https://e-uprava.gov.si/drzava-in-druzba/javni-sektor/podrobnosti-institucije.html?id=1864'\n",
      "HASH: 1.0\n",
      "Comparing MinHash signatures took 0.01sec\n",
      "UPDATING PARENT:  https://e-uprava.gov.si/drzava-in-druzba/javni-sektor/podrobnosti-institucije.html?id=1149\n"
     ]
    },
    {
     "name": "stderr",
     "output_type": "stream",
     "text": [
      "/home/viktor/anaconda3/envs/wier/lib/python3.6/site-packages/urllib3/connectionpool.py:1004: InsecureRequestWarning: Unverified HTTPS request is being made to host 'e-uprava.gov.si'. Adding certificate verification is strongly advised. See: https://urllib3.readthedocs.io/en/latest/advanced-usage.html#ssl-warnings\n",
      "  InsecureRequestWarning,\n"
     ]
    },
    {
     "name": "stdout",
     "output_type": "stream",
     "text": [
      "HASH: 0.6\n",
      "Comparing MinHash signatures took 0.00sec\n",
      "UPDATING PARENT:  https://e-uprava.gov.si/drzava-in-druzba/javni-sektor/podrobnosti-institucije.html?id=1911\n",
      "HASH: 0.8\n",
      "Comparing MinHash signatures took 0.00sec\n",
      "UPDATING PARENT:  https://e-uprava.gov.si/drzava-in-druzba/javni-sektor/podrobnosti-institucije.html?id=1053\n"
     ]
    },
    {
     "name": "stderr",
     "output_type": "stream",
     "text": [
      "/home/viktor/anaconda3/envs/wier/lib/python3.6/site-packages/urllib3/connectionpool.py:1004: InsecureRequestWarning: Unverified HTTPS request is being made to host 'e-uprava.gov.si'. Adding certificate verification is strongly advised. See: https://urllib3.readthedocs.io/en/latest/advanced-usage.html#ssl-warnings\n",
      "  InsecureRequestWarning,\n"
     ]
    },
    {
     "name": "stdout",
     "output_type": "stream",
     "text": [
      "HASH: 0.0\n",
      "Comparing MinHash signatures took 0.00sec\n",
      "UPDATING PARENT:  https://e-uprava.gov.si/drzava-in-druzba/javni-sektor/podrobnosti-institucije.html?id=1469\n",
      "HASH: 0.9\n",
      "Comparing MinHash signatures took 0.00sec\n",
      "UPDATING PARENT:  https://e-uprava.gov.si/drzava-in-druzba/javni-sektor/podrobnosti-institucije.html?id=1150\n",
      "HASH: 0.0\n",
      "Comparing MinHash signatures took 0.00sec\n",
      "UPDATING PARENT:  https://e-uprava.gov.si/drzava-in-druzba/javni-sektor/podrobnosti-institucije.html?id=1066\n",
      "HASH: 1.0\n",
      "Comparing MinHash signatures took 0.00sec\n",
      "UPDATING PARENT:  https://e-uprava.gov.si/drzava-in-druzba/javni-sektor/podrobnosti-institucije.html?id=1056\n",
      "HASH: 0.0\n",
      "Comparing MinHash signatures took 0.00sec\n",
      "UPDATING PARENT:  https://e-uprava.gov.si/drzava-in-druzba/javni-sektor/podrobnosti-institucije.html?id=1346\n",
      "HASH: 0.8\n",
      "Comparing MinHash signatures took 0.00sec\n",
      "UPDATING PARENT:  https://e-uprava.gov.si/drzava-in-druzba/javni-sektor/podrobnosti-institucije.html?id=1525\n"
     ]
    },
    {
     "name": "stderr",
     "output_type": "stream",
     "text": [
      "/home/viktor/anaconda3/envs/wier/lib/python3.6/site-packages/urllib3/connectionpool.py:1004: InsecureRequestWarning: Unverified HTTPS request is being made to host 'e-uprava.gov.si'. Adding certificate verification is strongly advised. See: https://urllib3.readthedocs.io/en/latest/advanced-usage.html#ssl-warnings\n",
      "  InsecureRequestWarning,\n",
      "/home/viktor/anaconda3/envs/wier/lib/python3.6/site-packages/urllib3/connectionpool.py:1004: InsecureRequestWarning: Unverified HTTPS request is being made to host 'e-uprava.gov.si'. Adding certificate verification is strongly advised. See: https://urllib3.readthedocs.io/en/latest/advanced-usage.html#ssl-warnings\n",
      "  InsecureRequestWarning,\n",
      "/home/viktor/anaconda3/envs/wier/lib/python3.6/site-packages/urllib3/connectionpool.py:1004: InsecureRequestWarning: Unverified HTTPS request is being made to host 'e-uprava.gov.si'. Adding certificate verification is strongly advised. See: https://urllib3.readthedocs.io/en/latest/advanced-usage.html#ssl-warnings\n",
      "  InsecureRequestWarning,\n",
      "/home/viktor/anaconda3/envs/wier/lib/python3.6/site-packages/urllib3/connectionpool.py:1004: InsecureRequestWarning: Unverified HTTPS request is being made to host 'e-uprava.gov.si'. Adding certificate verification is strongly advised. See: https://urllib3.readthedocs.io/en/latest/advanced-usage.html#ssl-warnings\n",
      "  InsecureRequestWarning,\n",
      "/home/viktor/anaconda3/envs/wier/lib/python3.6/site-packages/urllib3/connectionpool.py:1004: InsecureRequestWarning: Unverified HTTPS request is being made to host 'e-uprava.gov.si'. Adding certificate verification is strongly advised. See: https://urllib3.readthedocs.io/en/latest/advanced-usage.html#ssl-warnings\n",
      "  InsecureRequestWarning,\n",
      "/home/viktor/anaconda3/envs/wier/lib/python3.6/site-packages/urllib3/connectionpool.py:1004: InsecureRequestWarning: Unverified HTTPS request is being made to host 'e-uprava.gov.si'. Adding certificate verification is strongly advised. See: https://urllib3.readthedocs.io/en/latest/advanced-usage.html#ssl-warnings\n",
      "  InsecureRequestWarning,\n",
      "/home/viktor/anaconda3/envs/wier/lib/python3.6/site-packages/urllib3/connectionpool.py:1004: InsecureRequestWarning: Unverified HTTPS request is being made to host 'e-uprava.gov.si'. Adding certificate verification is strongly advised. See: https://urllib3.readthedocs.io/en/latest/advanced-usage.html#ssl-warnings\n",
      "  InsecureRequestWarning,\n"
     ]
    },
    {
     "name": "stdout",
     "output_type": "stream",
     "text": [
      "HASH: 0.0\n",
      "Comparing MinHash signatures took 0.01sec\n",
      "UPDATING PARENT:  https://e-uprava.gov.si/drzava-in-druzba/javni-sektor/podrobnosti-institucije.html?id=1377\n"
     ]
    },
    {
     "name": "stderr",
     "output_type": "stream",
     "text": [
      "/home/viktor/anaconda3/envs/wier/lib/python3.6/site-packages/urllib3/connectionpool.py:1004: InsecureRequestWarning: Unverified HTTPS request is being made to host 'e-uprava.gov.si'. Adding certificate verification is strongly advised. See: https://urllib3.readthedocs.io/en/latest/advanced-usage.html#ssl-warnings\n",
      "  InsecureRequestWarning,\n"
     ]
    },
    {
     "name": "stdout",
     "output_type": "stream",
     "text": [
      "HASH: 0.3\n",
      "Comparing MinHash signatures took 0.01sec\n",
      "UPDATING PARENT:  https://e-uprava.gov.si/drzava-in-druzba/javni-sektor/podrobnosti-institucije.html?id=1935\n",
      "HASH: 0.8\n",
      "Comparing MinHash signatures took 0.00sec\n",
      "UPDATING PARENT:  https://e-uprava.gov.si/drzava-in-druzba/javni-sektor/podrobnosti-institucije.html?id=1864\n"
     ]
    },
    {
     "name": "stderr",
     "output_type": "stream",
     "text": [
      "/home/viktor/anaconda3/envs/wier/lib/python3.6/site-packages/urllib3/connectionpool.py:1004: InsecureRequestWarning: Unverified HTTPS request is being made to host 'e-uprava.gov.si'. Adding certificate verification is strongly advised. See: https://urllib3.readthedocs.io/en/latest/advanced-usage.html#ssl-warnings\n",
      "  InsecureRequestWarning,\n",
      "/home/viktor/anaconda3/envs/wier/lib/python3.6/site-packages/urllib3/connectionpool.py:1004: InsecureRequestWarning: Unverified HTTPS request is being made to host 'e-uprava.gov.si'. Adding certificate verification is strongly advised. See: https://urllib3.readthedocs.io/en/latest/advanced-usage.html#ssl-warnings\n",
      "  InsecureRequestWarning,\n"
     ]
    },
    {
     "name": "stdout",
     "output_type": "stream",
     "text": [
      "Frontier len 56880\n",
      "Frontier len 56889\n",
      "Frontier len 56901\n",
      "Frontier len 56914\n",
      "Frontier len 56923\n",
      "Frontier len 56934\n",
      "Frontier len 56943\n",
      "Frontier len 56953\n",
      "Frontier len 56963\n",
      "Frontier len 56972\n",
      "Frontier len 56984\n",
      "Frontier len 56995\n",
      "\n",
      " ... executing workers ...\n",
      "\n",
      "Num sites: 7716, i: 8092\n",
      "Retrieving web page URL 'https://e-uprava.gov.si/drzava-in-druzba/javni-sektor/podrobnosti-institucije.html?id=1458'\n",
      "Retrieving web page URL 'https://e-uprava.gov.si/drzava-in-druzba/javni-sektor/podrobnosti-institucije.html?id=1202'\n",
      "Retrieving web page URL 'https://e-uprava.gov.si/drzava-in-druzba/javni-sektor/podrobnosti-institucije.html?id=1170'\n",
      "Retrieving web page URL 'https://e-uprava.gov.si/drzava-in-druzba/javni-sektor/podrobnosti-institucije.html?id=12'\n",
      "Retrieving web page URL 'https://e-uprava.gov.si/drzava-in-druzba/javni-sektor/podrobnosti-institucije.html?id=1501'\n",
      "Retrieving web page URL 'https://e-uprava.gov.si/drzava-in-druzba/javni-sektor/podrobnosti-institucije.html?id=1445'\n",
      "Retrieving web page URL 'https://e-uprava.gov.si/drzava-in-druzba/javni-sektor/podrobnosti-institucije.html?id=1899'\n",
      "Retrieving web page URL 'https://e-uprava.gov.si/drzava-in-druzba/javni-sektor/podrobnosti-institucije.html?id=1684'\n",
      "Retrieving web page URL 'https://e-uprava.gov.si/drzava-in-druzba/javni-sektor/podrobnosti-institucije.html?id=1295'\n",
      "Retrieving web page URL 'https://e-uprava.gov.si/drzava-in-druzba/javni-sektor/podrobnosti-institucije.html?id=1036'\n",
      "Retrieving web page URL 'https://e-uprava.gov.si/drzava-in-druzba/javni-sektor/podrobnosti-institucije.html?id=1983'\n",
      "Retrieving web page URL 'https://e-uprava.gov.si/drzava-in-druzba/javni-sektor/podrobnosti-institucije.html?id=1523'\n",
      "HASH: 0.4\n",
      "Comparing MinHash signatures took 0.01sec\n",
      "UPDATING PARENT:  https://e-uprava.gov.si/drzava-in-druzba/javni-sektor/podrobnosti-institucije.html?id=1458\n"
     ]
    },
    {
     "name": "stderr",
     "output_type": "stream",
     "text": [
      "/home/viktor/anaconda3/envs/wier/lib/python3.6/site-packages/urllib3/connectionpool.py:1004: InsecureRequestWarning: Unverified HTTPS request is being made to host 'e-uprava.gov.si'. Adding certificate verification is strongly advised. See: https://urllib3.readthedocs.io/en/latest/advanced-usage.html#ssl-warnings\n",
      "  InsecureRequestWarning,\n"
     ]
    },
    {
     "name": "stdout",
     "output_type": "stream",
     "text": [
      "HASH: 0.8HASH: 0.6\n",
      "\n",
      "Comparing MinHash signatures took 0.01sec\n",
      "UPDATING PARENT:  https://e-uprava.gov.si/drzava-in-druzba/javni-sektor/podrobnosti-institucije.html?id=1501\n",
      "Comparing MinHash signatures took 0.05sec\n",
      "UPDATING PARENT:  https://e-uprava.gov.si/drzava-in-druzba/javni-sektor/podrobnosti-institucije.html?id=12\n"
     ]
    },
    {
     "name": "stderr",
     "output_type": "stream",
     "text": [
      "/home/viktor/anaconda3/envs/wier/lib/python3.6/site-packages/urllib3/connectionpool.py:1004: InsecureRequestWarning: Unverified HTTPS request is being made to host 'e-uprava.gov.si'. Adding certificate verification is strongly advised. See: https://urllib3.readthedocs.io/en/latest/advanced-usage.html#ssl-warnings\n",
      "  InsecureRequestWarning,\n",
      "/home/viktor/anaconda3/envs/wier/lib/python3.6/site-packages/urllib3/connectionpool.py:1004: InsecureRequestWarning: Unverified HTTPS request is being made to host 'e-uprava.gov.si'. Adding certificate verification is strongly advised. See: https://urllib3.readthedocs.io/en/latest/advanced-usage.html#ssl-warnings\n",
      "  InsecureRequestWarning,\n",
      "/home/viktor/anaconda3/envs/wier/lib/python3.6/site-packages/urllib3/connectionpool.py:1004: InsecureRequestWarning: Unverified HTTPS request is being made to host 'e-uprava.gov.si'. Adding certificate verification is strongly advised. See: https://urllib3.readthedocs.io/en/latest/advanced-usage.html#ssl-warnings\n",
      "  InsecureRequestWarning,\n"
     ]
    },
    {
     "name": "stdout",
     "output_type": "stream",
     "text": [
      "HASH: 0.6\n",
      "Comparing MinHash signatures took 0.00sec\n",
      "UPDATING PARENT:  https://e-uprava.gov.si/drzava-in-druzba/javni-sektor/podrobnosti-institucije.html?id=1983\n",
      "HASH: 0.8\n",
      "Comparing MinHash signatures took 0.01sec\n",
      "UPDATING PARENT:  https://e-uprava.gov.si/drzava-in-druzba/javni-sektor/podrobnosti-institucije.html?id=1899\n"
     ]
    },
    {
     "name": "stderr",
     "output_type": "stream",
     "text": [
      "/home/viktor/anaconda3/envs/wier/lib/python3.6/site-packages/urllib3/connectionpool.py:1004: InsecureRequestWarning: Unverified HTTPS request is being made to host 'e-uprava.gov.si'. Adding certificate verification is strongly advised. See: https://urllib3.readthedocs.io/en/latest/advanced-usage.html#ssl-warnings\n",
      "  InsecureRequestWarning,\n"
     ]
    },
    {
     "name": "stdout",
     "output_type": "stream",
     "text": [
      "HASH: 1.0\n",
      "Comparing MinHash signatures took 0.01sec\n",
      "HASH: 0.0\n",
      "Comparing MinHash signatures took 0.00sec\n",
      "UPDATING PARENT:  https://e-uprava.gov.si/drzava-in-druzba/javni-sektor/podrobnosti-institucije.html?id=1170\n",
      "UPDATING PARENT:  https://e-uprava.gov.si/drzava-in-druzba/javni-sektor/podrobnosti-institucije.html?id=1445\n",
      "HASH: 0.6\n",
      "Comparing MinHash signatures took 0.01sec\n",
      "UPDATING PARENT:  https://e-uprava.gov.si/drzava-in-druzba/javni-sektor/podrobnosti-institucije.html?id=1523\n"
     ]
    },
    {
     "name": "stderr",
     "output_type": "stream",
     "text": [
      "/home/viktor/anaconda3/envs/wier/lib/python3.6/site-packages/urllib3/connectionpool.py:1004: InsecureRequestWarning: Unverified HTTPS request is being made to host 'e-uprava.gov.si'. Adding certificate verification is strongly advised. See: https://urllib3.readthedocs.io/en/latest/advanced-usage.html#ssl-warnings\n",
      "  InsecureRequestWarning,\n",
      "/home/viktor/anaconda3/envs/wier/lib/python3.6/site-packages/urllib3/connectionpool.py:1004: InsecureRequestWarning: Unverified HTTPS request is being made to host 'e-uprava.gov.si'. Adding certificate verification is strongly advised. See: https://urllib3.readthedocs.io/en/latest/advanced-usage.html#ssl-warnings\n",
      "  InsecureRequestWarning,\n",
      "/home/viktor/anaconda3/envs/wier/lib/python3.6/site-packages/urllib3/connectionpool.py:1004: InsecureRequestWarning: Unverified HTTPS request is being made to host 'e-uprava.gov.si'. Adding certificate verification is strongly advised. See: https://urllib3.readthedocs.io/en/latest/advanced-usage.html#ssl-warnings\n",
      "  InsecureRequestWarning,\n"
     ]
    },
    {
     "name": "stdout",
     "output_type": "stream",
     "text": [
      "HASH: 0.7\n",
      "Comparing MinHash signatures took 0.00sec\n",
      "UPDATING PARENT:  https://e-uprava.gov.si/drzava-in-druzba/javni-sektor/podrobnosti-institucije.html?id=1295\n",
      "HASH: 0.8\n",
      "Comparing MinHash signatures took 0.01sec\n",
      "HASH: 0.8\n",
      "Comparing MinHash signatures took 0.01sec\n",
      "UPDATING PARENT:  https://e-uprava.gov.si/drzava-in-druzba/javni-sektor/podrobnosti-institucije.html?id=1202\n",
      "UPDATING PARENT:  https://e-uprava.gov.si/drzava-in-druzba/javni-sektor/podrobnosti-institucije.html?id=1036\n"
     ]
    },
    {
     "name": "stderr",
     "output_type": "stream",
     "text": [
      "/home/viktor/anaconda3/envs/wier/lib/python3.6/site-packages/urllib3/connectionpool.py:1004: InsecureRequestWarning: Unverified HTTPS request is being made to host 'e-uprava.gov.si'. Adding certificate verification is strongly advised. See: https://urllib3.readthedocs.io/en/latest/advanced-usage.html#ssl-warnings\n",
      "  InsecureRequestWarning,\n",
      "/home/viktor/anaconda3/envs/wier/lib/python3.6/site-packages/urllib3/connectionpool.py:1004: InsecureRequestWarning: Unverified HTTPS request is being made to host 'e-uprava.gov.si'. Adding certificate verification is strongly advised. See: https://urllib3.readthedocs.io/en/latest/advanced-usage.html#ssl-warnings\n",
      "  InsecureRequestWarning,\n",
      "/home/viktor/anaconda3/envs/wier/lib/python3.6/site-packages/urllib3/connectionpool.py:1004: InsecureRequestWarning: Unverified HTTPS request is being made to host 'e-uprava.gov.si'. Adding certificate verification is strongly advised. See: https://urllib3.readthedocs.io/en/latest/advanced-usage.html#ssl-warnings\n",
      "  InsecureRequestWarning,\n"
     ]
    },
    {
     "name": "stdout",
     "output_type": "stream",
     "text": [
      "HASH: 0.8\n",
      "Comparing MinHash signatures took 0.00sec\n",
      "UPDATING PARENT:  https://e-uprava.gov.si/drzava-in-druzba/javni-sektor/podrobnosti-institucije.html?id=1684\n"
     ]
    },
    {
     "name": "stderr",
     "output_type": "stream",
     "text": [
      "/home/viktor/anaconda3/envs/wier/lib/python3.6/site-packages/urllib3/connectionpool.py:1004: InsecureRequestWarning: Unverified HTTPS request is being made to host 'e-uprava.gov.si'. Adding certificate verification is strongly advised. See: https://urllib3.readthedocs.io/en/latest/advanced-usage.html#ssl-warnings\n",
      "  InsecureRequestWarning,\n"
     ]
    },
    {
     "name": "stdout",
     "output_type": "stream",
     "text": [
      "Frontier len 57006\n",
      "Frontier len 57016\n",
      "Frontier len 57025\n",
      "Frontier len 57034\n",
      "Frontier len 57043\n",
      "Frontier len 57052\n",
      "Frontier len 57061\n",
      "Frontier len 57072\n",
      "Frontier len 57084\n",
      "Frontier len 57093\n",
      "Frontier len 57102\n",
      "Frontier len 57111\n",
      "\n",
      " ... executing workers ...\n",
      "\n",
      "Num sites: 7728, i: 8104\n",
      "Retrieving web page URL 'https://e-uprava.gov.si/drzava-in-druzba/javni-sektor/podrobnosti-institucije.html?id=1384'\n",
      "Retrieving web page URL 'https://e-uprava.gov.si/drzava-in-druzba/javni-sektor/podrobnosti-institucije.html?id=2041'\n",
      "Retrieving web page URL 'https://e-uprava.gov.si/drzava-in-druzba/javni-sektor/podrobnosti-institucije.html?id=1109'\n",
      "Retrieving web page URL 'https://e-uprava.gov.si/drzava-in-druzba/javni-sektor/podrobnosti-institucije.html?id=1251'\n",
      "Retrieving web page URL 'https://e-uprava.gov.si/drzava-in-druzba/javni-sektor/podrobnosti-institucije.html?id=1378'\n",
      "Retrieving web page URL 'https://e-uprava.gov.si/drzava-in-druzba/javni-sektor/podrobnosti-institucije.html?id=1386'\n",
      "Retrieving web page URL 'https://e-uprava.gov.si/drzava-in-druzba/javni-sektor/podrobnosti-institucije.html?id=1388'\n",
      "Retrieving web page URL 'https://e-uprava.gov.si/drzava-in-druzba/javni-sektor/podrobnosti-institucije.html?id=1502'\n",
      "Retrieving web page URL 'https://e-uprava.gov.si/drzava-in-druzba/javni-sektor/podrobnosti-institucije.html?id=1385'\n",
      "Retrieving web page URL 'https://e-uprava.gov.si/drzava-in-druzba/javni-sektor/podrobnosti-institucije.html?id=1178'\n",
      "Retrieving web page URL 'https://e-uprava.gov.si/drzava-in-druzba/javni-sektor/podrobnosti-institucije.html?id=1160'\n",
      "Retrieving web page URL 'https://e-uprava.gov.si/drzava-in-druzba/javni-sektor/podrobnosti-institucije.html?id=1195'\n",
      "HASH: 0.0\n",
      "Comparing MinHash signatures took 0.01sec\n",
      "UPDATING PARENT:  https://e-uprava.gov.si/drzava-in-druzba/javni-sektor/podrobnosti-institucije.html?id=1386\n",
      "HASH: 0.7\n",
      "Comparing MinHash signatures took 0.01sec\n",
      "UPDATING PARENT:  https://e-uprava.gov.si/drzava-in-druzba/javni-sektor/podrobnosti-institucije.html?id=2041\n",
      "HASH: 0.9\n",
      "Comparing MinHash signatures took 0.01sec\n",
      "UPDATING PARENT:  https://e-uprava.gov.si/drzava-in-druzba/javni-sektor/podrobnosti-institucije.html?id=1251\n"
     ]
    },
    {
     "name": "stderr",
     "output_type": "stream",
     "text": [
      "/home/viktor/anaconda3/envs/wier/lib/python3.6/site-packages/urllib3/connectionpool.py:1004: InsecureRequestWarning: Unverified HTTPS request is being made to host 'e-uprava.gov.si'. Adding certificate verification is strongly advised. See: https://urllib3.readthedocs.io/en/latest/advanced-usage.html#ssl-warnings\n",
      "  InsecureRequestWarning,\n",
      "/home/viktor/anaconda3/envs/wier/lib/python3.6/site-packages/urllib3/connectionpool.py:1004: InsecureRequestWarning: Unverified HTTPS request is being made to host 'e-uprava.gov.si'. Adding certificate verification is strongly advised. See: https://urllib3.readthedocs.io/en/latest/advanced-usage.html#ssl-warnings\n",
      "  InsecureRequestWarning,\n",
      "/home/viktor/anaconda3/envs/wier/lib/python3.6/site-packages/urllib3/connectionpool.py:1004: InsecureRequestWarning: Unverified HTTPS request is being made to host 'e-uprava.gov.si'. Adding certificate verification is strongly advised. See: https://urllib3.readthedocs.io/en/latest/advanced-usage.html#ssl-warnings\n",
      "  InsecureRequestWarning,\n"
     ]
    },
    {
     "name": "stdout",
     "output_type": "stream",
     "text": [
      "HASH: 0.0\n",
      "Comparing MinHash signatures took 0.01sec\n",
      "UPDATING PARENT:  https://e-uprava.gov.si/drzava-in-druzba/javni-sektor/podrobnosti-institucije.html?id=1384\n",
      "HASH: 0.7\n",
      "Comparing MinHash signatures took 0.01sec\n",
      "UPDATING PARENT:  https://e-uprava.gov.si/drzava-in-druzba/javni-sektor/podrobnosti-institucije.html?id=1195\n",
      "HASH: 0.8\n",
      "Comparing MinHash signatures took 0.00sec\n",
      "UPDATING PARENT:  https://e-uprava.gov.si/drzava-in-druzba/javni-sektor/podrobnosti-institucije.html?id=1160\n"
     ]
    },
    {
     "name": "stderr",
     "output_type": "stream",
     "text": [
      "/home/viktor/anaconda3/envs/wier/lib/python3.6/site-packages/urllib3/connectionpool.py:1004: InsecureRequestWarning: Unverified HTTPS request is being made to host 'e-uprava.gov.si'. Adding certificate verification is strongly advised. See: https://urllib3.readthedocs.io/en/latest/advanced-usage.html#ssl-warnings\n",
      "  InsecureRequestWarning,\n",
      "/home/viktor/anaconda3/envs/wier/lib/python3.6/site-packages/urllib3/connectionpool.py:1004: InsecureRequestWarning: Unverified HTTPS request is being made to host 'e-uprava.gov.si'. Adding certificate verification is strongly advised. See: https://urllib3.readthedocs.io/en/latest/advanced-usage.html#ssl-warnings\n",
      "  InsecureRequestWarning,\n",
      "/home/viktor/anaconda3/envs/wier/lib/python3.6/site-packages/urllib3/connectionpool.py:1004: InsecureRequestWarning: Unverified HTTPS request is being made to host 'e-uprava.gov.si'. Adding certificate verification is strongly advised. See: https://urllib3.readthedocs.io/en/latest/advanced-usage.html#ssl-warnings\n",
      "  InsecureRequestWarning,\n",
      "/home/viktor/anaconda3/envs/wier/lib/python3.6/site-packages/urllib3/connectionpool.py:1004: InsecureRequestWarning: Unverified HTTPS request is being made to host 'e-uprava.gov.si'. Adding certificate verification is strongly advised. See: https://urllib3.readthedocs.io/en/latest/advanced-usage.html#ssl-warnings\n",
      "  InsecureRequestWarning,\n"
     ]
    },
    {
     "name": "stdout",
     "output_type": "stream",
     "text": [
      "HASH: 0.6\n",
      "Comparing MinHash signatures took 0.00sec\n",
      "UPDATING PARENT:  https://e-uprava.gov.si/drzava-in-druzba/javni-sektor/podrobnosti-institucije.html?id=1378\n",
      "HASH: 0.8\n",
      "Comparing MinHash signatures took 0.00sec\n",
      "HASH: 0.9\n",
      "Comparing MinHash signatures took 0.02sec\n",
      "HASH: 0.7\n",
      "Comparing MinHash signatures took 0.00sec\n",
      "UPDATING PARENT:  https://e-uprava.gov.si/drzava-in-druzba/javni-sektor/podrobnosti-institucije.html?id=1385\n",
      "UPDATING PARENT:  https://e-uprava.gov.si/drzava-in-druzba/javni-sektor/podrobnosti-institucije.html?id=1109\n",
      "UPDATING PARENT:  https://e-uprava.gov.si/drzava-in-druzba/javni-sektor/podrobnosti-institucije.html?id=1388\n"
     ]
    },
    {
     "name": "stderr",
     "output_type": "stream",
     "text": [
      "/home/viktor/anaconda3/envs/wier/lib/python3.6/site-packages/urllib3/connectionpool.py:1004: InsecureRequestWarning: Unverified HTTPS request is being made to host 'e-uprava.gov.si'. Adding certificate verification is strongly advised. See: https://urllib3.readthedocs.io/en/latest/advanced-usage.html#ssl-warnings\n",
      "  InsecureRequestWarning,\n",
      "/home/viktor/anaconda3/envs/wier/lib/python3.6/site-packages/urllib3/connectionpool.py:1004: InsecureRequestWarning: Unverified HTTPS request is being made to host 'e-uprava.gov.si'. Adding certificate verification is strongly advised. See: https://urllib3.readthedocs.io/en/latest/advanced-usage.html#ssl-warnings\n",
      "  InsecureRequestWarning,\n",
      "/home/viktor/anaconda3/envs/wier/lib/python3.6/site-packages/urllib3/connectionpool.py:1004: InsecureRequestWarning: Unverified HTTPS request is being made to host 'e-uprava.gov.si'. Adding certificate verification is strongly advised. See: https://urllib3.readthedocs.io/en/latest/advanced-usage.html#ssl-warnings\n",
      "  InsecureRequestWarning,\n"
     ]
    },
    {
     "name": "stdout",
     "output_type": "stream",
     "text": [
      "HASH: 0.9\n",
      "Comparing MinHash signatures took 0.02sec\n",
      "HASH: 0.0\n",
      "Comparing MinHash signatures took 0.01sec\n",
      "UPDATING PARENT:  https://e-uprava.gov.si/drzava-in-druzba/javni-sektor/podrobnosti-institucije.html?id=1178\n",
      "UPDATING PARENT:  https://e-uprava.gov.si/drzava-in-druzba/javni-sektor/podrobnosti-institucije.html?id=1502\n"
     ]
    },
    {
     "name": "stderr",
     "output_type": "stream",
     "text": [
      "/home/viktor/anaconda3/envs/wier/lib/python3.6/site-packages/urllib3/connectionpool.py:1004: InsecureRequestWarning: Unverified HTTPS request is being made to host 'e-uprava.gov.si'. Adding certificate verification is strongly advised. See: https://urllib3.readthedocs.io/en/latest/advanced-usage.html#ssl-warnings\n",
      "  InsecureRequestWarning,\n",
      "/home/viktor/anaconda3/envs/wier/lib/python3.6/site-packages/urllib3/connectionpool.py:1004: InsecureRequestWarning: Unverified HTTPS request is being made to host 'e-uprava.gov.si'. Adding certificate verification is strongly advised. See: https://urllib3.readthedocs.io/en/latest/advanced-usage.html#ssl-warnings\n",
      "  InsecureRequestWarning,\n"
     ]
    },
    {
     "name": "stdout",
     "output_type": "stream",
     "text": [
      "Frontier len 57121\n",
      "Frontier len 57131\n",
      "Frontier len 57140\n",
      "Frontier len 57151\n",
      "Frontier len 57160\n",
      "Frontier len 57169\n",
      "Frontier len 57181\n",
      "Frontier len 57190\n",
      "Frontier len 57199\n",
      "Frontier len 57209\n",
      "Frontier len 57220\n",
      "Frontier len 57229\n",
      "\n",
      " ... executing workers ...\n",
      "\n",
      "Num sites: 7740, i: 8116\n",
      "Retrieving web page URL 'https://e-uprava.gov.si/drzava-in-druzba/javni-sektor/podrobnosti-institucije.html?id=1153'\n",
      "Retrieving web page URL 'https://e-uprava.gov.si/drzava-in-druzba/javni-sektor/podrobnosti-institucije.html?id=1353'\n",
      "Retrieving web page URL 'https://e-uprava.gov.si/drzava-in-druzba/javni-sektor/podrobnosti-institucije.html?id=1165'\n",
      "Retrieving web page URL 'https://e-uprava.gov.si/drzava-in-druzba/javni-sektor/podrobnosti-institucije.html?id=2518'\n",
      "Retrieving web page URL 'https://e-uprava.gov.si/drzava-in-druzba/javni-sektor/podrobnosti-institucije.html?id=1289'\n",
      "Retrieving web page URL 'https://e-uprava.gov.si/drzava-in-druzba/javni-sektor/podrobnosti-institucije.html?id=2522'\n",
      "Retrieving web page URL 'https://e-uprava.gov.si/drzava-in-druzba/javni-sektor/podrobnosti-institucije.html?id=2372'\n",
      "Retrieving web page URL 'https://e-uprava.gov.si/drzava-in-druzba/javni-sektor/podrobnosti-institucije.html?id=2040'\n",
      "Retrieving web page URL 'https://e-uprava.gov.si/drzava-in-druzba/javni-sektor/podrobnosti-institucije.html?id=1221'\n",
      "Retrieving web page URL 'https://e-uprava.gov.si/drzava-in-druzba/javni-sektor/podrobnosti-institucije.html?id=1154'\n",
      "Retrieving web page URL 'https://e-uprava.gov.si/drzava-in-druzba/javni-sektor/podrobnosti-institucije.html?id=1068'\n",
      "Retrieving web page URL 'https://e-uprava.gov.si/drzava-in-druzba/javni-sektor/podrobnosti-institucije.html?id=1363'\n",
      "HASH: 0.8\n",
      "Comparing MinHash signatures took 0.01sec\n",
      "UPDATING PARENT:  https://e-uprava.gov.si/drzava-in-druzba/javni-sektor/podrobnosti-institucije.html?id=1153\n",
      "HASH: 0.1\n",
      "Comparing MinHash signatures took 0.01sec\n",
      "UPDATING PARENT:  https://e-uprava.gov.si/drzava-in-druzba/javni-sektor/podrobnosti-institucije.html?id=1289\n",
      "HASH: 0.9\n",
      "Comparing MinHash signatures took 0.00sec\n"
     ]
    },
    {
     "name": "stderr",
     "output_type": "stream",
     "text": [
      "/home/viktor/anaconda3/envs/wier/lib/python3.6/site-packages/urllib3/connectionpool.py:1004: InsecureRequestWarning: Unverified HTTPS request is being made to host 'e-uprava.gov.si'. Adding certificate verification is strongly advised. See: https://urllib3.readthedocs.io/en/latest/advanced-usage.html#ssl-warnings\n",
      "  InsecureRequestWarning,\n",
      "/home/viktor/anaconda3/envs/wier/lib/python3.6/site-packages/urllib3/connectionpool.py:1004: InsecureRequestWarning: Unverified HTTPS request is being made to host 'e-uprava.gov.si'. Adding certificate verification is strongly advised. See: https://urllib3.readthedocs.io/en/latest/advanced-usage.html#ssl-warnings\n",
      "  InsecureRequestWarning,\n",
      "/home/viktor/anaconda3/envs/wier/lib/python3.6/site-packages/urllib3/connectionpool.py:1004: InsecureRequestWarning: Unverified HTTPS request is being made to host 'e-uprava.gov.si'. Adding certificate verification is strongly advised. See: https://urllib3.readthedocs.io/en/latest/advanced-usage.html#ssl-warnings\n",
      "  InsecureRequestWarning,\n"
     ]
    },
    {
     "name": "stdout",
     "output_type": "stream",
     "text": [
      "UPDATING PARENT:  https://e-uprava.gov.si/drzava-in-druzba/javni-sektor/podrobnosti-institucije.html?id=1221\n",
      "HASH: 0.0\n",
      "Comparing MinHash signatures took 0.00sec\n",
      "UPDATING PARENT:  https://e-uprava.gov.si/drzava-in-druzba/javni-sektor/podrobnosti-institucije.html?id=2372\n",
      "HASH: 0.4\n",
      "Comparing MinHash signatures took 0.00sec\n",
      "UPDATING PARENT:  https://e-uprava.gov.si/drzava-in-druzba/javni-sektor/podrobnosti-institucije.html?id=2040\n",
      "HASH: 0.9\n",
      "Comparing MinHash signatures took 0.01sec\n",
      "UPDATING PARENT:  https://e-uprava.gov.si/drzava-in-druzba/javni-sektor/podrobnosti-institucije.html?id=2522\n"
     ]
    },
    {
     "name": "stderr",
     "output_type": "stream",
     "text": [
      "/home/viktor/anaconda3/envs/wier/lib/python3.6/site-packages/urllib3/connectionpool.py:1004: InsecureRequestWarning: Unverified HTTPS request is being made to host 'e-uprava.gov.si'. Adding certificate verification is strongly advised. See: https://urllib3.readthedocs.io/en/latest/advanced-usage.html#ssl-warnings\n",
      "  InsecureRequestWarning,\n",
      "/home/viktor/anaconda3/envs/wier/lib/python3.6/site-packages/urllib3/connectionpool.py:1004: InsecureRequestWarning: Unverified HTTPS request is being made to host 'e-uprava.gov.si'. Adding certificate verification is strongly advised. See: https://urllib3.readthedocs.io/en/latest/advanced-usage.html#ssl-warnings\n",
      "  InsecureRequestWarning,\n",
      "/home/viktor/anaconda3/envs/wier/lib/python3.6/site-packages/urllib3/connectionpool.py:1004: InsecureRequestWarning: Unverified HTTPS request is being made to host 'e-uprava.gov.si'. Adding certificate verification is strongly advised. See: https://urllib3.readthedocs.io/en/latest/advanced-usage.html#ssl-warnings\n",
      "  InsecureRequestWarning,\n"
     ]
    },
    {
     "name": "stdout",
     "output_type": "stream",
     "text": [
      "HASH: 0.8\n",
      "Comparing MinHash signatures took 0.04sec\n",
      "HASH: 0.0\n",
      "Comparing MinHash signatures took 0.01sec\n",
      "UPDATING PARENT: UPDATING PARENT:  https://e-uprava.gov.si/drzava-in-druzba/javni-sektor/podrobnosti-institucije.html?id=1363\n",
      " https://e-uprava.gov.si/drzava-in-druzba/javni-sektor/podrobnosti-institucije.html?id=1353\n",
      "HASH: 0.7\n",
      "Comparing MinHash signatures took 0.02sec\n",
      "UPDATING PARENT:  https://e-uprava.gov.si/drzava-in-druzba/javni-sektor/podrobnosti-institucije.html?id=1154\n",
      "HASH: 0.8\n",
      "Comparing MinHash signatures took 0.01sec\n",
      "UPDATING PARENT:  https://e-uprava.gov.si/drzava-in-druzba/javni-sektor/podrobnosti-institucije.html?id=1068\n"
     ]
    },
    {
     "name": "stderr",
     "output_type": "stream",
     "text": [
      "/home/viktor/anaconda3/envs/wier/lib/python3.6/site-packages/urllib3/connectionpool.py:1004: InsecureRequestWarning: Unverified HTTPS request is being made to host 'e-uprava.gov.si'. Adding certificate verification is strongly advised. See: https://urllib3.readthedocs.io/en/latest/advanced-usage.html#ssl-warnings\n",
      "  InsecureRequestWarning,\n",
      "/home/viktor/anaconda3/envs/wier/lib/python3.6/site-packages/urllib3/connectionpool.py:1004: InsecureRequestWarning: Unverified HTTPS request is being made to host 'e-uprava.gov.si'. Adding certificate verification is strongly advised. See: https://urllib3.readthedocs.io/en/latest/advanced-usage.html#ssl-warnings\n",
      "  InsecureRequestWarning,\n",
      "/home/viktor/anaconda3/envs/wier/lib/python3.6/site-packages/urllib3/connectionpool.py:1004: InsecureRequestWarning: Unverified HTTPS request is being made to host 'e-uprava.gov.si'. Adding certificate verification is strongly advised. See: https://urllib3.readthedocs.io/en/latest/advanced-usage.html#ssl-warnings\n",
      "  InsecureRequestWarning,\n",
      "/home/viktor/anaconda3/envs/wier/lib/python3.6/site-packages/urllib3/connectionpool.py:1004: InsecureRequestWarning: Unverified HTTPS request is being made to host 'e-uprava.gov.si'. Adding certificate verification is strongly advised. See: https://urllib3.readthedocs.io/en/latest/advanced-usage.html#ssl-warnings\n",
      "  InsecureRequestWarning,\n"
     ]
    },
    {
     "name": "stdout",
     "output_type": "stream",
     "text": [
      "HASH: 0.0\n",
      "Comparing MinHash signatures took 0.01sec\n",
      "UPDATING PARENT:  https://e-uprava.gov.si/drzava-in-druzba/javni-sektor/podrobnosti-institucije.html?id=2518\n"
     ]
    },
    {
     "name": "stderr",
     "output_type": "stream",
     "text": [
      "/home/viktor/anaconda3/envs/wier/lib/python3.6/site-packages/urllib3/connectionpool.py:1004: InsecureRequestWarning: Unverified HTTPS request is being made to host 'e-uprava.gov.si'. Adding certificate verification is strongly advised. See: https://urllib3.readthedocs.io/en/latest/advanced-usage.html#ssl-warnings\n",
      "  InsecureRequestWarning,\n"
     ]
    },
    {
     "name": "stdout",
     "output_type": "stream",
     "text": [
      "HASH: 0.5\n",
      "Comparing MinHash signatures took 0.00sec\n",
      "UPDATING PARENT:  https://e-uprava.gov.si/drzava-in-druzba/javni-sektor/podrobnosti-institucije.html?id=1165\n"
     ]
    },
    {
     "name": "stderr",
     "output_type": "stream",
     "text": [
      "/home/viktor/anaconda3/envs/wier/lib/python3.6/site-packages/urllib3/connectionpool.py:1004: InsecureRequestWarning: Unverified HTTPS request is being made to host 'e-uprava.gov.si'. Adding certificate verification is strongly advised. See: https://urllib3.readthedocs.io/en/latest/advanced-usage.html#ssl-warnings\n",
      "  InsecureRequestWarning,\n"
     ]
    },
    {
     "name": "stdout",
     "output_type": "stream",
     "text": [
      "Frontier len 57238\n",
      "Frontier len 57247\n",
      "Frontier len 57261\n",
      "Frontier len 57272\n",
      "Frontier len 57281\n",
      "Frontier len 57290\n",
      "Frontier len 57299\n",
      "Frontier len 57308\n",
      "Frontier len 57317\n",
      "Frontier len 57328\n",
      "Frontier len 57337\n",
      "Frontier len 57347\n",
      "\n",
      " ... executing workers ...\n",
      "\n",
      "Num sites: 7752, i: 8128\n",
      "Retrieving web page URL 'https://e-uprava.gov.si/drzava-in-druzba/javni-sektor/podrobnosti-institucije.html?id=1357'\n",
      "Retrieving web page URL 'https://e-uprava.gov.si/drzava-in-druzba/javni-sektor/podrobnosti-institucije.html?id=1101'\n",
      "Retrieving web page URL 'https://e-uprava.gov.si/drzava-in-druzba/javni-sektor/podrobnosti-institucije.html?id=1288'\n",
      "Retrieving web page URL 'https://e-uprava.gov.si/drzava-in-druzba/javni-sektor/podrobnosti-institucije.html?id=1164'\n",
      "Retrieving web page URL 'https://e-uprava.gov.si/drzava-in-druzba/javni-sektor/podrobnosti-institucije.html?id=1370'\n",
      "Retrieving web page URL 'https://e-uprava.gov.si/drzava-in-druzba/javni-sektor/podrobnosti-institucije.html?id=1754'\n",
      "Retrieving web page URL 'https://e-uprava.gov.si/drzava-in-druzba/javni-sektor/podrobnosti-institucije.html?id=1169'\n",
      "Retrieving web page URL 'https://e-uprava.gov.si/drzava-in-druzba/javni-sektor/podrobnosti-institucije.html?id=1241'\n",
      "Retrieving web page URL 'https://e-uprava.gov.si/drzava-in-druzba/javni-sektor/podrobnosti-institucije.html?id=2348'\n",
      "Retrieving web page URL 'https://e-uprava.gov.si/drzava-in-druzba/javni-sektor/podrobnosti-institucije.html?id=1395'\n",
      "Retrieving web page URL 'https://e-uprava.gov.si/drzava-in-druzba/javni-sektor/podrobnosti-institucije.html?id=1127'\n",
      "Retrieving web page URL 'https://e-uprava.gov.si/drzava-in-druzba/javni-sektor/podrobnosti-institucije.html?id=1091'\n",
      "HASH: 0.8\n",
      "Comparing MinHash signatures took 0.01sec\n",
      "UPDATING PARENT:  https://e-uprava.gov.si/drzava-in-druzba/javni-sektor/podrobnosti-institucije.html?id=1288\n",
      "HASH: 0.0\n",
      "Comparing MinHash signatures took 0.01sec\n",
      "UPDATING PARENT:  https://e-uprava.gov.si/drzava-in-druzba/javni-sektor/podrobnosti-institucije.html?id=1370\n"
     ]
    },
    {
     "name": "stderr",
     "output_type": "stream",
     "text": [
      "/home/viktor/anaconda3/envs/wier/lib/python3.6/site-packages/urllib3/connectionpool.py:1004: InsecureRequestWarning: Unverified HTTPS request is being made to host 'e-uprava.gov.si'. Adding certificate verification is strongly advised. See: https://urllib3.readthedocs.io/en/latest/advanced-usage.html#ssl-warnings\n",
      "  InsecureRequestWarning,\n",
      "/home/viktor/anaconda3/envs/wier/lib/python3.6/site-packages/urllib3/connectionpool.py:1004: InsecureRequestWarning: Unverified HTTPS request is being made to host 'e-uprava.gov.si'. Adding certificate verification is strongly advised. See: https://urllib3.readthedocs.io/en/latest/advanced-usage.html#ssl-warnings\n",
      "  InsecureRequestWarning,\n"
     ]
    },
    {
     "name": "stdout",
     "output_type": "stream",
     "text": [
      "HASH: 0.8\n",
      "Comparing MinHash signatures took 0.01sec\n",
      "HASH: 0.0\n",
      "Comparing MinHash signatures took 0.00sec\n",
      "UPDATING PARENT:  https://e-uprava.gov.si/drzava-in-druzba/javni-sektor/podrobnosti-institucije.html?id=1101\n",
      "UPDATING PARENT:  https://e-uprava.gov.si/drzava-in-druzba/javni-sektor/podrobnosti-institucije.html?id=1164\n"
     ]
    },
    {
     "name": "stderr",
     "output_type": "stream",
     "text": [
      "/home/viktor/anaconda3/envs/wier/lib/python3.6/site-packages/urllib3/connectionpool.py:1004: InsecureRequestWarning: Unverified HTTPS request is being made to host 'e-uprava.gov.si'. Adding certificate verification is strongly advised. See: https://urllib3.readthedocs.io/en/latest/advanced-usage.html#ssl-warnings\n",
      "  InsecureRequestWarning,\n",
      "/home/viktor/anaconda3/envs/wier/lib/python3.6/site-packages/urllib3/connectionpool.py:1004: InsecureRequestWarning: Unverified HTTPS request is being made to host 'e-uprava.gov.si'. Adding certificate verification is strongly advised. See: https://urllib3.readthedocs.io/en/latest/advanced-usage.html#ssl-warnings\n",
      "  InsecureRequestWarning,\n"
     ]
    },
    {
     "name": "stdout",
     "output_type": "stream",
     "text": [
      "HASH: 0.8\n",
      "Comparing MinHash signatures took 0.00sec\n",
      "UPDATING PARENT:  https://e-uprava.gov.si/drzava-in-druzba/javni-sektor/podrobnosti-institucije.html?id=1241\n",
      "HASH: 0.5\n",
      "Comparing MinHash signatures took 0.00sec\n",
      "UPDATING PARENT:  https://e-uprava.gov.si/drzava-in-druzba/javni-sektor/podrobnosti-institucije.html?id=1357\n"
     ]
    },
    {
     "name": "stderr",
     "output_type": "stream",
     "text": [
      "/home/viktor/anaconda3/envs/wier/lib/python3.6/site-packages/urllib3/connectionpool.py:1004: InsecureRequestWarning: Unverified HTTPS request is being made to host 'e-uprava.gov.si'. Adding certificate verification is strongly advised. See: https://urllib3.readthedocs.io/en/latest/advanced-usage.html#ssl-warnings\n",
      "  InsecureRequestWarning,\n",
      "/home/viktor/anaconda3/envs/wier/lib/python3.6/site-packages/urllib3/connectionpool.py:1004: InsecureRequestWarning: Unverified HTTPS request is being made to host 'e-uprava.gov.si'. Adding certificate verification is strongly advised. See: https://urllib3.readthedocs.io/en/latest/advanced-usage.html#ssl-warnings\n",
      "  InsecureRequestWarning,\n"
     ]
    },
    {
     "name": "stdout",
     "output_type": "stream",
     "text": [
      "HASH: 0.6\n",
      "Comparing MinHash signatures took 0.00sec\n",
      "UPDATING PARENT:  https://e-uprava.gov.si/drzava-in-druzba/javni-sektor/podrobnosti-institucije.html?id=1127\n",
      "HASH: 0.6\n",
      "Comparing MinHash signatures took 0.00sec\n",
      "UPDATING PARENT:  https://e-uprava.gov.si/drzava-in-druzba/javni-sektor/podrobnosti-institucije.html?id=1091\n"
     ]
    },
    {
     "name": "stderr",
     "output_type": "stream",
     "text": [
      "/home/viktor/anaconda3/envs/wier/lib/python3.6/site-packages/urllib3/connectionpool.py:1004: InsecureRequestWarning: Unverified HTTPS request is being made to host 'e-uprava.gov.si'. Adding certificate verification is strongly advised. See: https://urllib3.readthedocs.io/en/latest/advanced-usage.html#ssl-warnings\n",
      "  InsecureRequestWarning,\n",
      "/home/viktor/anaconda3/envs/wier/lib/python3.6/site-packages/urllib3/connectionpool.py:1004: InsecureRequestWarning: Unverified HTTPS request is being made to host 'e-uprava.gov.si'. Adding certificate verification is strongly advised. See: https://urllib3.readthedocs.io/en/latest/advanced-usage.html#ssl-warnings\n",
      "  InsecureRequestWarning,\n"
     ]
    },
    {
     "name": "stdout",
     "output_type": "stream",
     "text": [
      "HASH: 0.8\n",
      "Comparing MinHash signatures took 0.00sec\n",
      "UPDATING PARENT:  https://e-uprava.gov.si/drzava-in-druzba/javni-sektor/podrobnosti-institucije.html?id=1169\n",
      "HASH: 0.7\n",
      "Comparing MinHash signatures took 0.01sec\n",
      "UPDATING PARENT:  https://e-uprava.gov.si/drzava-in-druzba/javni-sektor/podrobnosti-institucije.html?id=2348\n"
     ]
    },
    {
     "name": "stderr",
     "output_type": "stream",
     "text": [
      "/home/viktor/anaconda3/envs/wier/lib/python3.6/site-packages/urllib3/connectionpool.py:1004: InsecureRequestWarning: Unverified HTTPS request is being made to host 'e-uprava.gov.si'. Adding certificate verification is strongly advised. See: https://urllib3.readthedocs.io/en/latest/advanced-usage.html#ssl-warnings\n",
      "  InsecureRequestWarning,\n",
      "/home/viktor/anaconda3/envs/wier/lib/python3.6/site-packages/urllib3/connectionpool.py:1004: InsecureRequestWarning: Unverified HTTPS request is being made to host 'e-uprava.gov.si'. Adding certificate verification is strongly advised. See: https://urllib3.readthedocs.io/en/latest/advanced-usage.html#ssl-warnings\n",
      "  InsecureRequestWarning,\n"
     ]
    },
    {
     "name": "stdout",
     "output_type": "stream",
     "text": [
      "HASH: 0.8\n",
      "Comparing MinHash signatures took 0.01sec\n",
      "UPDATING PARENT:  https://e-uprava.gov.si/drzava-in-druzba/javni-sektor/podrobnosti-institucije.html?id=1395\n"
     ]
    },
    {
     "name": "stderr",
     "output_type": "stream",
     "text": [
      "/home/viktor/anaconda3/envs/wier/lib/python3.6/site-packages/urllib3/connectionpool.py:1004: InsecureRequestWarning: Unverified HTTPS request is being made to host 'e-uprava.gov.si'. Adding certificate verification is strongly advised. See: https://urllib3.readthedocs.io/en/latest/advanced-usage.html#ssl-warnings\n",
      "  InsecureRequestWarning,\n"
     ]
    },
    {
     "name": "stdout",
     "output_type": "stream",
     "text": [
      "HASH: 0.0\n",
      "Comparing MinHash signatures took 0.00sec\n",
      "UPDATING PARENT:  https://e-uprava.gov.si/drzava-in-druzba/javni-sektor/podrobnosti-institucije.html?id=1754\n"
     ]
    },
    {
     "name": "stderr",
     "output_type": "stream",
     "text": [
      "/home/viktor/anaconda3/envs/wier/lib/python3.6/site-packages/urllib3/connectionpool.py:1004: InsecureRequestWarning: Unverified HTTPS request is being made to host 'e-uprava.gov.si'. Adding certificate verification is strongly advised. See: https://urllib3.readthedocs.io/en/latest/advanced-usage.html#ssl-warnings\n",
      "  InsecureRequestWarning,\n"
     ]
    },
    {
     "name": "stdout",
     "output_type": "stream",
     "text": [
      "Frontier len 57358\n",
      "Frontier len 57367\n",
      "Frontier len 57377\n",
      "Frontier len 57389\n",
      "Frontier len 57402\n",
      "Frontier len 57411\n",
      "Frontier len 57420\n",
      "Frontier len 57430\n",
      "Frontier len 57439\n",
      "Frontier len 57450\n",
      "Frontier len 57459\n",
      "Frontier len 57469\n",
      "\n",
      " ... executing workers ...\n",
      "\n",
      "Num sites: 7764, i: 8140\n",
      "Retrieving web page URL 'https://e-uprava.gov.si/drzava-in-druzba/javni-sektor/podrobnosti-institucije.html?id=1905'\n",
      "Retrieving web page URL 'https://e-uprava.gov.si/drzava-in-druzba/javni-sektor/podrobnosti-institucije.html?id=2535'\n",
      "Retrieving web page URL 'https://e-uprava.gov.si/drzava-in-druzba/javni-sektor/podrobnosti-institucije.html?id=1297'\n",
      "Retrieving web page URL 'https://e-uprava.gov.si/drzava-in-druzba/javni-sektor/podrobnosti-institucije.html?id=1631'\n",
      "Retrieving web page URL 'https://e-uprava.gov.si/drzava-in-druzba/javni-sektor/podrobnosti-institucije.html?id=1590'Retrieving web page URL 'https://e-uprava.gov.si/drzava-in-druzba/javni-sektor/podrobnosti-institucije.html?id=1446'\n",
      "\n",
      "Retrieving web page URL 'https://e-uprava.gov.si/drzava-in-druzba/javni-sektor/podrobnosti-institucije.html?id=1499'\n",
      "Retrieving web page URL 'https://e-uprava.gov.si/drzava-in-druzba/javni-sektor/podrobnosti-institucije.html?id=1984'\n",
      "Retrieving web page URL 'https://e-uprava.gov.si/drzava-in-druzba/javni-sektor/podrobnosti-institucije.html?id=1412'\n",
      "Retrieving web page URL 'https://e-uprava.gov.si/drzava-in-druzba/javni-sektor/podrobnosti-institucije.html?id=1130'\n",
      "Retrieving web page URL 'https://e-uprava.gov.si/drzava-in-druzba/javni-sektor/podrobnosti-institucije.html?id=1529'\n",
      "Retrieving web page URL 'https://e-uprava.gov.si/drzava-in-druzba/javni-sektor/podrobnosti-institucije.html?id=1503'\n",
      "HASH: 0.8\n",
      "Comparing MinHash signatures took 0.01sec\n",
      "UPDATING PARENT:  https://e-uprava.gov.si/drzava-in-druzba/javni-sektor/podrobnosti-institucije.html?id=1905\n"
     ]
    },
    {
     "name": "stderr",
     "output_type": "stream",
     "text": [
      "/home/viktor/anaconda3/envs/wier/lib/python3.6/site-packages/urllib3/connectionpool.py:1004: InsecureRequestWarning: Unverified HTTPS request is being made to host 'e-uprava.gov.si'. Adding certificate verification is strongly advised. See: https://urllib3.readthedocs.io/en/latest/advanced-usage.html#ssl-warnings\n",
      "  InsecureRequestWarning,\n"
     ]
    },
    {
     "name": "stdout",
     "output_type": "stream",
     "text": [
      "HASH: 0.7\n",
      "Comparing MinHash signatures took 0.01sec\n",
      "UPDATING PARENT:  https://e-uprava.gov.si/drzava-in-druzba/javni-sektor/podrobnosti-institucije.html?id=1984\n",
      "HASH: 0.8\n",
      "Comparing MinHash signatures took 0.00sec\n",
      "HASH: 0.8\n",
      "Comparing MinHash signatures took 0.00sec\n",
      "UPDATING PARENT:  https://e-uprava.gov.si/drzava-in-druzba/javni-sektor/podrobnosti-institucije.html?id=1503\n",
      "UPDATING PARENT:  https://e-uprava.gov.si/drzava-in-druzba/javni-sektor/podrobnosti-institucije.html?id=1529\n"
     ]
    },
    {
     "name": "stderr",
     "output_type": "stream",
     "text": [
      "/home/viktor/anaconda3/envs/wier/lib/python3.6/site-packages/urllib3/connectionpool.py:1004: InsecureRequestWarning: Unverified HTTPS request is being made to host 'e-uprava.gov.si'. Adding certificate verification is strongly advised. See: https://urllib3.readthedocs.io/en/latest/advanced-usage.html#ssl-warnings\n",
      "  InsecureRequestWarning,\n",
      "/home/viktor/anaconda3/envs/wier/lib/python3.6/site-packages/urllib3/connectionpool.py:1004: InsecureRequestWarning: Unverified HTTPS request is being made to host 'e-uprava.gov.si'. Adding certificate verification is strongly advised. See: https://urllib3.readthedocs.io/en/latest/advanced-usage.html#ssl-warnings\n",
      "  InsecureRequestWarning,\n",
      "/home/viktor/anaconda3/envs/wier/lib/python3.6/site-packages/urllib3/connectionpool.py:1004: InsecureRequestWarning: Unverified HTTPS request is being made to host 'e-uprava.gov.si'. Adding certificate verification is strongly advised. See: https://urllib3.readthedocs.io/en/latest/advanced-usage.html#ssl-warnings\n",
      "  InsecureRequestWarning,\n",
      "/home/viktor/anaconda3/envs/wier/lib/python3.6/site-packages/urllib3/connectionpool.py:1004: InsecureRequestWarning: Unverified HTTPS request is being made to host 'e-uprava.gov.si'. Adding certificate verification is strongly advised. See: https://urllib3.readthedocs.io/en/latest/advanced-usage.html#ssl-warnings\n",
      "  InsecureRequestWarning,\n"
     ]
    },
    {
     "name": "stdout",
     "output_type": "stream",
     "text": [
      "HASH: 0.1\n",
      "Comparing MinHash signatures took 0.00sec\n",
      "UPDATING PARENT:  https://e-uprava.gov.si/drzava-in-druzba/javni-sektor/podrobnosti-institucije.html?id=1130\n",
      "HASH: 0.8\n",
      "Comparing MinHash signatures took 0.00sec\n",
      "UPDATING PARENT:  https://e-uprava.gov.si/drzava-in-druzba/javni-sektor/podrobnosti-institucije.html?id=1412\n"
     ]
    },
    {
     "name": "stderr",
     "output_type": "stream",
     "text": [
      "/home/viktor/anaconda3/envs/wier/lib/python3.6/site-packages/urllib3/connectionpool.py:1004: InsecureRequestWarning: Unverified HTTPS request is being made to host 'e-uprava.gov.si'. Adding certificate verification is strongly advised. See: https://urllib3.readthedocs.io/en/latest/advanced-usage.html#ssl-warnings\n",
      "  InsecureRequestWarning,\n"
     ]
    },
    {
     "name": "stdout",
     "output_type": "stream",
     "text": [
      "HASH: 0.1\n",
      "Comparing MinHash signatures took 0.01sec\n",
      "UPDATING PARENT:  https://e-uprava.gov.si/drzava-in-druzba/javni-sektor/podrobnosti-institucije.html?id=1446\n",
      "HASH: 0.7\n",
      "Comparing MinHash signatures took 0.01sec\n",
      "UPDATING PARENT:  https://e-uprava.gov.si/drzava-in-druzba/javni-sektor/podrobnosti-institucije.html?id=1631\n",
      "HASH: 0.8\n",
      "Comparing MinHash signatures took 0.01sec\n",
      "UPDATING PARENT:  https://e-uprava.gov.si/drzava-in-druzba/javni-sektor/podrobnosti-institucije.html?id=1297\n"
     ]
    },
    {
     "name": "stderr",
     "output_type": "stream",
     "text": [
      "/home/viktor/anaconda3/envs/wier/lib/python3.6/site-packages/urllib3/connectionpool.py:1004: InsecureRequestWarning: Unverified HTTPS request is being made to host 'e-uprava.gov.si'. Adding certificate verification is strongly advised. See: https://urllib3.readthedocs.io/en/latest/advanced-usage.html#ssl-warnings\n",
      "  InsecureRequestWarning,\n",
      "/home/viktor/anaconda3/envs/wier/lib/python3.6/site-packages/urllib3/connectionpool.py:1004: InsecureRequestWarning: Unverified HTTPS request is being made to host 'e-uprava.gov.si'. Adding certificate verification is strongly advised. See: https://urllib3.readthedocs.io/en/latest/advanced-usage.html#ssl-warnings\n",
      "  InsecureRequestWarning,\n",
      "/home/viktor/anaconda3/envs/wier/lib/python3.6/site-packages/urllib3/connectionpool.py:1004: InsecureRequestWarning: Unverified HTTPS request is being made to host 'e-uprava.gov.si'. Adding certificate verification is strongly advised. See: https://urllib3.readthedocs.io/en/latest/advanced-usage.html#ssl-warnings\n",
      "  InsecureRequestWarning,\n",
      "/home/viktor/anaconda3/envs/wier/lib/python3.6/site-packages/urllib3/connectionpool.py:1004: InsecureRequestWarning: Unverified HTTPS request is being made to host 'e-uprava.gov.si'. Adding certificate verification is strongly advised. See: https://urllib3.readthedocs.io/en/latest/advanced-usage.html#ssl-warnings\n",
      "  InsecureRequestWarning,\n"
     ]
    },
    {
     "name": "stdout",
     "output_type": "stream",
     "text": [
      "HASH: 0.6\n",
      "Comparing MinHash signatures took 0.01sec\n",
      "UPDATING PARENT:  https://e-uprava.gov.si/drzava-in-druzba/javni-sektor/podrobnosti-institucije.html?id=2535\n",
      "HASH: 0.7\n",
      "Comparing MinHash signatures took 0.01sec\n",
      "UPDATING PARENT:  https://e-uprava.gov.si/drzava-in-druzba/javni-sektor/podrobnosti-institucije.html?id=1499\n"
     ]
    },
    {
     "name": "stderr",
     "output_type": "stream",
     "text": [
      "/home/viktor/anaconda3/envs/wier/lib/python3.6/site-packages/urllib3/connectionpool.py:1004: InsecureRequestWarning: Unverified HTTPS request is being made to host 'e-uprava.gov.si'. Adding certificate verification is strongly advised. See: https://urllib3.readthedocs.io/en/latest/advanced-usage.html#ssl-warnings\n",
      "  InsecureRequestWarning,\n"
     ]
    },
    {
     "name": "stdout",
     "output_type": "stream",
     "text": [
      "HASH: 0.8\n",
      "Comparing MinHash signatures took 0.00sec\n",
      "UPDATING PARENT:  https://e-uprava.gov.si/drzava-in-druzba/javni-sektor/podrobnosti-institucije.html?id=1590\n"
     ]
    },
    {
     "name": "stderr",
     "output_type": "stream",
     "text": [
      "/home/viktor/anaconda3/envs/wier/lib/python3.6/site-packages/urllib3/connectionpool.py:1004: InsecureRequestWarning: Unverified HTTPS request is being made to host 'e-uprava.gov.si'. Adding certificate verification is strongly advised. See: https://urllib3.readthedocs.io/en/latest/advanced-usage.html#ssl-warnings\n",
      "  InsecureRequestWarning,\n"
     ]
    },
    {
     "name": "stdout",
     "output_type": "stream",
     "text": [
      "Frontier len 57479\n",
      "Frontier len 57488\n",
      "Frontier len 57498\n",
      "Frontier len 57513\n",
      "Frontier len 57522\n",
      "Frontier len 57532\n",
      "Frontier len 57548\n",
      "Frontier len 57557\n",
      "Frontier len 57566\n",
      "Frontier len 57575\n",
      "Frontier len 57585\n",
      "Frontier len 57594\n",
      "\n",
      " ... executing workers ...\n",
      "\n",
      "Num sites: 7776, i: 8152\n",
      "Retrieving web page URL 'https://e-uprava.gov.si/drzava-in-druzba/javni-sektor/podrobnosti-institucije.html?id=1434'\n",
      "Retrieving web page URL 'https://e-uprava.gov.si/drzava-in-druzba/javni-sektor/podrobnosti-institucije.html?id=13491'\n",
      "Retrieving web page URL 'https://e-uprava.gov.si/drzava-in-druzba/javni-sektor/podrobnosti-institucije.html?id=1078'\n",
      "Retrieving web page URL 'https://e-uprava.gov.si/drzava-in-druzba/javni-sektor/podrobnosti-institucije.html?id=1456'\n",
      "Retrieving web page URL 'https://e-uprava.gov.si/drzava-in-druzba/javni-sektor/podrobnosti-institucije.html?id=1497'\n",
      "Retrieving web page URL 'https://e-uprava.gov.si/drzava-in-druzba/javni-sektor/podrobnosti-institucije.html?id=2554'\n",
      "Retrieving web page URL 'https://e-uprava.gov.si/drzava-in-druzba/javni-sektor/podrobnosti-institucije.html?id=2039'\n",
      "Retrieving web page URL 'https://e-uprava.gov.si/drzava-in-druzba/javni-sektor/podrobnosti-institucije.html?id=1324'\n",
      "Retrieving web page URL 'https://e-uprava.gov.si/drzava-in-druzba/javni-sektor/podrobnosti-institucije.html?id=1238'\n",
      "Retrieving web page URL 'https://e-uprava.gov.si/drzava-in-druzba/javni-sektor/podrobnosti-institucije.html?id=1977'\n",
      "Retrieving web page URL 'https://e-uprava.gov.si/drzava-in-druzba/javni-sektor/podrobnosti-institucije.html?id=2339'\n",
      "Retrieving web page URL 'https://e-uprava.gov.si/drzava-in-druzba/javni-sektor/podrobnosti-institucije.html?id=1218'\n",
      "HASH: 0.6\n",
      "Comparing MinHash signatures took 0.01sec\n",
      "UPDATING PARENT:  https://e-uprava.gov.si/drzava-in-druzba/javni-sektor/podrobnosti-institucije.html?id=13491\n"
     ]
    },
    {
     "name": "stderr",
     "output_type": "stream",
     "text": [
      "/home/viktor/anaconda3/envs/wier/lib/python3.6/site-packages/urllib3/connectionpool.py:1004: InsecureRequestWarning: Unverified HTTPS request is being made to host 'e-uprava.gov.si'. Adding certificate verification is strongly advised. See: https://urllib3.readthedocs.io/en/latest/advanced-usage.html#ssl-warnings\n",
      "  InsecureRequestWarning,\n"
     ]
    },
    {
     "name": "stdout",
     "output_type": "stream",
     "text": [
      "HASH: 0.9\n",
      "Comparing MinHash signatures took 0.01sec\n",
      "UPDATING PARENT:  https://e-uprava.gov.si/drzava-in-druzba/javni-sektor/podrobnosti-institucije.html?id=1238\n"
     ]
    },
    {
     "name": "stderr",
     "output_type": "stream",
     "text": [
      "/home/viktor/anaconda3/envs/wier/lib/python3.6/site-packages/urllib3/connectionpool.py:1004: InsecureRequestWarning: Unverified HTTPS request is being made to host 'e-uprava.gov.si'. Adding certificate verification is strongly advised. See: https://urllib3.readthedocs.io/en/latest/advanced-usage.html#ssl-warnings\n",
      "  InsecureRequestWarning,\n"
     ]
    },
    {
     "name": "stdout",
     "output_type": "stream",
     "text": [
      "HASH: 0.8\n",
      "Comparing MinHash signatures took 0.00sec\n",
      "UPDATING PARENT:  https://e-uprava.gov.si/drzava-in-druzba/javni-sektor/podrobnosti-institucije.html?id=1434\n"
     ]
    },
    {
     "name": "stderr",
     "output_type": "stream",
     "text": [
      "/home/viktor/anaconda3/envs/wier/lib/python3.6/site-packages/urllib3/connectionpool.py:1004: InsecureRequestWarning: Unverified HTTPS request is being made to host 'e-uprava.gov.si'. Adding certificate verification is strongly advised. See: https://urllib3.readthedocs.io/en/latest/advanced-usage.html#ssl-warnings\n",
      "  InsecureRequestWarning,\n"
     ]
    },
    {
     "name": "stdout",
     "output_type": "stream",
     "text": [
      "HASH: 0.8\n",
      "Comparing MinHash signatures took 0.00sec\n",
      "HASH: 0.6\n",
      "Comparing MinHash signatures took 0.00sec\n",
      "UPDATING PARENT:  https://e-uprava.gov.si/drzava-in-druzba/javni-sektor/podrobnosti-institucije.html?id=2039\n",
      "UPDATING PARENT:  https://e-uprava.gov.si/drzava-in-druzba/javni-sektor/podrobnosti-institucije.html?id=1977\n"
     ]
    },
    {
     "name": "stderr",
     "output_type": "stream",
     "text": [
      "/home/viktor/anaconda3/envs/wier/lib/python3.6/site-packages/urllib3/connectionpool.py:1004: InsecureRequestWarning: Unverified HTTPS request is being made to host 'e-uprava.gov.si'. Adding certificate verification is strongly advised. See: https://urllib3.readthedocs.io/en/latest/advanced-usage.html#ssl-warnings\n",
      "  InsecureRequestWarning,\n",
      "/home/viktor/anaconda3/envs/wier/lib/python3.6/site-packages/urllib3/connectionpool.py:1004: InsecureRequestWarning: Unverified HTTPS request is being made to host 'e-uprava.gov.si'. Adding certificate verification is strongly advised. See: https://urllib3.readthedocs.io/en/latest/advanced-usage.html#ssl-warnings\n",
      "  InsecureRequestWarning,\n"
     ]
    },
    {
     "name": "stdout",
     "output_type": "stream",
     "text": [
      "HASH: 0.9\n",
      "Comparing MinHash signatures took 0.01sec\n",
      "HASH: 0.0\n",
      "Comparing MinHash signatures took 0.04sec\n",
      "UPDATING PARENT:  https://e-uprava.gov.si/drzava-in-druzba/javni-sektor/podrobnosti-institucije.html?id=1497\n",
      "UPDATING PARENT:  HASH: 0.6\n",
      "Comparing MinHash signatures took 0.00sec\n",
      "UPDATING PARENT:  https://e-uprava.gov.si/drzava-in-druzba/javni-sektor/podrobnosti-institucije.html?id=2554\n",
      "https://e-uprava.gov.si/drzava-in-druzba/javni-sektor/podrobnosti-institucije.html?id=1324\n"
     ]
    },
    {
     "name": "stderr",
     "output_type": "stream",
     "text": [
      "/home/viktor/anaconda3/envs/wier/lib/python3.6/site-packages/urllib3/connectionpool.py:1004: InsecureRequestWarning: Unverified HTTPS request is being made to host 'e-uprava.gov.si'. Adding certificate verification is strongly advised. See: https://urllib3.readthedocs.io/en/latest/advanced-usage.html#ssl-warnings\n",
      "  InsecureRequestWarning,\n",
      "/home/viktor/anaconda3/envs/wier/lib/python3.6/site-packages/urllib3/connectionpool.py:1004: InsecureRequestWarning: Unverified HTTPS request is being made to host 'e-uprava.gov.si'. Adding certificate verification is strongly advised. See: https://urllib3.readthedocs.io/en/latest/advanced-usage.html#ssl-warnings\n",
      "  InsecureRequestWarning,\n",
      "/home/viktor/anaconda3/envs/wier/lib/python3.6/site-packages/urllib3/connectionpool.py:1004: InsecureRequestWarning: Unverified HTTPS request is being made to host 'e-uprava.gov.si'. Adding certificate verification is strongly advised. See: https://urllib3.readthedocs.io/en/latest/advanced-usage.html#ssl-warnings\n",
      "  InsecureRequestWarning,\n",
      "/home/viktor/anaconda3/envs/wier/lib/python3.6/site-packages/urllib3/connectionpool.py:1004: InsecureRequestWarning: Unverified HTTPS request is being made to host 'e-uprava.gov.si'. Adding certificate verification is strongly advised. See: https://urllib3.readthedocs.io/en/latest/advanced-usage.html#ssl-warnings\n",
      "  InsecureRequestWarning,\n"
     ]
    },
    {
     "name": "stdout",
     "output_type": "stream",
     "text": [
      "HASH: 0.6\n",
      "Comparing MinHash signatures took 0.01sec\n",
      "UPDATING PARENT:  https://e-uprava.gov.si/drzava-in-druzba/javni-sektor/podrobnosti-institucije.html?id=2339\n",
      "HASH: 0.7\n",
      "Comparing MinHash signatures took 0.01sec\n",
      "UPDATING PARENT:  https://e-uprava.gov.si/drzava-in-druzba/javni-sektor/podrobnosti-institucije.html?id=1078\n",
      "HASH: 0.7\n",
      "Comparing MinHash signatures took 0.01sec\n",
      "UPDATING PARENT:  https://e-uprava.gov.si/drzava-in-druzba/javni-sektor/podrobnosti-institucije.html?id=1218\n",
      "HASH: 1.0\n",
      "Comparing MinHash signatures took 0.00sec\n",
      "UPDATING PARENT:  https://e-uprava.gov.si/drzava-in-druzba/javni-sektor/podrobnosti-institucije.html?id=1456\n"
     ]
    },
    {
     "name": "stderr",
     "output_type": "stream",
     "text": [
      "/home/viktor/anaconda3/envs/wier/lib/python3.6/site-packages/urllib3/connectionpool.py:1004: InsecureRequestWarning: Unverified HTTPS request is being made to host 'e-uprava.gov.si'. Adding certificate verification is strongly advised. See: https://urllib3.readthedocs.io/en/latest/advanced-usage.html#ssl-warnings\n",
      "  InsecureRequestWarning,\n",
      "/home/viktor/anaconda3/envs/wier/lib/python3.6/site-packages/urllib3/connectionpool.py:1004: InsecureRequestWarning: Unverified HTTPS request is being made to host 'e-uprava.gov.si'. Adding certificate verification is strongly advised. See: https://urllib3.readthedocs.io/en/latest/advanced-usage.html#ssl-warnings\n",
      "  InsecureRequestWarning,\n"
     ]
    },
    {
     "name": "stdout",
     "output_type": "stream",
     "text": [
      "Timeout exception for url:  https://e-uprava.gov.si/drzava-in-druzba/javni-sektor/podrobnosti-institucije.html?id=2339\n",
      "Frontier len 57603\n",
      "Frontier len 57612\n",
      "Frontier len 57621\n",
      "Frontier len 57630\n",
      "Frontier len 57639\n",
      "Frontier len 57650\n",
      "Frontier len 57661\n",
      "Frontier len 57670\n",
      "Frontier len 57682\n",
      "Frontier len 57692\n",
      "Frontier len 57702\n",
      "Frontier len 57711\n",
      "\n",
      " ... executing workers ...\n",
      "\n",
      "Num sites: 7788, i: 8164\n",
      "Retrieving web page URL 'https://e-uprava.gov.si/drzava-in-druzba/javni-sektor/podrobnosti-institucije.html?id=1536'\n",
      "Retrieving web page URL 'https://e-uprava.gov.si/drzava-in-druzba/javni-sektor/podrobnosti-institucije.html?id=2336'\n",
      "Retrieving web page URL 'https://e-uprava.gov.si/drzava-in-druzba/javni-sektor/podrobnosti-institucije.html?id=1162'\n",
      "Retrieving web page URL 'https://e-uprava.gov.si/drzava-in-druzba/javni-sektor/podrobnosti-institucije.html?id=1371'\n",
      "Retrieving web page URL 'https://e-uprava.gov.si/drzava-in-druzba/javni-sektor/podrobnosti-institucije.html?id=1166'\n",
      "Retrieving web page URL 'https://e-uprava.gov.si/drzava-in-druzba/javni-sektor/podrobnosti-institucije.html?id=1061'\n",
      "Retrieving web page URL 'https://e-uprava.gov.si/drzava-in-druzba/javni-sektor/podrobnosti-institucije.html?id=1175'\n",
      "Retrieving web page URL 'https://e-uprava.gov.si/drzava-in-druzba/javni-sektor/podrobnosti-institucije.html?id=1171'\n",
      "Retrieving web page URL 'https://e-uprava.gov.si/drzava-in-druzba/javni-sektor/podrobnosti-institucije.html?id=1418'\n",
      "Retrieving web page URL 'https://e-uprava.gov.si/drzava-in-druzba/javni-sektor/podrobnosti-institucije.html?id=1176'\n",
      "Retrieving web page URL 'https://e-uprava.gov.si/drzava-in-druzba/javni-sektor/podrobnosti-institucije.html?id=1309'\n",
      "Retrieving web page URL 'https://e-uprava.gov.si/drzava-in-druzba/javni-sektor/podrobnosti-institucije.html?id=1422'\n",
      "HASH: 0.5\n",
      "Comparing MinHash signatures took 0.01sec\n",
      "UPDATING PARENT:  https://e-uprava.gov.si/drzava-in-druzba/javni-sektor/podrobnosti-institucije.html?id=2336\n",
      "HASH: 0.7\n",
      "Comparing MinHash signatures took 0.00sec\n",
      "UPDATING PARENT:  https://e-uprava.gov.si/drzava-in-druzba/javni-sektor/podrobnosti-institucije.html?id=1536\n"
     ]
    },
    {
     "name": "stderr",
     "output_type": "stream",
     "text": [
      "/home/viktor/anaconda3/envs/wier/lib/python3.6/site-packages/urllib3/connectionpool.py:1004: InsecureRequestWarning: Unverified HTTPS request is being made to host 'e-uprava.gov.si'. Adding certificate verification is strongly advised. See: https://urllib3.readthedocs.io/en/latest/advanced-usage.html#ssl-warnings\n",
      "  InsecureRequestWarning,\n",
      "/home/viktor/anaconda3/envs/wier/lib/python3.6/site-packages/urllib3/connectionpool.py:1004: InsecureRequestWarning: Unverified HTTPS request is being made to host 'e-uprava.gov.si'. Adding certificate verification is strongly advised. See: https://urllib3.readthedocs.io/en/latest/advanced-usage.html#ssl-warnings\n",
      "  InsecureRequestWarning,\n"
     ]
    },
    {
     "name": "stdout",
     "output_type": "stream",
     "text": [
      "HASH: 0.8\n",
      "Comparing MinHash signatures took 0.00sec\n",
      "UPDATING PARENT:  https://e-uprava.gov.si/drzava-in-druzba/javni-sektor/podrobnosti-institucije.html?id=1175\n"
     ]
    },
    {
     "name": "stderr",
     "output_type": "stream",
     "text": [
      "/home/viktor/anaconda3/envs/wier/lib/python3.6/site-packages/urllib3/connectionpool.py:1004: InsecureRequestWarning: Unverified HTTPS request is being made to host 'e-uprava.gov.si'. Adding certificate verification is strongly advised. See: https://urllib3.readthedocs.io/en/latest/advanced-usage.html#ssl-warnings\n",
      "  InsecureRequestWarning,\n"
     ]
    },
    {
     "name": "stdout",
     "output_type": "stream",
     "text": [
      "HASH: 0.0\n",
      "Comparing MinHash signatures took 0.01sec\n",
      "UPDATING PARENT:  https://e-uprava.gov.si/drzava-in-druzba/javni-sektor/podrobnosti-institucije.html?id=1422\n",
      "HASH: 0.9\n",
      "Comparing MinHash signatures took 0.01sec\n",
      "HASH: 0.0\n",
      "Comparing MinHash signatures took 0.01sec\n",
      "UPDATING PARENT:  https://e-uprava.gov.si/drzava-in-druzba/javni-sektor/podrobnosti-institucije.html?id=1171\n",
      "UPDATING PARENT:  https://e-uprava.gov.si/drzava-in-druzba/javni-sektor/podrobnosti-institucije.html?id=1061\n",
      "HASH: 0.7\n",
      "Comparing MinHash signatures took 0.00sec\n",
      "UPDATING PARENT:  https://e-uprava.gov.si/drzava-in-druzba/javni-sektor/podrobnosti-institucije.html?id=1176\n"
     ]
    },
    {
     "name": "stderr",
     "output_type": "stream",
     "text": [
      "/home/viktor/anaconda3/envs/wier/lib/python3.6/site-packages/urllib3/connectionpool.py:1004: InsecureRequestWarning: Unverified HTTPS request is being made to host 'e-uprava.gov.si'. Adding certificate verification is strongly advised. See: https://urllib3.readthedocs.io/en/latest/advanced-usage.html#ssl-warnings\n",
      "  InsecureRequestWarning,\n",
      "/home/viktor/anaconda3/envs/wier/lib/python3.6/site-packages/urllib3/connectionpool.py:1004: InsecureRequestWarning: Unverified HTTPS request is being made to host 'e-uprava.gov.si'. Adding certificate verification is strongly advised. See: https://urllib3.readthedocs.io/en/latest/advanced-usage.html#ssl-warnings\n",
      "  InsecureRequestWarning,\n",
      "/home/viktor/anaconda3/envs/wier/lib/python3.6/site-packages/urllib3/connectionpool.py:1004: InsecureRequestWarning: Unverified HTTPS request is being made to host 'e-uprava.gov.si'. Adding certificate verification is strongly advised. See: https://urllib3.readthedocs.io/en/latest/advanced-usage.html#ssl-warnings\n",
      "  InsecureRequestWarning,\n",
      "/home/viktor/anaconda3/envs/wier/lib/python3.6/site-packages/urllib3/connectionpool.py:1004: InsecureRequestWarning: Unverified HTTPS request is being made to host 'e-uprava.gov.si'. Adding certificate verification is strongly advised. See: https://urllib3.readthedocs.io/en/latest/advanced-usage.html#ssl-warnings\n",
      "  InsecureRequestWarning,\n"
     ]
    },
    {
     "name": "stdout",
     "output_type": "stream",
     "text": [
      "HASH: 0.8\n",
      "Comparing MinHash signatures took 0.00sec\n",
      "UPDATING PARENT:  https://e-uprava.gov.si/drzava-in-druzba/javni-sektor/podrobnosti-institucije.html?id=1371\n",
      "HASH: 0.0\n",
      "Comparing MinHash signatures took 0.03sec\n",
      "UPDATING PARENT:  https://e-uprava.gov.si/drzava-in-druzba/javni-sektor/podrobnosti-institucije.html?id=1162\n"
     ]
    },
    {
     "name": "stderr",
     "output_type": "stream",
     "text": [
      "/home/viktor/anaconda3/envs/wier/lib/python3.6/site-packages/urllib3/connectionpool.py:1004: InsecureRequestWarning: Unverified HTTPS request is being made to host 'e-uprava.gov.si'. Adding certificate verification is strongly advised. See: https://urllib3.readthedocs.io/en/latest/advanced-usage.html#ssl-warnings\n",
      "  InsecureRequestWarning,\n",
      "/home/viktor/anaconda3/envs/wier/lib/python3.6/site-packages/urllib3/connectionpool.py:1004: InsecureRequestWarning: Unverified HTTPS request is being made to host 'e-uprava.gov.si'. Adding certificate verification is strongly advised. See: https://urllib3.readthedocs.io/en/latest/advanced-usage.html#ssl-warnings\n",
      "  InsecureRequestWarning,\n",
      "/home/viktor/anaconda3/envs/wier/lib/python3.6/site-packages/urllib3/connectionpool.py:1004: InsecureRequestWarning: Unverified HTTPS request is being made to host 'e-uprava.gov.si'. Adding certificate verification is strongly advised. See: https://urllib3.readthedocs.io/en/latest/advanced-usage.html#ssl-warnings\n",
      "  InsecureRequestWarning,\n",
      "/home/viktor/anaconda3/envs/wier/lib/python3.6/site-packages/urllib3/connectionpool.py:1004: InsecureRequestWarning: Unverified HTTPS request is being made to host 'e-uprava.gov.si'. Adding certificate verification is strongly advised. See: https://urllib3.readthedocs.io/en/latest/advanced-usage.html#ssl-warnings\n",
      "  InsecureRequestWarning,\n",
      "/home/viktor/anaconda3/envs/wier/lib/python3.6/site-packages/urllib3/connectionpool.py:1004: InsecureRequestWarning: Unverified HTTPS request is being made to host 'e-uprava.gov.si'. Adding certificate verification is strongly advised. See: https://urllib3.readthedocs.io/en/latest/advanced-usage.html#ssl-warnings\n",
      "  InsecureRequestWarning,\n"
     ]
    },
    {
     "name": "stdout",
     "output_type": "stream",
     "text": [
      "HASH: 0.8HASH: 0.8\n",
      "Comparing MinHash signatures took 0.00sec\n",
      "\n",
      "Comparing MinHash signatures took 0.01sec\n",
      "UPDATING PARENT:  https://e-uprava.gov.si/drzava-in-druzba/javni-sektor/podrobnosti-institucije.html?id=1166\n",
      "UPDATING PARENT:  https://e-uprava.gov.si/drzava-in-druzba/javni-sektor/podrobnosti-institucije.html?id=1309\n",
      "HASH: 0.8\n",
      "Comparing MinHash signatures took 0.00sec\n",
      "UPDATING PARENT:  https://e-uprava.gov.si/drzava-in-druzba/javni-sektor/podrobnosti-institucije.html?id=1418\n",
      "Frontier len 57722\n",
      "Frontier len 57732\n",
      "Frontier len 57741\n",
      "Frontier len 57751\n",
      "Frontier len 57762\n",
      "Frontier len 57771\n",
      "Frontier len 57780\n",
      "Frontier len 57789\n",
      "Frontier len 57798\n",
      "Frontier len 57807\n",
      "Frontier len 57819\n",
      "Frontier len 57831\n",
      "\n",
      " ... executing workers ...\n",
      "\n",
      "Num sites: 7800, i: 8176\n",
      "Retrieving web page URL 'https://e-uprava.gov.si/drzava-in-druzba/javni-sektor/podrobnosti-institucije.html?id=1496'\n",
      "Retrieving web page URL 'https://e-uprava.gov.si/drzava-in-druzba/javni-sektor/podrobnosti-institucije.html?id=1379'\n",
      "Retrieving web page URL 'https://e-uprava.gov.si/drzava-in-druzba/javni-sektor/podrobnosti-institucije.html?id=1107'\n",
      "Retrieving web page URL 'https://e-uprava.gov.si/drzava-in-druzba/javni-sektor/podrobnosti-institucije.html?id=1742'\n",
      "Retrieving web page URL 'https://e-uprava.gov.si/drzava-in-druzba/javni-sektor/podrobnosti-institucije.html?id=1168'\n",
      "Retrieving web page URL 'https://e-uprava.gov.si/drzava-in-druzba/javni-sektor/podrobnosti-institucije.html?id=1211'\n",
      "Retrieving web page URL 'https://e-uprava.gov.si/drzava-in-druzba/javni-sektor/podrobnosti-institucije.html?id=1390'\n",
      "Retrieving web page URL 'https://e-uprava.gov.si/drzava-in-druzba/javni-sektor/podrobnosti-institucije.html?id=1190'\n",
      "Retrieving web page URL 'https://e-uprava.gov.si/drzava-in-druzba/javni-sektor/podrobnosti-institucije.html?id=1826'\n",
      "Retrieving web page URL 'https://e-uprava.gov.si/drzava-in-druzba/javni-sektor/podrobnosti-institucije.html?id=1076'\n",
      "Retrieving web page URL 'https://e-uprava.gov.si/drzava-in-druzba/javni-sektor/podrobnosti-institucije.html?id=1203'\n",
      "Retrieving web page URL 'https://e-uprava.gov.si/drzava-in-druzba/javni-sektor/podrobnosti-institucije.html?id=1050'\n",
      "HASH: 0.0\n",
      "Comparing MinHash signatures took 0.02sec\n",
      "UPDATING PARENT:  https://e-uprava.gov.si/drzava-in-druzba/javni-sektor/podrobnosti-institucije.html?id=1496\n"
     ]
    },
    {
     "name": "stderr",
     "output_type": "stream",
     "text": [
      "/home/viktor/anaconda3/envs/wier/lib/python3.6/site-packages/urllib3/connectionpool.py:1004: InsecureRequestWarning: Unverified HTTPS request is being made to host 'e-uprava.gov.si'. Adding certificate verification is strongly advised. See: https://urllib3.readthedocs.io/en/latest/advanced-usage.html#ssl-warnings\n",
      "  InsecureRequestWarning,\n"
     ]
    },
    {
     "name": "stdout",
     "output_type": "stream",
     "text": [
      "HASH: 0.7\n",
      "Comparing MinHash signatures took 0.00sec\n",
      "UPDATING PARENT:  https://e-uprava.gov.si/drzava-in-druzba/javni-sektor/podrobnosti-institucije.html?id=1379\n",
      "HASH: 0.9\n",
      "Comparing MinHash signatures took 0.00sec\n",
      "UPDATING PARENT:  https://e-uprava.gov.si/drzava-in-druzba/javni-sektor/podrobnosti-institucije.html?id=1211\n",
      "HASH: 0.0\n",
      "Comparing MinHash signatures took 0.00sec\n",
      "UPDATING PARENT:  https://e-uprava.gov.si/drzava-in-druzba/javni-sektor/podrobnosti-institucije.html?id=1826\n"
     ]
    },
    {
     "name": "stderr",
     "output_type": "stream",
     "text": [
      "/home/viktor/anaconda3/envs/wier/lib/python3.6/site-packages/urllib3/connectionpool.py:1004: InsecureRequestWarning: Unverified HTTPS request is being made to host 'e-uprava.gov.si'. Adding certificate verification is strongly advised. See: https://urllib3.readthedocs.io/en/latest/advanced-usage.html#ssl-warnings\n",
      "  InsecureRequestWarning,\n",
      "/home/viktor/anaconda3/envs/wier/lib/python3.6/site-packages/urllib3/connectionpool.py:1004: InsecureRequestWarning: Unverified HTTPS request is being made to host 'e-uprava.gov.si'. Adding certificate verification is strongly advised. See: https://urllib3.readthedocs.io/en/latest/advanced-usage.html#ssl-warnings\n",
      "  InsecureRequestWarning,\n",
      "/home/viktor/anaconda3/envs/wier/lib/python3.6/site-packages/urllib3/connectionpool.py:1004: InsecureRequestWarning: Unverified HTTPS request is being made to host 'e-uprava.gov.si'. Adding certificate verification is strongly advised. See: https://urllib3.readthedocs.io/en/latest/advanced-usage.html#ssl-warnings\n",
      "  InsecureRequestWarning,\n"
     ]
    },
    {
     "name": "stdout",
     "output_type": "stream",
     "text": [
      "HASH: 0.8\n",
      "Comparing MinHash signatures took 0.01sec\n",
      "HASH: 0.9\n",
      "Comparing MinHash signatures took 0.00sec\n",
      "UPDATING PARENT:  https://e-uprava.gov.si/drzava-in-druzba/javni-sektor/podrobnosti-institucije.html?id=1203\n",
      "UPDATING PARENT:  https://e-uprava.gov.si/drzava-in-druzba/javni-sektor/podrobnosti-institucije.html?id=1190\n",
      "HASH: 0.0\n",
      "Comparing MinHash signatures took 0.00sec\n",
      "UPDATING PARENT:  https://e-uprava.gov.si/drzava-in-druzba/javni-sektor/podrobnosti-institucije.html?id=1107\n"
     ]
    },
    {
     "name": "stderr",
     "output_type": "stream",
     "text": [
      "/home/viktor/anaconda3/envs/wier/lib/python3.6/site-packages/urllib3/connectionpool.py:1004: InsecureRequestWarning: Unverified HTTPS request is being made to host 'e-uprava.gov.si'. Adding certificate verification is strongly advised. See: https://urllib3.readthedocs.io/en/latest/advanced-usage.html#ssl-warnings\n",
      "  InsecureRequestWarning,\n",
      "/home/viktor/anaconda3/envs/wier/lib/python3.6/site-packages/urllib3/connectionpool.py:1004: InsecureRequestWarning: Unverified HTTPS request is being made to host 'e-uprava.gov.si'. Adding certificate verification is strongly advised. See: https://urllib3.readthedocs.io/en/latest/advanced-usage.html#ssl-warnings\n",
      "  InsecureRequestWarning,\n",
      "/home/viktor/anaconda3/envs/wier/lib/python3.6/site-packages/urllib3/connectionpool.py:1004: InsecureRequestWarning: Unverified HTTPS request is being made to host 'e-uprava.gov.si'. Adding certificate verification is strongly advised. See: https://urllib3.readthedocs.io/en/latest/advanced-usage.html#ssl-warnings\n",
      "  InsecureRequestWarning,\n"
     ]
    },
    {
     "name": "stdout",
     "output_type": "stream",
     "text": [
      "HASH: 0.9\n",
      "Comparing MinHash signatures took 0.00sec\n",
      "UPDATING PARENT:  https://e-uprava.gov.si/drzava-in-druzba/javni-sektor/podrobnosti-institucije.html?id=1742\n",
      "HASH: 0.0\n",
      "Comparing MinHash signatures took 0.00sec\n",
      "UPDATING PARENT:  https://e-uprava.gov.si/drzava-in-druzba/javni-sektor/podrobnosti-institucije.html?id=1050\n",
      "HASH: 0.5\n",
      "Comparing MinHash signatures took 0.00sec\n",
      "UPDATING PARENT:  https://e-uprava.gov.si/drzava-in-druzba/javni-sektor/podrobnosti-institucije.html?id=1168\n"
     ]
    },
    {
     "name": "stderr",
     "output_type": "stream",
     "text": [
      "/home/viktor/anaconda3/envs/wier/lib/python3.6/site-packages/urllib3/connectionpool.py:1004: InsecureRequestWarning: Unverified HTTPS request is being made to host 'e-uprava.gov.si'. Adding certificate verification is strongly advised. See: https://urllib3.readthedocs.io/en/latest/advanced-usage.html#ssl-warnings\n",
      "  InsecureRequestWarning,\n",
      "/home/viktor/anaconda3/envs/wier/lib/python3.6/site-packages/urllib3/connectionpool.py:1004: InsecureRequestWarning: Unverified HTTPS request is being made to host 'e-uprava.gov.si'. Adding certificate verification is strongly advised. See: https://urllib3.readthedocs.io/en/latest/advanced-usage.html#ssl-warnings\n",
      "  InsecureRequestWarning,\n",
      "/home/viktor/anaconda3/envs/wier/lib/python3.6/site-packages/urllib3/connectionpool.py:1004: InsecureRequestWarning: Unverified HTTPS request is being made to host 'e-uprava.gov.si'. Adding certificate verification is strongly advised. See: https://urllib3.readthedocs.io/en/latest/advanced-usage.html#ssl-warnings\n",
      "  InsecureRequestWarning,\n",
      "/home/viktor/anaconda3/envs/wier/lib/python3.6/site-packages/urllib3/connectionpool.py:1004: InsecureRequestWarning: Unverified HTTPS request is being made to host 'e-uprava.gov.si'. Adding certificate verification is strongly advised. See: https://urllib3.readthedocs.io/en/latest/advanced-usage.html#ssl-warnings\n",
      "  InsecureRequestWarning,\n"
     ]
    },
    {
     "name": "stdout",
     "output_type": "stream",
     "text": [
      "HASH: 0.8\n",
      "Comparing MinHash signatures took 0.01sec\n",
      "UPDATING PARENT:  https://e-uprava.gov.si/drzava-in-druzba/javni-sektor/podrobnosti-institucije.html?id=1076\n",
      "HASH: 0.0\n",
      "Comparing MinHash signatures took 0.00sec\n",
      "UPDATING PARENT:  https://e-uprava.gov.si/drzava-in-druzba/javni-sektor/podrobnosti-institucije.html?id=1390\n"
     ]
    },
    {
     "name": "stderr",
     "output_type": "stream",
     "text": [
      "/home/viktor/anaconda3/envs/wier/lib/python3.6/site-packages/urllib3/connectionpool.py:1004: InsecureRequestWarning: Unverified HTTPS request is being made to host 'e-uprava.gov.si'. Adding certificate verification is strongly advised. See: https://urllib3.readthedocs.io/en/latest/advanced-usage.html#ssl-warnings\n",
      "  InsecureRequestWarning,\n"
     ]
    },
    {
     "name": "stdout",
     "output_type": "stream",
     "text": [
      "Frontier len 57841\n",
      "Frontier len 57850\n",
      "Frontier len 57860\n",
      "Frontier len 57870\n",
      "Frontier len 57879\n",
      "Frontier len 57889\n",
      "Frontier len 57898\n",
      "Frontier len 57909\n",
      "Frontier len 57919\n",
      "Frontier len 57928\n",
      "Frontier len 57939\n",
      "Frontier len 57951\n",
      "\n",
      " ... executing workers ...\n",
      "\n",
      "Num sites: 7812, i: 8188\n",
      "Retrieving web page URL 'https://e-uprava.gov.si/drzava-in-druzba/javni-sektor/podrobnosti-institucije.html?id=6087'\n",
      "Retrieving web page URL 'https://e-uprava.gov.si/drzava-in-druzba/javni-sektor/podrobnosti-institucije.html?id=1121'\n",
      "Retrieving web page URL 'https://e-uprava.gov.si/drzava-in-druzba/javni-sektor/podrobnosti-institucije.html?id=3795'\n",
      "Retrieving web page URL 'https://e-uprava.gov.si/drzava-in-druzba/javni-sektor/podrobnosti-institucije.html?id=6038'\n",
      "Retrieving web page URL 'https://e-uprava.gov.si/drzava-in-druzba/javni-sektor/podrobnosti-institucije.html?id=1117'\n",
      "Retrieving web page URL 'https://e-uprava.gov.si/drzava-in-druzba/javni-sektor/podrobnosti-institucije.html?id=13505'\n",
      "Retrieving web page URL 'https://e-uprava.gov.si/drzava-in-druzba/javni-sektor/podrobnosti-institucije.html?id=1193'\n",
      "Retrieving web page URL 'https://e-uprava.gov.si/drzava-in-druzba/javni-sektor/podrobnosti-institucije.html?id=1430'\n",
      "Retrieving web page URL 'https://e-uprava.gov.si/drzava-in-druzba/javni-sektor/podrobnosti-institucije.html?id=1065'\n",
      "Retrieving web page URL 'https://e-uprava.gov.si/drzava-in-druzba/javni-sektor/podrobnosti-institucije.html?id=1114'\n",
      "Retrieving web page URL 'https://e-uprava.gov.si/drzava-in-druzba/javni-sektor/podrobnosti-institucije.html?id=1530'\n",
      "Retrieving web page URL 'https://e-uprava.gov.si/drzava-in-druzba/javni-sektor/podrobnosti-institucije.html?id=13506'\n",
      "HASH: 0.7\n",
      "Comparing MinHash signatures took 0.01sec\n",
      "UPDATING PARENT:  https://e-uprava.gov.si/drzava-in-druzba/javni-sektor/podrobnosti-institucije.html?id=1117\n",
      "HASH: 0.5\n",
      "Comparing MinHash signatures took 0.00sec\n",
      "UPDATING PARENT:  https://e-uprava.gov.si/drzava-in-druzba/javni-sektor/podrobnosti-institucije.html?id=6038\n",
      "HASH: 0.5\n",
      "Comparing MinHash signatures took 0.01sec\n",
      "UPDATING PARENT:  https://e-uprava.gov.si/drzava-in-druzba/javni-sektor/podrobnosti-institucije.html?id=13506\n"
     ]
    },
    {
     "name": "stderr",
     "output_type": "stream",
     "text": [
      "/home/viktor/anaconda3/envs/wier/lib/python3.6/site-packages/urllib3/connectionpool.py:1004: InsecureRequestWarning: Unverified HTTPS request is being made to host 'e-uprava.gov.si'. Adding certificate verification is strongly advised. See: https://urllib3.readthedocs.io/en/latest/advanced-usage.html#ssl-warnings\n",
      "  InsecureRequestWarning,\n",
      "/home/viktor/anaconda3/envs/wier/lib/python3.6/site-packages/urllib3/connectionpool.py:1004: InsecureRequestWarning: Unverified HTTPS request is being made to host 'e-uprava.gov.si'. Adding certificate verification is strongly advised. See: https://urllib3.readthedocs.io/en/latest/advanced-usage.html#ssl-warnings\n",
      "  InsecureRequestWarning,\n"
     ]
    },
    {
     "name": "stdout",
     "output_type": "stream",
     "text": [
      "HASH: 0.9\n",
      "Comparing MinHash signatures took 0.01sec\n",
      "HASH: 0.8\n",
      "Comparing MinHash signatures took 0.00sec\n",
      "UPDATING PARENT:  https://e-uprava.gov.si/drzava-in-druzba/javni-sektor/podrobnosti-institucije.html?id=1065\n",
      "UPDATING PARENT:  https://e-uprava.gov.si/drzava-in-druzba/javni-sektor/podrobnosti-institucije.html?id=3795\n"
     ]
    },
    {
     "name": "stderr",
     "output_type": "stream",
     "text": [
      "/home/viktor/anaconda3/envs/wier/lib/python3.6/site-packages/urllib3/connectionpool.py:1004: InsecureRequestWarning: Unverified HTTPS request is being made to host 'e-uprava.gov.si'. Adding certificate verification is strongly advised. See: https://urllib3.readthedocs.io/en/latest/advanced-usage.html#ssl-warnings\n",
      "  InsecureRequestWarning,\n",
      "/home/viktor/anaconda3/envs/wier/lib/python3.6/site-packages/urllib3/connectionpool.py:1004: InsecureRequestWarning: Unverified HTTPS request is being made to host 'e-uprava.gov.si'. Adding certificate verification is strongly advised. See: https://urllib3.readthedocs.io/en/latest/advanced-usage.html#ssl-warnings\n",
      "  InsecureRequestWarning,\n",
      "/home/viktor/anaconda3/envs/wier/lib/python3.6/site-packages/urllib3/connectionpool.py:1004: InsecureRequestWarning: Unverified HTTPS request is being made to host 'e-uprava.gov.si'. Adding certificate verification is strongly advised. See: https://urllib3.readthedocs.io/en/latest/advanced-usage.html#ssl-warnings\n",
      "  InsecureRequestWarning,\n"
     ]
    },
    {
     "name": "stdout",
     "output_type": "stream",
     "text": [
      "HASH: 0.6HASH: 0.7\n",
      "HASH: 0.7\n",
      "Comparing MinHash signatures took 0.00sec\n",
      "UPDATING PARENT: Comparing MinHash signatures took 0.03sec\n",
      "Comparing MinHash signatures took 0.02sec\n",
      "UPDATING PARENT:   https://e-uprava.gov.si/drzava-in-druzba/javni-sektor/podrobnosti-institucije.html?id=1193\n",
      "UPDATING PARENT: \n",
      "https://e-uprava.gov.si/drzava-in-druzba/javni-sektor/podrobnosti-institucije.html?id=1121\n",
      " https://e-uprava.gov.si/drzava-in-druzba/javni-sektor/podrobnosti-institucije.html?id=6087\n"
     ]
    },
    {
     "name": "stderr",
     "output_type": "stream",
     "text": [
      "/home/viktor/anaconda3/envs/wier/lib/python3.6/site-packages/urllib3/connectionpool.py:1004: InsecureRequestWarning: Unverified HTTPS request is being made to host 'e-uprava.gov.si'. Adding certificate verification is strongly advised. See: https://urllib3.readthedocs.io/en/latest/advanced-usage.html#ssl-warnings\n",
      "  InsecureRequestWarning,\n",
      "/home/viktor/anaconda3/envs/wier/lib/python3.6/site-packages/urllib3/connectionpool.py:1004: InsecureRequestWarning: Unverified HTTPS request is being made to host 'e-uprava.gov.si'. Adding certificate verification is strongly advised. See: https://urllib3.readthedocs.io/en/latest/advanced-usage.html#ssl-warnings\n",
      "  InsecureRequestWarning,\n",
      "/home/viktor/anaconda3/envs/wier/lib/python3.6/site-packages/urllib3/connectionpool.py:1004: InsecureRequestWarning: Unverified HTTPS request is being made to host 'e-uprava.gov.si'. Adding certificate verification is strongly advised. See: https://urllib3.readthedocs.io/en/latest/advanced-usage.html#ssl-warnings\n",
      "  InsecureRequestWarning,\n",
      "/home/viktor/anaconda3/envs/wier/lib/python3.6/site-packages/urllib3/connectionpool.py:1004: InsecureRequestWarning: Unverified HTTPS request is being made to host 'e-uprava.gov.si'. Adding certificate verification is strongly advised. See: https://urllib3.readthedocs.io/en/latest/advanced-usage.html#ssl-warnings\n",
      "  InsecureRequestWarning,\n",
      "/home/viktor/anaconda3/envs/wier/lib/python3.6/site-packages/urllib3/connectionpool.py:1004: InsecureRequestWarning: Unverified HTTPS request is being made to host 'e-uprava.gov.si'. Adding certificate verification is strongly advised. See: https://urllib3.readthedocs.io/en/latest/advanced-usage.html#ssl-warnings\n",
      "  InsecureRequestWarning,\n"
     ]
    },
    {
     "name": "stdout",
     "output_type": "stream",
     "text": [
      "HASH: 0.6\n",
      "Comparing MinHash signatures took 0.01sec\n",
      "UPDATING PARENT:  https://e-uprava.gov.si/drzava-in-druzba/javni-sektor/podrobnosti-institucije.html?id=1114\n",
      "HASH: 0.7\n",
      "Comparing MinHash signatures took 0.00sec\n",
      "UPDATING PARENT:  https://e-uprava.gov.si/drzava-in-druzba/javni-sektor/podrobnosti-institucije.html?id=1430\n",
      "HASH: 1.0\n",
      "Comparing MinHash signatures took 0.00sec\n",
      "UPDATING PARENT:  https://e-uprava.gov.si/drzava-in-druzba/javni-sektor/podrobnosti-institucije.html?id=1530\n",
      "HASH: 0.5\n",
      "Comparing MinHash signatures took 0.00sec\n",
      "UPDATING PARENT:  https://e-uprava.gov.si/drzava-in-druzba/javni-sektor/podrobnosti-institucije.html?id=13505\n"
     ]
    },
    {
     "name": "stderr",
     "output_type": "stream",
     "text": [
      "/home/viktor/anaconda3/envs/wier/lib/python3.6/site-packages/urllib3/connectionpool.py:1004: InsecureRequestWarning: Unverified HTTPS request is being made to host 'e-uprava.gov.si'. Adding certificate verification is strongly advised. See: https://urllib3.readthedocs.io/en/latest/advanced-usage.html#ssl-warnings\n",
      "  InsecureRequestWarning,\n",
      "/home/viktor/anaconda3/envs/wier/lib/python3.6/site-packages/urllib3/connectionpool.py:1004: InsecureRequestWarning: Unverified HTTPS request is being made to host 'e-uprava.gov.si'. Adding certificate verification is strongly advised. See: https://urllib3.readthedocs.io/en/latest/advanced-usage.html#ssl-warnings\n",
      "  InsecureRequestWarning,\n"
     ]
    },
    {
     "name": "stdout",
     "output_type": "stream",
     "text": [
      "Frontier len 57960\n",
      "Frontier len 57969\n",
      "Frontier len 57980\n",
      "Frontier len 57989\n",
      "Frontier len 57998\n",
      "Frontier len 58010\n",
      "Frontier len 58019\n",
      "Frontier len 58035\n",
      "Frontier len 58044\n",
      "Frontier len 58053\n",
      "Frontier len 58062\n",
      "Frontier len 58071\n",
      "\n",
      " ... executing workers ...\n",
      "\n",
      "Num sites: 7824, i: 8200\n",
      "Retrieving web page URL 'https://e-uprava.gov.si/drzava-in-druzba/javni-sektor/podrobnosti-institucije.html?id=1126'\n",
      "Retrieving web page URL 'https://e-uprava.gov.si/drzava-in-druzba/javni-sektor/podrobnosti-institucije.html?id=1349'\n",
      "Retrieving web page URL 'https://e-uprava.gov.si/drzava-in-druzba/javni-sektor/podrobnosti-institucije.html?id=1082'\n",
      "Retrieving web page URL 'https://e-uprava.gov.si/drzava-in-druzba/javni-sektor/podrobnosti-institucije.html?id=2042'\n",
      "Retrieving web page URL 'https://e-uprava.gov.si/drzava-in-druzba/javni-sektor/podrobnosti-institucije.html?id=1096'\n",
      "Retrieving web page URL 'https://e-uprava.gov.si/drzava-in-druzba/javni-sektor/podrobnosti-institucije.html?id=1074'\n",
      "Retrieving web page URL 'https://e-uprava.gov.si/drzava-in-druzba/javni-sektor/podrobnosti-institucije.html?id=1080'\n",
      "Retrieving web page URL 'https://e-uprava.gov.si/drzava-in-druzba/javni-sektor/podrobnosti-institucije.html?id=1089'\n",
      "Retrieving web page URL 'https://e-uprava.gov.si/drzava-in-druzba/javni-sektor/podrobnosti-institucije.html?id=2521'\n",
      "Retrieving web page URL 'https://e-uprava.gov.si/drzava-in-druzba/javni-sektor/podrobnosti-institucije.html?id=1965'\n",
      "Retrieving web page URL 'https://e-uprava.gov.si/drzava-in-druzba/javni-sektor/podrobnosti-institucije.html?id=1451'\n",
      "Retrieving web page URL 'https://e-uprava.gov.si/drzava-in-druzba/javni-sektor/podrobnosti-institucije.html?id=1125'\n",
      "HASH: 0.8\n",
      "Comparing MinHash signatures took 0.01sec\n",
      "UPDATING PARENT:  https://e-uprava.gov.si/drzava-in-druzba/javni-sektor/podrobnosti-institucije.html?id=1126\n"
     ]
    },
    {
     "name": "stderr",
     "output_type": "stream",
     "text": [
      "/home/viktor/anaconda3/envs/wier/lib/python3.6/site-packages/urllib3/connectionpool.py:1004: InsecureRequestWarning: Unverified HTTPS request is being made to host 'e-uprava.gov.si'. Adding certificate verification is strongly advised. See: https://urllib3.readthedocs.io/en/latest/advanced-usage.html#ssl-warnings\n",
      "  InsecureRequestWarning,\n"
     ]
    },
    {
     "name": "stdout",
     "output_type": "stream",
     "text": [
      "HASH: 1.0\n",
      "Comparing MinHash signatures took 0.00sec\n",
      "UPDATING PARENT:  https://e-uprava.gov.si/drzava-in-druzba/javni-sektor/podrobnosti-institucije.html?id=1349\n"
     ]
    },
    {
     "name": "stderr",
     "output_type": "stream",
     "text": [
      "/home/viktor/anaconda3/envs/wier/lib/python3.6/site-packages/urllib3/connectionpool.py:1004: InsecureRequestWarning: Unverified HTTPS request is being made to host 'e-uprava.gov.si'. Adding certificate verification is strongly advised. See: https://urllib3.readthedocs.io/en/latest/advanced-usage.html#ssl-warnings\n",
      "  InsecureRequestWarning,\n"
     ]
    },
    {
     "name": "stdout",
     "output_type": "stream",
     "text": [
      "HASH: 0.8\n",
      "Comparing MinHash signatures took 0.01sec\n",
      "UPDATING PARENT:  https://e-uprava.gov.si/drzava-in-druzba/javni-sektor/podrobnosti-institucije.html?id=1074\n"
     ]
    },
    {
     "name": "stderr",
     "output_type": "stream",
     "text": [
      "/home/viktor/anaconda3/envs/wier/lib/python3.6/site-packages/urllib3/connectionpool.py:1004: InsecureRequestWarning: Unverified HTTPS request is being made to host 'e-uprava.gov.si'. Adding certificate verification is strongly advised. See: https://urllib3.readthedocs.io/en/latest/advanced-usage.html#ssl-warnings\n",
      "  InsecureRequestWarning,\n"
     ]
    },
    {
     "name": "stdout",
     "output_type": "stream",
     "text": [
      "HASH: 0.4\n",
      "Comparing MinHash signatures took 0.01sec\n",
      "UPDATING PARENT:  https://e-uprava.gov.si/drzava-in-druzba/javni-sektor/podrobnosti-institucije.html?id=1096\n",
      "HASH: 0.5\n",
      "Comparing MinHash signatures took 0.00sec\n",
      "UPDATING PARENT:  https://e-uprava.gov.si/drzava-in-druzba/javni-sektor/podrobnosti-institucije.html?id=1451\n",
      "HASH: 0.8\n",
      "Comparing MinHash signatures took 0.01sec\n",
      "UPDATING PARENT:  https://e-uprava.gov.si/drzava-in-druzba/javni-sektor/podrobnosti-institucije.html?id=2521\n",
      "HASH: 0.6\n",
      "Comparing MinHash signatures took 0.00sec\n",
      "UPDATING PARENT:  https://e-uprava.gov.si/drzava-in-druzba/javni-sektor/podrobnosti-institucije.html?id=1089\n"
     ]
    },
    {
     "name": "stderr",
     "output_type": "stream",
     "text": [
      "/home/viktor/anaconda3/envs/wier/lib/python3.6/site-packages/urllib3/connectionpool.py:1004: InsecureRequestWarning: Unverified HTTPS request is being made to host 'e-uprava.gov.si'. Adding certificate verification is strongly advised. See: https://urllib3.readthedocs.io/en/latest/advanced-usage.html#ssl-warnings\n",
      "  InsecureRequestWarning,\n",
      "/home/viktor/anaconda3/envs/wier/lib/python3.6/site-packages/urllib3/connectionpool.py:1004: InsecureRequestWarning: Unverified HTTPS request is being made to host 'e-uprava.gov.si'. Adding certificate verification is strongly advised. See: https://urllib3.readthedocs.io/en/latest/advanced-usage.html#ssl-warnings\n",
      "  InsecureRequestWarning,\n",
      "/home/viktor/anaconda3/envs/wier/lib/python3.6/site-packages/urllib3/connectionpool.py:1004: InsecureRequestWarning: Unverified HTTPS request is being made to host 'e-uprava.gov.si'. Adding certificate verification is strongly advised. See: https://urllib3.readthedocs.io/en/latest/advanced-usage.html#ssl-warnings\n",
      "  InsecureRequestWarning,\n",
      "/home/viktor/anaconda3/envs/wier/lib/python3.6/site-packages/urllib3/connectionpool.py:1004: InsecureRequestWarning: Unverified HTTPS request is being made to host 'e-uprava.gov.si'. Adding certificate verification is strongly advised. See: https://urllib3.readthedocs.io/en/latest/advanced-usage.html#ssl-warnings\n",
      "  InsecureRequestWarning,\n"
     ]
    },
    {
     "name": "stdout",
     "output_type": "stream",
     "text": [
      "HASH: 0.8\n",
      "Comparing MinHash signatures took 0.01sec\n",
      "HASH: 0.5\n",
      "Comparing MinHash signatures took 0.00sec\n",
      "UPDATING PARENT:  https://e-uprava.gov.si/drzava-in-druzba/javni-sektor/podrobnosti-institucije.html?id=1082\n",
      "UPDATING PARENT:  https://e-uprava.gov.si/drzava-in-druzba/javni-sektor/podrobnosti-institucije.html?id=1080\n",
      "HASH: 0.6\n",
      "Comparing MinHash signatures took 0.00sec\n",
      "UPDATING PARENT:  https://e-uprava.gov.si/drzava-in-druzba/javni-sektor/podrobnosti-institucije.html?id=2042\n"
     ]
    },
    {
     "name": "stderr",
     "output_type": "stream",
     "text": [
      "/home/viktor/anaconda3/envs/wier/lib/python3.6/site-packages/urllib3/connectionpool.py:1004: InsecureRequestWarning: Unverified HTTPS request is being made to host 'e-uprava.gov.si'. Adding certificate verification is strongly advised. See: https://urllib3.readthedocs.io/en/latest/advanced-usage.html#ssl-warnings\n",
      "  InsecureRequestWarning,\n",
      "/home/viktor/anaconda3/envs/wier/lib/python3.6/site-packages/urllib3/connectionpool.py:1004: InsecureRequestWarning: Unverified HTTPS request is being made to host 'e-uprava.gov.si'. Adding certificate verification is strongly advised. See: https://urllib3.readthedocs.io/en/latest/advanced-usage.html#ssl-warnings\n",
      "  InsecureRequestWarning,\n",
      "/home/viktor/anaconda3/envs/wier/lib/python3.6/site-packages/urllib3/connectionpool.py:1004: InsecureRequestWarning: Unverified HTTPS request is being made to host 'e-uprava.gov.si'. Adding certificate verification is strongly advised. See: https://urllib3.readthedocs.io/en/latest/advanced-usage.html#ssl-warnings\n",
      "  InsecureRequestWarning,\n",
      "/home/viktor/anaconda3/envs/wier/lib/python3.6/site-packages/urllib3/connectionpool.py:1004: InsecureRequestWarning: Unverified HTTPS request is being made to host 'e-uprava.gov.si'. Adding certificate verification is strongly advised. See: https://urllib3.readthedocs.io/en/latest/advanced-usage.html#ssl-warnings\n",
      "  InsecureRequestWarning,\n"
     ]
    },
    {
     "name": "stdout",
     "output_type": "stream",
     "text": [
      "HASH: 0.8\n",
      "Comparing MinHash signatures took 0.00sec\n",
      "HASH: 0.0\n",
      "Comparing MinHash signatures took 0.00sec\n",
      "UPDATING PARENT:  https://e-uprava.gov.si/drzava-in-druzba/javni-sektor/podrobnosti-institucije.html?id=1965\n",
      "UPDATING PARENT:  https://e-uprava.gov.si/drzava-in-druzba/javni-sektor/podrobnosti-institucije.html?id=1125\n"
     ]
    },
    {
     "name": "stderr",
     "output_type": "stream",
     "text": [
      "/home/viktor/anaconda3/envs/wier/lib/python3.6/site-packages/urllib3/connectionpool.py:1004: InsecureRequestWarning: Unverified HTTPS request is being made to host 'e-uprava.gov.si'. Adding certificate verification is strongly advised. See: https://urllib3.readthedocs.io/en/latest/advanced-usage.html#ssl-warnings\n",
      "  InsecureRequestWarning,\n"
     ]
    },
    {
     "name": "stdout",
     "output_type": "stream",
     "text": [
      "Frontier len 58080\n",
      "Frontier len 58090\n",
      "Frontier len 58099\n",
      "Frontier len 58108\n",
      "Frontier len 58117\n",
      "Frontier len 58129\n",
      "Frontier len 58138\n",
      "Frontier len 58147\n",
      "Frontier len 58159\n",
      "Frontier len 58168\n",
      "Frontier len 58177\n",
      "Frontier len 58186\n",
      "\n",
      " ... executing workers ...\n",
      "\n",
      "Num sites: 7836, i: 8212\n",
      "Retrieving web page URL 'https://e-uprava.gov.si/drzava-in-druzba/javni-sektor/podrobnosti-institucije.html?id=1333'\n",
      "Retrieving web page URL 'https://e-uprava.gov.si/drzava-in-druzba/javni-sektor/podrobnosti-institucije.html?id=1308'\n",
      "Retrieving web page URL 'https://e-uprava.gov.si/drzava-in-druzba/javni-sektor/podrobnosti-institucije.html?id=1292'\n",
      "Retrieving web page URL 'https://e-uprava.gov.si/drzava-in-druzba/javni-sektor/podrobnosti-institucije.html?id=1517'\n",
      "Retrieving web page URL 'https://e-uprava.gov.si/drzava-in-druzba/javni-sektor/podrobnosti-institucije.html?id=1537'\n",
      "Retrieving web page URL 'https://e-uprava.gov.si/drzava-in-druzba/javni-sektor/podrobnosti-institucije.html?id=1264'\n",
      "Retrieving web page URL 'https://e-uprava.gov.si/drzava-in-druzba/javni-sektor/podrobnosti-institucije.html?id=2068'\n",
      "Retrieving web page URL 'https://e-uprava.gov.si/drzava-in-druzba/javni-sektor/podrobnosti-institucije.html?id=2018'\n",
      "Retrieving web page URL 'https://e-uprava.gov.si/drzava-in-druzba/javni-sektor/podrobnosti-institucije.html?id=1556'\n",
      "Retrieving web page URL 'https://e-uprava.gov.si/drzava-in-druzba/javni-sektor/podrobnosti-institucije.html?id=2524'\n",
      "Retrieving web page URL 'https://e-uprava.gov.si/drzava-in-druzba/javni-sektor/podrobnosti-institucije.html?id=13586'\n",
      "Retrieving web page URL 'https://e-uprava.gov.si/drzava-in-druzba/javni-sektor/podrobnosti-institucije.html?id=1306'\n",
      "HASH: 0.9\n",
      "Comparing MinHash signatures took 0.01sec\n",
      "HASH: 0.0\n",
      "Comparing MinHash signatures took 0.00sec\n",
      "UPDATING PARENT:  https://e-uprava.gov.si/drzava-in-druzba/javni-sektor/podrobnosti-institucije.html?id=1556\n",
      "UPDATING PARENT:  https://e-uprava.gov.si/drzava-in-druzba/javni-sektor/podrobnosti-institucije.html?id=2018\n",
      "HASH: 0.8\n",
      "Comparing MinHash signatures took 0.02sec\n"
     ]
    },
    {
     "name": "stderr",
     "output_type": "stream",
     "text": [
      "/home/viktor/anaconda3/envs/wier/lib/python3.6/site-packages/urllib3/connectionpool.py:1004: InsecureRequestWarning: Unverified HTTPS request is being made to host 'e-uprava.gov.si'. Adding certificate verification is strongly advised. See: https://urllib3.readthedocs.io/en/latest/advanced-usage.html#ssl-warnings\n",
      "  InsecureRequestWarning,\n",
      "/home/viktor/anaconda3/envs/wier/lib/python3.6/site-packages/urllib3/connectionpool.py:1004: InsecureRequestWarning: Unverified HTTPS request is being made to host 'e-uprava.gov.si'. Adding certificate verification is strongly advised. See: https://urllib3.readthedocs.io/en/latest/advanced-usage.html#ssl-warnings\n",
      "  InsecureRequestWarning,\n",
      "/home/viktor/anaconda3/envs/wier/lib/python3.6/site-packages/urllib3/connectionpool.py:1004: InsecureRequestWarning: Unverified HTTPS request is being made to host 'e-uprava.gov.si'. Adding certificate verification is strongly advised. See: https://urllib3.readthedocs.io/en/latest/advanced-usage.html#ssl-warnings\n",
      "  InsecureRequestWarning,\n",
      "/home/viktor/anaconda3/envs/wier/lib/python3.6/site-packages/urllib3/connectionpool.py:1004: InsecureRequestWarning: Unverified HTTPS request is being made to host 'e-uprava.gov.si'. Adding certificate verification is strongly advised. See: https://urllib3.readthedocs.io/en/latest/advanced-usage.html#ssl-warnings\n",
      "  InsecureRequestWarning,\n",
      "/home/viktor/anaconda3/envs/wier/lib/python3.6/site-packages/urllib3/connectionpool.py:1004: InsecureRequestWarning: Unverified HTTPS request is being made to host 'e-uprava.gov.si'. Adding certificate verification is strongly advised. See: https://urllib3.readthedocs.io/en/latest/advanced-usage.html#ssl-warnings\n",
      "  InsecureRequestWarning,\n"
     ]
    },
    {
     "name": "stdout",
     "output_type": "stream",
     "text": [
      "HASH: 0.0\n",
      "Comparing MinHash signatures took 0.02sec\n",
      "UPDATING PARENT:  https://e-uprava.gov.si/drzava-in-druzba/javni-sektor/podrobnosti-institucije.html?id=1308\n",
      "HASH: 0.8\n",
      "Comparing MinHash signatures took 0.01sec\n",
      "UPDATING PARENT:  https://e-uprava.gov.si/drzava-in-druzba/javni-sektor/podrobnosti-institucije.html?id=1537\n",
      "UPDATING PARENT:  https://e-uprava.gov.si/drzava-in-druzba/javni-sektor/podrobnosti-institucije.html?id=1292\n",
      "HASH: 0.0\n",
      "Comparing MinHash signatures took 0.01sec\n",
      "UPDATING PARENT:  https://e-uprava.gov.si/drzava-in-druzba/javni-sektor/podrobnosti-institucije.html?id=2068\n",
      "HASH: 0.6\n",
      "Comparing MinHash signatures took 0.01sec\n",
      "UPDATING PARENT:  https://e-uprava.gov.si/drzava-in-druzba/javni-sektor/podrobnosti-institucije.html?id=1333\n",
      "HASH: 0.8\n",
      "Comparing MinHash signatures took 0.01sec\n",
      "HASH: 0.1\n",
      "Comparing MinHash signatures took 0.01sec\n",
      "UPDATING PARENT:  https://e-uprava.gov.si/drzava-in-druzba/javni-sektor/podrobnosti-institucije.html?id=1517\n",
      "UPDATING PARENT:  https://e-uprava.gov.si/drzava-in-druzba/javni-sektor/podrobnosti-institucije.html?id=1264\n"
     ]
    },
    {
     "name": "stderr",
     "output_type": "stream",
     "text": [
      "/home/viktor/anaconda3/envs/wier/lib/python3.6/site-packages/urllib3/connectionpool.py:1004: InsecureRequestWarning: Unverified HTTPS request is being made to host 'e-uprava.gov.si'. Adding certificate verification is strongly advised. See: https://urllib3.readthedocs.io/en/latest/advanced-usage.html#ssl-warnings\n",
      "  InsecureRequestWarning,\n",
      "/home/viktor/anaconda3/envs/wier/lib/python3.6/site-packages/urllib3/connectionpool.py:1004: InsecureRequestWarning: Unverified HTTPS request is being made to host 'e-uprava.gov.si'. Adding certificate verification is strongly advised. See: https://urllib3.readthedocs.io/en/latest/advanced-usage.html#ssl-warnings\n",
      "  InsecureRequestWarning,\n",
      "/home/viktor/anaconda3/envs/wier/lib/python3.6/site-packages/urllib3/connectionpool.py:1004: InsecureRequestWarning: Unverified HTTPS request is being made to host 'e-uprava.gov.si'. Adding certificate verification is strongly advised. See: https://urllib3.readthedocs.io/en/latest/advanced-usage.html#ssl-warnings\n",
      "  InsecureRequestWarning,\n",
      "/home/viktor/anaconda3/envs/wier/lib/python3.6/site-packages/urllib3/connectionpool.py:1004: InsecureRequestWarning: Unverified HTTPS request is being made to host 'e-uprava.gov.si'. Adding certificate verification is strongly advised. See: https://urllib3.readthedocs.io/en/latest/advanced-usage.html#ssl-warnings\n",
      "  InsecureRequestWarning,\n",
      "/home/viktor/anaconda3/envs/wier/lib/python3.6/site-packages/urllib3/connectionpool.py:1004: InsecureRequestWarning: Unverified HTTPS request is being made to host 'e-uprava.gov.si'. Adding certificate verification is strongly advised. See: https://urllib3.readthedocs.io/en/latest/advanced-usage.html#ssl-warnings\n",
      "  InsecureRequestWarning,\n"
     ]
    },
    {
     "name": "stdout",
     "output_type": "stream",
     "text": [
      "HASH: 0.9\n",
      "Comparing MinHash signatures took 0.01sec\n",
      "UPDATING PARENT:  https://e-uprava.gov.si/drzava-in-druzba/javni-sektor/podrobnosti-institucije.html?id=13586\n",
      "HASH: 0.0\n",
      "Comparing MinHash signatures took 0.00sec\n",
      "UPDATING PARENT:  https://e-uprava.gov.si/drzava-in-druzba/javni-sektor/podrobnosti-institucije.html?id=1306\n"
     ]
    },
    {
     "name": "stderr",
     "output_type": "stream",
     "text": [
      "/home/viktor/anaconda3/envs/wier/lib/python3.6/site-packages/urllib3/connectionpool.py:1004: InsecureRequestWarning: Unverified HTTPS request is being made to host 'e-uprava.gov.si'. Adding certificate verification is strongly advised. See: https://urllib3.readthedocs.io/en/latest/advanced-usage.html#ssl-warnings\n",
      "  InsecureRequestWarning,\n",
      "/home/viktor/anaconda3/envs/wier/lib/python3.6/site-packages/urllib3/connectionpool.py:1004: InsecureRequestWarning: Unverified HTTPS request is being made to host 'e-uprava.gov.si'. Adding certificate verification is strongly advised. See: https://urllib3.readthedocs.io/en/latest/advanced-usage.html#ssl-warnings\n",
      "  InsecureRequestWarning,\n"
     ]
    },
    {
     "name": "stdout",
     "output_type": "stream",
     "text": [
      "HASH: 1.0\n",
      "Comparing MinHash signatures took 0.00sec\n",
      "UPDATING PARENT:  https://e-uprava.gov.si/drzava-in-druzba/javni-sektor/podrobnosti-institucije.html?id=2524\n",
      "Frontier len 58195\n",
      "Frontier len 58204\n",
      "Frontier len 58213\n",
      "Frontier len 58223\n",
      "Frontier len 58232\n",
      "Frontier len 58241\n",
      "Frontier len 58250\n",
      "Frontier len 58259\n",
      "Frontier len 58269\n",
      "Frontier len 58278\n",
      "Frontier len 58287\n",
      "Frontier len 58296\n",
      "\n",
      " ... executing workers ...\n",
      "\n",
      "Num sites: 7848, i: 8224\n",
      "Retrieving web page URL 'https://e-uprava.gov.si/drzava-in-druzba/javni-sektor/podrobnosti-institucije.html?id=1392'\n",
      "Retrieving web page URL 'https://e-uprava.gov.si/drzava-in-druzba/javni-sektor/podrobnosti-institucije.html?id=1490'\n",
      "Retrieving web page URL 'https://e-uprava.gov.si/drzava-in-druzba/javni-sektor/podrobnosti-institucije.html?id=1489'\n",
      "Retrieving web page URL 'https://e-uprava.gov.si/drzava-in-druzba/javni-sektor/podrobnosti-institucije.html?id=1756'\n",
      "Retrieving web page URL 'https://e-uprava.gov.si/drzava-in-druzba/javni-sektor/podrobnosti-institucije.html?id=13604'\n",
      "Retrieving web page URL 'https://e-uprava.gov.si/drzava-in-druzba/javni-sektor/podrobnosti-institucije.html?id=1447'Retrieving web page URL 'https://e-uprava.gov.si/drzava-in-druzba/javni-sektor/podrobnosti-institucije.html?id=1380'\n",
      "Retrieving web page URL 'https://e-uprava.gov.si/drzava-in-druzba/javni-sektor/podrobnosti-institucije.html?id=2017'\n",
      "\n",
      "Retrieving web page URL 'https://e-uprava.gov.si/drzava-in-druzba/javni-sektor/podrobnosti-institucije.html?id=1189'\n",
      "Retrieving web page URL 'https://e-uprava.gov.si/drzava-in-druzba/javni-sektor/podrobnosti-institucije.html?id=5'\n",
      "Retrieving web page URL 'https://e-uprava.gov.si/drzava-in-druzba/javni-sektor/podrobnosti-institucije.html?id=1359'\n",
      "Retrieving web page URL 'https://e-uprava.gov.si/drzava-in-druzba/javni-sektor/podrobnosti-institucije.html?id=2760'\n",
      "HASH: 0.0\n",
      "Comparing MinHash signatures took 0.01sec\n",
      "UPDATING PARENT:  https://e-uprava.gov.si/drzava-in-druzba/javni-sektor/podrobnosti-institucije.html?id=1392\n"
     ]
    },
    {
     "name": "stderr",
     "output_type": "stream",
     "text": [
      "/home/viktor/anaconda3/envs/wier/lib/python3.6/site-packages/urllib3/connectionpool.py:1004: InsecureRequestWarning: Unverified HTTPS request is being made to host 'e-uprava.gov.si'. Adding certificate verification is strongly advised. See: https://urllib3.readthedocs.io/en/latest/advanced-usage.html#ssl-warnings\n",
      "  InsecureRequestWarning,\n"
     ]
    },
    {
     "name": "stdout",
     "output_type": "stream",
     "text": [
      "HASH: 0.8\n",
      "Comparing MinHash signatures took 0.00sec\n",
      "UPDATING PARENT:  https://e-uprava.gov.si/drzava-in-druzba/javni-sektor/podrobnosti-institucije.html?id=1189\n",
      "HASH: 0.0\n",
      "Comparing MinHash signatures took 0.00sec\n",
      "UPDATING PARENT:  https://e-uprava.gov.si/drzava-in-druzba/javni-sektor/podrobnosti-institucije.html?id=13604\n"
     ]
    },
    {
     "name": "stderr",
     "output_type": "stream",
     "text": [
      "/home/viktor/anaconda3/envs/wier/lib/python3.6/site-packages/urllib3/connectionpool.py:1004: InsecureRequestWarning: Unverified HTTPS request is being made to host 'e-uprava.gov.si'. Adding certificate verification is strongly advised. See: https://urllib3.readthedocs.io/en/latest/advanced-usage.html#ssl-warnings\n",
      "  InsecureRequestWarning,\n",
      "/home/viktor/anaconda3/envs/wier/lib/python3.6/site-packages/urllib3/connectionpool.py:1004: InsecureRequestWarning: Unverified HTTPS request is being made to host 'e-uprava.gov.si'. Adding certificate verification is strongly advised. See: https://urllib3.readthedocs.io/en/latest/advanced-usage.html#ssl-warnings\n",
      "  InsecureRequestWarning,\n"
     ]
    },
    {
     "name": "stdout",
     "output_type": "stream",
     "text": [
      "HASH: 0.8\n",
      "Comparing MinHash signatures took 0.01sec\n",
      "UPDATING PARENT:  https://e-uprava.gov.si/drzava-in-druzba/javni-sektor/podrobnosti-institucije.html?id=1380\n"
     ]
    },
    {
     "name": "stderr",
     "output_type": "stream",
     "text": [
      "/home/viktor/anaconda3/envs/wier/lib/python3.6/site-packages/urllib3/connectionpool.py:1004: InsecureRequestWarning: Unverified HTTPS request is being made to host 'e-uprava.gov.si'. Adding certificate verification is strongly advised. See: https://urllib3.readthedocs.io/en/latest/advanced-usage.html#ssl-warnings\n",
      "  InsecureRequestWarning,\n"
     ]
    },
    {
     "name": "stdout",
     "output_type": "stream",
     "text": [
      "HASH: 0.0\n",
      "Comparing MinHash signatures took 0.01sec\n",
      "UPDATING PARENT:  https://e-uprava.gov.si/drzava-in-druzba/javni-sektor/podrobnosti-institucije.html?id=1489\n",
      "HASH: 0.6\n",
      "Comparing MinHash signatures took 0.01sec\n",
      "UPDATING PARENT:  https://e-uprava.gov.si/drzava-in-druzba/javni-sektor/podrobnosti-institucije.html?id=1756\n"
     ]
    },
    {
     "name": "stderr",
     "output_type": "stream",
     "text": [
      "/home/viktor/anaconda3/envs/wier/lib/python3.6/site-packages/urllib3/connectionpool.py:1004: InsecureRequestWarning: Unverified HTTPS request is being made to host 'e-uprava.gov.si'. Adding certificate verification is strongly advised. See: https://urllib3.readthedocs.io/en/latest/advanced-usage.html#ssl-warnings\n",
      "  InsecureRequestWarning,\n"
     ]
    },
    {
     "name": "stdout",
     "output_type": "stream",
     "text": [
      "HASH: 0.9\n",
      "Comparing MinHash signatures took 0.01sec\n",
      "HASH: 0.0\n",
      "Comparing MinHash signatures took 0.01sec\n",
      "UPDATING PARENT:  https://e-uprava.gov.si/drzava-in-druzba/javni-sektor/podrobnosti-institucije.html?id=1490\n",
      "UPDATING PARENT:  https://e-uprava.gov.si/drzava-in-druzba/javni-sektor/podrobnosti-institucije.html?id=1447\n",
      "HASH: 0.7\n",
      "Comparing MinHash signatures took 0.00sec\n",
      "UPDATING PARENT:  https://e-uprava.gov.si/drzava-in-druzba/javni-sektor/podrobnosti-institucije.html?id=2017\n"
     ]
    },
    {
     "name": "stderr",
     "output_type": "stream",
     "text": [
      "/home/viktor/anaconda3/envs/wier/lib/python3.6/site-packages/urllib3/connectionpool.py:1004: InsecureRequestWarning: Unverified HTTPS request is being made to host 'e-uprava.gov.si'. Adding certificate verification is strongly advised. See: https://urllib3.readthedocs.io/en/latest/advanced-usage.html#ssl-warnings\n",
      "  InsecureRequestWarning,\n",
      "/home/viktor/anaconda3/envs/wier/lib/python3.6/site-packages/urllib3/connectionpool.py:1004: InsecureRequestWarning: Unverified HTTPS request is being made to host 'e-uprava.gov.si'. Adding certificate verification is strongly advised. See: https://urllib3.readthedocs.io/en/latest/advanced-usage.html#ssl-warnings\n",
      "  InsecureRequestWarning,\n",
      "/home/viktor/anaconda3/envs/wier/lib/python3.6/site-packages/urllib3/connectionpool.py:1004: InsecureRequestWarning: Unverified HTTPS request is being made to host 'e-uprava.gov.si'. Adding certificate verification is strongly advised. See: https://urllib3.readthedocs.io/en/latest/advanced-usage.html#ssl-warnings\n",
      "  InsecureRequestWarning,\n",
      "/home/viktor/anaconda3/envs/wier/lib/python3.6/site-packages/urllib3/connectionpool.py:1004: InsecureRequestWarning: Unverified HTTPS request is being made to host 'e-uprava.gov.si'. Adding certificate verification is strongly advised. See: https://urllib3.readthedocs.io/en/latest/advanced-usage.html#ssl-warnings\n",
      "  InsecureRequestWarning,\n"
     ]
    },
    {
     "name": "stdout",
     "output_type": "stream",
     "text": [
      "HASH: 0.8\n",
      "Comparing MinHash signatures took 0.01sec\n",
      "HASH: 0.6\n",
      "Comparing MinHash signatures took 0.00sec\n",
      "UPDATING PARENT:  https://e-uprava.gov.si/drzava-in-druzba/javni-sektor/podrobnosti-institucije.html?id=1359\n",
      "UPDATING PARENT:  https://e-uprava.gov.si/drzava-in-druzba/javni-sektor/podrobnosti-institucije.html?id=5\n",
      "HASH: 0.8\n",
      "Comparing MinHash signatures took 0.00sec\n",
      "UPDATING PARENT:  https://e-uprava.gov.si/drzava-in-druzba/javni-sektor/podrobnosti-institucije.html?id=2760\n"
     ]
    },
    {
     "name": "stderr",
     "output_type": "stream",
     "text": [
      "/home/viktor/anaconda3/envs/wier/lib/python3.6/site-packages/urllib3/connectionpool.py:1004: InsecureRequestWarning: Unverified HTTPS request is being made to host 'e-uprava.gov.si'. Adding certificate verification is strongly advised. See: https://urllib3.readthedocs.io/en/latest/advanced-usage.html#ssl-warnings\n",
      "  InsecureRequestWarning,\n",
      "/home/viktor/anaconda3/envs/wier/lib/python3.6/site-packages/urllib3/connectionpool.py:1004: InsecureRequestWarning: Unverified HTTPS request is being made to host 'e-uprava.gov.si'. Adding certificate verification is strongly advised. See: https://urllib3.readthedocs.io/en/latest/advanced-usage.html#ssl-warnings\n",
      "  InsecureRequestWarning,\n",
      "/home/viktor/anaconda3/envs/wier/lib/python3.6/site-packages/urllib3/connectionpool.py:1004: InsecureRequestWarning: Unverified HTTPS request is being made to host 'e-uprava.gov.si'. Adding certificate verification is strongly advised. See: https://urllib3.readthedocs.io/en/latest/advanced-usage.html#ssl-warnings\n",
      "  InsecureRequestWarning,\n"
     ]
    },
    {
     "name": "stdout",
     "output_type": "stream",
     "text": [
      "Frontier len 58305\n",
      "Frontier len 58314\n",
      "Frontier len 58323\n",
      "Frontier len 58334\n",
      "Frontier len 58344\n",
      "Frontier len 58353\n",
      "Frontier len 58362\n",
      "Frontier len 58371\n",
      "Frontier len 58380\n",
      "Frontier len 58389\n",
      "Frontier len 58398\n",
      "Frontier len 58409\n",
      "\n",
      " ... executing workers ...\n",
      "\n",
      "Num sites: 7860, i: 8236\n",
      "Retrieving web page URL 'https://e-uprava.gov.si/drzava-in-druzba/javni-sektor/podrobnosti-institucije.html?id=13585'\n",
      "Retrieving web page URL 'https://e-uprava.gov.si/drzava-in-druzba/javni-sektor/podrobnosti-institucije.html?id=2737'\n",
      "Retrieving web page URL 'https://e-uprava.gov.si/drzava-in-druzba/javni-sektor/podrobnosti-institucije.html?id=2009'\n",
      "Retrieving web page URL 'https://e-uprava.gov.si/drzava-in-druzba/javni-sektor/podrobnosti-institucije.html?id=9'\n",
      "Retrieving web page URL 'https://e-uprava.gov.si/drzava-in-druzba/javni-sektor/podrobnosti-institucije.html?id=1437'\n",
      "Retrieving web page URL 'https://e-uprava.gov.si/drzava-in-druzba/javni-sektor/podrobnosti-institucije.html?id=13592'\n",
      "Retrieving web page URL 'https://e-uprava.gov.si/drzava-in-druzba/javni-sektor/podrobnosti-institucije.html?id=1038'\n",
      "Retrieving web page URL 'https://e-uprava.gov.si/drzava-in-druzba/javni-sektor/podrobnosti-institucije.html?id=2067'\n",
      "Retrieving web page URL 'https://e-uprava.gov.si/drzava-in-druzba/javni-sektor/podrobnosti-institucije.html?id=1404'\n",
      "Retrieving web page URL 'https://e-uprava.gov.si/drzava-in-druzba/javni-sektor/podrobnosti-institucije.html?id=13593'\n",
      "Retrieving web page URL 'https://e-uprava.gov.si/drzava-in-druzba/javni-sektor/podrobnosti-institucije.html?id=2026'\n",
      "Retrieving web page URL 'https://e-uprava.gov.si/drzava-in-druzba/javni-sektor/podrobnosti-institucije.html?id=1415'\n",
      "HASH: 0.0\n",
      "Comparing MinHash signatures took 0.01sec\n",
      "UPDATING PARENT:  https://e-uprava.gov.si/drzava-in-druzba/javni-sektor/podrobnosti-institucije.html?id=2009\n",
      "HASH: 0.8\n",
      "Comparing MinHash signatures took 0.00sec\n",
      "UPDATING PARENT:  https://e-uprava.gov.si/drzava-in-druzba/javni-sektor/podrobnosti-institucije.html?id=9\n"
     ]
    },
    {
     "name": "stderr",
     "output_type": "stream",
     "text": [
      "/home/viktor/anaconda3/envs/wier/lib/python3.6/site-packages/urllib3/connectionpool.py:1004: InsecureRequestWarning: Unverified HTTPS request is being made to host 'e-uprava.gov.si'. Adding certificate verification is strongly advised. See: https://urllib3.readthedocs.io/en/latest/advanced-usage.html#ssl-warnings\n",
      "  InsecureRequestWarning,\n",
      "/home/viktor/anaconda3/envs/wier/lib/python3.6/site-packages/urllib3/connectionpool.py:1004: InsecureRequestWarning: Unverified HTTPS request is being made to host 'e-uprava.gov.si'. Adding certificate verification is strongly advised. See: https://urllib3.readthedocs.io/en/latest/advanced-usage.html#ssl-warnings\n",
      "  InsecureRequestWarning,\n"
     ]
    },
    {
     "name": "stdout",
     "output_type": "stream",
     "text": [
      "HASH: 0.8\n",
      "Comparing MinHash signatures took 0.00sec\n",
      "HASH: 0.0\n",
      "Comparing MinHash signatures took 0.00sec\n",
      "UPDATING PARENT:  https://e-uprava.gov.si/drzava-in-druzba/javni-sektor/podrobnosti-institucije.html?id=2737\n",
      "UPDATING PARENT:  https://e-uprava.gov.si/drzava-in-druzba/javni-sektor/podrobnosti-institucije.html?id=1038\n",
      "HASH: 0.7\n"
     ]
    },
    {
     "name": "stderr",
     "output_type": "stream",
     "text": [
      "/home/viktor/anaconda3/envs/wier/lib/python3.6/site-packages/urllib3/connectionpool.py:1004: InsecureRequestWarning: Unverified HTTPS request is being made to host 'e-uprava.gov.si'. Adding certificate verification is strongly advised. See: https://urllib3.readthedocs.io/en/latest/advanced-usage.html#ssl-warnings\n",
      "  InsecureRequestWarning,\n",
      "/home/viktor/anaconda3/envs/wier/lib/python3.6/site-packages/urllib3/connectionpool.py:1004: InsecureRequestWarning: Unverified HTTPS request is being made to host 'e-uprava.gov.si'. Adding certificate verification is strongly advised. See: https://urllib3.readthedocs.io/en/latest/advanced-usage.html#ssl-warnings\n",
      "  InsecureRequestWarning,\n",
      "/home/viktor/anaconda3/envs/wier/lib/python3.6/site-packages/urllib3/connectionpool.py:1004: InsecureRequestWarning: Unverified HTTPS request is being made to host 'e-uprava.gov.si'. Adding certificate verification is strongly advised. See: https://urllib3.readthedocs.io/en/latest/advanced-usage.html#ssl-warnings\n",
      "  InsecureRequestWarning,\n",
      "/home/viktor/anaconda3/envs/wier/lib/python3.6/site-packages/urllib3/connectionpool.py:1004: InsecureRequestWarning: Unverified HTTPS request is being made to host 'e-uprava.gov.si'. Adding certificate verification is strongly advised. See: https://urllib3.readthedocs.io/en/latest/advanced-usage.html#ssl-warnings\n",
      "  InsecureRequestWarning,\n"
     ]
    },
    {
     "name": "stdout",
     "output_type": "stream",
     "text": [
      "Comparing MinHash signatures took 0.02sec\n",
      "HASH: 0.8\n",
      "UPDATING PARENT: Comparing MinHash signatures took 0.01sec\n",
      " https://e-uprava.gov.si/drzava-in-druzba/javni-sektor/podrobnosti-institucije.html?id=13585\n",
      "UPDATING PARENT:  https://e-uprava.gov.si/drzava-in-druzba/javni-sektor/podrobnosti-institucije.html?id=13593\n",
      "HASH: 0.7\n",
      "Comparing MinHash signatures took 0.00sec\n",
      "UPDATING PARENT:  https://e-uprava.gov.si/drzava-in-druzba/javni-sektor/podrobnosti-institucije.html?id=1404\n"
     ]
    },
    {
     "name": "stderr",
     "output_type": "stream",
     "text": [
      "/home/viktor/anaconda3/envs/wier/lib/python3.6/site-packages/urllib3/connectionpool.py:1004: InsecureRequestWarning: Unverified HTTPS request is being made to host 'e-uprava.gov.si'. Adding certificate verification is strongly advised. See: https://urllib3.readthedocs.io/en/latest/advanced-usage.html#ssl-warnings\n",
      "  InsecureRequestWarning,\n",
      "/home/viktor/anaconda3/envs/wier/lib/python3.6/site-packages/urllib3/connectionpool.py:1004: InsecureRequestWarning: Unverified HTTPS request is being made to host 'e-uprava.gov.si'. Adding certificate verification is strongly advised. See: https://urllib3.readthedocs.io/en/latest/advanced-usage.html#ssl-warnings\n",
      "  InsecureRequestWarning,\n",
      "/home/viktor/anaconda3/envs/wier/lib/python3.6/site-packages/urllib3/connectionpool.py:1004: InsecureRequestWarning: Unverified HTTPS request is being made to host 'e-uprava.gov.si'. Adding certificate verification is strongly advised. See: https://urllib3.readthedocs.io/en/latest/advanced-usage.html#ssl-warnings\n",
      "  InsecureRequestWarning,\n",
      "/home/viktor/anaconda3/envs/wier/lib/python3.6/site-packages/urllib3/connectionpool.py:1004: InsecureRequestWarning: Unverified HTTPS request is being made to host 'e-uprava.gov.si'. Adding certificate verification is strongly advised. See: https://urllib3.readthedocs.io/en/latest/advanced-usage.html#ssl-warnings\n",
      "  InsecureRequestWarning,\n"
     ]
    },
    {
     "name": "stdout",
     "output_type": "stream",
     "text": [
      "HASH: 0.8\n",
      "Comparing MinHash signatures took 0.01sec\n",
      "HASH: 0.8\n",
      "Comparing MinHash signatures took 0.00sec\n",
      "UPDATING PARENT:  https://e-uprava.gov.si/drzava-in-druzba/javni-sektor/podrobnosti-institucije.html?id=1437\n",
      "HASH: 0.1\n",
      "Comparing MinHash signatures took 0.01sec\n",
      "UPDATING PARENT:  https://e-uprava.gov.si/drzava-in-druzba/javni-sektor/podrobnosti-institucije.html?id=2067\n",
      "UPDATING PARENT:  https://e-uprava.gov.si/drzava-in-druzba/javni-sektor/podrobnosti-institucije.html?id=13592\n",
      "HASH: 0.7\n",
      "Comparing MinHash signatures took 0.00sec\n",
      "UPDATING PARENT:  https://e-uprava.gov.si/drzava-in-druzba/javni-sektor/podrobnosti-institucije.html?id=2026\n"
     ]
    },
    {
     "name": "stderr",
     "output_type": "stream",
     "text": [
      "/home/viktor/anaconda3/envs/wier/lib/python3.6/site-packages/urllib3/connectionpool.py:1004: InsecureRequestWarning: Unverified HTTPS request is being made to host 'e-uprava.gov.si'. Adding certificate verification is strongly advised. See: https://urllib3.readthedocs.io/en/latest/advanced-usage.html#ssl-warnings\n",
      "  InsecureRequestWarning,\n"
     ]
    },
    {
     "name": "stdout",
     "output_type": "stream",
     "text": [
      "HASH: 0.9\n",
      "Comparing MinHash signatures took 0.00sec\n",
      "UPDATING PARENT:  https://e-uprava.gov.si/drzava-in-druzba/javni-sektor/podrobnosti-institucije.html?id=1415\n"
     ]
    },
    {
     "name": "stderr",
     "output_type": "stream",
     "text": [
      "/home/viktor/anaconda3/envs/wier/lib/python3.6/site-packages/urllib3/connectionpool.py:1004: InsecureRequestWarning: Unverified HTTPS request is being made to host 'e-uprava.gov.si'. Adding certificate verification is strongly advised. See: https://urllib3.readthedocs.io/en/latest/advanced-usage.html#ssl-warnings\n",
      "  InsecureRequestWarning,\n"
     ]
    },
    {
     "name": "stdout",
     "output_type": "stream",
     "text": [
      "Frontier len 58418\n",
      "Frontier len 58427\n",
      "Frontier len 58436\n",
      "Frontier len 58445\n",
      "Frontier len 58454\n",
      "Frontier len 58463\n",
      "Frontier len 58472\n",
      "Frontier len 58481\n",
      "Frontier len 58490\n",
      "Frontier len 58499\n",
      "Frontier len 58512\n",
      "Frontier len 58521\n",
      "\n",
      " ... executing workers ...\n",
      "\n",
      "Num sites: 7872, i: 8248\n",
      "Retrieving web page URL 'https://e-uprava.gov.si/drzava-in-druzba/javni-sektor/podrobnosti-institucije.html?id=1248'\n",
      "Retrieving web page URL 'https://e-uprava.gov.si/drzava-in-druzba/javni-sektor/podrobnosti-institucije.html?id=13591'\n",
      "Retrieving web page URL 'https://e-uprava.gov.si/drzava-in-druzba/javni-sektor/podrobnosti-institucije.html?id=13602'\n",
      "Retrieving web page URL 'https://e-uprava.gov.si/drzava-in-druzba/javni-sektor/podrobnosti-institucije.html?id=786'\n",
      "Retrieving web page URL 'https://e-uprava.gov.si/drzava-in-druzba/javni-sektor/podrobnosti-institucije.html?id=13584'\n",
      "Retrieving web page URL 'https://e-uprava.gov.si/drzava-in-druzba/javni-sektor/podrobnosti-institucije.html?id=13588'\n",
      "Retrieving web page URL 'https://e-uprava.gov.si/drzava-in-druzba/javni-sektor/podrobnosti-institucije.html?id=13603'\n",
      "Retrieving web page URL 'https://e-uprava.gov.si/drzava-in-druzba/javni-sektor/podrobnosti-institucije.html?id=13594'Retrieving web page URL 'https://e-uprava.gov.si/drzava-in-druzba/javni-sektor/podrobnosti-institucije.html?id=1455'\n",
      "\n",
      "Retrieving web page URL 'https://e-uprava.gov.si/drzava-in-druzba/javni-sektor/podrobnosti-institucije.html?id=1183'\n",
      "Retrieving web page URL 'https://e-uprava.gov.si/drzava-in-druzba/javni-sektor/podrobnosti-institucije.html?id=13601'\n",
      "Retrieving web page URL 'https://e-uprava.gov.si/drzava-in-druzba/javni-sektor/podrobnosti-institucije.html?id=1519'\n",
      "HASH: 0.7\n",
      "Comparing MinHash signatures took 0.01sec\n",
      "UPDATING PARENT:  https://e-uprava.gov.si/drzava-in-druzba/javni-sektor/podrobnosti-institucije.html?id=13591\n"
     ]
    },
    {
     "name": "stderr",
     "output_type": "stream",
     "text": [
      "/home/viktor/anaconda3/envs/wier/lib/python3.6/site-packages/urllib3/connectionpool.py:1004: InsecureRequestWarning: Unverified HTTPS request is being made to host 'e-uprava.gov.si'. Adding certificate verification is strongly advised. See: https://urllib3.readthedocs.io/en/latest/advanced-usage.html#ssl-warnings\n",
      "  InsecureRequestWarning,\n"
     ]
    },
    {
     "name": "stdout",
     "output_type": "stream",
     "text": [
      "HASH: 0.8\n",
      "Comparing MinHash signatures took 0.00sec\n",
      "UPDATING PARENT:  https://e-uprava.gov.si/drzava-in-druzba/javni-sektor/podrobnosti-institucije.html?id=13603\n",
      "HASH: 0.0\n",
      "Comparing MinHash signatures took 0.00sec\n",
      "UPDATING PARENT:  https://e-uprava.gov.si/drzava-in-druzba/javni-sektor/podrobnosti-institucije.html?id=13594\n"
     ]
    },
    {
     "name": "stderr",
     "output_type": "stream",
     "text": [
      "/home/viktor/anaconda3/envs/wier/lib/python3.6/site-packages/urllib3/connectionpool.py:1004: InsecureRequestWarning: Unverified HTTPS request is being made to host 'e-uprava.gov.si'. Adding certificate verification is strongly advised. See: https://urllib3.readthedocs.io/en/latest/advanced-usage.html#ssl-warnings\n",
      "  InsecureRequestWarning,\n",
      "/home/viktor/anaconda3/envs/wier/lib/python3.6/site-packages/urllib3/connectionpool.py:1004: InsecureRequestWarning: Unverified HTTPS request is being made to host 'e-uprava.gov.si'. Adding certificate verification is strongly advised. See: https://urllib3.readthedocs.io/en/latest/advanced-usage.html#ssl-warnings\n",
      "  InsecureRequestWarning,\n"
     ]
    },
    {
     "name": "stdout",
     "output_type": "stream",
     "text": [
      "HASH: 0.8\n",
      "Comparing MinHash signatures took 0.00sec\n",
      "UPDATING PARENT:  https://e-uprava.gov.si/drzava-in-druzba/javni-sektor/podrobnosti-institucije.html?id=13588\n",
      "HASH: 0.7\n",
      "Comparing MinHash signatures took 0.01sec\n",
      "UPDATING PARENT:  https://e-uprava.gov.si/drzava-in-druzba/javni-sektor/podrobnosti-institucije.html?id=13602\n"
     ]
    },
    {
     "name": "stderr",
     "output_type": "stream",
     "text": [
      "/home/viktor/anaconda3/envs/wier/lib/python3.6/site-packages/urllib3/connectionpool.py:1004: InsecureRequestWarning: Unverified HTTPS request is being made to host 'e-uprava.gov.si'. Adding certificate verification is strongly advised. See: https://urllib3.readthedocs.io/en/latest/advanced-usage.html#ssl-warnings\n",
      "  InsecureRequestWarning,\n"
     ]
    },
    {
     "name": "stdout",
     "output_type": "stream",
     "text": [
      "HASH: 0.8\n",
      "Comparing MinHash signatures took 0.00sec\n",
      "UPDATING PARENT:  https://e-uprava.gov.si/drzava-in-druzba/javni-sektor/podrobnosti-institucije.html?id=13584\n",
      "HASH: 0.6\n",
      "Comparing MinHash signatures took 0.01sec\n",
      "HASH: 0.8\n",
      "Comparing MinHash signatures took 0.01sec\n",
      "UPDATING PARENT:  UPDATING PARENT:  https://e-uprava.gov.si/drzava-in-druzba/javni-sektor/podrobnosti-institucije.html?id=786\n"
     ]
    },
    {
     "name": "stderr",
     "output_type": "stream",
     "text": [
      "/home/viktor/anaconda3/envs/wier/lib/python3.6/site-packages/urllib3/connectionpool.py:1004: InsecureRequestWarning: Unverified HTTPS request is being made to host 'e-uprava.gov.si'. Adding certificate verification is strongly advised. See: https://urllib3.readthedocs.io/en/latest/advanced-usage.html#ssl-warnings\n",
      "  InsecureRequestWarning,\n",
      "/home/viktor/anaconda3/envs/wier/lib/python3.6/site-packages/urllib3/connectionpool.py:1004: InsecureRequestWarning: Unverified HTTPS request is being made to host 'e-uprava.gov.si'. Adding certificate verification is strongly advised. See: https://urllib3.readthedocs.io/en/latest/advanced-usage.html#ssl-warnings\n",
      "  InsecureRequestWarning,\n"
     ]
    },
    {
     "name": "stdout",
     "output_type": "stream",
     "text": [
      "https://e-uprava.gov.si/drzava-in-druzba/javni-sektor/podrobnosti-institucije.html?id=13601\n",
      "HASH: 0.8\n",
      "Comparing MinHash signatures took 0.01sec\n",
      "UPDATING PARENT:  https://e-uprava.gov.si/drzava-in-druzba/javni-sektor/podrobnosti-institucije.html?id=1248\n",
      "HASH: 0.9\n",
      "Comparing MinHash signatures took 0.00sec\n",
      "UPDATING PARENT:  https://e-uprava.gov.si/drzava-in-druzba/javni-sektor/podrobnosti-institucije.html?id=1455\n"
     ]
    },
    {
     "name": "stderr",
     "output_type": "stream",
     "text": [
      "/home/viktor/anaconda3/envs/wier/lib/python3.6/site-packages/urllib3/connectionpool.py:1004: InsecureRequestWarning: Unverified HTTPS request is being made to host 'e-uprava.gov.si'. Adding certificate verification is strongly advised. See: https://urllib3.readthedocs.io/en/latest/advanced-usage.html#ssl-warnings\n",
      "  InsecureRequestWarning,\n",
      "/home/viktor/anaconda3/envs/wier/lib/python3.6/site-packages/urllib3/connectionpool.py:1004: InsecureRequestWarning: Unverified HTTPS request is being made to host 'e-uprava.gov.si'. Adding certificate verification is strongly advised. See: https://urllib3.readthedocs.io/en/latest/advanced-usage.html#ssl-warnings\n",
      "  InsecureRequestWarning,\n",
      "/home/viktor/anaconda3/envs/wier/lib/python3.6/site-packages/urllib3/connectionpool.py:1004: InsecureRequestWarning: Unverified HTTPS request is being made to host 'e-uprava.gov.si'. Adding certificate verification is strongly advised. See: https://urllib3.readthedocs.io/en/latest/advanced-usage.html#ssl-warnings\n",
      "  InsecureRequestWarning,\n",
      "/home/viktor/anaconda3/envs/wier/lib/python3.6/site-packages/urllib3/connectionpool.py:1004: InsecureRequestWarning: Unverified HTTPS request is being made to host 'e-uprava.gov.si'. Adding certificate verification is strongly advised. See: https://urllib3.readthedocs.io/en/latest/advanced-usage.html#ssl-warnings\n",
      "  InsecureRequestWarning,\n"
     ]
    },
    {
     "name": "stdout",
     "output_type": "stream",
     "text": [
      "HASH: 0.3\n",
      "Comparing MinHash signatures took 0.00sec\n",
      "UPDATING PARENT:  https://e-uprava.gov.si/drzava-in-druzba/javni-sektor/podrobnosti-institucije.html?id=1519\n"
     ]
    },
    {
     "name": "stderr",
     "output_type": "stream",
     "text": [
      "/home/viktor/anaconda3/envs/wier/lib/python3.6/site-packages/urllib3/connectionpool.py:1004: InsecureRequestWarning: Unverified HTTPS request is being made to host 'e-uprava.gov.si'. Adding certificate verification is strongly advised. See: https://urllib3.readthedocs.io/en/latest/advanced-usage.html#ssl-warnings\n",
      "  InsecureRequestWarning,\n"
     ]
    },
    {
     "name": "stdout",
     "output_type": "stream",
     "text": [
      "HASH: 0.7\n",
      "Comparing MinHash signatures took 0.00sec\n",
      "UPDATING PARENT:  https://e-uprava.gov.si/drzava-in-druzba/javni-sektor/podrobnosti-institucije.html?id=1183\n"
     ]
    },
    {
     "name": "stderr",
     "output_type": "stream",
     "text": [
      "/home/viktor/anaconda3/envs/wier/lib/python3.6/site-packages/urllib3/connectionpool.py:1004: InsecureRequestWarning: Unverified HTTPS request is being made to host 'e-uprava.gov.si'. Adding certificate verification is strongly advised. See: https://urllib3.readthedocs.io/en/latest/advanced-usage.html#ssl-warnings\n",
      "  InsecureRequestWarning,\n"
     ]
    },
    {
     "name": "stdout",
     "output_type": "stream",
     "text": [
      "Frontier len 58530\n",
      "Frontier len 58539\n",
      "Frontier len 58548\n",
      "Frontier len 58557\n",
      "Frontier len 58566\n",
      "Frontier len 58575\n",
      "Frontier len 58584\n",
      "Frontier len 58596\n",
      "Frontier len 58605\n",
      "Frontier len 58614\n",
      "Frontier len 58631\n",
      "Frontier len 58646\n",
      "\n",
      " ... executing workers ...\n",
      "\n",
      "Num sites: 7884, i: 8260\n",
      "Retrieving web page URL 'https://e-uprava.gov.si/drzava-in-druzba/javni-sektor/podrobnosti-institucije.html?id=13542'\n",
      "Retrieving web page URL 'https://e-uprava.gov.si/drzava-in-druzba/javni-sektor/podrobnosti-institucije.html?id=711'\n",
      "Retrieving web page URL 'https://e-uprava.gov.si/drzava-in-druzba/javni-sektor/podrobnosti-institucije.html?id=1479'\n",
      "Retrieving web page URL 'https://e-uprava.gov.si/drzava-in-druzba/javni-sektor/podrobnosti-institucije.html?id=1764'\n",
      "Retrieving web page URL 'https://e-uprava.gov.si/drzava-in-druzba/javni-sektor/podrobnosti-institucije.html?id=12992'\n",
      "Retrieving web page URL 'https://e-uprava.gov.si/drzava-in-druzba/javni-sektor/podrobnosti-institucije.html?id=1155'\n",
      "Retrieving web page URL 'https://e-uprava.gov.si/drzava-in-druzba/javni-sektor/podrobnosti-institucije.html?id=2688'Retrieving web page URL 'https://e-uprava.gov.si/drzava-in-druzba/javni-sektor/podrobnosti-institucije.html?id=12957'\n",
      "\n",
      "Retrieving web page URL 'https://e-uprava.gov.si/drzava-in-druzba/javni-sektor/podrobnosti-institucije.html?id=2368'\n",
      "Retrieving web page URL 'https://e-uprava.gov.si/drzava-in-druzba/javni-sektor/podrobnosti-institucije.html?id=1329'\n",
      "Retrieving web page URL 'https://e-uprava.gov.si/drzava-in-druzba/javni-sektor/podrobnosti-institucije.html?id=2762'\n",
      "Retrieving web page URL 'https://e-uprava.gov.si/drzava-in-druzba/javni-sektor/podrobnosti-institucije.html?id=1148'\n",
      "HASH: 0.6\n",
      "Comparing MinHash signatures took 0.02sec\n",
      "UPDATING PARENT:  https://e-uprava.gov.si/drzava-in-druzba/javni-sektor/podrobnosti-institucije.html?id=13542\n"
     ]
    },
    {
     "name": "stderr",
     "output_type": "stream",
     "text": [
      "/home/viktor/anaconda3/envs/wier/lib/python3.6/site-packages/urllib3/connectionpool.py:1004: InsecureRequestWarning: Unverified HTTPS request is being made to host 'e-uprava.gov.si'. Adding certificate verification is strongly advised. See: https://urllib3.readthedocs.io/en/latest/advanced-usage.html#ssl-warnings\n",
      "  InsecureRequestWarning,\n"
     ]
    },
    {
     "name": "stdout",
     "output_type": "stream",
     "text": [
      "HASH: 0.9\n",
      "Comparing MinHash signatures took 0.02sec\n",
      "UPDATING PARENT:  https://e-uprava.gov.si/drzava-in-druzba/javni-sektor/podrobnosti-institucije.html?id=2762\n"
     ]
    },
    {
     "name": "stderr",
     "output_type": "stream",
     "text": [
      "/home/viktor/anaconda3/envs/wier/lib/python3.6/site-packages/urllib3/connectionpool.py:1004: InsecureRequestWarning: Unverified HTTPS request is being made to host 'e-uprava.gov.si'. Adding certificate verification is strongly advised. See: https://urllib3.readthedocs.io/en/latest/advanced-usage.html#ssl-warnings\n",
      "  InsecureRequestWarning,\n"
     ]
    },
    {
     "name": "stdout",
     "output_type": "stream",
     "text": [
      "HASH: 0.9\n",
      "Comparing MinHash signatures took 0.01sec\n",
      "UPDATING PARENT:  https://e-uprava.gov.si/drzava-in-druzba/javni-sektor/podrobnosti-institucije.html?id=1764\n"
     ]
    },
    {
     "name": "stderr",
     "output_type": "stream",
     "text": [
      "/home/viktor/anaconda3/envs/wier/lib/python3.6/site-packages/urllib3/connectionpool.py:1004: InsecureRequestWarning: Unverified HTTPS request is being made to host 'e-uprava.gov.si'. Adding certificate verification is strongly advised. See: https://urllib3.readthedocs.io/en/latest/advanced-usage.html#ssl-warnings\n",
      "  InsecureRequestWarning,\n"
     ]
    },
    {
     "name": "stdout",
     "output_type": "stream",
     "text": [
      "HASH: 0.8\n",
      "Comparing MinHash signatures took 0.00sec\n",
      "UPDATING PARENT:  https://e-uprava.gov.si/drzava-in-druzba/javni-sektor/podrobnosti-institucije.html?id=2688\n",
      "HASH: 0.0\n",
      "Comparing MinHash signatures took 0.01sec\n",
      "UPDATING PARENT:  https://e-uprava.gov.si/drzava-in-druzba/javni-sektor/podrobnosti-institucije.html?id=2368\n",
      "HASH: 1.0\n",
      "Comparing MinHash signatures took 0.00sec\n",
      "UPDATING PARENT:  https://e-uprava.gov.si/drzava-in-druzba/javni-sektor/podrobnosti-institucije.html?id=12992\n"
     ]
    },
    {
     "name": "stderr",
     "output_type": "stream",
     "text": [
      "/home/viktor/anaconda3/envs/wier/lib/python3.6/site-packages/urllib3/connectionpool.py:1004: InsecureRequestWarning: Unverified HTTPS request is being made to host 'e-uprava.gov.si'. Adding certificate verification is strongly advised. See: https://urllib3.readthedocs.io/en/latest/advanced-usage.html#ssl-warnings\n",
      "  InsecureRequestWarning,\n",
      "/home/viktor/anaconda3/envs/wier/lib/python3.6/site-packages/urllib3/connectionpool.py:1004: InsecureRequestWarning: Unverified HTTPS request is being made to host 'e-uprava.gov.si'. Adding certificate verification is strongly advised. See: https://urllib3.readthedocs.io/en/latest/advanced-usage.html#ssl-warnings\n",
      "  InsecureRequestWarning,\n",
      "/home/viktor/anaconda3/envs/wier/lib/python3.6/site-packages/urllib3/connectionpool.py:1004: InsecureRequestWarning: Unverified HTTPS request is being made to host 'e-uprava.gov.si'. Adding certificate verification is strongly advised. See: https://urllib3.readthedocs.io/en/latest/advanced-usage.html#ssl-warnings\n",
      "  InsecureRequestWarning,\n"
     ]
    },
    {
     "name": "stdout",
     "output_type": "stream",
     "text": [
      "HASH: 0.1\n",
      "Comparing MinHash signatures took 0.00sec\n",
      "UPDATING PARENT:  https://e-uprava.gov.si/drzava-in-druzba/javni-sektor/podrobnosti-institucije.html?id=1479\n",
      "HASH: 1.0\n",
      "Comparing MinHash signatures took 0.01sec\n",
      "HASH: 0.1\n",
      "Comparing MinHash signatures took 0.00sec\n",
      "UPDATING PARENT: "
     ]
    },
    {
     "name": "stderr",
     "output_type": "stream",
     "text": [
      "/home/viktor/anaconda3/envs/wier/lib/python3.6/site-packages/urllib3/connectionpool.py:1004: InsecureRequestWarning: Unverified HTTPS request is being made to host 'e-uprava.gov.si'. Adding certificate verification is strongly advised. See: https://urllib3.readthedocs.io/en/latest/advanced-usage.html#ssl-warnings\n",
      "  InsecureRequestWarning,\n"
     ]
    },
    {
     "name": "stdout",
     "output_type": "stream",
     "text": [
      " https://e-uprava.gov.si/drzava-in-druzba/javni-sektor/podrobnosti-institucije.html?id=12957\n",
      "HASH: 0.9\n",
      "Comparing MinHash signatures took 0.00sec\n",
      "UPDATING PARENT:  https://e-uprava.gov.si/drzava-in-druzba/javni-sektor/podrobnosti-institucije.html?id=1155\n",
      "UPDATING PARENT:  https://e-uprava.gov.si/drzava-in-druzba/javni-sektor/podrobnosti-institucije.html?id=1329\n",
      "HASH: 0.1\n",
      "Comparing MinHash signatures took 0.00sec\n",
      "UPDATING PARENT:  https://e-uprava.gov.si/drzava-in-druzba/javni-sektor/podrobnosti-institucije.html?id=1148\n"
     ]
    },
    {
     "name": "stderr",
     "output_type": "stream",
     "text": [
      "/home/viktor/anaconda3/envs/wier/lib/python3.6/site-packages/urllib3/connectionpool.py:1004: InsecureRequestWarning: Unverified HTTPS request is being made to host 'e-uprava.gov.si'. Adding certificate verification is strongly advised. See: https://urllib3.readthedocs.io/en/latest/advanced-usage.html#ssl-warnings\n",
      "  InsecureRequestWarning,\n",
      "/home/viktor/anaconda3/envs/wier/lib/python3.6/site-packages/urllib3/connectionpool.py:1004: InsecureRequestWarning: Unverified HTTPS request is being made to host 'e-uprava.gov.si'. Adding certificate verification is strongly advised. See: https://urllib3.readthedocs.io/en/latest/advanced-usage.html#ssl-warnings\n",
      "  InsecureRequestWarning,\n",
      "/home/viktor/anaconda3/envs/wier/lib/python3.6/site-packages/urllib3/connectionpool.py:1004: InsecureRequestWarning: Unverified HTTPS request is being made to host 'e-uprava.gov.si'. Adding certificate verification is strongly advised. See: https://urllib3.readthedocs.io/en/latest/advanced-usage.html#ssl-warnings\n",
      "  InsecureRequestWarning,\n",
      "/home/viktor/anaconda3/envs/wier/lib/python3.6/site-packages/urllib3/connectionpool.py:1004: InsecureRequestWarning: Unverified HTTPS request is being made to host 'e-uprava.gov.si'. Adding certificate verification is strongly advised. See: https://urllib3.readthedocs.io/en/latest/advanced-usage.html#ssl-warnings\n",
      "  InsecureRequestWarning,\n"
     ]
    },
    {
     "name": "stdout",
     "output_type": "stream",
     "text": [
      "HASH: 0.5\n",
      "Comparing MinHash signatures took 0.00sec\n",
      "UPDATING PARENT:  https://e-uprava.gov.si/drzava-in-druzba/javni-sektor/podrobnosti-institucije.html?id=711\n"
     ]
    },
    {
     "name": "stderr",
     "output_type": "stream",
     "text": [
      "/home/viktor/anaconda3/envs/wier/lib/python3.6/site-packages/urllib3/connectionpool.py:1004: InsecureRequestWarning: Unverified HTTPS request is being made to host 'e-uprava.gov.si'. Adding certificate verification is strongly advised. See: https://urllib3.readthedocs.io/en/latest/advanced-usage.html#ssl-warnings\n",
      "  InsecureRequestWarning,\n"
     ]
    },
    {
     "name": "stdout",
     "output_type": "stream",
     "text": [
      "Frontier len 58658\n",
      "Frontier len 58669\n",
      "Frontier len 58678\n",
      "Frontier len 58689\n",
      "Frontier len 58698\n",
      "Frontier len 58707\n",
      "Frontier len 58716\n",
      "Frontier len 58728\n",
      "Frontier len 58737\n",
      "Frontier len 58746\n",
      "Frontier len 58757\n",
      "Frontier len 58766\n",
      "\n",
      " ... executing workers ...\n",
      "\n",
      "Num sites: 7896, i: 8272\n",
      "Retrieving web page URL 'https://e-uprava.gov.si/drzava-in-druzba/javni-sektor/podrobnosti-institucije.html?id=1106'Retrieving web page URL 'https://e-uprava.gov.si/drzava-in-druzba/javni-sektor/podrobnosti-institucije.html?id=2104'\n",
      "\n",
      "Retrieving web page URL 'https://e-uprava.gov.si/drzava-in-druzba/javni-sektor/podrobnosti-institucije.html?id=12925'\n",
      "Retrieving web page URL 'https://e-uprava.gov.si/drzava-in-druzba/javni-sektor/podrobnosti-institucije.html?id=1696'\n",
      "Retrieving web page URL 'https://e-uprava.gov.si/drzava-in-druzba/javni-sektor/podrobnosti-institucije.html?id=12943'\n",
      "Retrieving web page URL 'https://e-uprava.gov.si/drzava-in-druzba/javni-sektor/podrobnosti-institucije.html?id=1135'\n",
      "Retrieving web page URL 'https://e-uprava.gov.si/drzava-in-druzba/javni-sektor/podrobnosti-institucije.html?id=12931'\n",
      "Retrieving web page URL 'https://e-uprava.gov.si/drzava-in-druzba/javni-sektor/podrobnosti-institucije.html?id=1271'\n",
      "Retrieving web page URL 'https://e-uprava.gov.si/drzava-in-druzba/javni-sektor/podrobnosti-institucije.html?id=2761'\n",
      "Retrieving web page URL 'https://e-uprava.gov.si/drzava-in-druzba/javni-sektor/podrobnosti-institucije.html?id=1044'\n",
      "Retrieving web page URL 'https://e-uprava.gov.si/drzava-in-druzba/javni-sektor/podrobnosti-institucije.html?id=1539'\n",
      "Retrieving web page URL 'https://e-uprava.gov.si/drzava-in-druzba/javni-sektor/podrobnosti-institucije.html?id=1188'\n",
      "HASH: 0.8\n",
      "Comparing MinHash signatures took 0.01sec\n",
      "UPDATING PARENT:  https://e-uprava.gov.si/drzava-in-druzba/javni-sektor/podrobnosti-institucije.html?id=1135\n"
     ]
    },
    {
     "name": "stderr",
     "output_type": "stream",
     "text": [
      "/home/viktor/anaconda3/envs/wier/lib/python3.6/site-packages/urllib3/connectionpool.py:1004: InsecureRequestWarning: Unverified HTTPS request is being made to host 'e-uprava.gov.si'. Adding certificate verification is strongly advised. See: https://urllib3.readthedocs.io/en/latest/advanced-usage.html#ssl-warnings\n",
      "  InsecureRequestWarning,\n"
     ]
    },
    {
     "name": "stdout",
     "output_type": "stream",
     "text": [
      "HASH: 0.1\n",
      "Comparing MinHash signatures took 0.04sec\n",
      "UPDATING PARENT:  https://e-uprava.gov.si/drzava-in-druzba/javni-sektor/podrobnosti-institucije.html?id=1696\n",
      "HASH: 0.9\n",
      "Comparing MinHash signatures took 0.03sec\n",
      "HASH: 0.0\n",
      "Comparing MinHash signatures took 0.00sec\n",
      "UPDATING PARENT:  https://e-uprava.gov.si/drzava-in-druzba/javni-sektor/podrobnosti-institucije.html?id=12931\n",
      "UPDATING PARENT:  https://e-uprava.gov.si/drzava-in-druzba/javni-sektor/podrobnosti-institucije.html?id=2761\n"
     ]
    },
    {
     "name": "stderr",
     "output_type": "stream",
     "text": [
      "/home/viktor/anaconda3/envs/wier/lib/python3.6/site-packages/urllib3/connectionpool.py:1004: InsecureRequestWarning: Unverified HTTPS request is being made to host 'e-uprava.gov.si'. Adding certificate verification is strongly advised. See: https://urllib3.readthedocs.io/en/latest/advanced-usage.html#ssl-warnings\n",
      "  InsecureRequestWarning,\n",
      "/home/viktor/anaconda3/envs/wier/lib/python3.6/site-packages/urllib3/connectionpool.py:1004: InsecureRequestWarning: Unverified HTTPS request is being made to host 'e-uprava.gov.si'. Adding certificate verification is strongly advised. See: https://urllib3.readthedocs.io/en/latest/advanced-usage.html#ssl-warnings\n",
      "  InsecureRequestWarning,\n",
      "/home/viktor/anaconda3/envs/wier/lib/python3.6/site-packages/urllib3/connectionpool.py:1004: InsecureRequestWarning: Unverified HTTPS request is being made to host 'e-uprava.gov.si'. Adding certificate verification is strongly advised. See: https://urllib3.readthedocs.io/en/latest/advanced-usage.html#ssl-warnings\n",
      "  InsecureRequestWarning,\n"
     ]
    },
    {
     "name": "stdout",
     "output_type": "stream",
     "text": [
      "HASH: 1.0HASH: 0.9\n",
      "Comparing MinHash signatures took 0.02sec\n",
      "\n",
      "Comparing MinHash signatures took 0.01sec\n",
      "UPDATING PARENT:  https://e-uprava.gov.si/drzava-in-druzba/javni-sektor/podrobnosti-institucije.html?id=12943\n",
      "UPDATING PARENT:  https://e-uprava.gov.si/drzava-in-druzba/javni-sektor/podrobnosti-institucije.html?id=1106\n",
      "HASH: 0.1\n",
      "Comparing MinHash signatures took 0.00sec\n",
      "UPDATING PARENT:  https://e-uprava.gov.si/drzava-in-druzba/javni-sektor/podrobnosti-institucije.html?id=1044\n"
     ]
    },
    {
     "name": "stderr",
     "output_type": "stream",
     "text": [
      "/home/viktor/anaconda3/envs/wier/lib/python3.6/site-packages/urllib3/connectionpool.py:1004: InsecureRequestWarning: Unverified HTTPS request is being made to host 'e-uprava.gov.si'. Adding certificate verification is strongly advised. See: https://urllib3.readthedocs.io/en/latest/advanced-usage.html#ssl-warnings\n",
      "  InsecureRequestWarning,\n",
      "/home/viktor/anaconda3/envs/wier/lib/python3.6/site-packages/urllib3/connectionpool.py:1004: InsecureRequestWarning: Unverified HTTPS request is being made to host 'e-uprava.gov.si'. Adding certificate verification is strongly advised. See: https://urllib3.readthedocs.io/en/latest/advanced-usage.html#ssl-warnings\n",
      "  InsecureRequestWarning,\n",
      "/home/viktor/anaconda3/envs/wier/lib/python3.6/site-packages/urllib3/connectionpool.py:1004: InsecureRequestWarning: Unverified HTTPS request is being made to host 'e-uprava.gov.si'. Adding certificate verification is strongly advised. See: https://urllib3.readthedocs.io/en/latest/advanced-usage.html#ssl-warnings\n",
      "  InsecureRequestWarning,\n",
      "/home/viktor/anaconda3/envs/wier/lib/python3.6/site-packages/urllib3/connectionpool.py:1004: InsecureRequestWarning: Unverified HTTPS request is being made to host 'e-uprava.gov.si'. Adding certificate verification is strongly advised. See: https://urllib3.readthedocs.io/en/latest/advanced-usage.html#ssl-warnings\n",
      "  InsecureRequestWarning,\n"
     ]
    },
    {
     "name": "stdout",
     "output_type": "stream",
     "text": [
      "HASH: 0.4\n",
      "Comparing MinHash signatures took 0.00sec\n",
      "UPDATING PARENT:  https://e-uprava.gov.si/drzava-in-druzba/javni-sektor/podrobnosti-institucije.html?id=12925\n",
      "HASH: 0.5\n",
      "Comparing MinHash signatures took 0.01sec\n",
      "UPDATING PARENT:  https://e-uprava.gov.si/drzava-in-druzba/javni-sektor/podrobnosti-institucije.html?id=1271\n",
      "HASH: 0.9\n",
      "Comparing MinHash signatures took 0.00sec\n",
      "UPDATING PARENT:  https://e-uprava.gov.si/drzava-in-druzba/javni-sektor/podrobnosti-institucije.html?id=1188\n"
     ]
    },
    {
     "name": "stderr",
     "output_type": "stream",
     "text": [
      "/home/viktor/anaconda3/envs/wier/lib/python3.6/site-packages/urllib3/connectionpool.py:1004: InsecureRequestWarning: Unverified HTTPS request is being made to host 'e-uprava.gov.si'. Adding certificate verification is strongly advised. See: https://urllib3.readthedocs.io/en/latest/advanced-usage.html#ssl-warnings\n",
      "  InsecureRequestWarning,\n",
      "/home/viktor/anaconda3/envs/wier/lib/python3.6/site-packages/urllib3/connectionpool.py:1004: InsecureRequestWarning: Unverified HTTPS request is being made to host 'e-uprava.gov.si'. Adding certificate verification is strongly advised. See: https://urllib3.readthedocs.io/en/latest/advanced-usage.html#ssl-warnings\n",
      "  InsecureRequestWarning,\n",
      "/home/viktor/anaconda3/envs/wier/lib/python3.6/site-packages/urllib3/connectionpool.py:1004: InsecureRequestWarning: Unverified HTTPS request is being made to host 'e-uprava.gov.si'. Adding certificate verification is strongly advised. See: https://urllib3.readthedocs.io/en/latest/advanced-usage.html#ssl-warnings\n",
      "  InsecureRequestWarning,\n"
     ]
    },
    {
     "name": "stdout",
     "output_type": "stream",
     "text": [
      "HASH: 0.1\n",
      "Comparing MinHash signatures took 0.01sec\n",
      "UPDATING PARENT:  https://e-uprava.gov.si/drzava-in-druzba/javni-sektor/podrobnosti-institucije.html?id=1539\n",
      "Frontier len 58775\n",
      "Frontier len 58784\n",
      "Frontier len 58793\n",
      "Frontier len 58803\n",
      "Frontier len 58812\n",
      "Frontier len 58823\n",
      "Frontier len 58832\n",
      "Frontier len 58841\n",
      "Frontier len 58850\n",
      "Frontier len 58859\n",
      "Frontier len 58870\n",
      "wrong link: Message: Failed to decode response from marionette\n",
      "\n",
      "\n",
      " ... executing workers ...\n",
      "\n",
      "Num sites: 7907, i: 8284\n",
      "Retrieving web page URL 'https://e-uprava.gov.si/drzava-in-druzba/javni-sektor/podrobnosti-institucije.html?id=2628'\n",
      "Retrieving web page URL 'https://e-uprava.gov.si/drzava-in-druzba/javni-sektor/podrobnosti-institucije.html?id=2648'\n",
      "Retrieving web page URL 'https://e-uprava.gov.si/drzava-in-druzba/javni-sektor/podrobnosti-institucije.html?id=2687'\n",
      "Retrieving web page URL 'https://e-uprava.gov.si/drzava-in-druzba/javni-sektor/podrobnosti-institucije.html?id=1137'\n",
      "Retrieving web page URL 'https://e-uprava.gov.si/drzava-in-druzba/javni-sektor/podrobnosti-institucije.html?id=1844'\n",
      "Retrieving web page URL 'https://e-uprava.gov.si/drzava-in-druzba/javni-sektor/podrobnosti-institucije.html?id=1941'\n",
      "Retrieving web page URL 'https://e-uprava.gov.si/drzava-in-druzba/javni-sektor/podrobnosti-institucije.html?id=1277'\n",
      "Retrieving web page URL 'https://e-uprava.gov.si/drzava-in-druzba/javni-sektor/podrobnosti-institucije.html?id=1765'\n",
      "Retrieving web page URL 'https://e-uprava.gov.si/drzava-in-druzba/javni-sektor/podrobnosti-institucije.html?id=1157'\n",
      "Retrieving web page URL 'https://e-uprava.gov.si/drzava-in-druzba/javni-sektor/podrobnosti-institucije.html?id=1163'\n",
      "Retrieving web page URL 'https://e-uprava.gov.si/drzava-in-druzba/javni-sektor/podrobnosti-institucije.html?id=1480'\n",
      "Retrieving web page URL 'https://e-uprava.gov.si/drzava-in-druzba/javni-sektor/podrobnosti-institucije.html?id=1133'\n",
      "HASH: 0.9\n",
      "Comparing MinHash signatures took 0.01sec\n",
      "UPDATING PARENT:  https://e-uprava.gov.si/drzava-in-druzba/javni-sektor/podrobnosti-institucije.html?id=1941\n",
      "HASH: 0.1\n",
      "Comparing MinHash signatures took 0.00sec\n",
      "UPDATING PARENT:  https://e-uprava.gov.si/drzava-in-druzba/javni-sektor/podrobnosti-institucije.html?id=1137\n"
     ]
    },
    {
     "name": "stderr",
     "output_type": "stream",
     "text": [
      "/home/viktor/anaconda3/envs/wier/lib/python3.6/site-packages/urllib3/connectionpool.py:1004: InsecureRequestWarning: Unverified HTTPS request is being made to host 'e-uprava.gov.si'. Adding certificate verification is strongly advised. See: https://urllib3.readthedocs.io/en/latest/advanced-usage.html#ssl-warnings\n",
      "  InsecureRequestWarning,\n",
      "/home/viktor/anaconda3/envs/wier/lib/python3.6/site-packages/urllib3/connectionpool.py:1004: InsecureRequestWarning: Unverified HTTPS request is being made to host 'e-uprava.gov.si'. Adding certificate verification is strongly advised. See: https://urllib3.readthedocs.io/en/latest/advanced-usage.html#ssl-warnings\n",
      "  InsecureRequestWarning,\n"
     ]
    },
    {
     "name": "stdout",
     "output_type": "stream",
     "text": [
      "HASH: 0.9\n",
      "Comparing MinHash signatures took 0.01sec\n",
      "UPDATING PARENT:  https://e-uprava.gov.si/drzava-in-druzba/javni-sektor/podrobnosti-institucije.html?id=2648\n"
     ]
    },
    {
     "name": "stderr",
     "output_type": "stream",
     "text": [
      "/home/viktor/anaconda3/envs/wier/lib/python3.6/site-packages/urllib3/connectionpool.py:1004: InsecureRequestWarning: Unverified HTTPS request is being made to host 'e-uprava.gov.si'. Adding certificate verification is strongly advised. See: https://urllib3.readthedocs.io/en/latest/advanced-usage.html#ssl-warnings\n",
      "  InsecureRequestWarning,\n"
     ]
    },
    {
     "name": "stdout",
     "output_type": "stream",
     "text": [
      "HASH: 0.1\n",
      "Comparing MinHash signatures took 0.00sec\n",
      "UPDATING PARENT:  https://e-uprava.gov.si/drzava-in-druzba/javni-sektor/podrobnosti-institucije.html?id=2687\n"
     ]
    },
    {
     "name": "stderr",
     "output_type": "stream",
     "text": [
      "/home/viktor/anaconda3/envs/wier/lib/python3.6/site-packages/urllib3/connectionpool.py:1004: InsecureRequestWarning: Unverified HTTPS request is being made to host 'e-uprava.gov.si'. Adding certificate verification is strongly advised. See: https://urllib3.readthedocs.io/en/latest/advanced-usage.html#ssl-warnings\n",
      "  InsecureRequestWarning,\n"
     ]
    },
    {
     "name": "stdout",
     "output_type": "stream",
     "text": [
      "HASH: 0.9\n",
      "Comparing MinHash signatures took 0.02sec\n",
      "HASH: 0.1\n",
      "Comparing MinHash signatures took 0.02sec\n",
      "UPDATING PARENT:  https://e-uprava.gov.si/drzava-in-druzba/javni-sektor/podrobnosti-institucije.html?id=1480\n",
      "HASH: 0.9\n",
      "Comparing MinHash signatures took 0.00sec\n",
      "UPDATING PARENT:  https://e-uprava.gov.si/drzava-in-druzba/javni-sektor/podrobnosti-institucije.html?id=2628\n",
      "UPDATING PARENT:  https://e-uprava.gov.si/drzava-in-druzba/javni-sektor/podrobnosti-institucije.html?id=1157\n"
     ]
    },
    {
     "name": "stderr",
     "output_type": "stream",
     "text": [
      "/home/viktor/anaconda3/envs/wier/lib/python3.6/site-packages/urllib3/connectionpool.py:1004: InsecureRequestWarning: Unverified HTTPS request is being made to host 'e-uprava.gov.si'. Adding certificate verification is strongly advised. See: https://urllib3.readthedocs.io/en/latest/advanced-usage.html#ssl-warnings\n",
      "  InsecureRequestWarning,\n",
      "/home/viktor/anaconda3/envs/wier/lib/python3.6/site-packages/urllib3/connectionpool.py:1004: InsecureRequestWarning: Unverified HTTPS request is being made to host 'e-uprava.gov.si'. Adding certificate verification is strongly advised. See: https://urllib3.readthedocs.io/en/latest/advanced-usage.html#ssl-warnings\n",
      "  InsecureRequestWarning,\n",
      "/home/viktor/anaconda3/envs/wier/lib/python3.6/site-packages/urllib3/connectionpool.py:1004: InsecureRequestWarning: Unverified HTTPS request is being made to host 'e-uprava.gov.si'. Adding certificate verification is strongly advised. See: https://urllib3.readthedocs.io/en/latest/advanced-usage.html#ssl-warnings\n",
      "  InsecureRequestWarning,\n",
      "/home/viktor/anaconda3/envs/wier/lib/python3.6/site-packages/urllib3/connectionpool.py:1004: InsecureRequestWarning: Unverified HTTPS request is being made to host 'e-uprava.gov.si'. Adding certificate verification is strongly advised. See: https://urllib3.readthedocs.io/en/latest/advanced-usage.html#ssl-warnings\n",
      "  InsecureRequestWarning,\n"
     ]
    },
    {
     "name": "stdout",
     "output_type": "stream",
     "text": [
      "HASH: 0.1\n",
      "Comparing MinHash signatures took 0.00sec\n",
      "UPDATING PARENT:  https://e-uprava.gov.si/drzava-in-druzba/javni-sektor/podrobnosti-institucije.html?id=1844\n",
      "HASH: 0.7\n",
      "Comparing MinHash signatures took 0.00sec\n",
      "UPDATING PARENT:  https://e-uprava.gov.si/drzava-in-druzba/javni-sektor/podrobnosti-institucije.html?id=1765\n",
      "HASH: 0.8\n",
      "Comparing MinHash signatures took 0.00sec\n",
      "UPDATING PARENT:  https://e-uprava.gov.si/drzava-in-druzba/javni-sektor/podrobnosti-institucije.html?id=1163\n"
     ]
    },
    {
     "name": "stderr",
     "output_type": "stream",
     "text": [
      "/home/viktor/anaconda3/envs/wier/lib/python3.6/site-packages/urllib3/connectionpool.py:1004: InsecureRequestWarning: Unverified HTTPS request is being made to host 'e-uprava.gov.si'. Adding certificate verification is strongly advised. See: https://urllib3.readthedocs.io/en/latest/advanced-usage.html#ssl-warnings\n",
      "  InsecureRequestWarning,\n",
      "/home/viktor/anaconda3/envs/wier/lib/python3.6/site-packages/urllib3/connectionpool.py:1004: InsecureRequestWarning: Unverified HTTPS request is being made to host 'e-uprava.gov.si'. Adding certificate verification is strongly advised. See: https://urllib3.readthedocs.io/en/latest/advanced-usage.html#ssl-warnings\n",
      "  InsecureRequestWarning,\n",
      "/home/viktor/anaconda3/envs/wier/lib/python3.6/site-packages/urllib3/connectionpool.py:1004: InsecureRequestWarning: Unverified HTTPS request is being made to host 'e-uprava.gov.si'. Adding certificate verification is strongly advised. See: https://urllib3.readthedocs.io/en/latest/advanced-usage.html#ssl-warnings\n",
      "  InsecureRequestWarning,\n",
      "/home/viktor/anaconda3/envs/wier/lib/python3.6/site-packages/urllib3/connectionpool.py:1004: InsecureRequestWarning: Unverified HTTPS request is being made to host 'e-uprava.gov.si'. Adding certificate verification is strongly advised. See: https://urllib3.readthedocs.io/en/latest/advanced-usage.html#ssl-warnings\n",
      "  InsecureRequestWarning,\n"
     ]
    },
    {
     "name": "stdout",
     "output_type": "stream",
     "text": [
      "HASH: 0.8\n",
      "Comparing MinHash signatures took 0.00secHASH: 0.7\n",
      "Comparing MinHash signatures took 0.01sec\n",
      "UPDATING PARENT:  https://e-uprava.gov.si/drzava-in-druzba/javni-sektor/podrobnosti-institucije.html?id=1133\n",
      "\n",
      "UPDATING PARENT:  https://e-uprava.gov.si/drzava-in-druzba/javni-sektor/podrobnosti-institucije.html?id=1277\n",
      "Frontier len 58879\n",
      "Frontier len 58888\n",
      "Frontier len 58897\n",
      "Frontier len 58906\n",
      "Frontier len 58915\n",
      "Frontier len 58924\n",
      "Frontier len 58933\n",
      "Frontier len 58942\n",
      "Frontier len 58951\n",
      "Frontier len 58960\n",
      "Frontier len 58969\n",
      "Frontier len 58978\n",
      "\n",
      " ... executing workers ...\n",
      "\n",
      "Num sites: 7919, i: 8296\n",
      "Retrieving web page URL 'https://e-uprava.gov.si/drzava-in-druzba/javni-sektor/podrobnosti-institucije.html?id=1478'\n",
      "Retrieving web page URL 'https://e-uprava.gov.si/drzava-in-druzba/javni-sektor/podrobnosti-institucije.html?id=2013'\n",
      "Retrieving web page URL 'https://e-uprava.gov.si/drzava-in-druzba/javni-sektor/podrobnosti-institucije.html?id=1402'\n",
      "Retrieving web page URL 'https://e-uprava.gov.si/drzava-in-druzba/javni-sektor/podrobnosti-institucije.html?id=1465'\n",
      "Retrieving web page URL 'https://e-uprava.gov.si/drzava-in-druzba/javni-sektor/podrobnosti-institucije.html?id=1210'\n",
      "Retrieving web page URL 'https://e-uprava.gov.si/drzava-in-druzba/javni-sektor/podrobnosti-institucije.html?id=2843'\n",
      "Retrieving web page URL 'https://e-uprava.gov.si/drzava-in-druzba/javni-sektor/podrobnosti-institucije.html?id=1896'\n",
      "Retrieving web page URL 'https://e-uprava.gov.si/drzava-in-druzba/javni-sektor/podrobnosti-institucije.html?id=1247'\n",
      "Retrieving web page URL 'https://e-uprava.gov.si/drzava-in-druzba/javni-sektor/podrobnosti-institucije.html?id=1033'\n",
      "Retrieving web page URL 'https://e-uprava.gov.si/drzava-in-druzba/javni-sektor/podrobnosti-institucije.html?id=1457'\n",
      "Retrieving web page URL 'https://e-uprava.gov.si/drzava-in-druzba/javni-sektor/podrobnosti-institucije.html?id=1192'\n",
      "Retrieving web page URL 'https://e-uprava.gov.si/drzava-in-druzba/javni-sektor/podrobnosti-institucije.html?id=1182'\n",
      "HASH: 0.8\n",
      "Comparing MinHash signatures took 0.01sec\n",
      "UPDATING PARENT:  https://e-uprava.gov.si/drzava-in-druzba/javni-sektor/podrobnosti-institucije.html?id=1402\n",
      "HASH: 0.3\n",
      "Comparing MinHash signatures took 0.00sec\n",
      "UPDATING PARENT:  https://e-uprava.gov.si/drzava-in-druzba/javni-sektor/podrobnosti-institucije.html?id=2013\n"
     ]
    },
    {
     "name": "stderr",
     "output_type": "stream",
     "text": [
      "/home/viktor/anaconda3/envs/wier/lib/python3.6/site-packages/urllib3/connectionpool.py:1004: InsecureRequestWarning: Unverified HTTPS request is being made to host 'e-uprava.gov.si'. Adding certificate verification is strongly advised. See: https://urllib3.readthedocs.io/en/latest/advanced-usage.html#ssl-warnings\n",
      "  InsecureRequestWarning,\n",
      "/home/viktor/anaconda3/envs/wier/lib/python3.6/site-packages/urllib3/connectionpool.py:1004: InsecureRequestWarning: Unverified HTTPS request is being made to host 'e-uprava.gov.si'. Adding certificate verification is strongly advised. See: https://urllib3.readthedocs.io/en/latest/advanced-usage.html#ssl-warnings\n",
      "  InsecureRequestWarning,\n"
     ]
    },
    {
     "name": "stdout",
     "output_type": "stream",
     "text": [
      "HASH: 0.8\n",
      "Comparing MinHash signatures took 0.01sec\n",
      "UPDATING PARENT:  https://e-uprava.gov.si/drzava-in-druzba/javni-sektor/podrobnosti-institucije.html?id=1896\n",
      "HASH: 0.0\n",
      "Comparing MinHash signatures took 0.01sec\n",
      "UPDATING PARENT:  https://e-uprava.gov.si/drzava-in-druzba/javni-sektor/podrobnosti-institucije.html?id=1247\n"
     ]
    },
    {
     "name": "stderr",
     "output_type": "stream",
     "text": [
      "/home/viktor/anaconda3/envs/wier/lib/python3.6/site-packages/urllib3/connectionpool.py:1004: InsecureRequestWarning: Unverified HTTPS request is being made to host 'e-uprava.gov.si'. Adding certificate verification is strongly advised. See: https://urllib3.readthedocs.io/en/latest/advanced-usage.html#ssl-warnings\n",
      "  InsecureRequestWarning,\n",
      "/home/viktor/anaconda3/envs/wier/lib/python3.6/site-packages/urllib3/connectionpool.py:1004: InsecureRequestWarning: Unverified HTTPS request is being made to host 'e-uprava.gov.si'. Adding certificate verification is strongly advised. See: https://urllib3.readthedocs.io/en/latest/advanced-usage.html#ssl-warnings\n",
      "  InsecureRequestWarning,\n"
     ]
    },
    {
     "name": "stdout",
     "output_type": "stream",
     "text": [
      "HASH: 0.9\n",
      "Comparing MinHash signatures took 0.01sec\n",
      "HASH: 0.1\n",
      "Comparing MinHash signatures took 0.01sec\n",
      "UPDATING PARENT:  https://e-uprava.gov.si/drzava-in-druzba/javni-sektor/podrobnosti-institucije.html?id=1192\n",
      "UPDATING PARENT:  https://e-uprava.gov.si/drzava-in-druzba/javni-sektor/podrobnosti-institucije.html?id=2843\n"
     ]
    },
    {
     "name": "stderr",
     "output_type": "stream",
     "text": [
      "/home/viktor/anaconda3/envs/wier/lib/python3.6/site-packages/urllib3/connectionpool.py:1004: InsecureRequestWarning: Unverified HTTPS request is being made to host 'e-uprava.gov.si'. Adding certificate verification is strongly advised. See: https://urllib3.readthedocs.io/en/latest/advanced-usage.html#ssl-warnings\n",
      "  InsecureRequestWarning,\n",
      "/home/viktor/anaconda3/envs/wier/lib/python3.6/site-packages/urllib3/connectionpool.py:1004: InsecureRequestWarning: Unverified HTTPS request is being made to host 'e-uprava.gov.si'. Adding certificate verification is strongly advised. See: https://urllib3.readthedocs.io/en/latest/advanced-usage.html#ssl-warnings\n",
      "  InsecureRequestWarning,\n",
      "/home/viktor/anaconda3/envs/wier/lib/python3.6/site-packages/urllib3/connectionpool.py:1004: InsecureRequestWarning: Unverified HTTPS request is being made to host 'e-uprava.gov.si'. Adding certificate verification is strongly advised. See: https://urllib3.readthedocs.io/en/latest/advanced-usage.html#ssl-warnings\n",
      "  InsecureRequestWarning,\n",
      "/home/viktor/anaconda3/envs/wier/lib/python3.6/site-packages/urllib3/connectionpool.py:1004: InsecureRequestWarning: Unverified HTTPS request is being made to host 'e-uprava.gov.si'. Adding certificate verification is strongly advised. See: https://urllib3.readthedocs.io/en/latest/advanced-usage.html#ssl-warnings\n",
      "  InsecureRequestWarning,\n"
     ]
    },
    {
     "name": "stdout",
     "output_type": "stream",
     "text": [
      "HASH: 0.8\n",
      "Comparing MinHash signatures took 0.00sec\n",
      "UPDATING PARENT:  https://e-uprava.gov.si/drzava-in-druzba/javni-sektor/podrobnosti-institucije.html?id=1210\n",
      "HASH: 0.1\n",
      "Comparing MinHash signatures took 0.00sec\n",
      "UPDATING PARENT:  https://e-uprava.gov.si/drzava-in-druzba/javni-sektor/podrobnosti-institucije.html?id=1457\n",
      "HASH: 0.9\n",
      "Comparing MinHash signatures took 0.00sec\n",
      "UPDATING PARENT:  https://e-uprava.gov.si/drzava-in-druzba/javni-sektor/podrobnosti-institucije.html?id=1465\n",
      "HASH: 0.1\n",
      "Comparing MinHash signatures took 0.00sec\n",
      "UPDATING PARENT:  https://e-uprava.gov.si/drzava-in-druzba/javni-sektor/podrobnosti-institucije.html?id=1033\n"
     ]
    },
    {
     "name": "stderr",
     "output_type": "stream",
     "text": [
      "/home/viktor/anaconda3/envs/wier/lib/python3.6/site-packages/urllib3/connectionpool.py:1004: InsecureRequestWarning: Unverified HTTPS request is being made to host 'e-uprava.gov.si'. Adding certificate verification is strongly advised. See: https://urllib3.readthedocs.io/en/latest/advanced-usage.html#ssl-warnings\n",
      "  InsecureRequestWarning,\n",
      "/home/viktor/anaconda3/envs/wier/lib/python3.6/site-packages/urllib3/connectionpool.py:1004: InsecureRequestWarning: Unverified HTTPS request is being made to host 'e-uprava.gov.si'. Adding certificate verification is strongly advised. See: https://urllib3.readthedocs.io/en/latest/advanced-usage.html#ssl-warnings\n",
      "  InsecureRequestWarning,\n",
      "/home/viktor/anaconda3/envs/wier/lib/python3.6/site-packages/urllib3/connectionpool.py:1004: InsecureRequestWarning: Unverified HTTPS request is being made to host 'e-uprava.gov.si'. Adding certificate verification is strongly advised. See: https://urllib3.readthedocs.io/en/latest/advanced-usage.html#ssl-warnings\n",
      "  InsecureRequestWarning,\n",
      "/home/viktor/anaconda3/envs/wier/lib/python3.6/site-packages/urllib3/connectionpool.py:1004: InsecureRequestWarning: Unverified HTTPS request is being made to host 'e-uprava.gov.si'. Adding certificate verification is strongly advised. See: https://urllib3.readthedocs.io/en/latest/advanced-usage.html#ssl-warnings\n",
      "  InsecureRequestWarning,\n"
     ]
    },
    {
     "name": "stdout",
     "output_type": "stream",
     "text": [
      "HASH: 1.0\n",
      "Comparing MinHash signatures took 0.01sec\n",
      "HASH: 0.1\n",
      "Comparing MinHash signatures took 0.00sec\n",
      "UPDATING PARENT:  https://e-uprava.gov.si/drzava-in-druzba/javni-sektor/podrobnosti-institucije.html?id=1478\n",
      "UPDATING PARENT:  https://e-uprava.gov.si/drzava-in-druzba/javni-sektor/podrobnosti-institucije.html?id=1182\n",
      "Frontier len 58987\n",
      "Frontier len 58996\n",
      "Frontier len 59005\n",
      "Frontier len 59016\n",
      "Frontier len 59025\n",
      "Frontier len 59034\n",
      "Frontier len 59043\n",
      "Frontier len 59052\n",
      "Frontier len 59061\n",
      "Frontier len 59073\n",
      "Frontier len 59082\n",
      "Frontier len 59091\n",
      "\n",
      " ... executing workers ...\n",
      "\n",
      "Num sites: 7931, i: 8308\n",
      "Retrieving web page URL 'https://e-uprava.gov.si/drzava-in-druzba/javni-sektor/podrobnosti-institucije.html?id=12974'\n",
      "Retrieving web page URL 'https://e-uprava.gov.si/drzava-in-druzba/javni-sektor/podrobnosti-institucije.html?id=1578'\n",
      "Retrieving web page URL 'https://e-uprava.gov.si/drzava-in-druzba/javni-sektor/podrobnosti-institucije.html?id=2008'\n",
      "Retrieving web page URL 'https://e-uprava.gov.si/drzava-in-druzba/javni-sektor/podrobnosti-institucije.html?id=1249'\n",
      "Retrieving web page URL 'https://e-uprava.gov.si/drzava-in-druzba/javni-sektor/podrobnosti-institucije.html?id=1714'\n",
      "Retrieving web page URL 'https://e-uprava.gov.si/drzava-in-druzba/javni-sektor/podrobnosti-institucije.html?id=1250'\n",
      "Retrieving web page URL 'https://e-uprava.gov.si/drzava-in-druzba/javni-sektor/podrobnosti-institucije.html?id=1520'\n",
      "Retrieving web page URL 'https://e-uprava.gov.si/drzava-in-druzba/javni-sektor/podrobnosti-institucije.html?id=2367'\n",
      "Retrieving web page URL 'https://e-uprava.gov.si/drzava-in-druzba/javni-sektor/podrobnosti-institucije.html?id=1151'\n",
      "Retrieving web page URL 'https://e-uprava.gov.si/drzava-in-druzba/javni-sektor/podrobnosti-institucije.html?id=1156'\n",
      "Retrieving web page URL 'https://e-uprava.gov.si/drzava-in-druzba/javni-sektor/podrobnosti-institucije.html?id=1454'\n",
      "Retrieving web page URL 'https://e-uprava.gov.si/drzava-in-druzba/javni-sektor/podrobnosti-institucije.html?id=12976'\n",
      "HASH: 0.7\n",
      "Comparing MinHash signatures took 0.01sec\n",
      "UPDATING PARENT:  https://e-uprava.gov.si/drzava-in-druzba/javni-sektor/podrobnosti-institucije.html?id=2008\n",
      "HASH: 0.9\n",
      "Comparing MinHash signatures took 0.01sec\n",
      "UPDATING PARENT:  https://e-uprava.gov.si/drzava-in-druzba/javni-sektor/podrobnosti-institucije.html?id=1249\n"
     ]
    },
    {
     "name": "stderr",
     "output_type": "stream",
     "text": [
      "/home/viktor/anaconda3/envs/wier/lib/python3.6/site-packages/urllib3/connectionpool.py:1004: InsecureRequestWarning: Unverified HTTPS request is being made to host 'e-uprava.gov.si'. Adding certificate verification is strongly advised. See: https://urllib3.readthedocs.io/en/latest/advanced-usage.html#ssl-warnings\n",
      "  InsecureRequestWarning,\n",
      "/home/viktor/anaconda3/envs/wier/lib/python3.6/site-packages/urllib3/connectionpool.py:1004: InsecureRequestWarning: Unverified HTTPS request is being made to host 'e-uprava.gov.si'. Adding certificate verification is strongly advised. See: https://urllib3.readthedocs.io/en/latest/advanced-usage.html#ssl-warnings\n",
      "  InsecureRequestWarning,\n"
     ]
    },
    {
     "name": "stdout",
     "output_type": "stream",
     "text": [
      "HASH: 0.1\n",
      "Comparing MinHash signatures took 0.01sec\n",
      "UPDATING PARENT:  https://e-uprava.gov.si/drzava-in-druzba/javni-sektor/podrobnosti-institucije.html?id=1250\n",
      "HASH: 0.9\n",
      "Comparing MinHash signatures took 0.01sec\n"
     ]
    },
    {
     "name": "stderr",
     "output_type": "stream",
     "text": [
      "/home/viktor/anaconda3/envs/wier/lib/python3.6/site-packages/urllib3/connectionpool.py:1004: InsecureRequestWarning: Unverified HTTPS request is being made to host 'e-uprava.gov.si'. Adding certificate verification is strongly advised. See: https://urllib3.readthedocs.io/en/latest/advanced-usage.html#ssl-warnings\n",
      "  InsecureRequestWarning,\n"
     ]
    },
    {
     "name": "stdout",
     "output_type": "stream",
     "text": [
      "HASH: 0.1\n",
      "Comparing MinHash signatures took 0.00sec\n",
      "UPDATING PARENT:  https://e-uprava.gov.si/drzava-in-druzba/javni-sektor/podrobnosti-institucije.html?id=2367\n",
      "UPDATING PARENT:  https://e-uprava.gov.si/drzava-in-druzba/javni-sektor/podrobnosti-institucije.html?id=1156\n"
     ]
    },
    {
     "name": "stderr",
     "output_type": "stream",
     "text": [
      "/home/viktor/anaconda3/envs/wier/lib/python3.6/site-packages/urllib3/connectionpool.py:1004: InsecureRequestWarning: Unverified HTTPS request is being made to host 'e-uprava.gov.si'. Adding certificate verification is strongly advised. See: https://urllib3.readthedocs.io/en/latest/advanced-usage.html#ssl-warnings\n",
      "  InsecureRequestWarning,\n",
      "/home/viktor/anaconda3/envs/wier/lib/python3.6/site-packages/urllib3/connectionpool.py:1004: InsecureRequestWarning: Unverified HTTPS request is being made to host 'e-uprava.gov.si'. Adding certificate verification is strongly advised. See: https://urllib3.readthedocs.io/en/latest/advanced-usage.html#ssl-warnings\n",
      "  InsecureRequestWarning,\n"
     ]
    },
    {
     "name": "stdout",
     "output_type": "stream",
     "text": [
      "HASH: 0.7\n",
      "Comparing MinHash signatures took 0.00sec\n",
      "UPDATING PARENT:  https://e-uprava.gov.si/drzava-in-druzba/javni-sektor/podrobnosti-institucije.html?id=1714\n"
     ]
    },
    {
     "name": "stderr",
     "output_type": "stream",
     "text": [
      "/home/viktor/anaconda3/envs/wier/lib/python3.6/site-packages/urllib3/connectionpool.py:1004: InsecureRequestWarning: Unverified HTTPS request is being made to host 'e-uprava.gov.si'. Adding certificate verification is strongly advised. See: https://urllib3.readthedocs.io/en/latest/advanced-usage.html#ssl-warnings\n",
      "  InsecureRequestWarning,\n"
     ]
    },
    {
     "name": "stdout",
     "output_type": "stream",
     "text": [
      "HASH: 0.9\n",
      "Comparing MinHash signatures took 0.01sec\n",
      "HASH: 0.0\n",
      "Comparing MinHash signatures took 0.02sec\n",
      "UPDATING PARENT:  https://e-uprava.gov.si/drzava-in-druzba/javni-sektor/podrobnosti-institucije.html?id=1151\n",
      "HASH: 1.0\n",
      "Comparing MinHash signatures took 0.01sec\n",
      "UPDATING PARENT:  https://e-uprava.gov.si/drzava-in-druzba/javni-sektor/podrobnosti-institucije.html?id=12976\n",
      "UPDATING PARENT:  https://e-uprava.gov.si/drzava-in-druzba/javni-sektor/podrobnosti-institucije.html?id=1578\n",
      "HASH: 0.8\n",
      "Comparing MinHash signatures took 0.01sec\n",
      "UPDATING PARENT:  https://e-uprava.gov.si/drzava-in-druzba/javni-sektor/podrobnosti-institucije.html?id=1520\n"
     ]
    },
    {
     "name": "stderr",
     "output_type": "stream",
     "text": [
      "/home/viktor/anaconda3/envs/wier/lib/python3.6/site-packages/urllib3/connectionpool.py:1004: InsecureRequestWarning: Unverified HTTPS request is being made to host 'e-uprava.gov.si'. Adding certificate verification is strongly advised. See: https://urllib3.readthedocs.io/en/latest/advanced-usage.html#ssl-warnings\n",
      "  InsecureRequestWarning,\n",
      "/home/viktor/anaconda3/envs/wier/lib/python3.6/site-packages/urllib3/connectionpool.py:1004: InsecureRequestWarning: Unverified HTTPS request is being made to host 'e-uprava.gov.si'. Adding certificate verification is strongly advised. See: https://urllib3.readthedocs.io/en/latest/advanced-usage.html#ssl-warnings\n",
      "  InsecureRequestWarning,\n",
      "/home/viktor/anaconda3/envs/wier/lib/python3.6/site-packages/urllib3/connectionpool.py:1004: InsecureRequestWarning: Unverified HTTPS request is being made to host 'e-uprava.gov.si'. Adding certificate verification is strongly advised. See: https://urllib3.readthedocs.io/en/latest/advanced-usage.html#ssl-warnings\n",
      "  InsecureRequestWarning,\n",
      "/home/viktor/anaconda3/envs/wier/lib/python3.6/site-packages/urllib3/connectionpool.py:1004: InsecureRequestWarning: Unverified HTTPS request is being made to host 'e-uprava.gov.si'. Adding certificate verification is strongly advised. See: https://urllib3.readthedocs.io/en/latest/advanced-usage.html#ssl-warnings\n",
      "  InsecureRequestWarning,\n"
     ]
    },
    {
     "name": "stdout",
     "output_type": "stream",
     "text": [
      "HASH: 0.1\n",
      "Comparing MinHash signatures took 0.01sec\n",
      "UPDATING PARENT:  https://e-uprava.gov.si/drzava-in-druzba/javni-sektor/podrobnosti-institucije.html?id=12974\n",
      "HASH: 0.8\n",
      "Comparing MinHash signatures took 0.00sec\n",
      "UPDATING PARENT:  https://e-uprava.gov.si/drzava-in-druzba/javni-sektor/podrobnosti-institucije.html?id=1454\n"
     ]
    },
    {
     "name": "stderr",
     "output_type": "stream",
     "text": [
      "/home/viktor/anaconda3/envs/wier/lib/python3.6/site-packages/urllib3/connectionpool.py:1004: InsecureRequestWarning: Unverified HTTPS request is being made to host 'e-uprava.gov.si'. Adding certificate verification is strongly advised. See: https://urllib3.readthedocs.io/en/latest/advanced-usage.html#ssl-warnings\n",
      "  InsecureRequestWarning,\n",
      "/home/viktor/anaconda3/envs/wier/lib/python3.6/site-packages/urllib3/connectionpool.py:1004: InsecureRequestWarning: Unverified HTTPS request is being made to host 'e-uprava.gov.si'. Adding certificate verification is strongly advised. See: https://urllib3.readthedocs.io/en/latest/advanced-usage.html#ssl-warnings\n",
      "  InsecureRequestWarning,\n"
     ]
    },
    {
     "name": "stdout",
     "output_type": "stream",
     "text": [
      "Frontier len 59100\n",
      "Frontier len 59109\n",
      "Frontier len 59118\n",
      "Frontier len 59127\n",
      "Frontier len 59137\n",
      "Frontier len 59147\n",
      "Frontier len 59156\n",
      "Frontier len 59165\n",
      "Frontier len 59175\n",
      "Frontier len 59184\n",
      "Frontier len 59193\n",
      "Frontier len 59202\n",
      "\n",
      " ... executing workers ...\n",
      "\n",
      "Num sites: 7943, i: 8320\n",
      "Retrieving web page URL 'https://e-uprava.gov.si/drzava-in-druzba/javni-sektor/podrobnosti-institucije.html?id=12926'\n",
      "Retrieving web page URL 'https://e-uprava.gov.si/drzava-in-druzba/javni-sektor/podrobnosti-institucije.html?id=1276'\n",
      "Retrieving web page URL 'https://e-uprava.gov.si/drzava-in-druzba/javni-sektor/podrobnosti-institucije.html?id=4088'\n",
      "Retrieving web page URL 'https://e-uprava.gov.si/drzava-in-druzba/javni-sektor/podrobnosti-institucije.html?id=1527'\n",
      "Retrieving web page URL 'https://e-uprava.gov.si/drzava-in-druzba/javni-sektor/podrobnosti-institucije.html?id=4674'\n",
      "Retrieving web page URL 'https://e-uprava.gov.si/drzava-in-druzba/javni-sektor/podrobnosti-institucije.html?id=1942'Retrieving web page URL 'https://e-uprava.gov.si/drzava-in-druzba/javni-sektor/podrobnosti-institucije.html?id=1196'\n",
      "\n",
      "Retrieving web page URL 'https://e-uprava.gov.si/drzava-in-druzba/javni-sektor/podrobnosti-institucije.html?id=1314'\n",
      "Retrieving web page URL 'https://e-uprava.gov.si/drzava-in-druzba/javni-sektor/podrobnosti-institucije.html?id=1993'\n",
      "Retrieving web page URL 'https://e-uprava.gov.si/drzava-in-druzba/javni-sektor/podrobnosti-institucije.html?id=2756'\n",
      "Retrieving web page URL 'https://e-uprava.gov.si/drzava-in-druzba/javni-sektor/podrobnosti-institucije.html?id=2105'\n",
      "Retrieving web page URL 'https://e-uprava.gov.si/drzava-in-druzba/javni-sektor/podrobnosti-institucije.html?id=2519'\n",
      "HASH: 0.8\n",
      "Comparing MinHash signatures took 0.01sec\n",
      "UPDATING PARENT:  https://e-uprava.gov.si/drzava-in-druzba/javni-sektor/podrobnosti-institucije.html?id=1527\n"
     ]
    },
    {
     "name": "stderr",
     "output_type": "stream",
     "text": [
      "/home/viktor/anaconda3/envs/wier/lib/python3.6/site-packages/urllib3/connectionpool.py:1004: InsecureRequestWarning: Unverified HTTPS request is being made to host 'e-uprava.gov.si'. Adding certificate verification is strongly advised. See: https://urllib3.readthedocs.io/en/latest/advanced-usage.html#ssl-warnings\n",
      "  InsecureRequestWarning,\n"
     ]
    },
    {
     "name": "stdout",
     "output_type": "stream",
     "text": [
      "HASH: 0.1\n",
      "Comparing MinHash signatures took 0.01sec\n",
      "UPDATING PARENT:  https://e-uprava.gov.si/drzava-in-druzba/javni-sektor/podrobnosti-institucije.html?id=4674\n",
      "HASH: 0.9\n",
      "Comparing MinHash signatures took 0.01sec\n",
      "UPDATING PARENT:  https://e-uprava.gov.si/drzava-in-druzba/javni-sektor/podrobnosti-institucije.html?id=1276\n"
     ]
    },
    {
     "name": "stderr",
     "output_type": "stream",
     "text": [
      "/home/viktor/anaconda3/envs/wier/lib/python3.6/site-packages/urllib3/connectionpool.py:1004: InsecureRequestWarning: Unverified HTTPS request is being made to host 'e-uprava.gov.si'. Adding certificate verification is strongly advised. See: https://urllib3.readthedocs.io/en/latest/advanced-usage.html#ssl-warnings\n",
      "  InsecureRequestWarning,\n",
      "/home/viktor/anaconda3/envs/wier/lib/python3.6/site-packages/urllib3/connectionpool.py:1004: InsecureRequestWarning: Unverified HTTPS request is being made to host 'e-uprava.gov.si'. Adding certificate verification is strongly advised. See: https://urllib3.readthedocs.io/en/latest/advanced-usage.html#ssl-warnings\n",
      "  InsecureRequestWarning,\n"
     ]
    },
    {
     "name": "stdout",
     "output_type": "stream",
     "text": [
      "HASH: 0.0\n",
      "Comparing MinHash signatures took 0.01sec\n",
      "UPDATING PARENT:  https://e-uprava.gov.si/drzava-in-druzba/javni-sektor/podrobnosti-institucije.html?id=2105\n",
      "HASH: 0.9\n",
      "Comparing MinHash signatures took 0.01sec\n",
      "HASH: 0.1\n",
      "Comparing MinHash signatures took 0.01sec\n",
      "UPDATING PARENT:  https://e-uprava.gov.si/drzava-in-druzba/javni-sektor/podrobnosti-institucije.html?id=4088\n",
      "HASH: 0.8\n",
      "Comparing MinHash signatures took 0.01sec\n",
      "HASH: 0.1\n",
      "Comparing MinHash signatures took 0.00sec\n",
      "UPDATING PARENT:  https://e-uprava.gov.si/drzava-in-druzba/javni-sektor/podrobnosti-institucije.html?id=1942\n",
      "UPDATING PARENT:  https://e-uprava.gov.si/drzava-in-druzba/javni-sektor/podrobnosti-institucije.html?id=1314\n",
      "UPDATING PARENT:  https://e-uprava.gov.si/drzava-in-druzba/javni-sektor/podrobnosti-institucije.html?id=1196\n"
     ]
    },
    {
     "name": "stderr",
     "output_type": "stream",
     "text": [
      "/home/viktor/anaconda3/envs/wier/lib/python3.6/site-packages/urllib3/connectionpool.py:1004: InsecureRequestWarning: Unverified HTTPS request is being made to host 'e-uprava.gov.si'. Adding certificate verification is strongly advised. See: https://urllib3.readthedocs.io/en/latest/advanced-usage.html#ssl-warnings\n",
      "  InsecureRequestWarning,\n",
      "/home/viktor/anaconda3/envs/wier/lib/python3.6/site-packages/urllib3/connectionpool.py:1004: InsecureRequestWarning: Unverified HTTPS request is being made to host 'e-uprava.gov.si'. Adding certificate verification is strongly advised. See: https://urllib3.readthedocs.io/en/latest/advanced-usage.html#ssl-warnings\n",
      "  InsecureRequestWarning,\n",
      "/home/viktor/anaconda3/envs/wier/lib/python3.6/site-packages/urllib3/connectionpool.py:1004: InsecureRequestWarning: Unverified HTTPS request is being made to host 'e-uprava.gov.si'. Adding certificate verification is strongly advised. See: https://urllib3.readthedocs.io/en/latest/advanced-usage.html#ssl-warnings\n",
      "  InsecureRequestWarning,\n",
      "/home/viktor/anaconda3/envs/wier/lib/python3.6/site-packages/urllib3/connectionpool.py:1004: InsecureRequestWarning: Unverified HTTPS request is being made to host 'e-uprava.gov.si'. Adding certificate verification is strongly advised. See: https://urllib3.readthedocs.io/en/latest/advanced-usage.html#ssl-warnings\n",
      "  InsecureRequestWarning,\n",
      "/home/viktor/anaconda3/envs/wier/lib/python3.6/site-packages/urllib3/connectionpool.py:1004: InsecureRequestWarning: Unverified HTTPS request is being made to host 'e-uprava.gov.si'. Adding certificate verification is strongly advised. See: https://urllib3.readthedocs.io/en/latest/advanced-usage.html#ssl-warnings\n",
      "  InsecureRequestWarning,\n"
     ]
    },
    {
     "name": "stdout",
     "output_type": "stream",
     "text": [
      "HASH: 0.9\n",
      "Comparing MinHash signatures took 0.01sec\n",
      "UPDATING PARENT:  https://e-uprava.gov.si/drzava-in-druzba/javni-sektor/podrobnosti-institucije.html?id=2756\n",
      "HASH: 0.1\n",
      "Comparing MinHash signatures took 0.01sec\n",
      "UPDATING PARENT:  https://e-uprava.gov.si/drzava-in-druzba/javni-sektor/podrobnosti-institucije.html?id=2519\n"
     ]
    },
    {
     "name": "stderr",
     "output_type": "stream",
     "text": [
      "/home/viktor/anaconda3/envs/wier/lib/python3.6/site-packages/urllib3/connectionpool.py:1004: InsecureRequestWarning: Unverified HTTPS request is being made to host 'e-uprava.gov.si'. Adding certificate verification is strongly advised. See: https://urllib3.readthedocs.io/en/latest/advanced-usage.html#ssl-warnings\n",
      "  InsecureRequestWarning,\n",
      "/home/viktor/anaconda3/envs/wier/lib/python3.6/site-packages/urllib3/connectionpool.py:1004: InsecureRequestWarning: Unverified HTTPS request is being made to host 'e-uprava.gov.si'. Adding certificate verification is strongly advised. See: https://urllib3.readthedocs.io/en/latest/advanced-usage.html#ssl-warnings\n",
      "  InsecureRequestWarning,\n",
      "/home/viktor/anaconda3/envs/wier/lib/python3.6/site-packages/urllib3/connectionpool.py:1004: InsecureRequestWarning: Unverified HTTPS request is being made to host 'e-uprava.gov.si'. Adding certificate verification is strongly advised. See: https://urllib3.readthedocs.io/en/latest/advanced-usage.html#ssl-warnings\n",
      "  InsecureRequestWarning,\n"
     ]
    },
    {
     "name": "stdout",
     "output_type": "stream",
     "text": [
      "HASH: 0.9\n",
      "Comparing MinHash signatures took 0.01sec\n",
      "UPDATING PARENT:  https://e-uprava.gov.si/drzava-in-druzba/javni-sektor/podrobnosti-institucije.html?id=1993\n",
      "HASH: 0.1\n",
      "Comparing MinHash signatures took 0.00sec\n",
      "UPDATING PARENT:  https://e-uprava.gov.si/drzava-in-druzba/javni-sektor/podrobnosti-institucije.html?id=12926\n"
     ]
    },
    {
     "name": "stderr",
     "output_type": "stream",
     "text": [
      "/home/viktor/anaconda3/envs/wier/lib/python3.6/site-packages/urllib3/connectionpool.py:1004: InsecureRequestWarning: Unverified HTTPS request is being made to host 'e-uprava.gov.si'. Adding certificate verification is strongly advised. See: https://urllib3.readthedocs.io/en/latest/advanced-usage.html#ssl-warnings\n",
      "  InsecureRequestWarning,\n"
     ]
    },
    {
     "name": "stdout",
     "output_type": "stream",
     "text": [
      "Frontier len 59211\n",
      "Frontier len 59220\n",
      "Frontier len 59229\n",
      "Frontier len 59237\n",
      "Frontier len 59246\n",
      "Frontier len 59255\n",
      "Frontier len 59264\n",
      "Frontier len 59275\n",
      "Frontier len 59284\n",
      "Frontier len 59293\n",
      "Frontier len 59302\n",
      "Frontier len 59310\n",
      "\n",
      " ... executing workers ...\n",
      "\n",
      "Num sites: 7955, i: 8332\n",
      "Retrieving web page URL 'https://e-uprava.gov.si/drzava-in-druzba/javni-sektor/podrobnosti-institucije.html?id=1312'\n",
      "Retrieving web page URL 'https://e-uprava.gov.si/drzava-in-druzba/javni-sektor/podrobnosti-institucije.html?id=1208'\n",
      "Retrieving web page URL 'https://e-uprava.gov.si/drzava-in-druzba/javni-sektor/podrobnosti-institucije.html?id=1840'\n",
      "Retrieving web page URL 'https://e-uprava.gov.si/drzava-in-druzba/javni-sektor/podrobnosti-institucije.html?id=1274'\n",
      "Retrieving web page URL 'https://e-uprava.gov.si/drzava-in-druzba/javni-sektor/podrobnosti-institucije.html?id=1088'\n",
      "Retrieving web page URL 'https://e-uprava.gov.si/drzava-in-druzba/javni-sektor/podrobnosti-institucije.html?id=1320'\n",
      "Retrieving web page URL 'https://e-uprava.gov.si/drzava-in-druzba/javni-sektor/podrobnosti-institucije.html?id=1287'\n",
      "Retrieving web page URL 'https://e-uprava.gov.si/drzava-in-druzba/javni-sektor/podrobnosti-institucije.html?id=1880'\n",
      "Retrieving web page URL 'https://e-uprava.gov.si/drzava-in-druzba/javni-sektor/podrobnosti-institucije.html?id=1199'\n",
      "Retrieving web page URL 'https://e-uprava.gov.si/drzava-in-druzba/javni-sektor/podrobnosti-institucije.html?id=1318'Retrieving web page URL 'https://e-uprava.gov.si/drzava-in-druzba/javni-sektor/podrobnosti-institucije.html?id=1212'\n",
      "\n",
      "Retrieving web page URL 'https://e-uprava.gov.si/drzava-in-druzba/javni-sektor/podrobnosti-institucije.html?id=1206'\n",
      "HASH: 0.7\n",
      "Comparing MinHash signatures took 0.01sec\n",
      "UPDATING PARENT:  https://e-uprava.gov.si/drzava-in-druzba/javni-sektor/podrobnosti-institucije.html?id=1312\n"
     ]
    },
    {
     "name": "stderr",
     "output_type": "stream",
     "text": [
      "/home/viktor/anaconda3/envs/wier/lib/python3.6/site-packages/urllib3/connectionpool.py:1004: InsecureRequestWarning: Unverified HTTPS request is being made to host 'e-uprava.gov.si'. Adding certificate verification is strongly advised. See: https://urllib3.readthedocs.io/en/latest/advanced-usage.html#ssl-warnings\n",
      "  InsecureRequestWarning,\n"
     ]
    },
    {
     "name": "stdout",
     "output_type": "stream",
     "text": [
      "HASH: 1.0\n",
      "Comparing MinHash signatures took 0.01sec\n",
      "UPDATING PARENT:  https://e-uprava.gov.si/drzava-in-druzba/javni-sektor/podrobnosti-institucije.html?id=1840\n",
      "HASH: 0.8\n",
      "Comparing MinHash signatures took 0.01sec\n",
      "UPDATING PARENT:  https://e-uprava.gov.si/drzava-in-druzba/javni-sektor/podrobnosti-institucije.html?id=1199\n"
     ]
    },
    {
     "name": "stderr",
     "output_type": "stream",
     "text": [
      "/home/viktor/anaconda3/envs/wier/lib/python3.6/site-packages/urllib3/connectionpool.py:1004: InsecureRequestWarning: Unverified HTTPS request is being made to host 'e-uprava.gov.si'. Adding certificate verification is strongly advised. See: https://urllib3.readthedocs.io/en/latest/advanced-usage.html#ssl-warnings\n",
      "  InsecureRequestWarning,\n",
      "/home/viktor/anaconda3/envs/wier/lib/python3.6/site-packages/urllib3/connectionpool.py:1004: InsecureRequestWarning: Unverified HTTPS request is being made to host 'e-uprava.gov.si'. Adding certificate verification is strongly advised. See: https://urllib3.readthedocs.io/en/latest/advanced-usage.html#ssl-warnings\n",
      "  InsecureRequestWarning,\n"
     ]
    },
    {
     "name": "stdout",
     "output_type": "stream",
     "text": [
      "HASH: 0.1\n",
      "Comparing MinHash signatures took 0.01sec\n",
      "UPDATING PARENT:  https://e-uprava.gov.si/drzava-in-druzba/javni-sektor/podrobnosti-institucije.html?id=1208\n",
      "HASH: 1.0\n",
      "Comparing MinHash signatures took 0.01sec\n",
      "UPDATING PARENT:  https://e-uprava.gov.si/drzava-in-druzba/javni-sektor/podrobnosti-institucije.html?id=1320\n",
      "HASH: 0.9\n",
      "Comparing MinHash signatures took 0.00sec\n",
      "UPDATING PARENT:  https://e-uprava.gov.si/drzava-in-druzba/javni-sektor/podrobnosti-institucije.html?id=1274\n",
      "HASH: 0.1\n",
      "Comparing MinHash signatures took 0.01sec\n",
      "UPDATING PARENT:  https://e-uprava.gov.si/drzava-in-druzba/javni-sektor/podrobnosti-institucije.html?id=1206\n"
     ]
    },
    {
     "name": "stderr",
     "output_type": "stream",
     "text": [
      "/home/viktor/anaconda3/envs/wier/lib/python3.6/site-packages/urllib3/connectionpool.py:1004: InsecureRequestWarning: Unverified HTTPS request is being made to host 'e-uprava.gov.si'. Adding certificate verification is strongly advised. See: https://urllib3.readthedocs.io/en/latest/advanced-usage.html#ssl-warnings\n",
      "  InsecureRequestWarning,\n",
      "/home/viktor/anaconda3/envs/wier/lib/python3.6/site-packages/urllib3/connectionpool.py:1004: InsecureRequestWarning: Unverified HTTPS request is being made to host 'e-uprava.gov.si'. Adding certificate verification is strongly advised. See: https://urllib3.readthedocs.io/en/latest/advanced-usage.html#ssl-warnings\n",
      "  InsecureRequestWarning,\n",
      "/home/viktor/anaconda3/envs/wier/lib/python3.6/site-packages/urllib3/connectionpool.py:1004: InsecureRequestWarning: Unverified HTTPS request is being made to host 'e-uprava.gov.si'. Adding certificate verification is strongly advised. See: https://urllib3.readthedocs.io/en/latest/advanced-usage.html#ssl-warnings\n",
      "  InsecureRequestWarning,\n"
     ]
    },
    {
     "name": "stdout",
     "output_type": "stream",
     "text": [
      "HASH: 0.9\n",
      "Comparing MinHash signatures took 0.01sec\n",
      "UPDATING PARENT:  https://e-uprava.gov.si/drzava-in-druzba/javni-sektor/podrobnosti-institucije.html?id=1318\n",
      "HASH: 0.1\n",
      "Comparing MinHash signatures took 0.01sec\n",
      "UPDATING PARENT:  https://e-uprava.gov.si/drzava-in-druzba/javni-sektor/podrobnosti-institucije.html?id=1088\n",
      "HASH: 0.8\n",
      "Comparing MinHash signatures took 0.01sec\n",
      "UPDATING PARENT:  https://e-uprava.gov.si/drzava-in-druzba/javni-sektor/podrobnosti-institucije.html?id=1212\n"
     ]
    },
    {
     "name": "stderr",
     "output_type": "stream",
     "text": [
      "/home/viktor/anaconda3/envs/wier/lib/python3.6/site-packages/urllib3/connectionpool.py:1004: InsecureRequestWarning: Unverified HTTPS request is being made to host 'e-uprava.gov.si'. Adding certificate verification is strongly advised. See: https://urllib3.readthedocs.io/en/latest/advanced-usage.html#ssl-warnings\n",
      "  InsecureRequestWarning,\n",
      "/home/viktor/anaconda3/envs/wier/lib/python3.6/site-packages/urllib3/connectionpool.py:1004: InsecureRequestWarning: Unverified HTTPS request is being made to host 'e-uprava.gov.si'. Adding certificate verification is strongly advised. See: https://urllib3.readthedocs.io/en/latest/advanced-usage.html#ssl-warnings\n",
      "  InsecureRequestWarning,\n",
      "/home/viktor/anaconda3/envs/wier/lib/python3.6/site-packages/urllib3/connectionpool.py:1004: InsecureRequestWarning: Unverified HTTPS request is being made to host 'e-uprava.gov.si'. Adding certificate verification is strongly advised. See: https://urllib3.readthedocs.io/en/latest/advanced-usage.html#ssl-warnings\n",
      "  InsecureRequestWarning,\n",
      "/home/viktor/anaconda3/envs/wier/lib/python3.6/site-packages/urllib3/connectionpool.py:1004: InsecureRequestWarning: Unverified HTTPS request is being made to host 'e-uprava.gov.si'. Adding certificate verification is strongly advised. See: https://urllib3.readthedocs.io/en/latest/advanced-usage.html#ssl-warnings\n",
      "  InsecureRequestWarning,\n"
     ]
    },
    {
     "name": "stdout",
     "output_type": "stream",
     "text": [
      "HASH: 0.3\n",
      "Comparing MinHash signatures took 0.01sec\n",
      "UPDATING PARENT:  https://e-uprava.gov.si/drzava-in-druzba/javni-sektor/podrobnosti-institucije.html?id=1287\n",
      "HASH: 0.9\n",
      "Comparing MinHash signatures took 0.00sec\n",
      "UPDATING PARENT:  https://e-uprava.gov.si/drzava-in-druzba/javni-sektor/podrobnosti-institucije.html?id=1880\n"
     ]
    },
    {
     "name": "stderr",
     "output_type": "stream",
     "text": [
      "/home/viktor/anaconda3/envs/wier/lib/python3.6/site-packages/urllib3/connectionpool.py:1004: InsecureRequestWarning: Unverified HTTPS request is being made to host 'e-uprava.gov.si'. Adding certificate verification is strongly advised. See: https://urllib3.readthedocs.io/en/latest/advanced-usage.html#ssl-warnings\n",
      "  InsecureRequestWarning,\n",
      "/home/viktor/anaconda3/envs/wier/lib/python3.6/site-packages/urllib3/connectionpool.py:1004: InsecureRequestWarning: Unverified HTTPS request is being made to host 'e-uprava.gov.si'. Adding certificate verification is strongly advised. See: https://urllib3.readthedocs.io/en/latest/advanced-usage.html#ssl-warnings\n",
      "  InsecureRequestWarning,\n"
     ]
    },
    {
     "name": "stdout",
     "output_type": "stream",
     "text": [
      "Frontier len 59319\n",
      "Frontier len 59328\n",
      "Frontier len 59338\n",
      "Frontier len 59348\n",
      "Frontier len 59357\n",
      "Frontier len 59366\n",
      "Frontier len 59376\n",
      "Frontier len 59385\n",
      "Frontier len 59394\n",
      "Frontier len 59403\n",
      "Frontier len 59412\n",
      "Frontier len 59421\n",
      "\n",
      " ... executing workers ...\n",
      "\n",
      "Num sites: 7967, i: 8344\n",
      "Retrieving web page URL 'https://e-uprava.gov.si/drzava-in-druzba/javni-sektor/podrobnosti-institucije.html?id=1051'\n",
      "Retrieving web page URL 'https://e-uprava.gov.si/drzava-in-druzba/javni-sektor/podrobnosti-institucije.html?id=2632'\n",
      "Retrieving web page URL 'https://e-uprava.gov.si/drzava-in-druzba/javni-sektor/podrobnosti-institucije.html?id=1207'\n",
      "Retrieving web page URL 'https://e-uprava.gov.si/drzava-in-druzba/javni-sektor/podrobnosti-institucije.html?id=1524'\n",
      "Retrieving web page URL 'https://e-uprava.gov.si/drzava-in-druzba/javni-sektor/podrobnosti-institucije.html?id=1834'\n",
      "Retrieving web page URL 'https://e-uprava.gov.si/drzava-in-druzba/javni-sektor/podrobnosti-institucije.html?id=1319'\n",
      "Retrieving web page URL 'https://e-uprava.gov.si/drzava-in-druzba/javni-sektor/podrobnosti-institucije.html?id=12924'\n",
      "Retrieving web page URL 'https://e-uprava.gov.si/drzava-in-druzba/javni-sektor/podrobnosti-institucije.html?id=1463'\n",
      "Retrieving web page URL 'https://e-uprava.gov.si/drzava-in-druzba/javni-sektor/podrobnosti-institucije.html?id=13515'\n",
      "Retrieving web page URL 'https://e-uprava.gov.si/drzava-in-druzba/javni-sektor/podrobnosti-institucije.html?id=1116'\n",
      "Retrieving web page URL 'https://e-uprava.gov.si/drzava-in-druzba/javni-sektor/podrobnosti-institucije.html?id=13516'\n",
      "Retrieving web page URL 'https://e-uprava.gov.si/drzava-in-druzba/javni-sektor/podrobnosti-institucije.html?id=1263'\n",
      "HASH: 0.1\n",
      "Comparing MinHash signatures took 0.01sec\n",
      "UPDATING PARENT:  https://e-uprava.gov.si/drzava-in-druzba/javni-sektor/podrobnosti-institucije.html?id=1051\n"
     ]
    },
    {
     "name": "stderr",
     "output_type": "stream",
     "text": [
      "/home/viktor/anaconda3/envs/wier/lib/python3.6/site-packages/urllib3/connectionpool.py:1004: InsecureRequestWarning: Unverified HTTPS request is being made to host 'e-uprava.gov.si'. Adding certificate verification is strongly advised. See: https://urllib3.readthedocs.io/en/latest/advanced-usage.html#ssl-warnings\n",
      "  InsecureRequestWarning,\n"
     ]
    },
    {
     "name": "stdout",
     "output_type": "stream",
     "text": [
      "HASH: 0.7\n",
      "Comparing MinHash signatures took 0.01sec\n",
      "UPDATING PARENT:  https://e-uprava.gov.si/drzava-in-druzba/javni-sektor/podrobnosti-institucije.html?id=1116\n"
     ]
    },
    {
     "name": "stderr",
     "output_type": "stream",
     "text": [
      "/home/viktor/anaconda3/envs/wier/lib/python3.6/site-packages/urllib3/connectionpool.py:1004: InsecureRequestWarning: Unverified HTTPS request is being made to host 'e-uprava.gov.si'. Adding certificate verification is strongly advised. See: https://urllib3.readthedocs.io/en/latest/advanced-usage.html#ssl-warnings\n",
      "  InsecureRequestWarning,\n"
     ]
    },
    {
     "name": "stdout",
     "output_type": "stream",
     "text": [
      "HASH: 0.5\n",
      "Comparing MinHash signatures took 0.01sec\n",
      "UPDATING PARENT:  https://e-uprava.gov.si/drzava-in-druzba/javni-sektor/podrobnosti-institucije.html?id=13516\n",
      "HASH: 0.8\n",
      "Comparing MinHash signatures took 0.01sec\n",
      "UPDATING PARENT:  https://e-uprava.gov.si/drzava-in-druzba/javni-sektor/podrobnosti-institucije.html?id=1834\n"
     ]
    },
    {
     "name": "stderr",
     "output_type": "stream",
     "text": [
      "/home/viktor/anaconda3/envs/wier/lib/python3.6/site-packages/urllib3/connectionpool.py:1004: InsecureRequestWarning: Unverified HTTPS request is being made to host 'e-uprava.gov.si'. Adding certificate verification is strongly advised. See: https://urllib3.readthedocs.io/en/latest/advanced-usage.html#ssl-warnings\n",
      "  InsecureRequestWarning,\n",
      "/home/viktor/anaconda3/envs/wier/lib/python3.6/site-packages/urllib3/connectionpool.py:1004: InsecureRequestWarning: Unverified HTTPS request is being made to host 'e-uprava.gov.si'. Adding certificate verification is strongly advised. See: https://urllib3.readthedocs.io/en/latest/advanced-usage.html#ssl-warnings\n",
      "  InsecureRequestWarning,\n"
     ]
    },
    {
     "name": "stdout",
     "output_type": "stream",
     "text": [
      "HASH: 0.9\n",
      "Comparing MinHash signatures took 0.00sec\n",
      "UPDATING PARENT:  https://e-uprava.gov.si/drzava-in-druzba/javni-sektor/podrobnosti-institucije.html?id=1524\n",
      "HASH: 0.5\n",
      "Comparing MinHash signatures took 0.01sec\n",
      "UPDATING PARENT:  https://e-uprava.gov.si/drzava-in-druzba/javni-sektor/podrobnosti-institucije.html?id=1463\n"
     ]
    },
    {
     "name": "stderr",
     "output_type": "stream",
     "text": [
      "/home/viktor/anaconda3/envs/wier/lib/python3.6/site-packages/urllib3/connectionpool.py:1004: InsecureRequestWarning: Unverified HTTPS request is being made to host 'e-uprava.gov.si'. Adding certificate verification is strongly advised. See: https://urllib3.readthedocs.io/en/latest/advanced-usage.html#ssl-warnings\n",
      "  InsecureRequestWarning,\n",
      "/home/viktor/anaconda3/envs/wier/lib/python3.6/site-packages/urllib3/connectionpool.py:1004: InsecureRequestWarning: Unverified HTTPS request is being made to host 'e-uprava.gov.si'. Adding certificate verification is strongly advised. See: https://urllib3.readthedocs.io/en/latest/advanced-usage.html#ssl-warnings\n",
      "  InsecureRequestWarning,\n"
     ]
    },
    {
     "name": "stdout",
     "output_type": "stream",
     "text": [
      "HASH: 0.9\n",
      "Comparing MinHash signatures took 0.06secHASH: 0.7\n",
      "Comparing MinHash signatures took 0.00sec\n",
      "UPDATING PARENT:  https://e-uprava.gov.si/drzava-in-druzba/javni-sektor/podrobnosti-institucije.html?id=12924\n",
      "\n",
      "UPDATING PARENT:  https://e-uprava.gov.si/drzava-in-druzba/javni-sektor/podrobnosti-institucije.html?id=1207\n",
      "HASH: 0.8\n",
      "Comparing MinHash signatures took 0.00sec\n"
     ]
    },
    {
     "name": "stderr",
     "output_type": "stream",
     "text": [
      "/home/viktor/anaconda3/envs/wier/lib/python3.6/site-packages/urllib3/connectionpool.py:1004: InsecureRequestWarning: Unverified HTTPS request is being made to host 'e-uprava.gov.si'. Adding certificate verification is strongly advised. See: https://urllib3.readthedocs.io/en/latest/advanced-usage.html#ssl-warnings\n",
      "  InsecureRequestWarning,\n",
      "/home/viktor/anaconda3/envs/wier/lib/python3.6/site-packages/urllib3/connectionpool.py:1004: InsecureRequestWarning: Unverified HTTPS request is being made to host 'e-uprava.gov.si'. Adding certificate verification is strongly advised. See: https://urllib3.readthedocs.io/en/latest/advanced-usage.html#ssl-warnings\n",
      "  InsecureRequestWarning,\n",
      "/home/viktor/anaconda3/envs/wier/lib/python3.6/site-packages/urllib3/connectionpool.py:1004: InsecureRequestWarning: Unverified HTTPS request is being made to host 'e-uprava.gov.si'. Adding certificate verification is strongly advised. See: https://urllib3.readthedocs.io/en/latest/advanced-usage.html#ssl-warnings\n",
      "  InsecureRequestWarning,\n"
     ]
    },
    {
     "name": "stdout",
     "output_type": "stream",
     "text": [
      "UPDATING PARENT:  https://e-uprava.gov.si/drzava-in-druzba/javni-sektor/podrobnosti-institucije.html?id=1263\n",
      "HASH: 0.0\n",
      "Comparing MinHash signatures took 0.01sec\n",
      "UPDATING PARENT:  https://e-uprava.gov.si/drzava-in-druzba/javni-sektor/podrobnosti-institucije.html?id=2632\n"
     ]
    },
    {
     "name": "stderr",
     "output_type": "stream",
     "text": [
      "/home/viktor/anaconda3/envs/wier/lib/python3.6/site-packages/urllib3/connectionpool.py:1004: InsecureRequestWarning: Unverified HTTPS request is being made to host 'e-uprava.gov.si'. Adding certificate verification is strongly advised. See: https://urllib3.readthedocs.io/en/latest/advanced-usage.html#ssl-warnings\n",
      "  InsecureRequestWarning,\n"
     ]
    },
    {
     "name": "stdout",
     "output_type": "stream",
     "text": [
      "HASH: 1.0\n",
      "Comparing MinHash signatures took 0.01sec\n",
      "UPDATING PARENT:  https://e-uprava.gov.si/drzava-in-druzba/javni-sektor/podrobnosti-institucije.html?id=13515\n"
     ]
    },
    {
     "name": "stderr",
     "output_type": "stream",
     "text": [
      "/home/viktor/anaconda3/envs/wier/lib/python3.6/site-packages/urllib3/connectionpool.py:1004: InsecureRequestWarning: Unverified HTTPS request is being made to host 'e-uprava.gov.si'. Adding certificate verification is strongly advised. See: https://urllib3.readthedocs.io/en/latest/advanced-usage.html#ssl-warnings\n",
      "  InsecureRequestWarning,\n"
     ]
    },
    {
     "name": "stdout",
     "output_type": "stream",
     "text": [
      "HASH: 0.7\n",
      "Comparing MinHash signatures took 0.01sec\n",
      "UPDATING PARENT:  https://e-uprava.gov.si/drzava-in-druzba/javni-sektor/podrobnosti-institucije.html?id=1319\n"
     ]
    },
    {
     "name": "stderr",
     "output_type": "stream",
     "text": [
      "/home/viktor/anaconda3/envs/wier/lib/python3.6/site-packages/urllib3/connectionpool.py:1004: InsecureRequestWarning: Unverified HTTPS request is being made to host 'e-uprava.gov.si'. Adding certificate verification is strongly advised. See: https://urllib3.readthedocs.io/en/latest/advanced-usage.html#ssl-warnings\n",
      "  InsecureRequestWarning,\n"
     ]
    },
    {
     "name": "stdout",
     "output_type": "stream",
     "text": [
      "Frontier len 59431\n",
      "Frontier len 59441\n",
      "Frontier len 59450\n",
      "Frontier len 59459\n",
      "Frontier len 59468\n",
      "Frontier len 59477\n",
      "Frontier len 59486\n",
      "Frontier len 59495\n",
      "Frontier len 59504\n",
      "Frontier len 59515\n",
      "Frontier len 59524\n",
      "Frontier len 59533\n",
      "\n",
      " ... executing workers ...\n",
      "\n",
      "Num sites: 7979, i: 8356\n",
      "Retrieving web page URL 'https://e-uprava.gov.si/drzava-in-druzba/javni-sektor/podrobnosti-institucije.html?id=12932'\n",
      "Retrieving web page URL 'https://e-uprava.gov.si/drzava-in-druzba/javni-sektor/podrobnosti-institucije.html?id=13519'\n",
      "Retrieving web page URL 'https://e-uprava.gov.si/drzava-in-druzba/javni-sektor/podrobnosti-institucije.html?id=2777'\n",
      "Retrieving web page URL 'https://e-uprava.gov.si/drzava-in-druzba/javni-sektor/podrobnosti-institucije.html?id=12933'\n",
      "Retrieving web page URL 'https://e-uprava.gov.si/drzava-in-druzba/javni-sektor/podrobnosti-institucije.html?id=12934'\n",
      "Retrieving web page URL 'https://e-uprava.gov.si/drzava-in-druzba/javni-sektor/podrobnosti-institucije.html?id=13512'\n",
      "Retrieving web page URL 'https://e-uprava.gov.si/drzava-in-druzba/javni-sektor/podrobnosti-institucije.html?id=13513'\n",
      "Retrieving web page URL 'https://e-uprava.gov.si/drzava-in-druzba/javni-sektor/podrobnosti-institucije.html?id=13518'\n",
      "Retrieving web page URL 'https://e-uprava.gov.si/drzava-in-druzba/javni-sektor/podrobnosti-institucije.html?id=13517'\n",
      "Retrieving web page URL 'https://e-uprava.gov.si/drzava-in-druzba/javni-sektor/podrobnosti-institucije.html?id=12935'\n",
      "Retrieving web page URL 'https://e-uprava.gov.si/drzava-in-druzba/javni-sektor/podrobnosti-institucije.html?id=1142'\n",
      "Retrieving web page URL 'https://e-uprava.gov.si/drzava-in-druzba/javni-sektor/podrobnosti-institucije.html?id=13511'\n",
      "HASH: 0.4\n",
      "Comparing MinHash signatures took 0.01sec\n",
      "UPDATING PARENT:  https://e-uprava.gov.si/drzava-in-druzba/javni-sektor/podrobnosti-institucije.html?id=13519\n",
      "HASH: 0.8\n",
      "Comparing MinHash signatures took 0.01sec\n",
      "UPDATING PARENT:  https://e-uprava.gov.si/drzava-in-druzba/javni-sektor/podrobnosti-institucije.html?id=13512\n"
     ]
    },
    {
     "name": "stderr",
     "output_type": "stream",
     "text": [
      "/home/viktor/anaconda3/envs/wier/lib/python3.6/site-packages/urllib3/connectionpool.py:1004: InsecureRequestWarning: Unverified HTTPS request is being made to host 'e-uprava.gov.si'. Adding certificate verification is strongly advised. See: https://urllib3.readthedocs.io/en/latest/advanced-usage.html#ssl-warnings\n",
      "  InsecureRequestWarning,\n",
      "/home/viktor/anaconda3/envs/wier/lib/python3.6/site-packages/urllib3/connectionpool.py:1004: InsecureRequestWarning: Unverified HTTPS request is being made to host 'e-uprava.gov.si'. Adding certificate verification is strongly advised. See: https://urllib3.readthedocs.io/en/latest/advanced-usage.html#ssl-warnings\n",
      "  InsecureRequestWarning,\n",
      "/home/viktor/anaconda3/envs/wier/lib/python3.6/site-packages/urllib3/connectionpool.py:1004: InsecureRequestWarning: Unverified HTTPS request is being made to host 'e-uprava.gov.si'. Adding certificate verification is strongly advised. See: https://urllib3.readthedocs.io/en/latest/advanced-usage.html#ssl-warnings\n",
      "  InsecureRequestWarning,\n"
     ]
    },
    {
     "name": "stdout",
     "output_type": "stream",
     "text": [
      "HASH: 0.0\n",
      "Comparing MinHash signatures took 0.01sec\n",
      "UPDATING PARENT:  https://e-uprava.gov.si/drzava-in-druzba/javni-sektor/podrobnosti-institucije.html?id=13513\n",
      "HASH: 1.0\n",
      "Comparing MinHash signatures took 0.00sec\n",
      "UPDATING PARENT:  https://e-uprava.gov.si/drzava-in-druzba/javni-sektor/podrobnosti-institucije.html?id=13517\n",
      "HASH: 0.0\n",
      "Comparing MinHash signatures took 0.00sec\n",
      "UPDATING PARENT:  https://e-uprava.gov.si/drzava-in-druzba/javni-sektor/podrobnosti-institucije.html?id=13518\n"
     ]
    },
    {
     "name": "stderr",
     "output_type": "stream",
     "text": [
      "/home/viktor/anaconda3/envs/wier/lib/python3.6/site-packages/urllib3/connectionpool.py:1004: InsecureRequestWarning: Unverified HTTPS request is being made to host 'e-uprava.gov.si'. Adding certificate verification is strongly advised. See: https://urllib3.readthedocs.io/en/latest/advanced-usage.html#ssl-warnings\n",
      "  InsecureRequestWarning,\n",
      "/home/viktor/anaconda3/envs/wier/lib/python3.6/site-packages/urllib3/connectionpool.py:1004: InsecureRequestWarning: Unverified HTTPS request is being made to host 'e-uprava.gov.si'. Adding certificate verification is strongly advised. See: https://urllib3.readthedocs.io/en/latest/advanced-usage.html#ssl-warnings\n",
      "  InsecureRequestWarning,\n"
     ]
    },
    {
     "name": "stdout",
     "output_type": "stream",
     "text": [
      "HASH: 1.0\n",
      "Comparing MinHash signatures took 0.00sec\n",
      "HASH: 0.8\n",
      "Comparing MinHash signatures took 0.00sec\n",
      "UPDATING PARENT:  https://e-uprava.gov.si/drzava-in-druzba/javni-sektor/podrobnosti-institucije.html?id=2777\n",
      "UPDATING PARENT:  https://e-uprava.gov.si/drzava-in-druzba/javni-sektor/podrobnosti-institucije.html?id=12935\n",
      "HASH: 0.8\n",
      "Comparing MinHash signatures took 0.01sec\n",
      "UPDATING PARENT:  https://e-uprava.gov.si/drzava-in-druzba/javni-sektor/podrobnosti-institucije.html?id=13511\n"
     ]
    },
    {
     "name": "stderr",
     "output_type": "stream",
     "text": [
      "/home/viktor/anaconda3/envs/wier/lib/python3.6/site-packages/urllib3/connectionpool.py:1004: InsecureRequestWarning: Unverified HTTPS request is being made to host 'e-uprava.gov.si'. Adding certificate verification is strongly advised. See: https://urllib3.readthedocs.io/en/latest/advanced-usage.html#ssl-warnings\n",
      "  InsecureRequestWarning,\n",
      "/home/viktor/anaconda3/envs/wier/lib/python3.6/site-packages/urllib3/connectionpool.py:1004: InsecureRequestWarning: Unverified HTTPS request is being made to host 'e-uprava.gov.si'. Adding certificate verification is strongly advised. See: https://urllib3.readthedocs.io/en/latest/advanced-usage.html#ssl-warnings\n",
      "  InsecureRequestWarning,\n",
      "/home/viktor/anaconda3/envs/wier/lib/python3.6/site-packages/urllib3/connectionpool.py:1004: InsecureRequestWarning: Unverified HTTPS request is being made to host 'e-uprava.gov.si'. Adding certificate verification is strongly advised. See: https://urllib3.readthedocs.io/en/latest/advanced-usage.html#ssl-warnings\n",
      "  InsecureRequestWarning,\n"
     ]
    },
    {
     "name": "stdout",
     "output_type": "stream",
     "text": [
      "HASH: 0.1\n",
      "Comparing MinHash signatures took 0.01sec\n",
      "UPDATING PARENT:  https://e-uprava.gov.si/drzava-in-druzba/javni-sektor/podrobnosti-institucije.html?id=1142\n",
      "HASH: 0.7\n",
      "Comparing MinHash signatures took 0.01sec\n",
      "UPDATING PARENT:  https://e-uprava.gov.si/drzava-in-druzba/javni-sektor/podrobnosti-institucije.html?id=12932\n"
     ]
    },
    {
     "name": "stderr",
     "output_type": "stream",
     "text": [
      "/home/viktor/anaconda3/envs/wier/lib/python3.6/site-packages/urllib3/connectionpool.py:1004: InsecureRequestWarning: Unverified HTTPS request is being made to host 'e-uprava.gov.si'. Adding certificate verification is strongly advised. See: https://urllib3.readthedocs.io/en/latest/advanced-usage.html#ssl-warnings\n",
      "  InsecureRequestWarning,\n",
      "/home/viktor/anaconda3/envs/wier/lib/python3.6/site-packages/urllib3/connectionpool.py:1004: InsecureRequestWarning: Unverified HTTPS request is being made to host 'e-uprava.gov.si'. Adding certificate verification is strongly advised. See: https://urllib3.readthedocs.io/en/latest/advanced-usage.html#ssl-warnings\n",
      "  InsecureRequestWarning,\n"
     ]
    },
    {
     "name": "stdout",
     "output_type": "stream",
     "text": [
      "HASH: 0.8\n",
      "Comparing MinHash signatures took 0.00sec\n",
      "UPDATING PARENT:  https://e-uprava.gov.si/drzava-in-druzba/javni-sektor/podrobnosti-institucije.html?id=12933\n",
      "HASH: 0.9\n",
      "Comparing MinHash signatures took 0.00sec\n",
      "UPDATING PARENT:  https://e-uprava.gov.si/drzava-in-druzba/javni-sektor/podrobnosti-institucije.html?id=12934\n"
     ]
    },
    {
     "name": "stderr",
     "output_type": "stream",
     "text": [
      "/home/viktor/anaconda3/envs/wier/lib/python3.6/site-packages/urllib3/connectionpool.py:1004: InsecureRequestWarning: Unverified HTTPS request is being made to host 'e-uprava.gov.si'. Adding certificate verification is strongly advised. See: https://urllib3.readthedocs.io/en/latest/advanced-usage.html#ssl-warnings\n",
      "  InsecureRequestWarning,\n",
      "/home/viktor/anaconda3/envs/wier/lib/python3.6/site-packages/urllib3/connectionpool.py:1004: InsecureRequestWarning: Unverified HTTPS request is being made to host 'e-uprava.gov.si'. Adding certificate verification is strongly advised. See: https://urllib3.readthedocs.io/en/latest/advanced-usage.html#ssl-warnings\n",
      "  InsecureRequestWarning,\n"
     ]
    },
    {
     "name": "stdout",
     "output_type": "stream",
     "text": [
      "Frontier len 59542\n",
      "Frontier len 59551\n",
      "Frontier len 59560\n",
      "Frontier len 59569\n",
      "Frontier len 59578\n",
      "Frontier len 59587\n",
      "Frontier len 59596\n",
      "Frontier len 59605\n",
      "Frontier len 59613\n",
      "Frontier len 59621\n",
      "Frontier len 59630\n",
      "Frontier len 59639\n",
      "\n",
      " ... executing workers ...\n",
      "\n",
      "Num sites: 7991, i: 8368\n",
      "Retrieving web page URL 'https://e-uprava.gov.si/drzava-in-druzba/javni-sektor/podrobnosti-institucije.html?id=1872'\n",
      "Retrieving web page URL 'https://e-uprava.gov.si/drzava-in-druzba/javni-sektor/podrobnosti-institucije.html?id=1477'\n",
      "Retrieving web page URL 'https://e-uprava.gov.si/drzava-in-druzba/javni-sektor/podrobnosti-institucije.html?id=6341'\n",
      "Retrieving web page URL 'https://e-uprava.gov.si/drzava-in-druzba/javni-sektor/podrobnosti-institucije.html?id=4086'\n",
      "Retrieving web page URL 'https://e-uprava.gov.si/drzava-in-druzba/javni-sektor/podrobnosti-institucije.html?id=12942'\n",
      "Retrieving web page URL 'https://e-uprava.gov.si/drzava-in-druzba/javni-sektor/podrobnosti-institucije.html?id=12939'\n",
      "Retrieving web page URL 'https://e-uprava.gov.si/drzava-in-druzba/javni-sektor/podrobnosti-institucije.html?id=3420'\n",
      "Retrieving web page URL 'https://e-uprava.gov.si/drzava-in-druzba/javni-sektor/podrobnosti-institucije.html?id=12941'\n",
      "Retrieving web page URL 'https://e-uprava.gov.si/drzava-in-druzba/javni-sektor/podrobnosti-institucije.html?id=12938'\n",
      "Retrieving web page URL 'https://e-uprava.gov.si/drzava-in-druzba/javni-sektor/podrobnosti-institucije.html?id=3417'\n",
      "Retrieving web page URL 'https://e-uprava.gov.si/drzava-in-druzba/javni-sektor/podrobnosti-institucije.html?id=3419'\n",
      "Retrieving web page URL 'https://e-uprava.gov.si/drzava-in-druzba/javni-sektor/podrobnosti-institucije.html?id=12940'\n",
      "HASH: 0.1\n",
      "Comparing MinHash signatures took 0.01sec\n",
      "UPDATING PARENT:  https://e-uprava.gov.si/drzava-in-druzba/javni-sektor/podrobnosti-institucije.html?id=1477\n"
     ]
    },
    {
     "name": "stderr",
     "output_type": "stream",
     "text": [
      "/home/viktor/anaconda3/envs/wier/lib/python3.6/site-packages/urllib3/connectionpool.py:1004: InsecureRequestWarning: Unverified HTTPS request is being made to host 'e-uprava.gov.si'. Adding certificate verification is strongly advised. See: https://urllib3.readthedocs.io/en/latest/advanced-usage.html#ssl-warnings\n",
      "  InsecureRequestWarning,\n"
     ]
    },
    {
     "name": "stdout",
     "output_type": "stream",
     "text": [
      "HASH: 0.7\n",
      "Comparing MinHash signatures took 0.00sec\n",
      "UPDATING PARENT:  https://e-uprava.gov.si/drzava-in-druzba/javni-sektor/podrobnosti-institucije.html?id=6341\n",
      "HASH: 0.9\n",
      "Comparing MinHash signatures took 0.00sec\n",
      "UPDATING PARENT:  https://e-uprava.gov.si/drzava-in-druzba/javni-sektor/podrobnosti-institucije.html?id=12942\n"
     ]
    },
    {
     "name": "stderr",
     "output_type": "stream",
     "text": [
      "/home/viktor/anaconda3/envs/wier/lib/python3.6/site-packages/urllib3/connectionpool.py:1004: InsecureRequestWarning: Unverified HTTPS request is being made to host 'e-uprava.gov.si'. Adding certificate verification is strongly advised. See: https://urllib3.readthedocs.io/en/latest/advanced-usage.html#ssl-warnings\n",
      "  InsecureRequestWarning,\n",
      "/home/viktor/anaconda3/envs/wier/lib/python3.6/site-packages/urllib3/connectionpool.py:1004: InsecureRequestWarning: Unverified HTTPS request is being made to host 'e-uprava.gov.si'. Adding certificate verification is strongly advised. See: https://urllib3.readthedocs.io/en/latest/advanced-usage.html#ssl-warnings\n",
      "  InsecureRequestWarning,\n"
     ]
    },
    {
     "name": "stdout",
     "output_type": "stream",
     "text": [
      "HASH: 0.1\n",
      "Comparing MinHash signatures took 0.01sec\n",
      "UPDATING PARENT:  https://e-uprava.gov.si/drzava-in-druzba/javni-sektor/podrobnosti-institucije.html?id=12939\n",
      "HASH: 0.7\n",
      "Comparing MinHash signatures took 0.00sec\n",
      "UPDATING PARENT:  https://e-uprava.gov.si/drzava-in-druzba/javni-sektor/podrobnosti-institucije.html?id=12938\n",
      "HASH: 0.8\n",
      "Comparing MinHash signatures took 0.00sec\n",
      "UPDATING PARENT:  https://e-uprava.gov.si/drzava-in-druzba/javni-sektor/podrobnosti-institucije.html?id=3417\n"
     ]
    },
    {
     "name": "stderr",
     "output_type": "stream",
     "text": [
      "/home/viktor/anaconda3/envs/wier/lib/python3.6/site-packages/urllib3/connectionpool.py:1004: InsecureRequestWarning: Unverified HTTPS request is being made to host 'e-uprava.gov.si'. Adding certificate verification is strongly advised. See: https://urllib3.readthedocs.io/en/latest/advanced-usage.html#ssl-warnings\n",
      "  InsecureRequestWarning,\n",
      "/home/viktor/anaconda3/envs/wier/lib/python3.6/site-packages/urllib3/connectionpool.py:1004: InsecureRequestWarning: Unverified HTTPS request is being made to host 'e-uprava.gov.si'. Adding certificate verification is strongly advised. See: https://urllib3.readthedocs.io/en/latest/advanced-usage.html#ssl-warnings\n",
      "  InsecureRequestWarning,\n",
      "/home/viktor/anaconda3/envs/wier/lib/python3.6/site-packages/urllib3/connectionpool.py:1004: InsecureRequestWarning: Unverified HTTPS request is being made to host 'e-uprava.gov.si'. Adding certificate verification is strongly advised. See: https://urllib3.readthedocs.io/en/latest/advanced-usage.html#ssl-warnings\n",
      "  InsecureRequestWarning,\n"
     ]
    },
    {
     "name": "stdout",
     "output_type": "stream",
     "text": [
      "HASH: 0.8\n",
      "Comparing MinHash signatures took 0.01sec\n",
      "HASH: 0.0\n",
      "Comparing MinHash signatures took 0.01sec\n",
      "UPDATING PARENT:  https://e-uprava.gov.si/drzava-in-druzba/javni-sektor/podrobnosti-institucije.html?id=3419\n",
      "UPDATING PARENT:  https://e-uprava.gov.si/drzava-in-druzba/javni-sektor/podrobnosti-institucije.html?id=12941\n",
      "HASH: 0.8\n",
      "Comparing MinHash signatures took 0.02sec\n",
      "HASH: 0.8\n",
      "Comparing MinHash signatures took 0.02sec\n",
      "UPDATING PARENT: HASH: 0.1 https://e-uprava.gov.si/drzava-in-druzba/javni-sektor/podrobnosti-institucije.html?id=3420\n",
      "\n",
      "Comparing MinHash signatures took 0.03sec\n",
      "UPDATING PARENT:  https://e-uprava.gov.si/drzava-in-druzba/javni-sektor/podrobnosti-institucije.html?id=4086\n",
      "UPDATING PARENT:  https://e-uprava.gov.si/drzava-in-druzba/javni-sektor/podrobnosti-institucije.html?id=1872\n",
      "HASH: 0.9\n",
      "Comparing MinHash signatures took 0.00sec\n",
      "UPDATING PARENT:  https://e-uprava.gov.si/drzava-in-druzba/javni-sektor/podrobnosti-institucije.html?id=12940\n"
     ]
    },
    {
     "name": "stderr",
     "output_type": "stream",
     "text": [
      "/home/viktor/anaconda3/envs/wier/lib/python3.6/site-packages/urllib3/connectionpool.py:1004: InsecureRequestWarning: Unverified HTTPS request is being made to host 'e-uprava.gov.si'. Adding certificate verification is strongly advised. See: https://urllib3.readthedocs.io/en/latest/advanced-usage.html#ssl-warnings\n",
      "  InsecureRequestWarning,\n",
      "/home/viktor/anaconda3/envs/wier/lib/python3.6/site-packages/urllib3/connectionpool.py:1004: InsecureRequestWarning: Unverified HTTPS request is being made to host 'e-uprava.gov.si'. Adding certificate verification is strongly advised. See: https://urllib3.readthedocs.io/en/latest/advanced-usage.html#ssl-warnings\n",
      "  InsecureRequestWarning,\n",
      "/home/viktor/anaconda3/envs/wier/lib/python3.6/site-packages/urllib3/connectionpool.py:1004: InsecureRequestWarning: Unverified HTTPS request is being made to host 'e-uprava.gov.si'. Adding certificate verification is strongly advised. See: https://urllib3.readthedocs.io/en/latest/advanced-usage.html#ssl-warnings\n",
      "  InsecureRequestWarning,\n",
      "/home/viktor/anaconda3/envs/wier/lib/python3.6/site-packages/urllib3/connectionpool.py:1004: InsecureRequestWarning: Unverified HTTPS request is being made to host 'e-uprava.gov.si'. Adding certificate verification is strongly advised. See: https://urllib3.readthedocs.io/en/latest/advanced-usage.html#ssl-warnings\n",
      "  InsecureRequestWarning,\n",
      "/home/viktor/anaconda3/envs/wier/lib/python3.6/site-packages/urllib3/connectionpool.py:1004: InsecureRequestWarning: Unverified HTTPS request is being made to host 'e-uprava.gov.si'. Adding certificate verification is strongly advised. See: https://urllib3.readthedocs.io/en/latest/advanced-usage.html#ssl-warnings\n",
      "  InsecureRequestWarning,\n",
      "/home/viktor/anaconda3/envs/wier/lib/python3.6/site-packages/urllib3/connectionpool.py:1004: InsecureRequestWarning: Unverified HTTPS request is being made to host 'e-uprava.gov.si'. Adding certificate verification is strongly advised. See: https://urllib3.readthedocs.io/en/latest/advanced-usage.html#ssl-warnings\n",
      "  InsecureRequestWarning,\n"
     ]
    },
    {
     "name": "stdout",
     "output_type": "stream",
     "text": [
      "Frontier len 59648\n",
      "Frontier len 59658\n",
      "Frontier len 59667\n",
      "Frontier len 59676\n",
      "Frontier len 59685\n",
      "Frontier len 59694\n",
      "Frontier len 59703\n",
      "Frontier len 59714\n",
      "Frontier len 59723\n",
      "Frontier len 59732\n",
      "Frontier len 59741\n",
      "Frontier len 59750\n",
      "\n",
      " ... executing workers ...\n",
      "\n",
      "Num sites: 8003, i: 8380\n",
      "Retrieving web page URL 'https://e-uprava.gov.si/drzava-in-druzba/javni-sektor/podrobnosti-institucije.html?id=1332'\n",
      "Retrieving web page URL 'https://e-uprava.gov.si/drzava-in-druzba/javni-sektor/podrobnosti-institucije.html?id=5409'\n",
      "Retrieving web page URL 'https://e-uprava.gov.si/drzava-in-druzba/javni-sektor/podrobnosti-institucije.html?id=12946'\n",
      "Retrieving web page URL 'https://e-uprava.gov.si/drzava-in-druzba/javni-sektor/podrobnosti-institucije.html?id=5408'\n",
      "Retrieving web page URL 'https://e-uprava.gov.si/drzava-in-druzba/javni-sektor/podrobnosti-institucije.html?id=1020'\n",
      "Retrieving web page URL 'https://e-uprava.gov.si/drzava-in-druzba/javni-sektor/podrobnosti-institucije.html?id=12945'\n",
      "Retrieving web page URL 'https://e-uprava.gov.si/drzava-in-druzba/javni-sektor/podrobnosti-institucije.html?id=5411'\n",
      "Retrieving web page URL 'https://e-uprava.gov.si/drzava-in-druzba/javni-sektor/podrobnosti-institucije.html?id=13514'\n",
      "Retrieving web page URL 'https://e-uprava.gov.si/drzava-in-druzba/javni-sektor/podrobnosti-institucije.html?id=12991'\n",
      "Retrieving web page URL 'https://e-uprava.gov.si/drzava-in-druzba/javni-sektor/podrobnosti-institucije.html?id=6342'\n",
      "Retrieving web page URL 'https://e-uprava.gov.si/drzava-in-druzba/javni-sektor/podrobnosti-institucije.html?id=5410'\n",
      "Retrieving web page URL 'https://e-uprava.gov.si/drzava-in-druzba/javni-sektor/podrobnosti-institucije.html?id=4087'\n",
      "HASH: 0.1\n",
      "Comparing MinHash signatures took 0.01sec\n",
      "UPDATING PARENT:  https://e-uprava.gov.si/drzava-in-druzba/javni-sektor/podrobnosti-institucije.html?id=5409\n"
     ]
    },
    {
     "name": "stderr",
     "output_type": "stream",
     "text": [
      "/home/viktor/anaconda3/envs/wier/lib/python3.6/site-packages/urllib3/connectionpool.py:1004: InsecureRequestWarning: Unverified HTTPS request is being made to host 'e-uprava.gov.si'. Adding certificate verification is strongly advised. See: https://urllib3.readthedocs.io/en/latest/advanced-usage.html#ssl-warnings\n",
      "  InsecureRequestWarning,\n"
     ]
    },
    {
     "name": "stdout",
     "output_type": "stream",
     "text": [
      "HASH: 1.0\n",
      "Comparing MinHash signatures took 0.01sec\n",
      "UPDATING PARENT:  https://e-uprava.gov.si/drzava-in-druzba/javni-sektor/podrobnosti-institucije.html?id=6342\n",
      "HASH: 0.0\n",
      "Comparing MinHash signatures took 0.01sec\n",
      "UPDATING PARENT:  https://e-uprava.gov.si/drzava-in-druzba/javni-sektor/podrobnosti-institucije.html?id=12946\n"
     ]
    },
    {
     "name": "stderr",
     "output_type": "stream",
     "text": [
      "/home/viktor/anaconda3/envs/wier/lib/python3.6/site-packages/urllib3/connectionpool.py:1004: InsecureRequestWarning: Unverified HTTPS request is being made to host 'e-uprava.gov.si'. Adding certificate verification is strongly advised. See: https://urllib3.readthedocs.io/en/latest/advanced-usage.html#ssl-warnings\n",
      "  InsecureRequestWarning,\n",
      "/home/viktor/anaconda3/envs/wier/lib/python3.6/site-packages/urllib3/connectionpool.py:1004: InsecureRequestWarning: Unverified HTTPS request is being made to host 'e-uprava.gov.si'. Adding certificate verification is strongly advised. See: https://urllib3.readthedocs.io/en/latest/advanced-usage.html#ssl-warnings\n",
      "  InsecureRequestWarning,\n"
     ]
    },
    {
     "name": "stdout",
     "output_type": "stream",
     "text": [
      "HASH: 0.8\n",
      "Comparing MinHash signatures took 0.01sec\n",
      "UPDATING PARENT:  https://e-uprava.gov.si/drzava-in-druzba/javni-sektor/podrobnosti-institucije.html?id=5410\n",
      "HASH: 0.0\n",
      "Comparing MinHash signatures took 0.01sec\n",
      "UPDATING PARENT:  https://e-uprava.gov.si/drzava-in-druzba/javni-sektor/podrobnosti-institucije.html?id=1020\n"
     ]
    },
    {
     "name": "stderr",
     "output_type": "stream",
     "text": [
      "/home/viktor/anaconda3/envs/wier/lib/python3.6/site-packages/urllib3/connectionpool.py:1004: InsecureRequestWarning: Unverified HTTPS request is being made to host 'e-uprava.gov.si'. Adding certificate verification is strongly advised. See: https://urllib3.readthedocs.io/en/latest/advanced-usage.html#ssl-warnings\n",
      "  InsecureRequestWarning,\n",
      "/home/viktor/anaconda3/envs/wier/lib/python3.6/site-packages/urllib3/connectionpool.py:1004: InsecureRequestWarning: Unverified HTTPS request is being made to host 'e-uprava.gov.si'. Adding certificate verification is strongly advised. See: https://urllib3.readthedocs.io/en/latest/advanced-usage.html#ssl-warnings\n",
      "  InsecureRequestWarning,\n"
     ]
    },
    {
     "name": "stdout",
     "output_type": "stream",
     "text": [
      "HASH: 0.9\n",
      "Comparing MinHash signatures took 0.00sec\n",
      "UPDATING PARENT:  https://e-uprava.gov.si/drzava-in-druzba/javni-sektor/podrobnosti-institucije.html?id=5411\n",
      "HASH: 0.1\n",
      "Comparing MinHash signatures took 0.01sec\n",
      "UPDATING PARENT:  https://e-uprava.gov.si/drzava-in-druzba/javni-sektor/podrobnosti-institucije.html?id=1332\n"
     ]
    },
    {
     "name": "stderr",
     "output_type": "stream",
     "text": [
      "/home/viktor/anaconda3/envs/wier/lib/python3.6/site-packages/urllib3/connectionpool.py:1004: InsecureRequestWarning: Unverified HTTPS request is being made to host 'e-uprava.gov.si'. Adding certificate verification is strongly advised. See: https://urllib3.readthedocs.io/en/latest/advanced-usage.html#ssl-warnings\n",
      "  InsecureRequestWarning,\n",
      "/home/viktor/anaconda3/envs/wier/lib/python3.6/site-packages/urllib3/connectionpool.py:1004: InsecureRequestWarning: Unverified HTTPS request is being made to host 'e-uprava.gov.si'. Adding certificate verification is strongly advised. See: https://urllib3.readthedocs.io/en/latest/advanced-usage.html#ssl-warnings\n",
      "  InsecureRequestWarning,\n",
      "/home/viktor/anaconda3/envs/wier/lib/python3.6/site-packages/urllib3/connectionpool.py:1004: InsecureRequestWarning: Unverified HTTPS request is being made to host 'e-uprava.gov.si'. Adding certificate verification is strongly advised. See: https://urllib3.readthedocs.io/en/latest/advanced-usage.html#ssl-warnings\n",
      "  InsecureRequestWarning,\n"
     ]
    },
    {
     "name": "stdout",
     "output_type": "stream",
     "text": [
      "HASH: 0.7\n",
      "Comparing MinHash signatures took 0.01sec\n",
      "UPDATING PARENT:  https://e-uprava.gov.si/drzava-in-druzba/javni-sektor/podrobnosti-institucije.html?id=12945\n",
      "HASH: 0.5\n",
      "Comparing MinHash signatures took 0.00sec\n",
      "UPDATING PARENT:  https://e-uprava.gov.si/drzava-in-druzba/javni-sektor/podrobnosti-institucije.html?id=13514\n",
      "HASH: 0.9\n",
      "Comparing MinHash signatures took 0.00sec\n",
      "UPDATING PARENT:  https://e-uprava.gov.si/drzava-in-druzba/javni-sektor/podrobnosti-institucije.html?id=12991\n"
     ]
    },
    {
     "name": "stderr",
     "output_type": "stream",
     "text": [
      "/home/viktor/anaconda3/envs/wier/lib/python3.6/site-packages/urllib3/connectionpool.py:1004: InsecureRequestWarning: Unverified HTTPS request is being made to host 'e-uprava.gov.si'. Adding certificate verification is strongly advised. See: https://urllib3.readthedocs.io/en/latest/advanced-usage.html#ssl-warnings\n",
      "  InsecureRequestWarning,\n",
      "/home/viktor/anaconda3/envs/wier/lib/python3.6/site-packages/urllib3/connectionpool.py:1004: InsecureRequestWarning: Unverified HTTPS request is being made to host 'e-uprava.gov.si'. Adding certificate verification is strongly advised. See: https://urllib3.readthedocs.io/en/latest/advanced-usage.html#ssl-warnings\n",
      "  InsecureRequestWarning,\n"
     ]
    },
    {
     "name": "stdout",
     "output_type": "stream",
     "text": [
      "HASH: 0.8\n",
      "Comparing MinHash signatures took 0.00sec\n",
      "UPDATING PARENT:  https://e-uprava.gov.si/drzava-in-druzba/javni-sektor/podrobnosti-institucije.html?id=5408\n",
      "HASH: 0.5\n",
      "Comparing MinHash signatures took 0.00sec\n",
      "UPDATING PARENT:  https://e-uprava.gov.si/drzava-in-druzba/javni-sektor/podrobnosti-institucije.html?id=4087\n"
     ]
    },
    {
     "name": "stderr",
     "output_type": "stream",
     "text": [
      "/home/viktor/anaconda3/envs/wier/lib/python3.6/site-packages/urllib3/connectionpool.py:1004: InsecureRequestWarning: Unverified HTTPS request is being made to host 'e-uprava.gov.si'. Adding certificate verification is strongly advised. See: https://urllib3.readthedocs.io/en/latest/advanced-usage.html#ssl-warnings\n",
      "  InsecureRequestWarning,\n",
      "/home/viktor/anaconda3/envs/wier/lib/python3.6/site-packages/urllib3/connectionpool.py:1004: InsecureRequestWarning: Unverified HTTPS request is being made to host 'e-uprava.gov.si'. Adding certificate verification is strongly advised. See: https://urllib3.readthedocs.io/en/latest/advanced-usage.html#ssl-warnings\n",
      "  InsecureRequestWarning,\n"
     ]
    },
    {
     "name": "stdout",
     "output_type": "stream",
     "text": [
      "Frontier len 59759\n",
      "Frontier len 59768\n",
      "Frontier len 59777\n",
      "Frontier len 59788\n",
      "Frontier len 59797\n",
      "Frontier len 59806\n",
      "Frontier len 59816\n",
      "Frontier len 59825\n",
      "Frontier len 59834\n",
      "Frontier len 59843\n",
      "Frontier len 59852\n",
      "Frontier len 59861\n",
      "\n",
      " ... executing workers ...\n",
      "\n",
      "Num sites: 8015, i: 8392\n",
      "Retrieving web page URL 'https://e-uprava.gov.si/drzava-in-druzba/javni-sektor/podrobnosti-institucije.html?id=13520'\n",
      "Retrieving web page URL 'https://e-uprava.gov.si/drzava-in-druzba/javni-sektor/podrobnosti-institucije.html?id=12947'\n",
      "Retrieving web page URL 'https://e-uprava.gov.si/drzava-in-druzba/javni-sektor/podrobnosti-institucije.html?id=847'\n",
      "Retrieving web page URL 'https://e-uprava.gov.si/drzava-in-druzba/javni-sektor/podrobnosti-institucije.html?id=1413'\n",
      "Retrieving web page URL 'https://e-uprava.gov.si/drzava-in-druzba/javni-sektor/podrobnosti-institucije.html?id=12949'\n",
      "Retrieving web page URL 'https://e-uprava.gov.si/drzava-in-druzba/javni-sektor/podrobnosti-institucije.html?id=1498'\n",
      "Retrieving web page URL 'https://e-uprava.gov.si/drzava-in-druzba/javni-sektor/podrobnosti-institucije.html?id=10'\n",
      "Retrieving web page URL 'https://e-uprava.gov.si/drzava-in-druzba/javni-sektor/podrobnosti-institucije.html?id=3595'\n",
      "Retrieving web page URL 'https://e-uprava.gov.si/drzava-in-druzba/javni-sektor/podrobnosti-institucije.html?id=13521'\n",
      "Retrieving web page URL 'https://e-uprava.gov.si/drzava-in-druzba/javni-sektor/podrobnosti-institucije.html?id=3594'\n",
      "Retrieving web page URL 'https://e-uprava.gov.si/drzava-in-druzba/javni-sektor/podrobnosti-institucije.html?id=1403'\n",
      "Retrieving web page URL 'https://e-uprava.gov.si/drzava-in-druzba/javni-sektor/podrobnosti-institucije.html?id=12936'\n",
      "HASH: 0.7\n",
      "Comparing MinHash signatures took 0.01sec\n",
      "UPDATING PARENT:  https://e-uprava.gov.si/drzava-in-druzba/javni-sektor/podrobnosti-institucije.html?id=12947\n"
     ]
    },
    {
     "name": "stderr",
     "output_type": "stream",
     "text": [
      "/home/viktor/anaconda3/envs/wier/lib/python3.6/site-packages/urllib3/connectionpool.py:1004: InsecureRequestWarning: Unverified HTTPS request is being made to host 'e-uprava.gov.si'. Adding certificate verification is strongly advised. See: https://urllib3.readthedocs.io/en/latest/advanced-usage.html#ssl-warnings\n",
      "  InsecureRequestWarning,\n"
     ]
    },
    {
     "name": "stdout",
     "output_type": "stream",
     "text": [
      "HASH: 1.0\n",
      "Comparing MinHash signatures took 0.01sec\n",
      "UPDATING PARENT:  https://e-uprava.gov.si/drzava-in-druzba/javni-sektor/podrobnosti-institucije.html?id=13520\n",
      "HASH: 0.4\n",
      "Comparing MinHash signatures took 0.01sec\n",
      "UPDATING PARENT:  https://e-uprava.gov.si/drzava-in-druzba/javni-sektor/podrobnosti-institucije.html?id=13521\n"
     ]
    },
    {
     "name": "stderr",
     "output_type": "stream",
     "text": [
      "/home/viktor/anaconda3/envs/wier/lib/python3.6/site-packages/urllib3/connectionpool.py:1004: InsecureRequestWarning: Unverified HTTPS request is being made to host 'e-uprava.gov.si'. Adding certificate verification is strongly advised. See: https://urllib3.readthedocs.io/en/latest/advanced-usage.html#ssl-warnings\n",
      "  InsecureRequestWarning,\n",
      "/home/viktor/anaconda3/envs/wier/lib/python3.6/site-packages/urllib3/connectionpool.py:1004: InsecureRequestWarning: Unverified HTTPS request is being made to host 'e-uprava.gov.si'. Adding certificate verification is strongly advised. See: https://urllib3.readthedocs.io/en/latest/advanced-usage.html#ssl-warnings\n",
      "  InsecureRequestWarning,\n"
     ]
    },
    {
     "name": "stdout",
     "output_type": "stream",
     "text": [
      "HASH: 0.8\n",
      "Comparing MinHash signatures took 0.00sec\n",
      "UPDATING PARENT:  https://e-uprava.gov.si/drzava-in-druzba/javni-sektor/podrobnosti-institucije.html?id=1413\n",
      "HASH: 0.4\n",
      "Comparing MinHash signatures took 0.00sec\n",
      "UPDATING PARENT:  https://e-uprava.gov.si/drzava-in-druzba/javni-sektor/podrobnosti-institucije.html?id=10\n",
      "HASH: 0.8\n",
      "Comparing MinHash signatures took 0.00sec\n",
      "UPDATING PARENT:  https://e-uprava.gov.si/drzava-in-druzba/javni-sektor/podrobnosti-institucije.html?id=3594\n"
     ]
    },
    {
     "name": "stderr",
     "output_type": "stream",
     "text": [
      "/home/viktor/anaconda3/envs/wier/lib/python3.6/site-packages/urllib3/connectionpool.py:1004: InsecureRequestWarning: Unverified HTTPS request is being made to host 'e-uprava.gov.si'. Adding certificate verification is strongly advised. See: https://urllib3.readthedocs.io/en/latest/advanced-usage.html#ssl-warnings\n",
      "  InsecureRequestWarning,\n",
      "/home/viktor/anaconda3/envs/wier/lib/python3.6/site-packages/urllib3/connectionpool.py:1004: InsecureRequestWarning: Unverified HTTPS request is being made to host 'e-uprava.gov.si'. Adding certificate verification is strongly advised. See: https://urllib3.readthedocs.io/en/latest/advanced-usage.html#ssl-warnings\n",
      "  InsecureRequestWarning,\n",
      "/home/viktor/anaconda3/envs/wier/lib/python3.6/site-packages/urllib3/connectionpool.py:1004: InsecureRequestWarning: Unverified HTTPS request is being made to host 'e-uprava.gov.si'. Adding certificate verification is strongly advised. See: https://urllib3.readthedocs.io/en/latest/advanced-usage.html#ssl-warnings\n",
      "  InsecureRequestWarning,\n"
     ]
    },
    {
     "name": "stdout",
     "output_type": "stream",
     "text": [
      "HASH: 0.8\n",
      "Comparing MinHash signatures took 0.01sec\n",
      "UPDATING PARENT:  https://e-uprava.gov.si/drzava-in-druzba/javni-sektor/podrobnosti-institucije.html?id=1498\n",
      "HASH: 0.1\n",
      "Comparing MinHash signatures took 0.01sec\n",
      "UPDATING PARENT:  https://e-uprava.gov.si/drzava-in-druzba/javni-sektor/podrobnosti-institucije.html?id=847\n",
      "HASH: 0.9\n",
      "Comparing MinHash signatures took 0.00sec\n",
      "UPDATING PARENT:  https://e-uprava.gov.si/drzava-in-druzba/javni-sektor/podrobnosti-institucije.html?id=12949\n"
     ]
    },
    {
     "name": "stderr",
     "output_type": "stream",
     "text": [
      "/home/viktor/anaconda3/envs/wier/lib/python3.6/site-packages/urllib3/connectionpool.py:1004: InsecureRequestWarning: Unverified HTTPS request is being made to host 'e-uprava.gov.si'. Adding certificate verification is strongly advised. See: https://urllib3.readthedocs.io/en/latest/advanced-usage.html#ssl-warnings\n",
      "  InsecureRequestWarning,\n",
      "/home/viktor/anaconda3/envs/wier/lib/python3.6/site-packages/urllib3/connectionpool.py:1004: InsecureRequestWarning: Unverified HTTPS request is being made to host 'e-uprava.gov.si'. Adding certificate verification is strongly advised. See: https://urllib3.readthedocs.io/en/latest/advanced-usage.html#ssl-warnings\n",
      "  InsecureRequestWarning,\n",
      "/home/viktor/anaconda3/envs/wier/lib/python3.6/site-packages/urllib3/connectionpool.py:1004: InsecureRequestWarning: Unverified HTTPS request is being made to host 'e-uprava.gov.si'. Adding certificate verification is strongly advised. See: https://urllib3.readthedocs.io/en/latest/advanced-usage.html#ssl-warnings\n",
      "  InsecureRequestWarning,\n"
     ]
    },
    {
     "name": "stdout",
     "output_type": "stream",
     "text": [
      "HASH: 0.1\n",
      "Comparing MinHash signatures took 0.01sec\n",
      "UPDATING PARENT:  https://e-uprava.gov.si/drzava-in-druzba/javni-sektor/podrobnosti-institucije.html?id=3595\n",
      "HASH: 0.6\n",
      "Comparing MinHash signatures took 0.00sec\n",
      "UPDATING PARENT:  https://e-uprava.gov.si/drzava-in-druzba/javni-sektor/podrobnosti-institucije.html?id=1403\n"
     ]
    },
    {
     "name": "stderr",
     "output_type": "stream",
     "text": [
      "/home/viktor/anaconda3/envs/wier/lib/python3.6/site-packages/urllib3/connectionpool.py:1004: InsecureRequestWarning: Unverified HTTPS request is being made to host 'e-uprava.gov.si'. Adding certificate verification is strongly advised. See: https://urllib3.readthedocs.io/en/latest/advanced-usage.html#ssl-warnings\n",
      "  InsecureRequestWarning,\n",
      "/home/viktor/anaconda3/envs/wier/lib/python3.6/site-packages/urllib3/connectionpool.py:1004: InsecureRequestWarning: Unverified HTTPS request is being made to host 'e-uprava.gov.si'. Adding certificate verification is strongly advised. See: https://urllib3.readthedocs.io/en/latest/advanced-usage.html#ssl-warnings\n",
      "  InsecureRequestWarning,\n",
      "/home/viktor/anaconda3/envs/wier/lib/python3.6/site-packages/urllib3/connectionpool.py:1004: InsecureRequestWarning: Unverified HTTPS request is being made to host 'e-uprava.gov.si'. Adding certificate verification is strongly advised. See: https://urllib3.readthedocs.io/en/latest/advanced-usage.html#ssl-warnings\n",
      "  InsecureRequestWarning,\n"
     ]
    },
    {
     "name": "stdout",
     "output_type": "stream",
     "text": [
      "HASH: 0.9\n",
      "Comparing MinHash signatures took 0.01sec\n",
      "UPDATING PARENT:  https://e-uprava.gov.si/drzava-in-druzba/javni-sektor/podrobnosti-institucije.html?id=12936\n",
      "Frontier len 59870\n",
      "Frontier len 59879\n",
      "Frontier len 59888\n",
      "Frontier len 59896\n",
      "Frontier len 59905\n",
      "Frontier len 59920\n",
      "Frontier len 59929\n",
      "Frontier len 59938\n",
      "Frontier len 59948\n",
      "Frontier len 59957\n",
      "Frontier len 59968\n",
      "Frontier len 59977\n",
      "\n",
      " ... executing workers ...\n",
      "\n",
      "Num sites: 8027, i: 8404\n",
      "Retrieving web page URL 'https://e-uprava.gov.si/drzava-in-druzba/javni-sektor/podrobnosti-institucije.html?id=4624'\n",
      "Retrieving web page URL 'https://e-uprava.gov.si/drzava-in-druzba/javni-sektor/podrobnosti-institucije.html?id=4623'\n",
      "Retrieving web page URL 'https://e-uprava.gov.si/drzava-in-druzba/javni-sektor/podrobnosti-institucije.html?id=1836'\n",
      "Retrieving web page URL 'https://e-uprava.gov.si/drzava-in-druzba/javni-sektor/podrobnosti-institucije.html?id=2028'\n",
      "Retrieving web page URL 'https://e-uprava.gov.si/drzava-in-druzba/javni-sektor/podrobnosti-institucije.html?id=12937'\n",
      "Retrieving web page URL 'https://e-uprava.gov.si/drzava-in-druzba/javni-sektor/podrobnosti-institucije.html?id=1105'\n",
      "Retrieving web page URL 'https://e-uprava.gov.si/drzava-in-druzba/javni-sektor/podrobnosti-institucije.html?id=14229'\n",
      "Retrieving web page URL 'https://e-uprava.gov.si/drzava-in-druzba/javni-sektor/podrobnosti-institucije.html?id=12979'\n",
      "Retrieving web page URL 'https://e-uprava.gov.si/drzava-in-druzba/javni-sektor/podrobnosti-institucije.html?id=12988'\n",
      "Retrieving web page URL 'https://e-uprava.gov.si/drzava-in-druzba/javni-sektor/podrobnosti-institucije.html?id=4629'\n",
      "Retrieving web page URL 'https://e-uprava.gov.si/drzava-in-druzba/javni-sektor/podrobnosti-institucije.html?id=12972'\n",
      "Retrieving web page URL 'https://e-uprava.gov.si/drzava-in-druzba/javni-sektor/podrobnosti-institucije.html?id=4628'\n",
      "HASH: 0.6\n",
      "Comparing MinHash signatures took 0.01sec\n",
      "UPDATING PARENT:  https://e-uprava.gov.si/drzava-in-druzba/javni-sektor/podrobnosti-institucije.html?id=4624\n",
      "HASH: 0.8\n",
      "Comparing MinHash signatures took 0.00sec\n",
      "UPDATING PARENT:  https://e-uprava.gov.si/drzava-in-druzba/javni-sektor/podrobnosti-institucije.html?id=2028\n"
     ]
    },
    {
     "name": "stderr",
     "output_type": "stream",
     "text": [
      "/home/viktor/anaconda3/envs/wier/lib/python3.6/site-packages/urllib3/connectionpool.py:1004: InsecureRequestWarning: Unverified HTTPS request is being made to host 'e-uprava.gov.si'. Adding certificate verification is strongly advised. See: https://urllib3.readthedocs.io/en/latest/advanced-usage.html#ssl-warnings\n",
      "  InsecureRequestWarning,\n",
      "/home/viktor/anaconda3/envs/wier/lib/python3.6/site-packages/urllib3/connectionpool.py:1004: InsecureRequestWarning: Unverified HTTPS request is being made to host 'e-uprava.gov.si'. Adding certificate verification is strongly advised. See: https://urllib3.readthedocs.io/en/latest/advanced-usage.html#ssl-warnings\n",
      "  InsecureRequestWarning,\n"
     ]
    },
    {
     "name": "stdout",
     "output_type": "stream",
     "text": [
      "HASH: 0.5\n",
      "Comparing MinHash signatures took 0.01sec\n",
      "UPDATING PARENT:  https://e-uprava.gov.si/drzava-in-druzba/javni-sektor/podrobnosti-institucije.html?id=14229\n",
      "HASH: 0.7\n",
      "Comparing MinHash signatures took 0.01sec\n",
      "UPDATING PARENT:  https://e-uprava.gov.si/drzava-in-druzba/javni-sektor/podrobnosti-institucije.html?id=12972\n"
     ]
    },
    {
     "name": "stderr",
     "output_type": "stream",
     "text": [
      "/home/viktor/anaconda3/envs/wier/lib/python3.6/site-packages/urllib3/connectionpool.py:1004: InsecureRequestWarning: Unverified HTTPS request is being made to host 'e-uprava.gov.si'. Adding certificate verification is strongly advised. See: https://urllib3.readthedocs.io/en/latest/advanced-usage.html#ssl-warnings\n",
      "  InsecureRequestWarning,\n",
      "/home/viktor/anaconda3/envs/wier/lib/python3.6/site-packages/urllib3/connectionpool.py:1004: InsecureRequestWarning: Unverified HTTPS request is being made to host 'e-uprava.gov.si'. Adding certificate verification is strongly advised. See: https://urllib3.readthedocs.io/en/latest/advanced-usage.html#ssl-warnings\n",
      "  InsecureRequestWarning,\n"
     ]
    },
    {
     "name": "stdout",
     "output_type": "stream",
     "text": [
      "HASH: 0.9\n",
      "Comparing MinHash signatures took 0.00sec\n",
      "UPDATING PARENT:  https://e-uprava.gov.si/drzava-in-druzba/javni-sektor/podrobnosti-institucije.html?id=4628\n"
     ]
    },
    {
     "name": "stderr",
     "output_type": "stream",
     "text": [
      "/home/viktor/anaconda3/envs/wier/lib/python3.6/site-packages/urllib3/connectionpool.py:1004: InsecureRequestWarning: Unverified HTTPS request is being made to host 'e-uprava.gov.si'. Adding certificate verification is strongly advised. See: https://urllib3.readthedocs.io/en/latest/advanced-usage.html#ssl-warnings\n",
      "  InsecureRequestWarning,\n"
     ]
    },
    {
     "name": "stdout",
     "output_type": "stream",
     "text": [
      "HASH: 0.5\n",
      "Comparing MinHash signatures took 0.01sec\n",
      "HASH: 0.8\n",
      "Comparing MinHash signatures took 0.01sec\n",
      "UPDATING PARENT:  https://e-uprava.gov.si/drzava-in-druzba/javni-sektor/podrobnosti-institucije.html?id=12988\n",
      "HASH: 0.8\n",
      "Comparing MinHash signatures took 0.02sec\n",
      "HASH: 0.1\n",
      "Comparing MinHash signatures took 0.00sec\n",
      "UPDATING PARENT:  https://e-uprava.gov.si/drzava-in-druzba/javni-sektor/podrobnosti-institucije.html?id=12979\n",
      "UPDATING PARENT:  https://e-uprava.gov.si/drzava-in-druzba/javni-sektor/podrobnosti-institucije.html?id=12937\n",
      "UPDATING PARENT:  https://e-uprava.gov.si/drzava-in-druzba/javni-sektor/podrobnosti-institucije.html?id=4623\n",
      "HASH: 0.9\n",
      "Comparing MinHash signatures took 0.00sec\n",
      "HASH: 0.1"
     ]
    },
    {
     "name": "stderr",
     "output_type": "stream",
     "text": [
      "/home/viktor/anaconda3/envs/wier/lib/python3.6/site-packages/urllib3/connectionpool.py:1004: InsecureRequestWarning: Unverified HTTPS request is being made to host 'e-uprava.gov.si'. Adding certificate verification is strongly advised. See: https://urllib3.readthedocs.io/en/latest/advanced-usage.html#ssl-warnings\n",
      "  InsecureRequestWarning,\n",
      "/home/viktor/anaconda3/envs/wier/lib/python3.6/site-packages/urllib3/connectionpool.py:1004: InsecureRequestWarning: Unverified HTTPS request is being made to host 'e-uprava.gov.si'. Adding certificate verification is strongly advised. See: https://urllib3.readthedocs.io/en/latest/advanced-usage.html#ssl-warnings\n",
      "  InsecureRequestWarning,\n",
      "/home/viktor/anaconda3/envs/wier/lib/python3.6/site-packages/urllib3/connectionpool.py:1004: InsecureRequestWarning: Unverified HTTPS request is being made to host 'e-uprava.gov.si'. Adding certificate verification is strongly advised. See: https://urllib3.readthedocs.io/en/latest/advanced-usage.html#ssl-warnings\n",
      "  InsecureRequestWarning,\n"
     ]
    },
    {
     "name": "stdout",
     "output_type": "stream",
     "text": [
      "\n",
      "Comparing MinHash signatures took 0.01sec\n",
      "UPDATING PARENT:  https://e-uprava.gov.si/drzava-in-druzba/javni-sektor/podrobnosti-institucije.html?id=4629\n",
      "UPDATING PARENT:  https://e-uprava.gov.si/drzava-in-druzba/javni-sektor/podrobnosti-institucije.html?id=1105\n",
      "HASH: 0.6\n",
      "Comparing MinHash signatures took 0.00sec\n",
      "UPDATING PARENT:  https://e-uprava.gov.si/drzava-in-druzba/javni-sektor/podrobnosti-institucije.html?id=1836\n"
     ]
    },
    {
     "name": "stderr",
     "output_type": "stream",
     "text": [
      "/home/viktor/anaconda3/envs/wier/lib/python3.6/site-packages/urllib3/connectionpool.py:1004: InsecureRequestWarning: Unverified HTTPS request is being made to host 'e-uprava.gov.si'. Adding certificate verification is strongly advised. See: https://urllib3.readthedocs.io/en/latest/advanced-usage.html#ssl-warnings\n",
      "  InsecureRequestWarning,\n",
      "/home/viktor/anaconda3/envs/wier/lib/python3.6/site-packages/urllib3/connectionpool.py:1004: InsecureRequestWarning: Unverified HTTPS request is being made to host 'e-uprava.gov.si'. Adding certificate verification is strongly advised. See: https://urllib3.readthedocs.io/en/latest/advanced-usage.html#ssl-warnings\n",
      "  InsecureRequestWarning,\n",
      "/home/viktor/anaconda3/envs/wier/lib/python3.6/site-packages/urllib3/connectionpool.py:1004: InsecureRequestWarning: Unverified HTTPS request is being made to host 'e-uprava.gov.si'. Adding certificate verification is strongly advised. See: https://urllib3.readthedocs.io/en/latest/advanced-usage.html#ssl-warnings\n",
      "  InsecureRequestWarning,\n",
      "/home/viktor/anaconda3/envs/wier/lib/python3.6/site-packages/urllib3/connectionpool.py:1004: InsecureRequestWarning: Unverified HTTPS request is being made to host 'e-uprava.gov.si'. Adding certificate verification is strongly advised. See: https://urllib3.readthedocs.io/en/latest/advanced-usage.html#ssl-warnings\n",
      "  InsecureRequestWarning,\n"
     ]
    },
    {
     "name": "stdout",
     "output_type": "stream",
     "text": [
      "Frontier len 59986\n",
      "Frontier len 59995\n",
      "Frontier len 60004\n",
      "Frontier len 60014\n",
      "Frontier len 60023\n",
      "Frontier len 60032\n",
      "Frontier len 60041\n",
      "Frontier len 60054\n",
      "Frontier len 60066\n",
      "Frontier len 60075\n",
      "Frontier len 60084\n",
      "Frontier len 60093\n"
     ]
    }
   ],
   "source": [
    "global frontier\n",
    "# with concurrent.futures.ThreadPoolExecutor(max_workers=4) as executor:    \n",
    "#     for i in range(4):\n",
    "#         executor.submit(start, frontier[i])\n",
    "        \n",
    "# minimum = 4\n",
    "# maximum = 10\n",
    "# i = 4\n",
    "while(len(frontier) <= 60000):\n",
    "    with concurrent.futures.ThreadPoolExecutor(max_workers=12) as executor:\n",
    "        print(f\"\\n ... executing workers ...\\n\")\n",
    "        for _ in range(12):\n",
    "            executor.submit(start, frontier[i])\n",
    "            i += 1\n",
    "        print(f\"Num sites: {num_sites}, i: {i}\")"
   ]
  },
  {
   "cell_type": "code",
   "execution_count": null,
   "metadata": {
    "ExecuteTime": {
     "end_time": "2020-03-24T23:02:51.322176Z",
     "start_time": "2020-03-24T19:36:18.300Z"
    }
   },
   "outputs": [],
   "source": [
    "# start(\"https://e-uprava.gov.si/\")\n",
    "# start(\"https://gov.si\")\n",
    "# start(\"https://evem.gov.si\")\n",
    "# start(\"https://e-prostor.gov.si\")"
   ]
  },
  {
   "cell_type": "code",
   "execution_count": null,
   "metadata": {
    "ExecuteTime": {
     "end_time": "2020-03-24T23:02:51.346845Z",
     "start_time": "2020-03-24T19:36:18.300Z"
    },
    "scrolled": true
   },
   "outputs": [],
   "source": [
    "# try:\n",
    "# #     conn =  connect(user=\"postgres\", password=\"postgres\", db=\"crawldb\", host=\"127.0.0.1\", port=\"5432\")\n",
    "#     conn = psycopg2.connect(host=\"localhost\", user=\"postgres\", password=\"postgres\")\n",
    "#     conn.autocommit = True\n",
    "#     cursor = conn.cursor()\n",
    "#     print(\"Successfuly connected to crawldb\")\n",
    "# except (Exception, psycopg2.DatabaseError) as error :\n",
    "#     print (\"Error while connecting to DB: \", error)\n",
    "    \n",
    "# start(\"https://e-uprava.gov.si/\")\n",
    "# start(\"https://gov.si\")\n",
    "# start(\"https://evem.gov.si\")\n",
    "# start(\"https://e-prostor.gov.si\")\n",
    "# start(\"https://e-uprava.gov.si/#mainStarting\")\n",
    "\n",
    "# cursor.close()\n",
    "# conn.close()\n",
    "# driver.close()"
   ]
  },
  {
   "cell_type": "code",
   "execution_count": 32,
   "metadata": {
    "ExecuteTime": {
     "end_time": "2020-03-24T23:52:36.042727Z",
     "start_time": "2020-03-24T23:52:36.039062Z"
    }
   },
   "outputs": [
    {
     "data": {
      "text/plain": [
       "{'e-uprava.gov.si': 383,\n",
       " 'evem.gov.si': 384,\n",
       " 'gov.si': 385,\n",
       " 'e-prostor.gov.si': 386,\n",
       " 'entrust.net': 387,\n",
       " 'fu.gov.si': 404,\n",
       " 'gis.gov.si': 390,\n",
       " 'mvn.e-prostor.gov.si': 393,\n",
       " 'projekt.e-prostor.gov.si': 394,\n",
       " 'sicas.gov.si': 397,\n",
       " 'si-trust.gov.si': 400,\n",
       " 'podatki.gov.si': 402}"
      ]
     },
     "execution_count": 32,
     "metadata": {},
     "output_type": "execute_result"
    }
   ],
   "source": [
    "seed_sites_ids"
   ]
  },
  {
   "cell_type": "code",
   "execution_count": 39,
   "metadata": {
    "ExecuteTime": {
     "end_time": "2020-03-24T23:55:09.073445Z",
     "start_time": "2020-03-24T23:55:09.066888Z"
    }
   },
   "outputs": [],
   "source": [
    "signatureForLink_tmp = {}\n",
    "with open('signatureForLink', \"rb\") as fp:\n",
    "    itemlist = pickle.load(fp)\n",
    "signatureForLink_tmp.update(itemlist)"
   ]
  },
  {
   "cell_type": "code",
   "execution_count": 99,
   "metadata": {
    "ExecuteTime": {
     "end_time": "2020-03-25T11:42:38.299383Z",
     "start_time": "2020-03-25T11:42:38.296629Z"
    }
   },
   "outputs": [],
   "source": [
    "# Num sites: 1413, i: 1648\n",
    "import pickle\n",
    "with open('seed_sites_ids_latest', 'wb') as fp:\n",
    "    pickle.dump(seed_sites_ids, fp)"
   ]
  },
  {
   "cell_type": "code",
   "execution_count": 20,
   "metadata": {
    "ExecuteTime": {
     "end_time": "2020-03-24T23:06:36.012628Z",
     "start_time": "2020-03-24T23:06:35.987339Z"
    },
    "scrolled": true
   },
   "outputs": [
    {
     "name": "stdout",
     "output_type": "stream",
     "text": [
      "OrderedSet(['https://e-prostor.gov.si', 'https://gov.si', 'https://evem.gov.si', 'https://e-uprava.gov.si', 'https://e-uprava.gov.si/#main', 'https://e-uprava.gov.si/#footer', 'https://e-uprava.gov.si/si', 'https://e-uprava.gov.si/it', 'https://e-uprava.gov.si/hu', 'https://e-uprava.gov.si/en'])\n",
      "OrderedSet(['https://e-prostor.gov.si', 'https://gov.si', 'https://evem.gov.si', 'https://e-uprava.gov.si', 'https://e-uprava.gov.si/#main', 'https://e-uprava.gov.si/#footer', 'https://e-uprava.gov.si/si', 'https://e-uprava.gov.si/it', 'https://e-uprava.gov.si/hu', 'https://e-uprava.gov.si/en'])\n"
     ]
    }
   ],
   "source": [
    "test = OrderedSet()\n",
    "with open ('frontier', 'rb') as fp:\n",
    "    itemlist = pickle.load(fp)\n",
    "test.update(itemlist)\n",
    "print(test[:10])\n",
    "print(frontier[:10])"
   ]
  },
  {
   "cell_type": "code",
   "execution_count": 77,
   "metadata": {
    "ExecuteTime": {
     "end_time": "2020-03-25T00:11:41.681221Z",
     "start_time": "2020-03-25T00:11:41.678007Z"
    }
   },
   "outputs": [],
   "source": [
    "# # ZA LISTA\n",
    "# signatures = []\n",
    "# with open ('signatures', 'rb') as fp:\n",
    "#     itemlist = pickle.load(fp)\n",
    "# signatures.extend(itemlist)\n",
    "\n",
    "seed_sites = set()\n",
    "with open ('seed_sites', 'rb') as fp:\n",
    "    itemlist = pickle.load(fp)\n",
    "seed_sites.update(itemlist)\n"
   ]
  },
  {
   "cell_type": "code",
   "execution_count": null,
   "metadata": {},
   "outputs": [],
   "source": [
    "print()"
   ]
  }
 ],
 "metadata": {
  "kernelspec": {
   "display_name": "Python 3",
   "language": "python",
   "name": "python3"
  },
  "language_info": {
   "codemirror_mode": {
    "name": "ipython",
    "version": 3
   },
   "file_extension": ".py",
   "mimetype": "text/x-python",
   "name": "python",
   "nbconvert_exporter": "python",
   "pygments_lexer": "ipython3",
   "version": "3.6.10"
  }
 },
 "nbformat": 4,
 "nbformat_minor": 4
}
